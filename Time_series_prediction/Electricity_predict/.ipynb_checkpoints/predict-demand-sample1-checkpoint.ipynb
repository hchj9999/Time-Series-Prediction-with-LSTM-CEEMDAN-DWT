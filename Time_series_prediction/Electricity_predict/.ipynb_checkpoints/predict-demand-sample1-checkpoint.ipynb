{
 "cells": [
  {
   "cell_type": "markdown",
   "id": "178638c9",
   "metadata": {},
   "source": [
    "[搭配 training-demand-model-sample1]\n",
    "=========\n",
    "將上一筆需量加入至模型, 使用Sliding Window，\n",
    "========\n",
    "並加入 Self Attention/Attention 架構於LSTM 模型中\n",
    "========"
   ]
  },
  {
   "cell_type": "code",
   "execution_count": 202,
   "id": "1224142b",
   "metadata": {},
   "outputs": [],
   "source": [
    "# Import necessary libraries [B]\n",
    "import numpy as np # linear algebra\n",
    "import pandas as pd # data processing, CSV file I/O (e.g. pd.read_csv)\n",
    "import matplotlib.pyplot as plt   # plotting\n",
    "import seaborn as sns   # plotting heatmap\n",
    "import statsmodels.api as sm  # seasonal trend decomposition\n",
    "import pymysql\n",
    "import datetime\n",
    "from statsmodels.graphics import tsaplots   # autocorrelation\n",
    "from tensorflow.keras.optimizers import Adam #\n",
    "from keras.models import Sequential, load_model\n",
    "from keras.layers import Dense, LSTM, BatchNormalization, TimeDistributed, Flatten, Bidirectional,Dropout\n",
    "from keras.callbacks import ReduceLROnPlateau, EarlyStopping\n",
    "from keras.regularizers import l2\n",
    "from time import time\n",
    "from sklearn import preprocessing\n",
    "from joblib import dump, load\n",
    "from datetime import datetime, timedelta\n",
    "from meteocalc import Temp, dew_point, heat_index, wind_chill, feels_like\n",
    "from attention import Attention\n",
    "from keras_self_attention import SeqSelfAttention\n",
    "from tensorflow.keras.utils import plot_model\n",
    "import os\n",
    "\n",
    "%matplotlib inline\n",
    "# Import necessary libraries [E]"
   ]
  },
  {
   "cell_type": "code",
   "execution_count": 133,
   "id": "61a6571a",
   "metadata": {},
   "outputs": [],
   "source": [
    "# 透過資料庫抓取天氣 [B]\n",
    "def getWeather(datetime, database_name):\n",
    "    try: \n",
    "        conn  =  pymysql.connect ( host = '140.116.39.172' ,  user = 'KDD' ,  passwd = \"kdd172\" ,  db = database_name ) \n",
    "        cur  =  conn.cursor() \n",
    "        select_sql = '''SELECT `id`, `demand_min`, `demand_quarter`, `Total_value`, `Temperature`, \n",
    "                        `humd`, `pres`, `w_DSD`, `w_DIR`, `h_FX`, `24R`, `h_UVI`, `T_Min`, `T_Max`,\n",
    "                        `day_of_year`,  `data_week`, `data_date`, `data_hour`, `data_minute`, `data_weekday`,\n",
    "                        `minutes_of_the_day`, `period_type`, `data_date`, `datetime`\n",
    "                        FROM `demand_with_weather_data` \n",
    "                        WHERE `datetime` >= '{}'\n",
    "                        ORDER BY `datetime` LIMIT 1 '''.format(datetime)\n",
    "        result_object = cur.execute(select_sql)\n",
    "        results_values_list = cur.fetchall()\n",
    "        result_key_list = [i[0] for i in cur.description]\n",
    "\n",
    "        demand_dataframe = pd.DataFrame(results_values_list)\n",
    "        demand_dataframe.columns = result_key_list\n",
    "        cur.close () \n",
    "        conn.close()\n",
    "    except Exception as e:\n",
    "        print(e)\n",
    "    return demand_dataframe\n",
    "# 透過資料庫抓取天氣 [E]"
   ]
  },
  {
   "cell_type": "code",
   "execution_count": 134,
   "id": "871f5660",
   "metadata": {},
   "outputs": [],
   "source": [
    "# 體感溫度計算 [B]\n",
    "# \n",
    "def c_feel_like(temperature, wind_speed):\n",
    "    feels_like = int(13.12+(0.615*float(temperature))-(11.37*(float(wind_speed)*3.6)**0.16)+(0.3965*float(temperature))*((float(wind_speed)*3.6)**0.16))\n",
    "    return feels_like\n",
    "# 體感溫度計算 [E]"
   ]
  },
  {
   "cell_type": "code",
   "execution_count": 135,
   "id": "67b3beee",
   "metadata": {},
   "outputs": [],
   "source": [
    "# 讀取模型參數，用來重建模型 [B]\n",
    "def load_weights(self, filepath, by_name=False, exclude=None):\n",
    "        \"\"\"Modified version of the corresponding Keras function with\n",
    "        the addition of multi-GPU support and the ability to exclude\n",
    "        some layers from loading.\n",
    "        exclude: list of layer names to exclude\n",
    "        \"\"\"\n",
    "        import h5py\n",
    "        # Conditional import to support versions of Keras before 2.2\n",
    "        # TODO: remove in about 6 months (end of 2018)\n",
    "        try:\n",
    "            from tensorflow.python.keras.saving import hdf5_format\n",
    "        except ImportError:\n",
    "            # Keras before 2.2 used the 'topology' namespace.\n",
    "            from keras.engine import topology as saving\n",
    "\n",
    "        if exclude:\n",
    "            by_name = True\n",
    "\n",
    "        if h5py is None:\n",
    "            raise ImportError('`load_weights` requires h5py.')\n",
    "        f = h5py.File(filepath, mode='r')\n",
    "        if 'layer_names' not in f.attrs and 'model_weights' in f:\n",
    "            f = f['model_weights']\n",
    "\n",
    "        if by_name:\n",
    "            saving.load_weights_from_hdf5_group_by_name(f, self.layers)\n",
    "        else:\n",
    "            hdf5_format.load_weights_from_hdf5_group(f, self.layers)\n",
    "        if hasattr(f, 'close'):\n",
    "            f.close()\n",
    "        elif hasattr(f.file, 'close'):\n",
    "            f.file.close()\n",
    "# 讀取模型參數，用來重建模型 [E]"
   ]
  },
  {
   "cell_type": "code",
   "execution_count": 136,
   "id": "5c87b6cd",
   "metadata": {},
   "outputs": [],
   "source": [
    "# 建立模型架構 [B]\n",
    "def create_model(look_back, feature_len, model_structure):\n",
    "    if model_structure == 'vanilla':\n",
    "        # Vanilla LSTM (many to one)\n",
    "        vanilla_model = Sequential()\n",
    "        vanilla_model.add(LSTM(50, input_shape=(look_back,feature_len), return_sequences=True)) #X_train.shape[1],X_train.shape[2]\n",
    "        vanilla_model.add(Attention(50))\n",
    "        vanilla_model.add(Flatten())\n",
    "        vanilla_model.add(Dense(1))\n",
    "        vanilla_model.compile(loss='mse', optimizer='Adam') \n",
    "        model = vanilla_model\n",
    "    if model_structure == 'self-attention':\n",
    "        vanilla_model = Sequential()\n",
    "        vanilla_model.add(LSTM(50, input_shape=(look_back,feature_len), return_sequences=True)) #X_train.shape[1],X_train.shape[2]\n",
    "        vanilla_model.add(SeqSelfAttention(attention_activation='softmax'))\n",
    "        vanilla_model.add(Flatten())\n",
    "        vanilla_model.add(Dense(1))\n",
    "        vanilla_model.compile(loss='mse', optimizer='Adam') \n",
    "        model = vanilla_model\n",
    "    return model\n",
    "# 建立模型架構 [E]"
   ]
  },
  {
   "cell_type": "code",
   "execution_count": 137,
   "id": "d6b99769",
   "metadata": {},
   "outputs": [],
   "source": [
    "# 參數轉成監督式參數 [B]\n",
    "# The function is defined with default parameters so that if you call it with just your data, it will construct a DataFrame with t-1 \n",
    "# as X and t as y\n",
    "\n",
    "def series_to_supervised(data, n_in = 1, n_out = 1, dropnan = True):\n",
    "    n_vars = 1 if type(data) is list else data.shape[1]\n",
    "    \n",
    "    df = pd.DataFrame(data)\n",
    "    df_columns_name = df.columns.values\n",
    "    cols, names = list(), list()\n",
    "    \n",
    "    # input sequence (t-n, ... t-1)\n",
    "    for i in range(n_in, 0, -1):\n",
    "        cols.append(df.shift(i))\n",
    "        names += [('%s(t-%d)' % (df_columns_name[j], i)) for j in range(n_vars)]\n",
    "        \n",
    "    # forecast sequence (t, t+1, ... t+n)\n",
    "    for i in range(0, n_out):\n",
    "        cols.append(df.shift(-i))\n",
    "        if i == 0:\n",
    "            names += [('%s(t)' % (df_columns_name[j])) for j in range(n_vars)]\n",
    "        else:\n",
    "            names += [('%s(t+%d)' % (df_columns_name[j], i)) for j in range(n_vars)]\n",
    "            \n",
    "    # put it all together\n",
    "    agg = pd.concat(cols, axis=1)\n",
    "    agg.columns = names\n",
    "    # drop rows with NaN values\n",
    "    if dropnan:\n",
    "        agg.dropna(inplace=True)\n",
    "        \n",
    "    return agg\n",
    "# 參數轉成監督式參數 [E]"
   ]
  },
  {
   "cell_type": "code",
   "execution_count": 138,
   "id": "53a74daf",
   "metadata": {},
   "outputs": [],
   "source": [
    "# 預測上傳 [B]\n",
    "def uploadPrediction(table_name, now_quarter_times, predict_datetime, predict_demands, database_name):\n",
    "    try: \n",
    "        conn  =  pymysql.connect ( host = '140.116.39.172' ,  user = 'KDD' ,  passwd = \"kdd172\" ,  db = database_name ) \n",
    "        cur  =  conn.cursor() \n",
    "        # 撈取最近的預測需量值 [B]\n",
    "        predict_demand_dataframe = pd.DataFrame()\n",
    "        select_predict_sql = '''SELECT `id`, `prediction_1`, `prediction_2`, `prediction_3`, `prediction_4`, `created_at`\n",
    "                        FROM `{}` WHERE `created_at` > '{}'\n",
    "                        ORDER BY `created_at` '''.format(table_name, now_quarter_times)\n",
    "        result_predict_object = cur.execute(select_predict_sql)\n",
    "        results_predict_values_list = cur.fetchall()\n",
    "        if len(results_predict_values_list) > 0 :\n",
    "            result_predict_key_list = [i[0] for i in cur.description]\n",
    "            predict_demand_dataframe = pd.DataFrame(results_predict_values_list)\n",
    "            predict_demand_dataframe.columns = result_predict_key_list\n",
    "            predict_demand_dataframe['created_at'] = predict_demand_dataframe['created_at'].apply(lambda x: x.strftime('%Y-%m-%d %H:%M:%S'))\n",
    "        # 撈取最近的預測需量值 [E]\n",
    "\n",
    "        # 上傳預測結果於資料庫 [B]\n",
    "        i = 0\n",
    "        delta_times_list = {\n",
    "            1: 4, # i = 1 意思是相差15分鐘，為最後一次預測\n",
    "            2: 3, # i = 2 意思是相差30分鐘，為最後二次預測\n",
    "            3: 2,\n",
    "            4: 1\n",
    "        }\n",
    "       \n",
    "        for each_predict_datetime in predict_datetime:\n",
    "            if len(results_predict_values_list) > 0 and each_predict_datetime in predict_demand_dataframe['created_at'].values:\n",
    "                execute_predict_demand_sql = \"UPDATE `{}` SET `prediction_{}`={} WHERE `created_at` = '{}'\".format(table_name, delta_times_list[i + 1], predict_demands[i], each_predict_datetime)\n",
    "            else:\n",
    "                execute_predict_demand_sql = \"INSERT INTO `{}`(`prediction_{}`, `created_at`) VALUES ({}, '{}')\".format(table_name, delta_times_list[i + 1], predict_demands[i], each_predict_datetime)\n",
    "            print(execute_predict_demand_sql)\n",
    "            cur.execute(execute_predict_demand_sql)\n",
    "            # 執行sql語句\n",
    "            conn.commit()\n",
    "            i += 1\n",
    "        # 上傳預測結果於資料庫 [E]\n",
    "        cur.close () \n",
    "        conn.close()\n",
    "    except Exception as e:\n",
    "        print(e)\n",
    "# 預測上傳 [E]"
   ]
  },
  {
   "cell_type": "code",
   "execution_count": 192,
   "id": "8c268eff",
   "metadata": {},
   "outputs": [
    {
     "data": {
      "text/plain": [
       "' 需量預測函式 [B]'"
      ]
     },
     "execution_count": 192,
     "metadata": {},
     "output_type": "execute_result"
    }
   ],
   "source": [
    "''' 需量預測函式 [B]'''\n",
    "def predict_demand(begin_date, database_name, model_structure):\n",
    "    # 預測間隔設定 [B]\n",
    "    predict_min = 15\n",
    "    window_size = 96\n",
    "    feature_len = 24\n",
    "    # 預測間隔設定 [E]\n",
    "    # 讀取pid路徑 [B]\n",
    "    zscore_pid_path = './parameter-storage10/pid/zscore-pid.pid'\n",
    "    encode_pid_path = './parameter-storage10/pid/encode-pid.pid'\n",
    "    modal_pid_path = './parameter-storage10/pid/modal-pid.pid'\n",
    "    last_data_datetime_pid_path = './parameter-storage10/pid/last-data-datetime-pid.pid' # 撈的最後一筆資料的時間\n",
    "    # 讀取pid路徑 [E]\n",
    "    # 讀取檔案最後日期 [B]\n",
    "    with open(zscore_pid_path) as f:\n",
    "        zscore_file_date = f.read()\n",
    "        f.close()\n",
    "    with open(encode_pid_path) as f:\n",
    "        encode_file_date = f.read()\n",
    "        f.close()\n",
    "    with open(modal_pid_path) as f:\n",
    "        modal_file_date = f.read()\n",
    "        f.close()\n",
    "    with open(last_data_datetime_pid_path) as f:\n",
    "        last_data_datetime = f.read()\n",
    "        f.close()\n",
    "    print(zscore_file_date)\n",
    "    print(encode_file_date)\n",
    "    print(modal_file_date)\n",
    "    print(last_data_datetime)\n",
    "    # 讀取檔案最後日期 [E]\n",
    "    # 參數設定 [B]\n",
    "    today_object = datetime.strptime(begin_date, '%Y-%m-%d %H:%M:%S')\n",
    "    today = today_object.strftime(\"%Y-%m-%d-%H-%M-%S\")\n",
    "    today_object_string = today_object.strftime(\"%Y-%m-%d %H:%M:00\")\n",
    "    today_hourly_object = datetime.strptime(today_object.strftime(\"%Y-%m-%d %H:00:00\"), \"%Y-%m-%d %H:%M:%S\")\n",
    "    now_quarter_nums = int(today_object.strftime(\"%M\")) // predict_min\n",
    "    now_quarter_times_object = today_hourly_object + timedelta(minutes=now_quarter_nums*predict_min)\n",
    "    now_quarter_times = now_quarter_times_object.strftime(\"%Y-%m-%d %H:%M:00\")\n",
    "    last_data_datetime_object = datetime.strptime(last_data_datetime, \"%Y-%m-%d %H:%M:%S\")\n",
    "    begin_date = (last_data_datetime_object - timedelta(minutes=predict_min * window_size)).strftime(\"%Y-%m-%d %H:%M:%S\")\n",
    "    end_date = today_object_string\n",
    "    # 參數設定 [E]\n",
    "    # 讀取 zscore 路徑 [B]\n",
    "    temperature_zscore_to_path = './parameter-storage10/zscore/temperature-zscore-{}.bin'\n",
    "    pres_zscore_to_path = './parameter-storage10/zscore/pres-zscore-{}.bin'\n",
    "    wind_speed_zscore_to_path = './parameter-storage10/zscore/wind_speed-zscore-{}.bin'\n",
    "    wind_dir_zscore_to_path = './parameter-storage10/zscore/wind_dir-zscore-{}.bin'\n",
    "    max_wind_zscore_to_path = './parameter-storage10/zscore/max_wind-zscore-{}.bin'\n",
    "    r24_zscore_to_path = './parameter-storage10/zscore/r24-zscore-{}.bin'\n",
    "    huvi_zscore_to_path = './parameter-storage10/zscore/huvi-zscore-{}.bin'\n",
    "    apparent_temp_zscore_to_path = './parameter-storage10/zscore/apparent_temp-zscore-{}.bin'\n",
    "\n",
    "    T_Min_zscore_to_path = './parameter-storage10/zscore/T_Min-zscore-{}.bin'\n",
    "    T_Max_zscore_to_path = './parameter-storage10/zscore/T_Max-zscore-{}.bin'\n",
    "    day_of_year_zscore_to_path = './parameter-storage10/zscore/day_of_year-zscore-{}.bin'\n",
    "    data_week_zscore_to_path = './parameter-storage10/zscore/data_week-zscore-{}.bin'\n",
    "    data_hour_zscore_to_path = './parameter-storage10/zscore/data_hour-zscore-{}.bin'\n",
    "    data_minute_zscore_to_path = './parameter-storage10/zscore/data_minute-zscore-{}.bin'\n",
    "    minutes_of_the_day_zscore_to_path = './parameter-storage10/zscore/minutes_of_the_day-zscore-{}.bin'\n",
    "    demand_zscore_to_path = './parameter-storage10/zscore/demand-zscore-{}.bin'\n",
    "\n",
    "    data_weekday_encode_to_path = './parameter-storage10/zscore/data_weekday-encode-{}.bin'\n",
    "\n",
    "    #simple_LSTM_modal_save_path = './parameter-storage10/modal/simple-LSTM-modal-self-attention-y2-2023-06-08-09-29-52.h5'\n",
    "    simple_LSTM_modal_save_path = './parameter-storage10/modal/simple-LSTM-modal-y2-attention-2023-06-10-20-12-10.h5'\n",
    "    # ------------\n",
    "    temperature_zscore_last_path = temperature_zscore_to_path.format(zscore_file_date)\n",
    "    pres_zscore_last_path = pres_zscore_to_path.format(zscore_file_date)\n",
    "    wind_speed_zscore_last_path = wind_speed_zscore_to_path.format(zscore_file_date)\n",
    "    wind_dir_zscore_last_path = wind_dir_zscore_to_path.format(zscore_file_date)\n",
    "    max_wind_zscore_last_path = max_wind_zscore_to_path.format(zscore_file_date)\n",
    "    r24_zscore_last_path = r24_zscore_to_path.format(zscore_file_date)\n",
    "    huvi_zscore_last_path = huvi_zscore_to_path.format(zscore_file_date)\n",
    "    apparent_temp_zscore_last_path = apparent_temp_zscore_to_path.format(zscore_file_date)\n",
    "\n",
    "    T_Min_zscore_last_path = T_Min_zscore_to_path.format(zscore_file_date)\n",
    "    T_Max_zscore_last_path = T_Max_zscore_to_path.format(zscore_file_date)\n",
    "    day_of_year_zscore_last_path = day_of_year_zscore_to_path.format(zscore_file_date)\n",
    "    data_week_zscore_last_path = data_week_zscore_to_path.format(zscore_file_date)\n",
    "    data_hour_zscore_last_path = data_hour_zscore_to_path.format(zscore_file_date)\n",
    "    data_minute_zscore_last_path = data_minute_zscore_to_path.format(zscore_file_date)\n",
    "    minutes_of_the_day_zscore_last_path = minutes_of_the_day_zscore_to_path.format(zscore_file_date)\n",
    "    demand_zscore_last_path = demand_zscore_to_path.format(zscore_file_date)\n",
    "\n",
    "    data_weekday_encode_last_path = data_weekday_encode_to_path.format(encode_file_date)\n",
    "\n",
    "    simple_LSTM_modal_save_last_path = simple_LSTM_modal_save_path.format(modal_file_date)\n",
    "    # 讀取 zscore 路徑 [E]\n",
    "    # 新的 zscore 路徑 [B]\n",
    "    temperature_zscore_new_path = temperature_zscore_to_path.format(today)\n",
    "    pres_zscore_new_path = pres_zscore_to_path.format(today)\n",
    "    wind_speed_zscore_new_path = wind_speed_zscore_to_path.format(today)\n",
    "    wind_dir_zscore_new_path = wind_dir_zscore_to_path.format(today)\n",
    "    max_wind_zscore_new_path = max_wind_zscore_to_path.format(today)\n",
    "    r24_zscore_new_path = r24_zscore_to_path.format(today)\n",
    "    huvi_zscore_new_path = huvi_zscore_to_path.format(today)\n",
    "    apparent_temp_zscore_new_path = apparent_temp_zscore_to_path.format(today)\n",
    "\n",
    "    T_Min_zscore_new_path = T_Min_zscore_to_path.format(today)\n",
    "    T_Max_zscore_new_path = T_Max_zscore_to_path.format(today)\n",
    "    day_of_year_zscore_new_path = day_of_year_zscore_to_path.format(today)\n",
    "    data_week_zscore_new_path = data_week_zscore_to_path.format(today)\n",
    "    data_hour_zscore_new_path = data_hour_zscore_to_path.format(today)\n",
    "    data_minute_zscore_new_path = data_minute_zscore_to_path.format(today)\n",
    "    minutes_of_the_day_zscore_new_path = minutes_of_the_day_zscore_to_path.format(today)\n",
    "    demand_zscore_new_path = demand_zscore_to_path.format(today)\n",
    "\n",
    "    simple_LSTM_modal_save_new_path = simple_LSTM_modal_save_path.format(today)\n",
    "    # 新的 zscore 路徑 [E]\n",
    "    # 撈取需量資料 [B]\n",
    "    try: \n",
    "        conn  =  pymysql.connect ( host = '140.116.39.172' ,  user = 'KDD' ,  passwd = \"kdd172\" ,  db = database_name ) \n",
    "        cur  =  conn.cursor() \n",
    "        select_sql = '''SELECT `id`, `demand_min`, `demand_quarter`, `Total_value`, `Temperature`, \n",
    "                        `humd`, `pres`, `w_DSD`, `w_DIR`, `h_FX`, `24R`, `h_UVI`, `T_Min`, `T_Max`,\n",
    "                        `day_of_year`,  `data_week`, `data_date`, `data_hour`, `data_minute`, `data_weekday`,\n",
    "                        `minutes_of_the_day`, `data_date`, `datetime`\n",
    "                        FROM `demand_with_weather_data` \n",
    "                        WHERE `datetime` < '{}'\n",
    "                        ORDER BY `datetime` DESC LIMIT {} '''.format(end_date, window_size + 1)\n",
    "        result_object = cur.execute(select_sql)\n",
    "        results_values_list = cur.fetchall()\n",
    "        result_key_list = [i[0] for i in cur.description]\n",
    "\n",
    "        reframed = pd.DataFrame(results_values_list)\n",
    "        reframed.columns = result_key_list\n",
    "        timestamp = pd.to_datetime(reframed.datetime, infer_datetime_format=True).values.astype(float)\n",
    "        reframed['timestamp'] = timestamp.tolist()\n",
    "        reframed = reframed.set_index('datetime')\n",
    "        cur.close () \n",
    "        conn.close()\n",
    "    except Exception as e:\n",
    "        print(e)\n",
    "    # 撈取需量資料 [E]\n",
    "    # 補缺失值 [B]\n",
    "    reframed = reframed.interpolate(method=\"linear\") \n",
    "    # 補缺失值 [E]\n",
    "    # 刪除缺失值 [B]\n",
    "    reframed = reframed.dropna()\n",
    "    # 刪除缺失值 [E]\n",
    "    # 排序撈取資料 [B]\n",
    "    reframed = reframed.sort_index()\n",
    "    # 排序撈取資料 [E]\n",
    "    # 體感溫度計算 [B]\n",
    "    reframed['apparent_temp'] = reframed.apply(lambda reframed: c_feel_like(reframed['Temperature'], reframed['w_DSD']), axis=1)\n",
    "    # 體感溫度計算 [E]\n",
    "    # 刪除不需要的欄位 [B]\n",
    "    reframed = reframed.drop(columns=['id', 'demand_min', 'Total_value', 'data_date'])\n",
    "    # 刪除不需要的欄位 [E]\n",
    "    # 轉為監督式資料 [B]\n",
    "    reframed = series_to_supervised(reframed, 1, 1)\n",
    "    # 轉為監督式資料 [E]\n",
    "    # 最後一筆資料截取 [B]\n",
    "    last_datetime_dataframe = reframed.copy()\n",
    "    # 最後一筆資料截取 [E]\n",
    "    # 讀取 zscore 檔案 [B]\n",
    "    temperature_zscore=load(temperature_zscore_last_path)\n",
    "    pres_zscore=load(pres_zscore_last_path)\n",
    "    wind_speed_zscore=load(wind_speed_zscore_last_path)\n",
    "    wind_dir_zscore=load(wind_dir_zscore_last_path)\n",
    "    max_wind_zscore=load(max_wind_zscore_last_path)\n",
    "    r24_zscore=load(r24_zscore_last_path)\n",
    "    huvi_zscore=load(huvi_zscore_last_path)\n",
    "    apparent_temp_zscore=load(apparent_temp_zscore_last_path)\n",
    "    T_Min_zscore = load(T_Min_zscore_last_path)\n",
    "    T_Max_zscore = load(T_Max_zscore_last_path)\n",
    "    day_of_year_zscore = load(day_of_year_zscore_last_path)\n",
    "    data_week_zscore = load(data_week_zscore_last_path) \n",
    "    data_hour_zscore = load(data_hour_zscore_last_path)\n",
    "    data_minute_zscore = load(data_minute_zscore_last_path) \n",
    "    minutes_of_the_day_zscore = load(minutes_of_the_day_zscore_last_path)\n",
    "    demand_zscore = load(demand_zscore_last_path)\n",
    "    # 讀取 zscore 檔案 [E]\n",
    "    # 資料 reshape [B]\n",
    "    temperature_reshape_data = reframed['Temperature(t)'].values.reshape(-1, 1)\n",
    "    pres_reshape_data = reframed['pres(t)'].values.reshape(-1, 1)\n",
    "    wind_speed_reshape_data = reframed['w_DSD(t)'].values.reshape(-1, 1)\n",
    "    wind_dir_reshape_data = reframed['w_DIR(t)'].values.reshape(-1, 1)\n",
    "    max_wind_reshape_data = reframed['h_FX(t)'].values.reshape(-1, 1)\n",
    "    r24_reshape_data = reframed['24R(t)'].values.reshape(-1, 1)\n",
    "    huvi_reshape_data = reframed['h_UVI(t)'].values.reshape(-1, 1)\n",
    "    apparent_temp_reshape_data = reframed['apparent_temp(t)'].values.reshape(-1, 1)\n",
    "    T_Min_reshape_data = reframed['T_Min(t)'].values.reshape(-1, 1)\n",
    "    T_Max_reshape_data = reframed['T_Max(t)'].values.reshape(-1, 1)\n",
    "    day_of_year_reshape_data = reframed['day_of_year(t)'].values.reshape(-1, 1)\n",
    "    data_week_reshape_data = reframed['data_week(t)'].values.reshape(-1, 1)\n",
    "    data_hour_reshape_data = reframed['data_hour(t)'].values.reshape(-1, 1)\n",
    "    data_minute_reshape_data = reframed['data_minute(t)'].values.reshape(-1, 1)\n",
    "    minutes_of_the_day_reshape_data = reframed['minutes_of_the_day(t)'].values.reshape(-1, 1)\n",
    "    last_demand_reshape_data = reframed['demand_quarter(t-1)'].values.reshape(-1, 1)\n",
    "    demand_reshape_data = reframed['demand_quarter(t)'].values.reshape(-1, 1)\n",
    "    # 資料 reshape [E]\n",
    "    # 資料正規化 [B]\n",
    "    reframed['Temperature(t)'] = temperature_zscore.transform(temperature_reshape_data)\n",
    "    reframed['pres(t)'] = pres_zscore.transform(pres_reshape_data)\n",
    "    reframed['w_DSD(t)'] = wind_speed_zscore.transform(wind_speed_reshape_data)\n",
    "    reframed['w_DIR(t)'] = wind_dir_zscore.transform(wind_dir_reshape_data)\n",
    "    reframed['h_FX(t)'] = max_wind_zscore.transform(max_wind_reshape_data)\n",
    "    reframed['24R(t)'] = r24_zscore.transform(r24_reshape_data)\n",
    "    reframed['h_UVI(t)'] = huvi_zscore.transform(huvi_reshape_data)\n",
    "    reframed['apparent_temp(t)'] = apparent_temp_zscore.transform(apparent_temp_reshape_data)\n",
    "    reframed['T_Min(t)'] = T_Min_zscore.transform(T_Min_reshape_data)\n",
    "    reframed['T_Max(t)'] = T_Max_zscore.transform(T_Max_reshape_data)\n",
    "    reframed['day_of_year(t)'] = day_of_year_zscore.transform(day_of_year_reshape_data)\n",
    "    reframed['data_week(t)'] = data_week_zscore.transform(data_week_reshape_data)\n",
    "    reframed['data_hour(t)'] = data_hour_zscore.transform(data_hour_reshape_data)\n",
    "    reframed['data_minute(t)'] = data_minute_zscore.transform(data_minute_reshape_data)\n",
    "    reframed['minutes_of_the_day(t)'] = minutes_of_the_day_zscore.transform(minutes_of_the_day_reshape_data)\n",
    "    reframed['demand_quarter(t-1)'] = demand_zscore.transform(last_demand_reshape_data)\n",
    "    reframed['demand_quarter_normalization'] = demand_zscore.transform(demand_reshape_data)\n",
    "    # 資料正規化 [E]\n",
    "    # 讀取 one hot encoding 模型 [B]\n",
    "    data_weekday_encoder = load(data_weekday_encode_last_path)\n",
    "    # 讀取 one hot encoding 模型 [E]\n",
    "    # 將分類資料轉為 one hot encoding [B]\n",
    "    data_weekday_values = reframed['data_weekday(t)'].values.reshape(len(reframed['data_weekday(t)']), 1)\n",
    "    data_weekday_values = data_weekday_encoder.transform(data_weekday_values)\n",
    "    data_weekday_encode_dataframe= pd.DataFrame(data_weekday_values)\n",
    "    for i in data_weekday_encode_dataframe:\n",
    "        reframed['data_weekday_{}(t)'.format(i)] = data_weekday_encode_dataframe[i].values\n",
    "    # 將分類資料轉為 one hot encoding [E]\n",
    "    # 分割訓練資料與測試資料 [B]\n",
    "    selected_column = ['Temperature(t)', 'humd(t)', 'pres(t)', 'w_DSD(t)', 'w_DIR(t)', 'h_FX(t)', '24R(t)', 'h_UVI(t)',\n",
    "                   'T_Min(t)', 'T_Max(t)', 'day_of_year(t)', 'data_week(t)', 'data_hour(t)',\n",
    "                   'data_minute(t)', 'minutes_of_the_day(t)', 'apparent_temp(t)', 'demand_quarter(t-1)', 'data_weekday_0(t)',\n",
    "                   'data_weekday_1(t)', 'data_weekday_2(t)', 'data_weekday_3(t)', 'data_weekday_4(t)',\n",
    "                   'data_weekday_5(t)', 'data_weekday_6(t)']\n",
    "    all_update_features = np.array([reframed.loc[:, selected_column]])\n",
    "    update_labels = np.array([reframed.loc[reframed.index[-1], 'demand_quarter_normalization']])\n",
    "    # 分割訓練資料與測試資料 [E]\n",
    "    # 讀取模型 [B]\n",
    "    vanilla_model = create_model(window_size, feature_len, model_structure)\n",
    "    load_weights(vanilla_model, simple_LSTM_modal_save_last_path)\n",
    "    # 讀取模型 [E]\n",
    "    # 訓練模型 [B]\n",
    "    vanilla_model_history = vanilla_model.fit(all_update_features, update_labels)\n",
    "    vanilla_model.compile(loss='mse', optimizer='Adam') \n",
    "    # 訓練模型 [E]\n",
    "    # 儲存模型 [B]\n",
    "    vanilla_model.save(simple_LSTM_modal_save_last_path) \n",
    "    # 儲存模型 [E]\n",
    "    # 從訓練的最後一筆資料做修改，作為預測的資料 [B]\n",
    "    last_datetime_object = last_datetime_dataframe.iloc[-1]\n",
    "    last_datetime = '{}'.format(last_datetime_object.T.name)\n",
    "    predict_features_dataframe = pd.DataFrame({})\n",
    "    predict_datetime = np.array([])\n",
    "    now = datetime.now().strftime(\"%Y-%m-%d %H:%M:%S\")\n",
    "    future_features_dataframe = last_datetime_object.to_frame().T.copy()\n",
    "    last_predict = future_features_dataframe['demand_quarter(t-1)']\n",
    "    predict_demand = np.array([])\n",
    "    # 從訓練的最後一筆資料做修改，作為預測的資料 [E]\n",
    "    for i in range(1, 5):\n",
    "        last_datetime_dataframe = last_datetime_dataframe.iloc[1:].copy()\n",
    "        # 預測時間生成 [B]\n",
    "        future_features_dataframe['demand_quarter(t-1)'] = last_predict\n",
    "        now_quarter_hour_datetime = now_quarter_times_object.strftime(\"%Y-%m-%d %H:00:00\")\n",
    "        future_times_object = now_quarter_times_object + timedelta(minutes = i * 15)\n",
    "        next_hour_object = future_times_object + timedelta(hours = 1)\n",
    "        future_times = future_times_object.strftime(\"%Y-%m-%d %H:%M:%S\")\n",
    "        future_minutes =future_times_object.strftime(\"%M\")\n",
    "        future_hour_datetime = future_times_object.strftime(\"%Y-%m-%d %H:00:00\")\n",
    "        future_times_api_format = future_times_object.strftime(\"%Y%m%d\")\n",
    "        future_hour_time = future_times_object.strftime(\"%H:00\")\n",
    "        next_hour_time = next_hour_object.strftime(\"%H:00\")\n",
    "        next_hour_datetime = next_hour_object.strftime(\"%Y-%m-%d %H:00:00\")\n",
    "        next_hour_api_format = next_hour_object.strftime(\"%Y%m%d\")\n",
    "        # 預測時間生成 [E]\n",
    "        # 抓取下一小時天氣 [B]\n",
    "        if next_hour_datetime < now:\n",
    "            # 抓資料庫天氣 [B]\n",
    "            next_hour_weather_table = getWeather(next_hour_datetime, database_name)\n",
    "            next_hour_weather_table['apparent_temp'] = next_hour_weather_table.apply(lambda next_hour_weather_table: c_feel_like(next_hour_weather_table['Temperature'], next_hour_weather_table['w_DSD']), axis=1)\n",
    "            # 抓資料庫天氣 [E]\n",
    "        else:\n",
    "            url = 'https://www.timeanddate.com/weather/@1668355/hourly?hd={}'.format(next_hour_api_format)\n",
    "            table = pd.read_html(url)\n",
    "            next_hour_weather_table = table[0].droplevel(level=0, axis=1)\n",
    "            next_hour_weather_table = next_hour_weather_table[:-1]\n",
    "            next_hour_weather_table['Time'] = next_hour_weather_table['Time'].str[:5]\n",
    "            next_hour_weather_table.loc[next_hour_weather_table['Time'] == next_hour_time].reset_index()\n",
    "        # 抓取下一小時天氣 [E]\n",
    "        # 抓取鄰近小時天氣 [B]\n",
    "        if future_hour_datetime < now:\n",
    "            # 抓資料庫天氣 [B]\n",
    "            weather_table = getWeather(future_hour_datetime, database_name)\n",
    "            weather_table['apparent_temp'] = weather_table.apply(lambda weather_table: c_feel_like(weather_table['Temperature'], weather_table['w_DSD']), axis=1)\n",
    "            # 抓資料庫天氣 [E]\n",
    "        else:\n",
    "            url = 'https://www.timeanddate.com/weather/@1668355/hourly?hd={}'.format(future_times_api_format)\n",
    "            table = pd.read_html(url)\n",
    "            weather_table = table[0].droplevel(level=0, axis=1)\n",
    "            weather_table = weather_table[:-1]\n",
    "            weather_table['Time'] = weather_table['Time'].str[:5]\n",
    "            weather_table.loc[weather_table['Time'] == future_hour_time].reset_index()\n",
    "        # 抓取鄰近小時天氣 [E]\n",
    "        # 利用內插法新增溫度 [B]\n",
    "        old_temp = future_features_dataframe['Temperature(t)'] if future_hour_datetime <= now_quarter_hour_datetime else (weather_table['Temperature'] if next_hour_datetime < now else float(weather_table['Temp'][0].replace(\"\\xa0°C\", \"\")))\n",
    "        old_humd = future_features_dataframe['humd(t)'] if future_hour_datetime <= now_quarter_hour_datetime else (weather_table['humd'] if next_hour_datetime < now else float(weather_table['Humidity'][0].replace(\"%\", \"\")))\n",
    "        old_wdsd = future_features_dataframe['w_DSD(t)'] if future_hour_datetime <= now_quarter_hour_datetime else (weather_table['w_DSD'] if next_hour_datetime < now else float(weather_table['Wind'][0].replace(\" km/h\", \"\")))\n",
    "        old_apptemp = future_features_dataframe['apparent_temp(t)'] if future_hour_datetime <= now_quarter_hour_datetime else (weather_table['apparent_temp'] if next_hour_datetime < now else float(weather_table['Feels Like'][0].replace(\" °C\", \"\")))\n",
    "        hour_temp = next_hour_weather_table['Temperature'] if next_hour_datetime < now else float(next_hour_weather_table['Temp'][0].replace(\"\\xa0°C\", \"\"))\n",
    "        hour_humd = next_hour_weather_table['humd'] if next_hour_datetime < now else float(next_hour_weather_table['Humidity'][0].replace(\"%\", \"\"))\n",
    "        hour_wdsd = next_hour_weather_table['w_DSD'] if next_hour_datetime < now else float(next_hour_weather_table['Wind'][0].replace(\" km/h\", \"\"))\n",
    "        hour_apptemp = next_hour_weather_table['apparent_temp'] if next_hour_datetime < now else float(next_hour_weather_table['Feels Like'][0].replace(\"\\xa0°C\", \"\"))\n",
    "        hour_temp = float(old_temp) + ((float(hour_temp) - float(old_temp)) * (float(future_minutes)/60))\n",
    "        hour_humd = float(old_humd) + ((float(hour_humd) - float(old_humd)) * (float(future_minutes)/60))\n",
    "        hour_wdsd = float(old_wdsd) + ((float(hour_wdsd) - float(old_wdsd)) * (float(future_minutes)/60))\n",
    "        hour_apptemp = float(old_apptemp) + ((float(hour_apptemp) - float(old_apptemp)) * (float(future_minutes)/60))\n",
    "        # 利用內插法新增溫度 [E]\n",
    "        # 預測陣列 [B]\n",
    "        predict_datetime = np.append(predict_datetime, future_times)\n",
    "        future_features_dataframe['day_of_year(t)'] = int(future_times_object.strftime(\"%j\"))\n",
    "        future_features_dataframe['data_week(t)'] = int(future_times_object.strftime(\"%W\"))\n",
    "        future_features_dataframe['data_hour(t)'] = int(future_times_object.strftime(\"%H\"))\n",
    "        future_features_dataframe['data_minute(t)'] = int(future_times_object.strftime(\"%M\"))\n",
    "        future_features_dataframe['data_weekday(t)'] = int(future_times_object.strftime(\"%w\")) + 1\n",
    "        future_minutes_of_the_day = future_features_dataframe['data_hour(t)'] * 60 + future_features_dataframe['data_minute(t)']\n",
    "        future_features_dataframe['Temperature(t)'] = hour_temp\n",
    "        future_features_dataframe['humd(t)'] = hour_humd\n",
    "        future_features_dataframe['w_DSD(t)'] = hour_wdsd\n",
    "        future_features_dataframe['apparent_temp(t)'] = hour_apptemp\n",
    "        last_datetime_dataframe = last_datetime_dataframe.append(future_features_dataframe)\n",
    "        normalization_future_dataframe = last_datetime_dataframe.copy()\n",
    "        # 預測陣列 [B]\n",
    "        # 資料 reshape [B]\n",
    "        new_temperature_reshape_data = normalization_future_dataframe['Temperature(t)'].values.reshape(-1, 1)\n",
    "        new_pres_reshape_data = normalization_future_dataframe['pres(t)'].values.reshape(-1, 1)\n",
    "        new_wind_speed_reshape_data = normalization_future_dataframe['w_DSD(t)'].values.reshape(-1, 1)\n",
    "        new_wind_dir_reshape_data = normalization_future_dataframe['w_DIR(t)'].values.reshape(-1, 1)\n",
    "        new_max_wind_reshape_data = normalization_future_dataframe['h_FX(t)'].values.reshape(-1, 1)\n",
    "        new_r24_reshape_data = normalization_future_dataframe['24R(t)'].values.reshape(-1, 1)\n",
    "        new_huvi_reshape_data = normalization_future_dataframe['h_UVI(t)'].values.reshape(-1, 1)\n",
    "        new_apparent_temp_data = normalization_future_dataframe['apparent_temp(t)'].values.reshape(-1, 1)\n",
    "        new_T_Min_reshape_data = normalization_future_dataframe['T_Min(t)'].values.reshape(-1, 1)\n",
    "        new_T_Max_reshape_data = normalization_future_dataframe['T_Max(t)'].values.reshape(-1, 1)\n",
    "        new_day_of_year_reshape_data = normalization_future_dataframe['day_of_year(t)'].values.reshape(-1, 1)\n",
    "        new_data_week_reshape_data = normalization_future_dataframe['data_week(t)'].values.reshape(-1, 1)\n",
    "        new_data_hour_reshape_data = normalization_future_dataframe['data_hour(t)'].values.reshape(-1, 1)\n",
    "        new_data_minute_reshape_data = normalization_future_dataframe['data_minute(t)'].values.reshape(-1, 1)\n",
    "        new_minutes_of_the_day_reshape_data = normalization_future_dataframe['minutes_of_the_day(t)'].values.reshape(-1, 1)\n",
    "        new_last_demand_reshape_data = normalization_future_dataframe['demand_quarter(t-1)'].values.reshape(-1, 1)\n",
    "        # 資料 reshape [E]\n",
    "        # 資料正規化 [B]\n",
    "        normalization_future_dataframe['Temperature(t)'] = temperature_zscore.transform(new_temperature_reshape_data)\n",
    "        normalization_future_dataframe['pres(t)'] = pres_zscore.transform(new_pres_reshape_data)\n",
    "        normalization_future_dataframe['w_DSD(t)'] = wind_speed_zscore.transform(new_wind_speed_reshape_data)\n",
    "        normalization_future_dataframe['w_DIR(t)'] = wind_dir_zscore.transform(new_wind_dir_reshape_data)\n",
    "        normalization_future_dataframe['h_FX(t)'] = max_wind_zscore.transform(new_max_wind_reshape_data)\n",
    "        normalization_future_dataframe['24R(t)'] = r24_zscore.transform(new_r24_reshape_data)\n",
    "        normalization_future_dataframe['h_UVI(t)'] = huvi_zscore.transform(new_huvi_reshape_data)\n",
    "        normalization_future_dataframe['apparent_temp(t)'] = apparent_temp_zscore.transform(new_apparent_temp_data)\n",
    "        normalization_future_dataframe['T_Min(t)'] = T_Min_zscore.transform(new_T_Min_reshape_data)\n",
    "        normalization_future_dataframe['T_Max(t)'] = T_Max_zscore.transform(new_T_Max_reshape_data)\n",
    "        normalization_future_dataframe['day_of_year(t)'] = day_of_year_zscore.transform(new_day_of_year_reshape_data)\n",
    "        normalization_future_dataframe['data_week(t)'] = data_week_zscore.transform(new_data_week_reshape_data)\n",
    "        normalization_future_dataframe['data_hour(t)'] = data_hour_zscore.transform(new_data_hour_reshape_data)\n",
    "        normalization_future_dataframe['data_minute(t)'] = data_minute_zscore.transform(new_data_minute_reshape_data)\n",
    "        normalization_future_dataframe['minutes_of_the_day(t)'] = minutes_of_the_day_zscore.transform(new_minutes_of_the_day_reshape_data)\n",
    "        normalization_future_dataframe['demand_quarter(t-1)'] = demand_zscore.transform(new_last_demand_reshape_data)\n",
    "        # 資料正規化 [E]\n",
    "        # 將分類資料轉為 one hot encoding [B]\n",
    "        predict_data_weekday_values = normalization_future_dataframe['data_weekday(t)'].values.reshape(len(normalization_future_dataframe['data_weekday(t)']), 1)\n",
    "        predict_data_weekday_values = data_weekday_encoder.transform(predict_data_weekday_values)\n",
    "\n",
    "        predict_data_weekday_encode_dataframe= pd.DataFrame(predict_data_weekday_values)\n",
    "\n",
    "        for i in predict_data_weekday_encode_dataframe:\n",
    "            normalization_future_dataframe['data_weekday_{}(t)'.format(i)] = predict_data_weekday_encode_dataframe[i].values\n",
    "        normalization_future_dataframe =  normalization_future_dataframe.drop(columns=['data_weekday(t)'])\n",
    "        # 將分類資料轉為 one hot encoding [E]\n",
    "        normalization_future_dataframe = np.array([normalization_future_dataframe.loc[:, selected_column]])\n",
    "        # 預測 [B]\n",
    "        vanilla_predict_demands = vanilla_model.predict(normalization_future_dataframe)\n",
    "        # 預測 [E]\n",
    "        # 一般預測 [E]\n",
    "        # 還原 z-score [B]\n",
    "        vanilla_predict_demands = demand_zscore.inverse_transform(vanilla_predict_demands)\n",
    "        # 還原 z-score [E]\n",
    "        # 將預測的結果加入下一次的預測參數作為上一筆的需量值 [B]\n",
    "        last_predict = vanilla_predict_demands[0][0]\n",
    "        predict_demand = np.append(predict_demand, vanilla_predict_demands)\n",
    "        # 將預測的結果加入下一次的預測參數作為上一筆的需量值 [B]\n",
    "    # 預測上傳 [B]\n",
    "    upload_table_name = ['demand_predict_test']\n",
    "    upload_dataframe = [predict_demand]\n",
    "    i = 0\n",
    "    for predict_demands in upload_dataframe:\n",
    "        uploadPrediction(upload_table_name[i], now_quarter_times, predict_datetime, predict_demands, database_name)\n",
    "        i = i + 1\n",
    "    # 預測上傳 [E]\n",
    "    # 儲存撈取最後一筆的時間 [B]\n",
    "    last_data_datetime_pid_write = open(last_data_datetime_pid_path, 'w', encoding='utf-8')\n",
    "    last_data_datetime_pid_write.write(last_datetime)\n",
    "    # 儲存撈取最後一筆的時間 [E]\n",
    "    # 刪除模型 [B]\n",
    "    del vanilla_model\n",
    "    # 刪除模型 [E]\n",
    "''' 需量預測函式 [B]'''"
   ]
  },
  {
   "cell_type": "code",
   "execution_count": 199,
   "id": "6362afaf",
   "metadata": {},
   "outputs": [],
   "source": [
    "datelist = pd.date_range(start='2023-06-13 13:00:00', end='2023-06-16', freq='15min')"
   ]
  },
  {
   "cell_type": "code",
   "execution_count": 203,
   "id": "487746b6",
   "metadata": {
    "scrolled": true
   },
   "outputs": [
    {
     "name": "stdout",
     "output_type": "stream",
     "text": [
      "2023-06-09-15-47-12\n",
      "2023-06-09-15-47-12\n",
      "2023-06-09-12-39-32\n",
      "2023-06-14 12:00:00\n",
      "1/1 [==============================] - 2s 2s/step - loss: 0.0021\n"
     ]
    },
    {
     "name": "stderr",
     "output_type": "stream",
     "text": [
      "C:\\Users\\KDDSUNFLOWER\\AppData\\Local\\Temp\\ipykernel_12708\\2698378733.py:323: FutureWarning: The frame.append method is deprecated and will be removed from pandas in a future version. Use pandas.concat instead.\n",
      "  last_datetime_dataframe = last_datetime_dataframe.append(future_features_dataframe)\n"
     ]
    },
    {
     "name": "stdout",
     "output_type": "stream",
     "text": [
      "1/1 [==============================] - 0s 304ms/step\n",
      "1/1 [==============================] - 0s 20ms/step\n"
     ]
    },
    {
     "name": "stderr",
     "output_type": "stream",
     "text": [
      "C:\\Users\\KDDSUNFLOWER\\AppData\\Local\\Temp\\ipykernel_12708\\2698378733.py:323: FutureWarning: The frame.append method is deprecated and will be removed from pandas in a future version. Use pandas.concat instead.\n",
      "  last_datetime_dataframe = last_datetime_dataframe.append(future_features_dataframe)\n"
     ]
    },
    {
     "name": "stdout",
     "output_type": "stream",
     "text": [
      "1/1 [==============================] - 0s 15ms/step\n"
     ]
    },
    {
     "name": "stderr",
     "output_type": "stream",
     "text": [
      "C:\\Users\\KDDSUNFLOWER\\AppData\\Local\\Temp\\ipykernel_12708\\2698378733.py:323: FutureWarning: The frame.append method is deprecated and will be removed from pandas in a future version. Use pandas.concat instead.\n",
      "  last_datetime_dataframe = last_datetime_dataframe.append(future_features_dataframe)\n"
     ]
    },
    {
     "name": "stdout",
     "output_type": "stream",
     "text": [
      "1/1 [==============================] - 0s 15ms/step\n"
     ]
    },
    {
     "name": "stderr",
     "output_type": "stream",
     "text": [
      "C:\\Users\\KDDSUNFLOWER\\AppData\\Local\\Temp\\ipykernel_12708\\2698378733.py:323: FutureWarning: The frame.append method is deprecated and will be removed from pandas in a future version. Use pandas.concat instead.\n",
      "  last_datetime_dataframe = last_datetime_dataframe.append(future_features_dataframe)\n"
     ]
    },
    {
     "name": "stdout",
     "output_type": "stream",
     "text": [
      "UPDATE `demand_predict_test` SET `prediction_4`=291.4474182128906 WHERE `created_at` = '2023-06-13 13:15:00'\n",
      "UPDATE `demand_predict_test` SET `prediction_3`=290.33868408203125 WHERE `created_at` = '2023-06-13 13:30:00'\n",
      "UPDATE `demand_predict_test` SET `prediction_2`=289.77264404296875 WHERE `created_at` = '2023-06-13 13:45:00'\n",
      "UPDATE `demand_predict_test` SET `prediction_1`=288.8294677734375 WHERE `created_at` = '2023-06-13 14:00:00'\n",
      "2023-06-09-15-47-12\n",
      "2023-06-09-15-47-12\n",
      "2023-06-09-12-39-32\n",
      "2023-06-13 12:45:00\n",
      "1/1 [==============================] - 2s 2s/step - loss: 1.7053e-04\n"
     ]
    },
    {
     "name": "stderr",
     "output_type": "stream",
     "text": [
      "C:\\Users\\KDDSUNFLOWER\\AppData\\Local\\Temp\\ipykernel_12708\\2698378733.py:323: FutureWarning: The frame.append method is deprecated and will be removed from pandas in a future version. Use pandas.concat instead.\n",
      "  last_datetime_dataframe = last_datetime_dataframe.append(future_features_dataframe)\n"
     ]
    },
    {
     "name": "stdout",
     "output_type": "stream",
     "text": [
      "1/1 [==============================] - 0s 277ms/step\n",
      "1/1 [==============================] - 0s 15ms/step\n"
     ]
    },
    {
     "name": "stderr",
     "output_type": "stream",
     "text": [
      "C:\\Users\\KDDSUNFLOWER\\AppData\\Local\\Temp\\ipykernel_12708\\2698378733.py:323: FutureWarning: The frame.append method is deprecated and will be removed from pandas in a future version. Use pandas.concat instead.\n",
      "  last_datetime_dataframe = last_datetime_dataframe.append(future_features_dataframe)\n"
     ]
    },
    {
     "name": "stdout",
     "output_type": "stream",
     "text": [
      "1/1 [==============================] - 0s 15ms/step\n"
     ]
    },
    {
     "name": "stderr",
     "output_type": "stream",
     "text": [
      "C:\\Users\\KDDSUNFLOWER\\AppData\\Local\\Temp\\ipykernel_12708\\2698378733.py:323: FutureWarning: The frame.append method is deprecated and will be removed from pandas in a future version. Use pandas.concat instead.\n",
      "  last_datetime_dataframe = last_datetime_dataframe.append(future_features_dataframe)\n"
     ]
    },
    {
     "name": "stdout",
     "output_type": "stream",
     "text": [
      "1/1 [==============================] - 0s 15ms/step\n"
     ]
    },
    {
     "name": "stderr",
     "output_type": "stream",
     "text": [
      "C:\\Users\\KDDSUNFLOWER\\AppData\\Local\\Temp\\ipykernel_12708\\2698378733.py:323: FutureWarning: The frame.append method is deprecated and will be removed from pandas in a future version. Use pandas.concat instead.\n",
      "  last_datetime_dataframe = last_datetime_dataframe.append(future_features_dataframe)\n"
     ]
    },
    {
     "name": "stdout",
     "output_type": "stream",
     "text": [
      "UPDATE `demand_predict_test` SET `prediction_4`=275.90216064453125 WHERE `created_at` = '2023-06-13 13:30:00'\n",
      "UPDATE `demand_predict_test` SET `prediction_3`=282.8753356933594 WHERE `created_at` = '2023-06-13 13:45:00'\n",
      "UPDATE `demand_predict_test` SET `prediction_2`=288.40008544921875 WHERE `created_at` = '2023-06-13 14:00:00'\n",
      "UPDATE `demand_predict_test` SET `prediction_1`=293.50787353515625 WHERE `created_at` = '2023-06-13 14:15:00'\n",
      "2023-06-09-15-47-12\n",
      "2023-06-09-15-47-12\n",
      "2023-06-09-12-39-32\n",
      "2023-06-13 13:00:00\n",
      "1/1 [==============================] - 2s 2s/step - loss: 3.3079e-04\n"
     ]
    },
    {
     "name": "stderr",
     "output_type": "stream",
     "text": [
      "C:\\Users\\KDDSUNFLOWER\\AppData\\Local\\Temp\\ipykernel_12708\\2698378733.py:323: FutureWarning: The frame.append method is deprecated and will be removed from pandas in a future version. Use pandas.concat instead.\n",
      "  last_datetime_dataframe = last_datetime_dataframe.append(future_features_dataframe)\n"
     ]
    },
    {
     "name": "stdout",
     "output_type": "stream",
     "text": [
      "1/1 [==============================] - 0s 265ms/step\n",
      "1/1 [==============================] - 0s 14ms/step\n"
     ]
    },
    {
     "name": "stderr",
     "output_type": "stream",
     "text": [
      "C:\\Users\\KDDSUNFLOWER\\AppData\\Local\\Temp\\ipykernel_12708\\2698378733.py:323: FutureWarning: The frame.append method is deprecated and will be removed from pandas in a future version. Use pandas.concat instead.\n",
      "  last_datetime_dataframe = last_datetime_dataframe.append(future_features_dataframe)\n"
     ]
    },
    {
     "name": "stdout",
     "output_type": "stream",
     "text": [
      "1/1 [==============================] - 0s 13ms/step\n"
     ]
    },
    {
     "name": "stderr",
     "output_type": "stream",
     "text": [
      "C:\\Users\\KDDSUNFLOWER\\AppData\\Local\\Temp\\ipykernel_12708\\2698378733.py:323: FutureWarning: The frame.append method is deprecated and will be removed from pandas in a future version. Use pandas.concat instead.\n",
      "  last_datetime_dataframe = last_datetime_dataframe.append(future_features_dataframe)\n"
     ]
    },
    {
     "name": "stdout",
     "output_type": "stream",
     "text": [
      "1/1 [==============================] - 0s 14ms/step\n"
     ]
    },
    {
     "name": "stderr",
     "output_type": "stream",
     "text": [
      "C:\\Users\\KDDSUNFLOWER\\AppData\\Local\\Temp\\ipykernel_12708\\2698378733.py:323: FutureWarning: The frame.append method is deprecated and will be removed from pandas in a future version. Use pandas.concat instead.\n",
      "  last_datetime_dataframe = last_datetime_dataframe.append(future_features_dataframe)\n"
     ]
    },
    {
     "name": "stdout",
     "output_type": "stream",
     "text": [
      "UPDATE `demand_predict_test` SET `prediction_4`=279.574462890625 WHERE `created_at` = '2023-06-13 13:45:00'\n",
      "UPDATE `demand_predict_test` SET `prediction_3`=280.85723876953125 WHERE `created_at` = '2023-06-13 14:00:00'\n",
      "UPDATE `demand_predict_test` SET `prediction_2`=282.4295349121094 WHERE `created_at` = '2023-06-13 14:15:00'\n",
      "UPDATE `demand_predict_test` SET `prediction_1`=282.132568359375 WHERE `created_at` = '2023-06-13 14:30:00'\n",
      "2023-06-09-15-47-12\n",
      "2023-06-09-15-47-12\n",
      "2023-06-09-12-39-32\n",
      "2023-06-13 13:15:00\n",
      "1/1 [==============================] - 1s 1s/step - loss: 6.1349e-04\n"
     ]
    },
    {
     "name": "stderr",
     "output_type": "stream",
     "text": [
      "C:\\Users\\KDDSUNFLOWER\\AppData\\Local\\Temp\\ipykernel_12708\\2698378733.py:323: FutureWarning: The frame.append method is deprecated and will be removed from pandas in a future version. Use pandas.concat instead.\n",
      "  last_datetime_dataframe = last_datetime_dataframe.append(future_features_dataframe)\n"
     ]
    },
    {
     "name": "stdout",
     "output_type": "stream",
     "text": [
      "1/1 [==============================] - 0s 261ms/step\n",
      "1/1 [==============================] - 0s 14ms/step\n"
     ]
    },
    {
     "name": "stderr",
     "output_type": "stream",
     "text": [
      "C:\\Users\\KDDSUNFLOWER\\AppData\\Local\\Temp\\ipykernel_12708\\2698378733.py:323: FutureWarning: The frame.append method is deprecated and will be removed from pandas in a future version. Use pandas.concat instead.\n",
      "  last_datetime_dataframe = last_datetime_dataframe.append(future_features_dataframe)\n"
     ]
    },
    {
     "name": "stdout",
     "output_type": "stream",
     "text": [
      "1/1 [==============================] - 0s 15ms/step\n"
     ]
    },
    {
     "name": "stderr",
     "output_type": "stream",
     "text": [
      "C:\\Users\\KDDSUNFLOWER\\AppData\\Local\\Temp\\ipykernel_12708\\2698378733.py:323: FutureWarning: The frame.append method is deprecated and will be removed from pandas in a future version. Use pandas.concat instead.\n",
      "  last_datetime_dataframe = last_datetime_dataframe.append(future_features_dataframe)\n"
     ]
    },
    {
     "name": "stdout",
     "output_type": "stream",
     "text": [
      "1/1 [==============================] - 0s 15ms/step\n"
     ]
    },
    {
     "name": "stderr",
     "output_type": "stream",
     "text": [
      "C:\\Users\\KDDSUNFLOWER\\AppData\\Local\\Temp\\ipykernel_12708\\2698378733.py:323: FutureWarning: The frame.append method is deprecated and will be removed from pandas in a future version. Use pandas.concat instead.\n",
      "  last_datetime_dataframe = last_datetime_dataframe.append(future_features_dataframe)\n"
     ]
    },
    {
     "name": "stdout",
     "output_type": "stream",
     "text": [
      "UPDATE `demand_predict_test` SET `prediction_4`=278.42779541015625 WHERE `created_at` = '2023-06-13 14:00:00'\n",
      "UPDATE `demand_predict_test` SET `prediction_3`=285.71466064453125 WHERE `created_at` = '2023-06-13 14:15:00'\n",
      "UPDATE `demand_predict_test` SET `prediction_2`=290.41021728515625 WHERE `created_at` = '2023-06-13 14:30:00'\n",
      "UPDATE `demand_predict_test` SET `prediction_1`=293.3659973144531 WHERE `created_at` = '2023-06-13 14:45:00'\n",
      "2023-06-09-15-47-12\n",
      "2023-06-09-15-47-12\n",
      "2023-06-09-12-39-32\n",
      "2023-06-13 13:30:00\n",
      "1/1 [==============================] - 1s 1s/step - loss: 5.0600e-04\n"
     ]
    },
    {
     "name": "stderr",
     "output_type": "stream",
     "text": [
      "C:\\Users\\KDDSUNFLOWER\\AppData\\Local\\Temp\\ipykernel_12708\\2698378733.py:323: FutureWarning: The frame.append method is deprecated and will be removed from pandas in a future version. Use pandas.concat instead.\n",
      "  last_datetime_dataframe = last_datetime_dataframe.append(future_features_dataframe)\n"
     ]
    },
    {
     "name": "stdout",
     "output_type": "stream",
     "text": [
      "1/1 [==============================] - 0s 249ms/step\n",
      "1/1 [==============================] - 0s 13ms/step\n"
     ]
    },
    {
     "name": "stderr",
     "output_type": "stream",
     "text": [
      "C:\\Users\\KDDSUNFLOWER\\AppData\\Local\\Temp\\ipykernel_12708\\2698378733.py:323: FutureWarning: The frame.append method is deprecated and will be removed from pandas in a future version. Use pandas.concat instead.\n",
      "  last_datetime_dataframe = last_datetime_dataframe.append(future_features_dataframe)\n"
     ]
    },
    {
     "name": "stdout",
     "output_type": "stream",
     "text": [
      "1/1 [==============================] - 0s 14ms/step\n"
     ]
    },
    {
     "name": "stderr",
     "output_type": "stream",
     "text": [
      "C:\\Users\\KDDSUNFLOWER\\AppData\\Local\\Temp\\ipykernel_12708\\2698378733.py:323: FutureWarning: The frame.append method is deprecated and will be removed from pandas in a future version. Use pandas.concat instead.\n",
      "  last_datetime_dataframe = last_datetime_dataframe.append(future_features_dataframe)\n"
     ]
    },
    {
     "name": "stdout",
     "output_type": "stream",
     "text": [
      "1/1 [==============================] - 0s 15ms/step\n"
     ]
    },
    {
     "name": "stderr",
     "output_type": "stream",
     "text": [
      "C:\\Users\\KDDSUNFLOWER\\AppData\\Local\\Temp\\ipykernel_12708\\2698378733.py:323: FutureWarning: The frame.append method is deprecated and will be removed from pandas in a future version. Use pandas.concat instead.\n",
      "  last_datetime_dataframe = last_datetime_dataframe.append(future_features_dataframe)\n"
     ]
    },
    {
     "name": "stdout",
     "output_type": "stream",
     "text": [
      "UPDATE `demand_predict_test` SET `prediction_4`=284.5920715332031 WHERE `created_at` = '2023-06-13 14:15:00'\n",
      "UPDATE `demand_predict_test` SET `prediction_3`=282.6180419921875 WHERE `created_at` = '2023-06-13 14:30:00'\n",
      "UPDATE `demand_predict_test` SET `prediction_2`=280.0168151855469 WHERE `created_at` = '2023-06-13 14:45:00'\n",
      "UPDATE `demand_predict_test` SET `prediction_1`=277.87530517578125 WHERE `created_at` = '2023-06-13 15:00:00'\n",
      "2023-06-09-15-47-12\n",
      "2023-06-09-15-47-12\n",
      "2023-06-09-12-39-32\n",
      "2023-06-13 13:45:00\n",
      "1/1 [==============================] - 1s 1s/step - loss: 9.6573e-04\n"
     ]
    },
    {
     "name": "stderr",
     "output_type": "stream",
     "text": [
      "C:\\Users\\KDDSUNFLOWER\\AppData\\Local\\Temp\\ipykernel_12708\\2698378733.py:323: FutureWarning: The frame.append method is deprecated and will be removed from pandas in a future version. Use pandas.concat instead.\n",
      "  last_datetime_dataframe = last_datetime_dataframe.append(future_features_dataframe)\n"
     ]
    },
    {
     "name": "stdout",
     "output_type": "stream",
     "text": [
      "1/1 [==============================] - 0s 253ms/step\n",
      "1/1 [==============================] - 0s 19ms/step\n"
     ]
    },
    {
     "name": "stderr",
     "output_type": "stream",
     "text": [
      "C:\\Users\\KDDSUNFLOWER\\AppData\\Local\\Temp\\ipykernel_12708\\2698378733.py:323: FutureWarning: The frame.append method is deprecated and will be removed from pandas in a future version. Use pandas.concat instead.\n",
      "  last_datetime_dataframe = last_datetime_dataframe.append(future_features_dataframe)\n"
     ]
    },
    {
     "name": "stdout",
     "output_type": "stream",
     "text": [
      "1/1 [==============================] - 0s 16ms/step\n"
     ]
    },
    {
     "name": "stderr",
     "output_type": "stream",
     "text": [
      "C:\\Users\\KDDSUNFLOWER\\AppData\\Local\\Temp\\ipykernel_12708\\2698378733.py:323: FutureWarning: The frame.append method is deprecated and will be removed from pandas in a future version. Use pandas.concat instead.\n",
      "  last_datetime_dataframe = last_datetime_dataframe.append(future_features_dataframe)\n"
     ]
    },
    {
     "name": "stdout",
     "output_type": "stream",
     "text": [
      "1/1 [==============================] - 0s 18ms/step\n"
     ]
    },
    {
     "name": "stderr",
     "output_type": "stream",
     "text": [
      "C:\\Users\\KDDSUNFLOWER\\AppData\\Local\\Temp\\ipykernel_12708\\2698378733.py:323: FutureWarning: The frame.append method is deprecated and will be removed from pandas in a future version. Use pandas.concat instead.\n",
      "  last_datetime_dataframe = last_datetime_dataframe.append(future_features_dataframe)\n"
     ]
    },
    {
     "name": "stdout",
     "output_type": "stream",
     "text": [
      "UPDATE `demand_predict_test` SET `prediction_4`=280.8970031738281 WHERE `created_at` = '2023-06-13 14:30:00'\n",
      "UPDATE `demand_predict_test` SET `prediction_3`=284.35400390625 WHERE `created_at` = '2023-06-13 14:45:00'\n",
      "UPDATE `demand_predict_test` SET `prediction_2`=287.0379333496094 WHERE `created_at` = '2023-06-13 15:00:00'\n",
      "UPDATE `demand_predict_test` SET `prediction_1`=290.1852111816406 WHERE `created_at` = '2023-06-13 15:15:00'\n",
      "2023-06-09-15-47-12\n",
      "2023-06-09-15-47-12\n",
      "2023-06-09-12-39-32\n",
      "2023-06-13 14:00:00\n",
      "1/1 [==============================] - 1s 1s/step - loss: 2.9146e-04\n"
     ]
    },
    {
     "name": "stderr",
     "output_type": "stream",
     "text": [
      "C:\\Users\\KDDSUNFLOWER\\AppData\\Local\\Temp\\ipykernel_12708\\2698378733.py:323: FutureWarning: The frame.append method is deprecated and will be removed from pandas in a future version. Use pandas.concat instead.\n",
      "  last_datetime_dataframe = last_datetime_dataframe.append(future_features_dataframe)\n"
     ]
    },
    {
     "name": "stdout",
     "output_type": "stream",
     "text": [
      "1/1 [==============================] - 0s 247ms/step\n",
      "1/1 [==============================] - 0s 14ms/step\n"
     ]
    },
    {
     "name": "stderr",
     "output_type": "stream",
     "text": [
      "C:\\Users\\KDDSUNFLOWER\\AppData\\Local\\Temp\\ipykernel_12708\\2698378733.py:323: FutureWarning: The frame.append method is deprecated and will be removed from pandas in a future version. Use pandas.concat instead.\n",
      "  last_datetime_dataframe = last_datetime_dataframe.append(future_features_dataframe)\n"
     ]
    },
    {
     "name": "stdout",
     "output_type": "stream",
     "text": [
      "1/1 [==============================] - 0s 15ms/step\n"
     ]
    },
    {
     "name": "stderr",
     "output_type": "stream",
     "text": [
      "C:\\Users\\KDDSUNFLOWER\\AppData\\Local\\Temp\\ipykernel_12708\\2698378733.py:323: FutureWarning: The frame.append method is deprecated and will be removed from pandas in a future version. Use pandas.concat instead.\n",
      "  last_datetime_dataframe = last_datetime_dataframe.append(future_features_dataframe)\n"
     ]
    },
    {
     "name": "stdout",
     "output_type": "stream",
     "text": [
      "1/1 [==============================] - 0s 15ms/step\n"
     ]
    },
    {
     "name": "stderr",
     "output_type": "stream",
     "text": [
      "C:\\Users\\KDDSUNFLOWER\\AppData\\Local\\Temp\\ipykernel_12708\\2698378733.py:323: FutureWarning: The frame.append method is deprecated and will be removed from pandas in a future version. Use pandas.concat instead.\n",
      "  last_datetime_dataframe = last_datetime_dataframe.append(future_features_dataframe)\n"
     ]
    },
    {
     "name": "stdout",
     "output_type": "stream",
     "text": [
      "UPDATE `demand_predict_test` SET `prediction_4`=301.5751953125 WHERE `created_at` = '2023-06-13 14:45:00'\n",
      "UPDATE `demand_predict_test` SET `prediction_3`=306.29742431640625 WHERE `created_at` = '2023-06-13 15:00:00'\n",
      "UPDATE `demand_predict_test` SET `prediction_2`=311.25286865234375 WHERE `created_at` = '2023-06-13 15:15:00'\n",
      "UPDATE `demand_predict_test` SET `prediction_1`=313.6621398925781 WHERE `created_at` = '2023-06-13 15:30:00'\n",
      "2023-06-09-15-47-12\n",
      "2023-06-09-15-47-12\n",
      "2023-06-09-12-39-32\n",
      "2023-06-13 14:15:00\n",
      "1/1 [==============================] - 1s 1s/step - loss: 7.4993e-04\n"
     ]
    },
    {
     "name": "stderr",
     "output_type": "stream",
     "text": [
      "C:\\Users\\KDDSUNFLOWER\\AppData\\Local\\Temp\\ipykernel_12708\\2698378733.py:323: FutureWarning: The frame.append method is deprecated and will be removed from pandas in a future version. Use pandas.concat instead.\n",
      "  last_datetime_dataframe = last_datetime_dataframe.append(future_features_dataframe)\n"
     ]
    },
    {
     "name": "stdout",
     "output_type": "stream",
     "text": [
      "1/1 [==============================] - 0s 244ms/step\n",
      "1/1 [==============================] - 0s 15ms/step\n"
     ]
    },
    {
     "name": "stderr",
     "output_type": "stream",
     "text": [
      "C:\\Users\\KDDSUNFLOWER\\AppData\\Local\\Temp\\ipykernel_12708\\2698378733.py:323: FutureWarning: The frame.append method is deprecated and will be removed from pandas in a future version. Use pandas.concat instead.\n",
      "  last_datetime_dataframe = last_datetime_dataframe.append(future_features_dataframe)\n"
     ]
    },
    {
     "name": "stdout",
     "output_type": "stream",
     "text": [
      "1/1 [==============================] - 0s 13ms/step\n"
     ]
    },
    {
     "name": "stderr",
     "output_type": "stream",
     "text": [
      "C:\\Users\\KDDSUNFLOWER\\AppData\\Local\\Temp\\ipykernel_12708\\2698378733.py:323: FutureWarning: The frame.append method is deprecated and will be removed from pandas in a future version. Use pandas.concat instead.\n",
      "  last_datetime_dataframe = last_datetime_dataframe.append(future_features_dataframe)\n"
     ]
    },
    {
     "name": "stdout",
     "output_type": "stream",
     "text": [
      "1/1 [==============================] - 0s 16ms/step\n"
     ]
    },
    {
     "name": "stderr",
     "output_type": "stream",
     "text": [
      "C:\\Users\\KDDSUNFLOWER\\AppData\\Local\\Temp\\ipykernel_12708\\2698378733.py:323: FutureWarning: The frame.append method is deprecated and will be removed from pandas in a future version. Use pandas.concat instead.\n",
      "  last_datetime_dataframe = last_datetime_dataframe.append(future_features_dataframe)\n"
     ]
    },
    {
     "name": "stdout",
     "output_type": "stream",
     "text": [
      "UPDATE `demand_predict_test` SET `prediction_4`=303.7349853515625 WHERE `created_at` = '2023-06-13 15:00:00'\n",
      "UPDATE `demand_predict_test` SET `prediction_3`=303.64739990234375 WHERE `created_at` = '2023-06-13 15:15:00'\n",
      "UPDATE `demand_predict_test` SET `prediction_2`=302.33856201171875 WHERE `created_at` = '2023-06-13 15:30:00'\n",
      "UPDATE `demand_predict_test` SET `prediction_1`=300.7641906738281 WHERE `created_at` = '2023-06-13 15:45:00'\n",
      "2023-06-09-15-47-12\n",
      "2023-06-09-15-47-12\n",
      "2023-06-09-12-39-32\n",
      "2023-06-13 14:30:00\n",
      "1/1 [==============================] - 1s 1s/step - loss: 3.5525e-06\n"
     ]
    },
    {
     "name": "stderr",
     "output_type": "stream",
     "text": [
      "C:\\Users\\KDDSUNFLOWER\\AppData\\Local\\Temp\\ipykernel_12708\\2698378733.py:323: FutureWarning: The frame.append method is deprecated and will be removed from pandas in a future version. Use pandas.concat instead.\n",
      "  last_datetime_dataframe = last_datetime_dataframe.append(future_features_dataframe)\n"
     ]
    },
    {
     "name": "stdout",
     "output_type": "stream",
     "text": [
      "1/1 [==============================] - 0s 228ms/step\n",
      "1/1 [==============================] - 0s 13ms/step\n"
     ]
    },
    {
     "name": "stderr",
     "output_type": "stream",
     "text": [
      "C:\\Users\\KDDSUNFLOWER\\AppData\\Local\\Temp\\ipykernel_12708\\2698378733.py:323: FutureWarning: The frame.append method is deprecated and will be removed from pandas in a future version. Use pandas.concat instead.\n",
      "  last_datetime_dataframe = last_datetime_dataframe.append(future_features_dataframe)\n"
     ]
    },
    {
     "name": "stdout",
     "output_type": "stream",
     "text": [
      "1/1 [==============================] - 0s 13ms/step\n"
     ]
    },
    {
     "name": "stderr",
     "output_type": "stream",
     "text": [
      "C:\\Users\\KDDSUNFLOWER\\AppData\\Local\\Temp\\ipykernel_12708\\2698378733.py:323: FutureWarning: The frame.append method is deprecated and will be removed from pandas in a future version. Use pandas.concat instead.\n",
      "  last_datetime_dataframe = last_datetime_dataframe.append(future_features_dataframe)\n"
     ]
    },
    {
     "name": "stdout",
     "output_type": "stream",
     "text": [
      "1/1 [==============================] - 0s 14ms/step\n"
     ]
    },
    {
     "name": "stderr",
     "output_type": "stream",
     "text": [
      "C:\\Users\\KDDSUNFLOWER\\AppData\\Local\\Temp\\ipykernel_12708\\2698378733.py:323: FutureWarning: The frame.append method is deprecated and will be removed from pandas in a future version. Use pandas.concat instead.\n",
      "  last_datetime_dataframe = last_datetime_dataframe.append(future_features_dataframe)\n"
     ]
    },
    {
     "name": "stdout",
     "output_type": "stream",
     "text": [
      "UPDATE `demand_predict_test` SET `prediction_4`=284.96270751953125 WHERE `created_at` = '2023-06-13 15:15:00'\n",
      "UPDATE `demand_predict_test` SET `prediction_3`=282.28448486328125 WHERE `created_at` = '2023-06-13 15:30:00'\n",
      "UPDATE `demand_predict_test` SET `prediction_2`=279.1592102050781 WHERE `created_at` = '2023-06-13 15:45:00'\n",
      "UPDATE `demand_predict_test` SET `prediction_1`=277.4241638183594 WHERE `created_at` = '2023-06-13 16:00:00'\n",
      "2023-06-09-15-47-12\n",
      "2023-06-09-15-47-12\n",
      "2023-06-09-12-39-32\n",
      "2023-06-13 14:45:00\n",
      "1/1 [==============================] - 1s 1s/step - loss: 5.8665e-05\n"
     ]
    },
    {
     "name": "stderr",
     "output_type": "stream",
     "text": [
      "C:\\Users\\KDDSUNFLOWER\\AppData\\Local\\Temp\\ipykernel_12708\\2698378733.py:323: FutureWarning: The frame.append method is deprecated and will be removed from pandas in a future version. Use pandas.concat instead.\n",
      "  last_datetime_dataframe = last_datetime_dataframe.append(future_features_dataframe)\n"
     ]
    },
    {
     "name": "stdout",
     "output_type": "stream",
     "text": [
      "1/1 [==============================] - 0s 226ms/step\n",
      "1/1 [==============================] - 0s 14ms/step\n"
     ]
    },
    {
     "name": "stderr",
     "output_type": "stream",
     "text": [
      "C:\\Users\\KDDSUNFLOWER\\AppData\\Local\\Temp\\ipykernel_12708\\2698378733.py:323: FutureWarning: The frame.append method is deprecated and will be removed from pandas in a future version. Use pandas.concat instead.\n",
      "  last_datetime_dataframe = last_datetime_dataframe.append(future_features_dataframe)\n"
     ]
    },
    {
     "name": "stdout",
     "output_type": "stream",
     "text": [
      "1/1 [==============================] - 0s 14ms/step\n"
     ]
    },
    {
     "name": "stderr",
     "output_type": "stream",
     "text": [
      "C:\\Users\\KDDSUNFLOWER\\AppData\\Local\\Temp\\ipykernel_12708\\2698378733.py:323: FutureWarning: The frame.append method is deprecated and will be removed from pandas in a future version. Use pandas.concat instead.\n",
      "  last_datetime_dataframe = last_datetime_dataframe.append(future_features_dataframe)\n"
     ]
    },
    {
     "name": "stdout",
     "output_type": "stream",
     "text": [
      "1/1 [==============================] - 0s 14ms/step\n"
     ]
    },
    {
     "name": "stderr",
     "output_type": "stream",
     "text": [
      "C:\\Users\\KDDSUNFLOWER\\AppData\\Local\\Temp\\ipykernel_12708\\2698378733.py:323: FutureWarning: The frame.append method is deprecated and will be removed from pandas in a future version. Use pandas.concat instead.\n",
      "  last_datetime_dataframe = last_datetime_dataframe.append(future_features_dataframe)\n"
     ]
    },
    {
     "name": "stdout",
     "output_type": "stream",
     "text": [
      "UPDATE `demand_predict_test` SET `prediction_4`=279.5063171386719 WHERE `created_at` = '2023-06-13 15:30:00'\n",
      "UPDATE `demand_predict_test` SET `prediction_3`=272.1582336425781 WHERE `created_at` = '2023-06-13 15:45:00'\n",
      "UPDATE `demand_predict_test` SET `prediction_2`=266.9231262207031 WHERE `created_at` = '2023-06-13 16:00:00'\n",
      "UPDATE `demand_predict_test` SET `prediction_1`=262.7772216796875 WHERE `created_at` = '2023-06-13 16:15:00'\n",
      "2023-06-09-15-47-12\n",
      "2023-06-09-15-47-12\n",
      "2023-06-09-12-39-32\n",
      "2023-06-13 15:00:00\n",
      "1/1 [==============================] - 1s 1s/step - loss: 6.4079e-05\n"
     ]
    },
    {
     "name": "stderr",
     "output_type": "stream",
     "text": [
      "C:\\Users\\KDDSUNFLOWER\\AppData\\Local\\Temp\\ipykernel_12708\\2698378733.py:323: FutureWarning: The frame.append method is deprecated and will be removed from pandas in a future version. Use pandas.concat instead.\n",
      "  last_datetime_dataframe = last_datetime_dataframe.append(future_features_dataframe)\n"
     ]
    },
    {
     "name": "stdout",
     "output_type": "stream",
     "text": [
      "1/1 [==============================] - 0s 220ms/step\n",
      "1/1 [==============================] - 0s 13ms/step\n"
     ]
    },
    {
     "name": "stderr",
     "output_type": "stream",
     "text": [
      "C:\\Users\\KDDSUNFLOWER\\AppData\\Local\\Temp\\ipykernel_12708\\2698378733.py:323: FutureWarning: The frame.append method is deprecated and will be removed from pandas in a future version. Use pandas.concat instead.\n",
      "  last_datetime_dataframe = last_datetime_dataframe.append(future_features_dataframe)\n"
     ]
    },
    {
     "name": "stdout",
     "output_type": "stream",
     "text": [
      "1/1 [==============================] - 0s 13ms/step\n"
     ]
    },
    {
     "name": "stderr",
     "output_type": "stream",
     "text": [
      "C:\\Users\\KDDSUNFLOWER\\AppData\\Local\\Temp\\ipykernel_12708\\2698378733.py:323: FutureWarning: The frame.append method is deprecated and will be removed from pandas in a future version. Use pandas.concat instead.\n",
      "  last_datetime_dataframe = last_datetime_dataframe.append(future_features_dataframe)\n"
     ]
    },
    {
     "name": "stdout",
     "output_type": "stream",
     "text": [
      "1/1 [==============================] - 0s 15ms/step\n"
     ]
    },
    {
     "name": "stderr",
     "output_type": "stream",
     "text": [
      "C:\\Users\\KDDSUNFLOWER\\AppData\\Local\\Temp\\ipykernel_12708\\2698378733.py:323: FutureWarning: The frame.append method is deprecated and will be removed from pandas in a future version. Use pandas.concat instead.\n",
      "  last_datetime_dataframe = last_datetime_dataframe.append(future_features_dataframe)\n"
     ]
    },
    {
     "name": "stdout",
     "output_type": "stream",
     "text": [
      "UPDATE `demand_predict_test` SET `prediction_4`=274.8607177734375 WHERE `created_at` = '2023-06-13 15:45:00'\n",
      "UPDATE `demand_predict_test` SET `prediction_3`=272.6060485839844 WHERE `created_at` = '2023-06-13 16:00:00'\n",
      "UPDATE `demand_predict_test` SET `prediction_2`=270.8128662109375 WHERE `created_at` = '2023-06-13 16:15:00'\n",
      "UPDATE `demand_predict_test` SET `prediction_1`=267.93914794921875 WHERE `created_at` = '2023-06-13 16:30:00'\n",
      "2023-06-09-15-47-12\n",
      "2023-06-09-15-47-12\n",
      "2023-06-09-12-39-32\n",
      "2023-06-13 15:15:00\n",
      "1/1 [==============================] - 1s 1s/step - loss: 0.0011\n"
     ]
    },
    {
     "name": "stderr",
     "output_type": "stream",
     "text": [
      "C:\\Users\\KDDSUNFLOWER\\AppData\\Local\\Temp\\ipykernel_12708\\2698378733.py:323: FutureWarning: The frame.append method is deprecated and will be removed from pandas in a future version. Use pandas.concat instead.\n",
      "  last_datetime_dataframe = last_datetime_dataframe.append(future_features_dataframe)\n"
     ]
    },
    {
     "name": "stdout",
     "output_type": "stream",
     "text": [
      "1/1 [==============================] - 0s 222ms/step\n",
      "1/1 [==============================] - 0s 12ms/step\n"
     ]
    },
    {
     "name": "stderr",
     "output_type": "stream",
     "text": [
      "C:\\Users\\KDDSUNFLOWER\\AppData\\Local\\Temp\\ipykernel_12708\\2698378733.py:323: FutureWarning: The frame.append method is deprecated and will be removed from pandas in a future version. Use pandas.concat instead.\n",
      "  last_datetime_dataframe = last_datetime_dataframe.append(future_features_dataframe)\n"
     ]
    },
    {
     "name": "stdout",
     "output_type": "stream",
     "text": [
      "1/1 [==============================] - 0s 13ms/step\n"
     ]
    },
    {
     "name": "stderr",
     "output_type": "stream",
     "text": [
      "C:\\Users\\KDDSUNFLOWER\\AppData\\Local\\Temp\\ipykernel_12708\\2698378733.py:323: FutureWarning: The frame.append method is deprecated and will be removed from pandas in a future version. Use pandas.concat instead.\n",
      "  last_datetime_dataframe = last_datetime_dataframe.append(future_features_dataframe)\n"
     ]
    },
    {
     "name": "stdout",
     "output_type": "stream",
     "text": [
      "1/1 [==============================] - 0s 14ms/step\n"
     ]
    },
    {
     "name": "stderr",
     "output_type": "stream",
     "text": [
      "C:\\Users\\KDDSUNFLOWER\\AppData\\Local\\Temp\\ipykernel_12708\\2698378733.py:323: FutureWarning: The frame.append method is deprecated and will be removed from pandas in a future version. Use pandas.concat instead.\n",
      "  last_datetime_dataframe = last_datetime_dataframe.append(future_features_dataframe)\n"
     ]
    },
    {
     "name": "stdout",
     "output_type": "stream",
     "text": [
      "UPDATE `demand_predict_test` SET `prediction_4`=277.97979736328125 WHERE `created_at` = '2023-06-13 16:00:00'\n",
      "UPDATE `demand_predict_test` SET `prediction_3`=279.3952941894531 WHERE `created_at` = '2023-06-13 16:15:00'\n",
      "UPDATE `demand_predict_test` SET `prediction_2`=279.4283142089844 WHERE `created_at` = '2023-06-13 16:30:00'\n",
      "UPDATE `demand_predict_test` SET `prediction_1`=278.488037109375 WHERE `created_at` = '2023-06-13 16:45:00'\n",
      "2023-06-09-15-47-12\n",
      "2023-06-09-15-47-12\n",
      "2023-06-09-12-39-32\n",
      "2023-06-13 15:30:00\n",
      "1/1 [==============================] - 1s 1s/step - loss: 3.8330e-05\n"
     ]
    },
    {
     "name": "stderr",
     "output_type": "stream",
     "text": [
      "C:\\Users\\KDDSUNFLOWER\\AppData\\Local\\Temp\\ipykernel_12708\\2698378733.py:323: FutureWarning: The frame.append method is deprecated and will be removed from pandas in a future version. Use pandas.concat instead.\n",
      "  last_datetime_dataframe = last_datetime_dataframe.append(future_features_dataframe)\n"
     ]
    },
    {
     "name": "stdout",
     "output_type": "stream",
     "text": [
      "1/1 [==============================] - 0s 216ms/step\n",
      "1/1 [==============================] - 0s 13ms/step\n"
     ]
    },
    {
     "name": "stderr",
     "output_type": "stream",
     "text": [
      "C:\\Users\\KDDSUNFLOWER\\AppData\\Local\\Temp\\ipykernel_12708\\2698378733.py:323: FutureWarning: The frame.append method is deprecated and will be removed from pandas in a future version. Use pandas.concat instead.\n",
      "  last_datetime_dataframe = last_datetime_dataframe.append(future_features_dataframe)\n"
     ]
    },
    {
     "name": "stdout",
     "output_type": "stream",
     "text": [
      "1/1 [==============================] - 0s 13ms/step\n"
     ]
    },
    {
     "name": "stderr",
     "output_type": "stream",
     "text": [
      "C:\\Users\\KDDSUNFLOWER\\AppData\\Local\\Temp\\ipykernel_12708\\2698378733.py:323: FutureWarning: The frame.append method is deprecated and will be removed from pandas in a future version. Use pandas.concat instead.\n",
      "  last_datetime_dataframe = last_datetime_dataframe.append(future_features_dataframe)\n"
     ]
    },
    {
     "name": "stdout",
     "output_type": "stream",
     "text": [
      "1/1 [==============================] - 0s 14ms/step\n"
     ]
    },
    {
     "name": "stderr",
     "output_type": "stream",
     "text": [
      "C:\\Users\\KDDSUNFLOWER\\AppData\\Local\\Temp\\ipykernel_12708\\2698378733.py:323: FutureWarning: The frame.append method is deprecated and will be removed from pandas in a future version. Use pandas.concat instead.\n",
      "  last_datetime_dataframe = last_datetime_dataframe.append(future_features_dataframe)\n"
     ]
    },
    {
     "name": "stdout",
     "output_type": "stream",
     "text": [
      "UPDATE `demand_predict_test` SET `prediction_4`=294.2862243652344 WHERE `created_at` = '2023-06-13 16:15:00'\n",
      "UPDATE `demand_predict_test` SET `prediction_3`=295.7102355957031 WHERE `created_at` = '2023-06-13 16:30:00'\n",
      "UPDATE `demand_predict_test` SET `prediction_2`=295.8539123535156 WHERE `created_at` = '2023-06-13 16:45:00'\n",
      "UPDATE `demand_predict_test` SET `prediction_1`=296.6661682128906 WHERE `created_at` = '2023-06-13 17:00:00'\n",
      "2023-06-09-15-47-12\n",
      "2023-06-09-15-47-12\n",
      "2023-06-09-12-39-32\n",
      "2023-06-13 15:45:00\n",
      "1/1 [==============================] - 1s 1s/step - loss: 5.2961e-07\n"
     ]
    },
    {
     "name": "stderr",
     "output_type": "stream",
     "text": [
      "C:\\Users\\KDDSUNFLOWER\\AppData\\Local\\Temp\\ipykernel_12708\\2698378733.py:323: FutureWarning: The frame.append method is deprecated and will be removed from pandas in a future version. Use pandas.concat instead.\n",
      "  last_datetime_dataframe = last_datetime_dataframe.append(future_features_dataframe)\n"
     ]
    },
    {
     "name": "stdout",
     "output_type": "stream",
     "text": [
      "1/1 [==============================] - 0s 216ms/step\n",
      "1/1 [==============================] - 0s 12ms/step\n"
     ]
    },
    {
     "name": "stderr",
     "output_type": "stream",
     "text": [
      "C:\\Users\\KDDSUNFLOWER\\AppData\\Local\\Temp\\ipykernel_12708\\2698378733.py:323: FutureWarning: The frame.append method is deprecated and will be removed from pandas in a future version. Use pandas.concat instead.\n",
      "  last_datetime_dataframe = last_datetime_dataframe.append(future_features_dataframe)\n"
     ]
    },
    {
     "name": "stdout",
     "output_type": "stream",
     "text": [
      "1/1 [==============================] - 0s 13ms/step\n"
     ]
    },
    {
     "name": "stderr",
     "output_type": "stream",
     "text": [
      "C:\\Users\\KDDSUNFLOWER\\AppData\\Local\\Temp\\ipykernel_12708\\2698378733.py:323: FutureWarning: The frame.append method is deprecated and will be removed from pandas in a future version. Use pandas.concat instead.\n",
      "  last_datetime_dataframe = last_datetime_dataframe.append(future_features_dataframe)\n"
     ]
    },
    {
     "name": "stdout",
     "output_type": "stream",
     "text": [
      "1/1 [==============================] - 0s 14ms/step\n"
     ]
    },
    {
     "name": "stderr",
     "output_type": "stream",
     "text": [
      "C:\\Users\\KDDSUNFLOWER\\AppData\\Local\\Temp\\ipykernel_12708\\2698378733.py:323: FutureWarning: The frame.append method is deprecated and will be removed from pandas in a future version. Use pandas.concat instead.\n",
      "  last_datetime_dataframe = last_datetime_dataframe.append(future_features_dataframe)\n"
     ]
    },
    {
     "name": "stdout",
     "output_type": "stream",
     "text": [
      "UPDATE `demand_predict_test` SET `prediction_4`=287.4151306152344 WHERE `created_at` = '2023-06-13 16:30:00'\n",
      "UPDATE `demand_predict_test` SET `prediction_3`=284.46099853515625 WHERE `created_at` = '2023-06-13 16:45:00'\n",
      "UPDATE `demand_predict_test` SET `prediction_2`=282.7250671386719 WHERE `created_at` = '2023-06-13 17:00:00'\n",
      "UPDATE `demand_predict_test` SET `prediction_1`=282.2854309082031 WHERE `created_at` = '2023-06-13 17:15:00'\n",
      "2023-06-09-15-47-12\n",
      "2023-06-09-15-47-12\n",
      "2023-06-09-12-39-32\n",
      "2023-06-13 16:00:00\n",
      "1/1 [==============================] - 1s 1s/step - loss: 4.3814e-05\n"
     ]
    },
    {
     "name": "stderr",
     "output_type": "stream",
     "text": [
      "C:\\Users\\KDDSUNFLOWER\\AppData\\Local\\Temp\\ipykernel_12708\\2698378733.py:323: FutureWarning: The frame.append method is deprecated and will be removed from pandas in a future version. Use pandas.concat instead.\n",
      "  last_datetime_dataframe = last_datetime_dataframe.append(future_features_dataframe)\n"
     ]
    },
    {
     "name": "stdout",
     "output_type": "stream",
     "text": [
      "1/1 [==============================] - 0s 240ms/step\n",
      "1/1 [==============================] - 0s 15ms/step\n"
     ]
    },
    {
     "name": "stderr",
     "output_type": "stream",
     "text": [
      "C:\\Users\\KDDSUNFLOWER\\AppData\\Local\\Temp\\ipykernel_12708\\2698378733.py:323: FutureWarning: The frame.append method is deprecated and will be removed from pandas in a future version. Use pandas.concat instead.\n",
      "  last_datetime_dataframe = last_datetime_dataframe.append(future_features_dataframe)\n"
     ]
    },
    {
     "name": "stdout",
     "output_type": "stream",
     "text": [
      "1/1 [==============================] - 0s 15ms/step\n"
     ]
    },
    {
     "name": "stderr",
     "output_type": "stream",
     "text": [
      "C:\\Users\\KDDSUNFLOWER\\AppData\\Local\\Temp\\ipykernel_12708\\2698378733.py:323: FutureWarning: The frame.append method is deprecated and will be removed from pandas in a future version. Use pandas.concat instead.\n",
      "  last_datetime_dataframe = last_datetime_dataframe.append(future_features_dataframe)\n"
     ]
    },
    {
     "name": "stdout",
     "output_type": "stream",
     "text": [
      "1/1 [==============================] - 0s 13ms/step\n"
     ]
    },
    {
     "name": "stderr",
     "output_type": "stream",
     "text": [
      "C:\\Users\\KDDSUNFLOWER\\AppData\\Local\\Temp\\ipykernel_12708\\2698378733.py:323: FutureWarning: The frame.append method is deprecated and will be removed from pandas in a future version. Use pandas.concat instead.\n",
      "  last_datetime_dataframe = last_datetime_dataframe.append(future_features_dataframe)\n"
     ]
    },
    {
     "name": "stdout",
     "output_type": "stream",
     "text": [
      "UPDATE `demand_predict_test` SET `prediction_4`=281.3210754394531 WHERE `created_at` = '2023-06-13 16:45:00'\n",
      "UPDATE `demand_predict_test` SET `prediction_3`=275.4685363769531 WHERE `created_at` = '2023-06-13 17:00:00'\n",
      "UPDATE `demand_predict_test` SET `prediction_2`=271.8121643066406 WHERE `created_at` = '2023-06-13 17:15:00'\n",
      "UPDATE `demand_predict_test` SET `prediction_1`=268.10406494140625 WHERE `created_at` = '2023-06-13 17:30:00'\n",
      "2023-06-09-15-47-12\n",
      "2023-06-09-15-47-12\n",
      "2023-06-09-12-39-32\n",
      "2023-06-13 16:15:00\n",
      "1/1 [==============================] - 1s 1s/step - loss: 2.3552e-04\n"
     ]
    },
    {
     "name": "stderr",
     "output_type": "stream",
     "text": [
      "C:\\Users\\KDDSUNFLOWER\\AppData\\Local\\Temp\\ipykernel_12708\\2698378733.py:323: FutureWarning: The frame.append method is deprecated and will be removed from pandas in a future version. Use pandas.concat instead.\n",
      "  last_datetime_dataframe = last_datetime_dataframe.append(future_features_dataframe)\n"
     ]
    },
    {
     "name": "stdout",
     "output_type": "stream",
     "text": [
      "1/1 [==============================] - 0s 217ms/step\n",
      "1/1 [==============================] - 0s 13ms/step\n"
     ]
    },
    {
     "name": "stderr",
     "output_type": "stream",
     "text": [
      "C:\\Users\\KDDSUNFLOWER\\AppData\\Local\\Temp\\ipykernel_12708\\2698378733.py:323: FutureWarning: The frame.append method is deprecated and will be removed from pandas in a future version. Use pandas.concat instead.\n",
      "  last_datetime_dataframe = last_datetime_dataframe.append(future_features_dataframe)\n"
     ]
    },
    {
     "name": "stdout",
     "output_type": "stream",
     "text": [
      "1/1 [==============================] - 0s 14ms/step\n"
     ]
    },
    {
     "name": "stderr",
     "output_type": "stream",
     "text": [
      "C:\\Users\\KDDSUNFLOWER\\AppData\\Local\\Temp\\ipykernel_12708\\2698378733.py:323: FutureWarning: The frame.append method is deprecated and will be removed from pandas in a future version. Use pandas.concat instead.\n",
      "  last_datetime_dataframe = last_datetime_dataframe.append(future_features_dataframe)\n"
     ]
    },
    {
     "name": "stdout",
     "output_type": "stream",
     "text": [
      "1/1 [==============================] - 0s 13ms/step\n"
     ]
    },
    {
     "name": "stderr",
     "output_type": "stream",
     "text": [
      "C:\\Users\\KDDSUNFLOWER\\AppData\\Local\\Temp\\ipykernel_12708\\2698378733.py:323: FutureWarning: The frame.append method is deprecated and will be removed from pandas in a future version. Use pandas.concat instead.\n",
      "  last_datetime_dataframe = last_datetime_dataframe.append(future_features_dataframe)\n"
     ]
    },
    {
     "name": "stdout",
     "output_type": "stream",
     "text": [
      "UPDATE `demand_predict_test` SET `prediction_4`=280.9587097167969 WHERE `created_at` = '2023-06-13 17:00:00'\n",
      "UPDATE `demand_predict_test` SET `prediction_3`=280.6161193847656 WHERE `created_at` = '2023-06-13 17:15:00'\n",
      "UPDATE `demand_predict_test` SET `prediction_2`=280.158935546875 WHERE `created_at` = '2023-06-13 17:30:00'\n",
      "UPDATE `demand_predict_test` SET `prediction_1`=279.5323181152344 WHERE `created_at` = '2023-06-13 17:45:00'\n",
      "2023-06-09-15-47-12\n",
      "2023-06-09-15-47-12\n",
      "2023-06-09-12-39-32\n",
      "2023-06-13 16:30:00\n",
      "1/1 [==============================] - 1s 1s/step - loss: 3.7516e-04\n"
     ]
    },
    {
     "name": "stderr",
     "output_type": "stream",
     "text": [
      "C:\\Users\\KDDSUNFLOWER\\AppData\\Local\\Temp\\ipykernel_12708\\2698378733.py:323: FutureWarning: The frame.append method is deprecated and will be removed from pandas in a future version. Use pandas.concat instead.\n",
      "  last_datetime_dataframe = last_datetime_dataframe.append(future_features_dataframe)\n"
     ]
    },
    {
     "name": "stdout",
     "output_type": "stream",
     "text": [
      "1/1 [==============================] - 0s 225ms/step\n",
      "1/1 [==============================] - 0s 13ms/step\n"
     ]
    },
    {
     "name": "stderr",
     "output_type": "stream",
     "text": [
      "C:\\Users\\KDDSUNFLOWER\\AppData\\Local\\Temp\\ipykernel_12708\\2698378733.py:323: FutureWarning: The frame.append method is deprecated and will be removed from pandas in a future version. Use pandas.concat instead.\n",
      "  last_datetime_dataframe = last_datetime_dataframe.append(future_features_dataframe)\n"
     ]
    },
    {
     "name": "stdout",
     "output_type": "stream",
     "text": [
      "1/1 [==============================] - 0s 13ms/step\n"
     ]
    },
    {
     "name": "stderr",
     "output_type": "stream",
     "text": [
      "C:\\Users\\KDDSUNFLOWER\\AppData\\Local\\Temp\\ipykernel_12708\\2698378733.py:323: FutureWarning: The frame.append method is deprecated and will be removed from pandas in a future version. Use pandas.concat instead.\n",
      "  last_datetime_dataframe = last_datetime_dataframe.append(future_features_dataframe)\n"
     ]
    },
    {
     "name": "stdout",
     "output_type": "stream",
     "text": [
      "1/1 [==============================] - 0s 14ms/step\n"
     ]
    },
    {
     "name": "stderr",
     "output_type": "stream",
     "text": [
      "C:\\Users\\KDDSUNFLOWER\\AppData\\Local\\Temp\\ipykernel_12708\\2698378733.py:323: FutureWarning: The frame.append method is deprecated and will be removed from pandas in a future version. Use pandas.concat instead.\n",
      "  last_datetime_dataframe = last_datetime_dataframe.append(future_features_dataframe)\n"
     ]
    },
    {
     "name": "stdout",
     "output_type": "stream",
     "text": [
      "UPDATE `demand_predict_test` SET `prediction_4`=276.33831787109375 WHERE `created_at` = '2023-06-13 17:15:00'\n",
      "UPDATE `demand_predict_test` SET `prediction_3`=270.9033203125 WHERE `created_at` = '2023-06-13 17:30:00'\n",
      "UPDATE `demand_predict_test` SET `prediction_2`=265.7812194824219 WHERE `created_at` = '2023-06-13 17:45:00'\n",
      "UPDATE `demand_predict_test` SET `prediction_1`=262.3370666503906 WHERE `created_at` = '2023-06-13 18:00:00'\n",
      "2023-06-09-15-47-12\n",
      "2023-06-09-15-47-12\n",
      "2023-06-09-12-39-32\n",
      "2023-06-13 16:45:00\n",
      "1/1 [==============================] - 2s 2s/step - loss: 1.3350e-05\n"
     ]
    },
    {
     "name": "stderr",
     "output_type": "stream",
     "text": [
      "C:\\Users\\KDDSUNFLOWER\\AppData\\Local\\Temp\\ipykernel_12708\\2698378733.py:323: FutureWarning: The frame.append method is deprecated and will be removed from pandas in a future version. Use pandas.concat instead.\n",
      "  last_datetime_dataframe = last_datetime_dataframe.append(future_features_dataframe)\n"
     ]
    },
    {
     "name": "stdout",
     "output_type": "stream",
     "text": [
      "1/1 [==============================] - 0s 210ms/step\n",
      "1/1 [==============================] - 0s 13ms/step\n"
     ]
    },
    {
     "name": "stderr",
     "output_type": "stream",
     "text": [
      "C:\\Users\\KDDSUNFLOWER\\AppData\\Local\\Temp\\ipykernel_12708\\2698378733.py:323: FutureWarning: The frame.append method is deprecated and will be removed from pandas in a future version. Use pandas.concat instead.\n",
      "  last_datetime_dataframe = last_datetime_dataframe.append(future_features_dataframe)\n"
     ]
    },
    {
     "name": "stdout",
     "output_type": "stream",
     "text": [
      "1/1 [==============================] - 0s 14ms/step\n"
     ]
    },
    {
     "name": "stderr",
     "output_type": "stream",
     "text": [
      "C:\\Users\\KDDSUNFLOWER\\AppData\\Local\\Temp\\ipykernel_12708\\2698378733.py:323: FutureWarning: The frame.append method is deprecated and will be removed from pandas in a future version. Use pandas.concat instead.\n",
      "  last_datetime_dataframe = last_datetime_dataframe.append(future_features_dataframe)\n"
     ]
    },
    {
     "name": "stdout",
     "output_type": "stream",
     "text": [
      "1/1 [==============================] - 0s 14ms/step\n"
     ]
    },
    {
     "name": "stderr",
     "output_type": "stream",
     "text": [
      "C:\\Users\\KDDSUNFLOWER\\AppData\\Local\\Temp\\ipykernel_12708\\2698378733.py:323: FutureWarning: The frame.append method is deprecated and will be removed from pandas in a future version. Use pandas.concat instead.\n",
      "  last_datetime_dataframe = last_datetime_dataframe.append(future_features_dataframe)\n"
     ]
    },
    {
     "name": "stdout",
     "output_type": "stream",
     "text": [
      "UPDATE `demand_predict_test` SET `prediction_4`=267.9010314941406 WHERE `created_at` = '2023-06-13 17:30:00'\n",
      "UPDATE `demand_predict_test` SET `prediction_3`=266.7517395019531 WHERE `created_at` = '2023-06-13 17:45:00'\n",
      "UPDATE `demand_predict_test` SET `prediction_2`=267.1098937988281 WHERE `created_at` = '2023-06-13 18:00:00'\n",
      "UPDATE `demand_predict_test` SET `prediction_1`=267.3589782714844 WHERE `created_at` = '2023-06-13 18:15:00'\n",
      "2023-06-09-15-47-12\n",
      "2023-06-09-15-47-12\n",
      "2023-06-09-12-39-32\n",
      "2023-06-13 17:00:00\n",
      "1/1 [==============================] - 1s 1s/step - loss: 4.8255e-05\n"
     ]
    },
    {
     "name": "stderr",
     "output_type": "stream",
     "text": [
      "C:\\Users\\KDDSUNFLOWER\\AppData\\Local\\Temp\\ipykernel_12708\\2698378733.py:323: FutureWarning: The frame.append method is deprecated and will be removed from pandas in a future version. Use pandas.concat instead.\n",
      "  last_datetime_dataframe = last_datetime_dataframe.append(future_features_dataframe)\n"
     ]
    },
    {
     "name": "stdout",
     "output_type": "stream",
     "text": [
      "1/1 [==============================] - 0s 230ms/step\n",
      "1/1 [==============================] - 0s 15ms/step\n"
     ]
    },
    {
     "name": "stderr",
     "output_type": "stream",
     "text": [
      "C:\\Users\\KDDSUNFLOWER\\AppData\\Local\\Temp\\ipykernel_12708\\2698378733.py:323: FutureWarning: The frame.append method is deprecated and will be removed from pandas in a future version. Use pandas.concat instead.\n",
      "  last_datetime_dataframe = last_datetime_dataframe.append(future_features_dataframe)\n"
     ]
    },
    {
     "name": "stdout",
     "output_type": "stream",
     "text": [
      "1/1 [==============================] - 0s 15ms/step\n"
     ]
    },
    {
     "name": "stderr",
     "output_type": "stream",
     "text": [
      "C:\\Users\\KDDSUNFLOWER\\AppData\\Local\\Temp\\ipykernel_12708\\2698378733.py:323: FutureWarning: The frame.append method is deprecated and will be removed from pandas in a future version. Use pandas.concat instead.\n",
      "  last_datetime_dataframe = last_datetime_dataframe.append(future_features_dataframe)\n"
     ]
    },
    {
     "name": "stdout",
     "output_type": "stream",
     "text": [
      "1/1 [==============================] - 0s 15ms/step\n"
     ]
    },
    {
     "name": "stderr",
     "output_type": "stream",
     "text": [
      "C:\\Users\\KDDSUNFLOWER\\AppData\\Local\\Temp\\ipykernel_12708\\2698378733.py:323: FutureWarning: The frame.append method is deprecated and will be removed from pandas in a future version. Use pandas.concat instead.\n",
      "  last_datetime_dataframe = last_datetime_dataframe.append(future_features_dataframe)\n"
     ]
    },
    {
     "name": "stdout",
     "output_type": "stream",
     "text": [
      "UPDATE `demand_predict_test` SET `prediction_4`=269.7541809082031 WHERE `created_at` = '2023-06-13 17:45:00'\n",
      "UPDATE `demand_predict_test` SET `prediction_3`=273.24261474609375 WHERE `created_at` = '2023-06-13 18:00:00'\n",
      "UPDATE `demand_predict_test` SET `prediction_2`=276.3975830078125 WHERE `created_at` = '2023-06-13 18:15:00'\n",
      "UPDATE `demand_predict_test` SET `prediction_1`=277.89324951171875 WHERE `created_at` = '2023-06-13 18:30:00'\n",
      "2023-06-09-15-47-12\n",
      "2023-06-09-15-47-12\n",
      "2023-06-09-12-39-32\n",
      "2023-06-13 17:15:00\n",
      "1/1 [==============================] - 1s 1s/step - loss: 8.1451e-04\n"
     ]
    },
    {
     "name": "stderr",
     "output_type": "stream",
     "text": [
      "C:\\Users\\KDDSUNFLOWER\\AppData\\Local\\Temp\\ipykernel_12708\\2698378733.py:323: FutureWarning: The frame.append method is deprecated and will be removed from pandas in a future version. Use pandas.concat instead.\n",
      "  last_datetime_dataframe = last_datetime_dataframe.append(future_features_dataframe)\n"
     ]
    },
    {
     "name": "stdout",
     "output_type": "stream",
     "text": [
      "1/1 [==============================] - 0s 227ms/step\n",
      "1/1 [==============================] - 0s 15ms/step\n"
     ]
    },
    {
     "name": "stderr",
     "output_type": "stream",
     "text": [
      "C:\\Users\\KDDSUNFLOWER\\AppData\\Local\\Temp\\ipykernel_12708\\2698378733.py:323: FutureWarning: The frame.append method is deprecated and will be removed from pandas in a future version. Use pandas.concat instead.\n",
      "  last_datetime_dataframe = last_datetime_dataframe.append(future_features_dataframe)\n"
     ]
    },
    {
     "name": "stdout",
     "output_type": "stream",
     "text": [
      "1/1 [==============================] - 0s 13ms/step\n"
     ]
    },
    {
     "name": "stderr",
     "output_type": "stream",
     "text": [
      "C:\\Users\\KDDSUNFLOWER\\AppData\\Local\\Temp\\ipykernel_12708\\2698378733.py:323: FutureWarning: The frame.append method is deprecated and will be removed from pandas in a future version. Use pandas.concat instead.\n",
      "  last_datetime_dataframe = last_datetime_dataframe.append(future_features_dataframe)\n"
     ]
    },
    {
     "name": "stdout",
     "output_type": "stream",
     "text": [
      "1/1 [==============================] - 0s 14ms/step\n"
     ]
    },
    {
     "name": "stderr",
     "output_type": "stream",
     "text": [
      "C:\\Users\\KDDSUNFLOWER\\AppData\\Local\\Temp\\ipykernel_12708\\2698378733.py:323: FutureWarning: The frame.append method is deprecated and will be removed from pandas in a future version. Use pandas.concat instead.\n",
      "  last_datetime_dataframe = last_datetime_dataframe.append(future_features_dataframe)\n"
     ]
    },
    {
     "name": "stdout",
     "output_type": "stream",
     "text": [
      "UPDATE `demand_predict_test` SET `prediction_4`=267.5367126464844 WHERE `created_at` = '2023-06-13 18:00:00'\n",
      "UPDATE `demand_predict_test` SET `prediction_3`=266.8432922363281 WHERE `created_at` = '2023-06-13 18:15:00'\n",
      "UPDATE `demand_predict_test` SET `prediction_2`=265.1893005371094 WHERE `created_at` = '2023-06-13 18:30:00'\n",
      "UPDATE `demand_predict_test` SET `prediction_1`=262.6556701660156 WHERE `created_at` = '2023-06-13 18:45:00'\n",
      "2023-06-09-15-47-12\n",
      "2023-06-09-15-47-12\n",
      "2023-06-09-12-39-32\n",
      "2023-06-13 17:30:00\n",
      "1/1 [==============================] - 1s 1s/step - loss: 1.5247e-04\n"
     ]
    },
    {
     "name": "stderr",
     "output_type": "stream",
     "text": [
      "C:\\Users\\KDDSUNFLOWER\\AppData\\Local\\Temp\\ipykernel_12708\\2698378733.py:323: FutureWarning: The frame.append method is deprecated and will be removed from pandas in a future version. Use pandas.concat instead.\n",
      "  last_datetime_dataframe = last_datetime_dataframe.append(future_features_dataframe)\n"
     ]
    },
    {
     "name": "stdout",
     "output_type": "stream",
     "text": [
      "1/1 [==============================] - 0s 228ms/step\n",
      "1/1 [==============================] - 0s 14ms/step\n"
     ]
    },
    {
     "name": "stderr",
     "output_type": "stream",
     "text": [
      "C:\\Users\\KDDSUNFLOWER\\AppData\\Local\\Temp\\ipykernel_12708\\2698378733.py:323: FutureWarning: The frame.append method is deprecated and will be removed from pandas in a future version. Use pandas.concat instead.\n",
      "  last_datetime_dataframe = last_datetime_dataframe.append(future_features_dataframe)\n"
     ]
    },
    {
     "name": "stdout",
     "output_type": "stream",
     "text": [
      "1/1 [==============================] - 0s 16ms/step\n"
     ]
    },
    {
     "name": "stderr",
     "output_type": "stream",
     "text": [
      "C:\\Users\\KDDSUNFLOWER\\AppData\\Local\\Temp\\ipykernel_12708\\2698378733.py:323: FutureWarning: The frame.append method is deprecated and will be removed from pandas in a future version. Use pandas.concat instead.\n",
      "  last_datetime_dataframe = last_datetime_dataframe.append(future_features_dataframe)\n"
     ]
    },
    {
     "name": "stdout",
     "output_type": "stream",
     "text": [
      "1/1 [==============================] - 0s 15ms/step\n"
     ]
    },
    {
     "name": "stderr",
     "output_type": "stream",
     "text": [
      "C:\\Users\\KDDSUNFLOWER\\AppData\\Local\\Temp\\ipykernel_12708\\2698378733.py:323: FutureWarning: The frame.append method is deprecated and will be removed from pandas in a future version. Use pandas.concat instead.\n",
      "  last_datetime_dataframe = last_datetime_dataframe.append(future_features_dataframe)\n"
     ]
    },
    {
     "name": "stdout",
     "output_type": "stream",
     "text": [
      "UPDATE `demand_predict_test` SET `prediction_4`=246.4705047607422 WHERE `created_at` = '2023-06-13 18:15:00'\n",
      "UPDATE `demand_predict_test` SET `prediction_3`=242.3741912841797 WHERE `created_at` = '2023-06-13 18:30:00'\n",
      "UPDATE `demand_predict_test` SET `prediction_2`=237.8019256591797 WHERE `created_at` = '2023-06-13 18:45:00'\n",
      "UPDATE `demand_predict_test` SET `prediction_1`=236.0317840576172 WHERE `created_at` = '2023-06-13 19:00:00'\n",
      "2023-06-09-15-47-12\n",
      "2023-06-09-15-47-12\n",
      "2023-06-09-12-39-32\n",
      "2023-06-13 17:45:00\n",
      "1/1 [==============================] - 1s 1s/step - loss: 8.4609e-04\n"
     ]
    },
    {
     "name": "stderr",
     "output_type": "stream",
     "text": [
      "C:\\Users\\KDDSUNFLOWER\\AppData\\Local\\Temp\\ipykernel_12708\\2698378733.py:323: FutureWarning: The frame.append method is deprecated and will be removed from pandas in a future version. Use pandas.concat instead.\n",
      "  last_datetime_dataframe = last_datetime_dataframe.append(future_features_dataframe)\n"
     ]
    },
    {
     "name": "stdout",
     "output_type": "stream",
     "text": [
      "1/1 [==============================] - 0s 247ms/step\n",
      "1/1 [==============================] - 0s 14ms/step\n"
     ]
    },
    {
     "name": "stderr",
     "output_type": "stream",
     "text": [
      "C:\\Users\\KDDSUNFLOWER\\AppData\\Local\\Temp\\ipykernel_12708\\2698378733.py:323: FutureWarning: The frame.append method is deprecated and will be removed from pandas in a future version. Use pandas.concat instead.\n",
      "  last_datetime_dataframe = last_datetime_dataframe.append(future_features_dataframe)\n"
     ]
    },
    {
     "name": "stdout",
     "output_type": "stream",
     "text": [
      "1/1 [==============================] - 0s 18ms/step\n"
     ]
    },
    {
     "name": "stderr",
     "output_type": "stream",
     "text": [
      "C:\\Users\\KDDSUNFLOWER\\AppData\\Local\\Temp\\ipykernel_12708\\2698378733.py:323: FutureWarning: The frame.append method is deprecated and will be removed from pandas in a future version. Use pandas.concat instead.\n",
      "  last_datetime_dataframe = last_datetime_dataframe.append(future_features_dataframe)\n"
     ]
    },
    {
     "name": "stdout",
     "output_type": "stream",
     "text": [
      "1/1 [==============================] - 0s 16ms/step\n"
     ]
    },
    {
     "name": "stderr",
     "output_type": "stream",
     "text": [
      "C:\\Users\\KDDSUNFLOWER\\AppData\\Local\\Temp\\ipykernel_12708\\2698378733.py:323: FutureWarning: The frame.append method is deprecated and will be removed from pandas in a future version. Use pandas.concat instead.\n",
      "  last_datetime_dataframe = last_datetime_dataframe.append(future_features_dataframe)\n"
     ]
    },
    {
     "name": "stdout",
     "output_type": "stream",
     "text": [
      "UPDATE `demand_predict_test` SET `prediction_4`=235.5866241455078 WHERE `created_at` = '2023-06-13 18:30:00'\n",
      "UPDATE `demand_predict_test` SET `prediction_3`=227.86997985839844 WHERE `created_at` = '2023-06-13 18:45:00'\n",
      "UPDATE `demand_predict_test` SET `prediction_2`=223.41685485839844 WHERE `created_at` = '2023-06-13 19:00:00'\n",
      "UPDATE `demand_predict_test` SET `prediction_1`=219.5069580078125 WHERE `created_at` = '2023-06-13 19:15:00'\n",
      "2023-06-09-15-47-12\n",
      "2023-06-09-15-47-12\n",
      "2023-06-09-12-39-32\n",
      "2023-06-13 18:00:00\n",
      "1/1 [==============================] - 1s 1s/step - loss: 2.3076e-04\n"
     ]
    },
    {
     "name": "stderr",
     "output_type": "stream",
     "text": [
      "C:\\Users\\KDDSUNFLOWER\\AppData\\Local\\Temp\\ipykernel_12708\\2698378733.py:323: FutureWarning: The frame.append method is deprecated and will be removed from pandas in a future version. Use pandas.concat instead.\n",
      "  last_datetime_dataframe = last_datetime_dataframe.append(future_features_dataframe)\n"
     ]
    },
    {
     "name": "stdout",
     "output_type": "stream",
     "text": [
      "1/1 [==============================] - 0s 240ms/step\n",
      "1/1 [==============================] - 0s 14ms/step\n"
     ]
    },
    {
     "name": "stderr",
     "output_type": "stream",
     "text": [
      "C:\\Users\\KDDSUNFLOWER\\AppData\\Local\\Temp\\ipykernel_12708\\2698378733.py:323: FutureWarning: The frame.append method is deprecated and will be removed from pandas in a future version. Use pandas.concat instead.\n",
      "  last_datetime_dataframe = last_datetime_dataframe.append(future_features_dataframe)\n"
     ]
    },
    {
     "name": "stdout",
     "output_type": "stream",
     "text": [
      "1/1 [==============================] - 0s 14ms/step\n"
     ]
    },
    {
     "name": "stderr",
     "output_type": "stream",
     "text": [
      "C:\\Users\\KDDSUNFLOWER\\AppData\\Local\\Temp\\ipykernel_12708\\2698378733.py:323: FutureWarning: The frame.append method is deprecated and will be removed from pandas in a future version. Use pandas.concat instead.\n",
      "  last_datetime_dataframe = last_datetime_dataframe.append(future_features_dataframe)\n"
     ]
    },
    {
     "name": "stdout",
     "output_type": "stream",
     "text": [
      "1/1 [==============================] - 0s 14ms/step\n"
     ]
    },
    {
     "name": "stderr",
     "output_type": "stream",
     "text": [
      "C:\\Users\\KDDSUNFLOWER\\AppData\\Local\\Temp\\ipykernel_12708\\2698378733.py:323: FutureWarning: The frame.append method is deprecated and will be removed from pandas in a future version. Use pandas.concat instead.\n",
      "  last_datetime_dataframe = last_datetime_dataframe.append(future_features_dataframe)\n"
     ]
    },
    {
     "name": "stdout",
     "output_type": "stream",
     "text": [
      "UPDATE `demand_predict_test` SET `prediction_4`=221.88253784179688 WHERE `created_at` = '2023-06-13 18:45:00'\n",
      "UPDATE `demand_predict_test` SET `prediction_3`=221.16342163085938 WHERE `created_at` = '2023-06-13 19:00:00'\n",
      "UPDATE `demand_predict_test` SET `prediction_2`=220.66375732421875 WHERE `created_at` = '2023-06-13 19:15:00'\n",
      "UPDATE `demand_predict_test` SET `prediction_1`=219.4248046875 WHERE `created_at` = '2023-06-13 19:30:00'\n",
      "2023-06-09-15-47-12\n",
      "2023-06-09-15-47-12\n",
      "2023-06-09-12-39-32\n",
      "2023-06-13 18:15:00\n",
      "1/1 [==============================] - 1s 1s/step - loss: 5.1110e-06\n"
     ]
    },
    {
     "name": "stderr",
     "output_type": "stream",
     "text": [
      "C:\\Users\\KDDSUNFLOWER\\AppData\\Local\\Temp\\ipykernel_12708\\2698378733.py:323: FutureWarning: The frame.append method is deprecated and will be removed from pandas in a future version. Use pandas.concat instead.\n",
      "  last_datetime_dataframe = last_datetime_dataframe.append(future_features_dataframe)\n"
     ]
    },
    {
     "name": "stdout",
     "output_type": "stream",
     "text": [
      "1/1 [==============================] - 0s 214ms/step\n",
      "1/1 [==============================] - 0s 12ms/step\n"
     ]
    },
    {
     "name": "stderr",
     "output_type": "stream",
     "text": [
      "C:\\Users\\KDDSUNFLOWER\\AppData\\Local\\Temp\\ipykernel_12708\\2698378733.py:323: FutureWarning: The frame.append method is deprecated and will be removed from pandas in a future version. Use pandas.concat instead.\n",
      "  last_datetime_dataframe = last_datetime_dataframe.append(future_features_dataframe)\n"
     ]
    },
    {
     "name": "stdout",
     "output_type": "stream",
     "text": [
      "1/1 [==============================] - 0s 13ms/step\n"
     ]
    },
    {
     "name": "stderr",
     "output_type": "stream",
     "text": [
      "C:\\Users\\KDDSUNFLOWER\\AppData\\Local\\Temp\\ipykernel_12708\\2698378733.py:323: FutureWarning: The frame.append method is deprecated and will be removed from pandas in a future version. Use pandas.concat instead.\n",
      "  last_datetime_dataframe = last_datetime_dataframe.append(future_features_dataframe)\n"
     ]
    },
    {
     "name": "stdout",
     "output_type": "stream",
     "text": [
      "1/1 [==============================] - 0s 16ms/step\n"
     ]
    },
    {
     "name": "stderr",
     "output_type": "stream",
     "text": [
      "C:\\Users\\KDDSUNFLOWER\\AppData\\Local\\Temp\\ipykernel_12708\\2698378733.py:323: FutureWarning: The frame.append method is deprecated and will be removed from pandas in a future version. Use pandas.concat instead.\n",
      "  last_datetime_dataframe = last_datetime_dataframe.append(future_features_dataframe)\n"
     ]
    },
    {
     "name": "stdout",
     "output_type": "stream",
     "text": [
      "UPDATE `demand_predict_test` SET `prediction_4`=223.78741455078125 WHERE `created_at` = '2023-06-13 19:00:00'\n",
      "UPDATE `demand_predict_test` SET `prediction_3`=219.55931091308594 WHERE `created_at` = '2023-06-13 19:15:00'\n",
      "UPDATE `demand_predict_test` SET `prediction_2`=215.16453552246094 WHERE `created_at` = '2023-06-13 19:30:00'\n",
      "UPDATE `demand_predict_test` SET `prediction_1`=210.41116333007812 WHERE `created_at` = '2023-06-13 19:45:00'\n",
      "2023-06-09-15-47-12\n",
      "2023-06-09-15-47-12\n",
      "2023-06-09-12-39-32\n",
      "2023-06-13 18:30:00\n",
      "1/1 [==============================] - 1s 1s/step - loss: 6.2200e-04\n"
     ]
    },
    {
     "name": "stderr",
     "output_type": "stream",
     "text": [
      "C:\\Users\\KDDSUNFLOWER\\AppData\\Local\\Temp\\ipykernel_12708\\2698378733.py:323: FutureWarning: The frame.append method is deprecated and will be removed from pandas in a future version. Use pandas.concat instead.\n",
      "  last_datetime_dataframe = last_datetime_dataframe.append(future_features_dataframe)\n"
     ]
    },
    {
     "name": "stdout",
     "output_type": "stream",
     "text": [
      "1/1 [==============================] - 0s 214ms/step\n",
      "1/1 [==============================] - 0s 13ms/step\n"
     ]
    },
    {
     "name": "stderr",
     "output_type": "stream",
     "text": [
      "C:\\Users\\KDDSUNFLOWER\\AppData\\Local\\Temp\\ipykernel_12708\\2698378733.py:323: FutureWarning: The frame.append method is deprecated and will be removed from pandas in a future version. Use pandas.concat instead.\n",
      "  last_datetime_dataframe = last_datetime_dataframe.append(future_features_dataframe)\n"
     ]
    },
    {
     "name": "stdout",
     "output_type": "stream",
     "text": [
      "1/1 [==============================] - 0s 14ms/step\n"
     ]
    },
    {
     "name": "stderr",
     "output_type": "stream",
     "text": [
      "C:\\Users\\KDDSUNFLOWER\\AppData\\Local\\Temp\\ipykernel_12708\\2698378733.py:323: FutureWarning: The frame.append method is deprecated and will be removed from pandas in a future version. Use pandas.concat instead.\n",
      "  last_datetime_dataframe = last_datetime_dataframe.append(future_features_dataframe)\n"
     ]
    },
    {
     "name": "stdout",
     "output_type": "stream",
     "text": [
      "1/1 [==============================] - 0s 14ms/step\n"
     ]
    },
    {
     "name": "stderr",
     "output_type": "stream",
     "text": [
      "C:\\Users\\KDDSUNFLOWER\\AppData\\Local\\Temp\\ipykernel_12708\\2698378733.py:323: FutureWarning: The frame.append method is deprecated and will be removed from pandas in a future version. Use pandas.concat instead.\n",
      "  last_datetime_dataframe = last_datetime_dataframe.append(future_features_dataframe)\n"
     ]
    },
    {
     "name": "stdout",
     "output_type": "stream",
     "text": [
      "UPDATE `demand_predict_test` SET `prediction_4`=222.2860870361328 WHERE `created_at` = '2023-06-13 19:15:00'\n",
      "UPDATE `demand_predict_test` SET `prediction_3`=220.2799530029297 WHERE `created_at` = '2023-06-13 19:30:00'\n",
      "UPDATE `demand_predict_test` SET `prediction_2`=217.83029174804688 WHERE `created_at` = '2023-06-13 19:45:00'\n",
      "UPDATE `demand_predict_test` SET `prediction_1`=218.0933380126953 WHERE `created_at` = '2023-06-13 20:00:00'\n",
      "2023-06-09-15-47-12\n",
      "2023-06-09-15-47-12\n",
      "2023-06-09-12-39-32\n",
      "2023-06-13 18:45:00\n",
      "1/1 [==============================] - 1s 1s/step - loss: 1.8979e-05\n"
     ]
    },
    {
     "name": "stderr",
     "output_type": "stream",
     "text": [
      "C:\\Users\\KDDSUNFLOWER\\AppData\\Local\\Temp\\ipykernel_12708\\2698378733.py:323: FutureWarning: The frame.append method is deprecated and will be removed from pandas in a future version. Use pandas.concat instead.\n",
      "  last_datetime_dataframe = last_datetime_dataframe.append(future_features_dataframe)\n"
     ]
    },
    {
     "name": "stdout",
     "output_type": "stream",
     "text": [
      "1/1 [==============================] - 0s 214ms/step\n",
      "1/1 [==============================] - 0s 14ms/step\n"
     ]
    },
    {
     "name": "stderr",
     "output_type": "stream",
     "text": [
      "C:\\Users\\KDDSUNFLOWER\\AppData\\Local\\Temp\\ipykernel_12708\\2698378733.py:323: FutureWarning: The frame.append method is deprecated and will be removed from pandas in a future version. Use pandas.concat instead.\n",
      "  last_datetime_dataframe = last_datetime_dataframe.append(future_features_dataframe)\n"
     ]
    },
    {
     "name": "stdout",
     "output_type": "stream",
     "text": [
      "1/1 [==============================] - 0s 13ms/step\n"
     ]
    },
    {
     "name": "stderr",
     "output_type": "stream",
     "text": [
      "C:\\Users\\KDDSUNFLOWER\\AppData\\Local\\Temp\\ipykernel_12708\\2698378733.py:323: FutureWarning: The frame.append method is deprecated and will be removed from pandas in a future version. Use pandas.concat instead.\n",
      "  last_datetime_dataframe = last_datetime_dataframe.append(future_features_dataframe)\n"
     ]
    },
    {
     "name": "stdout",
     "output_type": "stream",
     "text": [
      "1/1 [==============================] - 0s 14ms/step\n"
     ]
    },
    {
     "name": "stderr",
     "output_type": "stream",
     "text": [
      "C:\\Users\\KDDSUNFLOWER\\AppData\\Local\\Temp\\ipykernel_12708\\2698378733.py:323: FutureWarning: The frame.append method is deprecated and will be removed from pandas in a future version. Use pandas.concat instead.\n",
      "  last_datetime_dataframe = last_datetime_dataframe.append(future_features_dataframe)\n"
     ]
    },
    {
     "name": "stdout",
     "output_type": "stream",
     "text": [
      "UPDATE `demand_predict_test` SET `prediction_4`=233.77371215820312 WHERE `created_at` = '2023-06-13 19:30:00'\n",
      "UPDATE `demand_predict_test` SET `prediction_3`=233.12506103515625 WHERE `created_at` = '2023-06-13 19:45:00'\n",
      "UPDATE `demand_predict_test` SET `prediction_2`=235.2747039794922 WHERE `created_at` = '2023-06-13 20:00:00'\n",
      "UPDATE `demand_predict_test` SET `prediction_1`=236.9969940185547 WHERE `created_at` = '2023-06-13 20:15:00'\n",
      "2023-06-09-15-47-12\n",
      "2023-06-09-15-47-12\n",
      "2023-06-09-12-39-32\n",
      "2023-06-13 19:00:00\n",
      "1/1 [==============================] - 1s 1s/step - loss: 5.4134e-05\n"
     ]
    },
    {
     "name": "stderr",
     "output_type": "stream",
     "text": [
      "C:\\Users\\KDDSUNFLOWER\\AppData\\Local\\Temp\\ipykernel_12708\\2698378733.py:323: FutureWarning: The frame.append method is deprecated and will be removed from pandas in a future version. Use pandas.concat instead.\n",
      "  last_datetime_dataframe = last_datetime_dataframe.append(future_features_dataframe)\n"
     ]
    },
    {
     "name": "stdout",
     "output_type": "stream",
     "text": [
      "1/1 [==============================] - 0s 217ms/step\n",
      "1/1 [==============================] - 0s 13ms/step\n"
     ]
    },
    {
     "name": "stderr",
     "output_type": "stream",
     "text": [
      "C:\\Users\\KDDSUNFLOWER\\AppData\\Local\\Temp\\ipykernel_12708\\2698378733.py:323: FutureWarning: The frame.append method is deprecated and will be removed from pandas in a future version. Use pandas.concat instead.\n",
      "  last_datetime_dataframe = last_datetime_dataframe.append(future_features_dataframe)\n"
     ]
    },
    {
     "name": "stdout",
     "output_type": "stream",
     "text": [
      "1/1 [==============================] - 0s 14ms/step\n"
     ]
    },
    {
     "name": "stderr",
     "output_type": "stream",
     "text": [
      "C:\\Users\\KDDSUNFLOWER\\AppData\\Local\\Temp\\ipykernel_12708\\2698378733.py:323: FutureWarning: The frame.append method is deprecated and will be removed from pandas in a future version. Use pandas.concat instead.\n",
      "  last_datetime_dataframe = last_datetime_dataframe.append(future_features_dataframe)\n"
     ]
    },
    {
     "name": "stdout",
     "output_type": "stream",
     "text": [
      "1/1 [==============================] - 0s 13ms/step\n"
     ]
    },
    {
     "name": "stderr",
     "output_type": "stream",
     "text": [
      "C:\\Users\\KDDSUNFLOWER\\AppData\\Local\\Temp\\ipykernel_12708\\2698378733.py:323: FutureWarning: The frame.append method is deprecated and will be removed from pandas in a future version. Use pandas.concat instead.\n",
      "  last_datetime_dataframe = last_datetime_dataframe.append(future_features_dataframe)\n"
     ]
    },
    {
     "name": "stdout",
     "output_type": "stream",
     "text": [
      "UPDATE `demand_predict_test` SET `prediction_4`=235.1001739501953 WHERE `created_at` = '2023-06-13 19:45:00'\n",
      "UPDATE `demand_predict_test` SET `prediction_3`=240.43319702148438 WHERE `created_at` = '2023-06-13 20:00:00'\n",
      "UPDATE `demand_predict_test` SET `prediction_2`=245.1795654296875 WHERE `created_at` = '2023-06-13 20:15:00'\n",
      "UPDATE `demand_predict_test` SET `prediction_1`=248.19076538085938 WHERE `created_at` = '2023-06-13 20:30:00'\n",
      "2023-06-09-15-47-12\n",
      "2023-06-09-15-47-12\n",
      "2023-06-09-12-39-32\n",
      "2023-06-13 19:15:00\n",
      "1/1 [==============================] - 1s 1s/step - loss: 0.0018\n"
     ]
    },
    {
     "name": "stderr",
     "output_type": "stream",
     "text": [
      "C:\\Users\\KDDSUNFLOWER\\AppData\\Local\\Temp\\ipykernel_12708\\2698378733.py:323: FutureWarning: The frame.append method is deprecated and will be removed from pandas in a future version. Use pandas.concat instead.\n",
      "  last_datetime_dataframe = last_datetime_dataframe.append(future_features_dataframe)\n"
     ]
    },
    {
     "name": "stdout",
     "output_type": "stream",
     "text": [
      "1/1 [==============================] - 0s 221ms/step\n",
      "1/1 [==============================] - 0s 13ms/step\n"
     ]
    },
    {
     "name": "stderr",
     "output_type": "stream",
     "text": [
      "C:\\Users\\KDDSUNFLOWER\\AppData\\Local\\Temp\\ipykernel_12708\\2698378733.py:323: FutureWarning: The frame.append method is deprecated and will be removed from pandas in a future version. Use pandas.concat instead.\n",
      "  last_datetime_dataframe = last_datetime_dataframe.append(future_features_dataframe)\n"
     ]
    },
    {
     "name": "stdout",
     "output_type": "stream",
     "text": [
      "1/1 [==============================] - 0s 14ms/step\n"
     ]
    },
    {
     "name": "stderr",
     "output_type": "stream",
     "text": [
      "C:\\Users\\KDDSUNFLOWER\\AppData\\Local\\Temp\\ipykernel_12708\\2698378733.py:323: FutureWarning: The frame.append method is deprecated and will be removed from pandas in a future version. Use pandas.concat instead.\n",
      "  last_datetime_dataframe = last_datetime_dataframe.append(future_features_dataframe)\n"
     ]
    },
    {
     "name": "stdout",
     "output_type": "stream",
     "text": [
      "1/1 [==============================] - 0s 14ms/step\n"
     ]
    },
    {
     "name": "stderr",
     "output_type": "stream",
     "text": [
      "C:\\Users\\KDDSUNFLOWER\\AppData\\Local\\Temp\\ipykernel_12708\\2698378733.py:323: FutureWarning: The frame.append method is deprecated and will be removed from pandas in a future version. Use pandas.concat instead.\n",
      "  last_datetime_dataframe = last_datetime_dataframe.append(future_features_dataframe)\n"
     ]
    },
    {
     "name": "stdout",
     "output_type": "stream",
     "text": [
      "UPDATE `demand_predict_test` SET `prediction_4`=236.87948608398438 WHERE `created_at` = '2023-06-13 20:00:00'\n",
      "UPDATE `demand_predict_test` SET `prediction_3`=238.09799194335938 WHERE `created_at` = '2023-06-13 20:15:00'\n",
      "UPDATE `demand_predict_test` SET `prediction_2`=238.09922790527344 WHERE `created_at` = '2023-06-13 20:30:00'\n",
      "UPDATE `demand_predict_test` SET `prediction_1`=236.88851928710938 WHERE `created_at` = '2023-06-13 20:45:00'\n",
      "2023-06-09-15-47-12\n",
      "2023-06-09-15-47-12\n",
      "2023-06-09-12-39-32\n",
      "2023-06-13 19:30:00\n",
      "1/1 [==============================] - 1s 1s/step - loss: 1.0052e-04\n"
     ]
    },
    {
     "name": "stderr",
     "output_type": "stream",
     "text": [
      "C:\\Users\\KDDSUNFLOWER\\AppData\\Local\\Temp\\ipykernel_12708\\2698378733.py:323: FutureWarning: The frame.append method is deprecated and will be removed from pandas in a future version. Use pandas.concat instead.\n",
      "  last_datetime_dataframe = last_datetime_dataframe.append(future_features_dataframe)\n"
     ]
    },
    {
     "name": "stdout",
     "output_type": "stream",
     "text": [
      "1/1 [==============================] - 0s 226ms/step\n",
      "1/1 [==============================] - 0s 14ms/step\n"
     ]
    },
    {
     "name": "stderr",
     "output_type": "stream",
     "text": [
      "C:\\Users\\KDDSUNFLOWER\\AppData\\Local\\Temp\\ipykernel_12708\\2698378733.py:323: FutureWarning: The frame.append method is deprecated and will be removed from pandas in a future version. Use pandas.concat instead.\n",
      "  last_datetime_dataframe = last_datetime_dataframe.append(future_features_dataframe)\n"
     ]
    },
    {
     "name": "stdout",
     "output_type": "stream",
     "text": [
      "1/1 [==============================] - 0s 14ms/step\n"
     ]
    },
    {
     "name": "stderr",
     "output_type": "stream",
     "text": [
      "C:\\Users\\KDDSUNFLOWER\\AppData\\Local\\Temp\\ipykernel_12708\\2698378733.py:323: FutureWarning: The frame.append method is deprecated and will be removed from pandas in a future version. Use pandas.concat instead.\n",
      "  last_datetime_dataframe = last_datetime_dataframe.append(future_features_dataframe)\n"
     ]
    },
    {
     "name": "stdout",
     "output_type": "stream",
     "text": [
      "1/1 [==============================] - 0s 14ms/step\n"
     ]
    },
    {
     "name": "stderr",
     "output_type": "stream",
     "text": [
      "C:\\Users\\KDDSUNFLOWER\\AppData\\Local\\Temp\\ipykernel_12708\\2698378733.py:323: FutureWarning: The frame.append method is deprecated and will be removed from pandas in a future version. Use pandas.concat instead.\n",
      "  last_datetime_dataframe = last_datetime_dataframe.append(future_features_dataframe)\n"
     ]
    },
    {
     "name": "stdout",
     "output_type": "stream",
     "text": [
      "UPDATE `demand_predict_test` SET `prediction_4`=211.103759765625 WHERE `created_at` = '2023-06-13 20:15:00'\n",
      "UPDATE `demand_predict_test` SET `prediction_3`=209.82627868652344 WHERE `created_at` = '2023-06-13 20:30:00'\n",
      "UPDATE `demand_predict_test` SET `prediction_2`=207.680419921875 WHERE `created_at` = '2023-06-13 20:45:00'\n",
      "UPDATE `demand_predict_test` SET `prediction_1`=208.78208923339844 WHERE `created_at` = '2023-06-13 21:00:00'\n",
      "2023-06-09-15-47-12\n",
      "2023-06-09-15-47-12\n",
      "2023-06-09-12-39-32\n",
      "2023-06-13 19:45:00\n",
      "1/1 [==============================] - 1s 1s/step - loss: 1.6245e-04\n"
     ]
    },
    {
     "name": "stderr",
     "output_type": "stream",
     "text": [
      "C:\\Users\\KDDSUNFLOWER\\AppData\\Local\\Temp\\ipykernel_12708\\2698378733.py:323: FutureWarning: The frame.append method is deprecated and will be removed from pandas in a future version. Use pandas.concat instead.\n",
      "  last_datetime_dataframe = last_datetime_dataframe.append(future_features_dataframe)\n"
     ]
    },
    {
     "name": "stdout",
     "output_type": "stream",
     "text": [
      "1/1 [==============================] - 0s 215ms/step\n",
      "1/1 [==============================] - 0s 13ms/step\n"
     ]
    },
    {
     "name": "stderr",
     "output_type": "stream",
     "text": [
      "C:\\Users\\KDDSUNFLOWER\\AppData\\Local\\Temp\\ipykernel_12708\\2698378733.py:323: FutureWarning: The frame.append method is deprecated and will be removed from pandas in a future version. Use pandas.concat instead.\n",
      "  last_datetime_dataframe = last_datetime_dataframe.append(future_features_dataframe)\n"
     ]
    },
    {
     "name": "stdout",
     "output_type": "stream",
     "text": [
      "1/1 [==============================] - 0s 12ms/step\n"
     ]
    },
    {
     "name": "stderr",
     "output_type": "stream",
     "text": [
      "C:\\Users\\KDDSUNFLOWER\\AppData\\Local\\Temp\\ipykernel_12708\\2698378733.py:323: FutureWarning: The frame.append method is deprecated and will be removed from pandas in a future version. Use pandas.concat instead.\n",
      "  last_datetime_dataframe = last_datetime_dataframe.append(future_features_dataframe)\n"
     ]
    },
    {
     "name": "stdout",
     "output_type": "stream",
     "text": [
      "1/1 [==============================] - 0s 13ms/step\n"
     ]
    },
    {
     "name": "stderr",
     "output_type": "stream",
     "text": [
      "C:\\Users\\KDDSUNFLOWER\\AppData\\Local\\Temp\\ipykernel_12708\\2698378733.py:323: FutureWarning: The frame.append method is deprecated and will be removed from pandas in a future version. Use pandas.concat instead.\n",
      "  last_datetime_dataframe = last_datetime_dataframe.append(future_features_dataframe)\n"
     ]
    },
    {
     "name": "stdout",
     "output_type": "stream",
     "text": [
      "UPDATE `demand_predict_test` SET `prediction_4`=206.46310424804688 WHERE `created_at` = '2023-06-13 20:30:00'\n",
      "UPDATE `demand_predict_test` SET `prediction_3`=201.3165283203125 WHERE `created_at` = '2023-06-13 20:45:00'\n",
      "UPDATE `demand_predict_test` SET `prediction_2`=199.7753448486328 WHERE `created_at` = '2023-06-13 21:00:00'\n",
      "UPDATE `demand_predict_test` SET `prediction_1`=198.00970458984375 WHERE `created_at` = '2023-06-13 21:15:00'\n",
      "2023-06-09-15-47-12\n",
      "2023-06-09-15-47-12\n",
      "2023-06-09-12-39-32\n",
      "2023-06-13 20:00:00\n",
      "1/1 [==============================] - 1s 1s/step - loss: 2.0093e-04\n"
     ]
    },
    {
     "name": "stderr",
     "output_type": "stream",
     "text": [
      "C:\\Users\\KDDSUNFLOWER\\AppData\\Local\\Temp\\ipykernel_12708\\2698378733.py:323: FutureWarning: The frame.append method is deprecated and will be removed from pandas in a future version. Use pandas.concat instead.\n",
      "  last_datetime_dataframe = last_datetime_dataframe.append(future_features_dataframe)\n"
     ]
    },
    {
     "name": "stdout",
     "output_type": "stream",
     "text": [
      "1/1 [==============================] - 0s 216ms/step\n",
      "1/1 [==============================] - 0s 13ms/step\n"
     ]
    },
    {
     "name": "stderr",
     "output_type": "stream",
     "text": [
      "C:\\Users\\KDDSUNFLOWER\\AppData\\Local\\Temp\\ipykernel_12708\\2698378733.py:323: FutureWarning: The frame.append method is deprecated and will be removed from pandas in a future version. Use pandas.concat instead.\n",
      "  last_datetime_dataframe = last_datetime_dataframe.append(future_features_dataframe)\n"
     ]
    },
    {
     "name": "stdout",
     "output_type": "stream",
     "text": [
      "1/1 [==============================] - 0s 14ms/step\n"
     ]
    },
    {
     "name": "stderr",
     "output_type": "stream",
     "text": [
      "C:\\Users\\KDDSUNFLOWER\\AppData\\Local\\Temp\\ipykernel_12708\\2698378733.py:323: FutureWarning: The frame.append method is deprecated and will be removed from pandas in a future version. Use pandas.concat instead.\n",
      "  last_datetime_dataframe = last_datetime_dataframe.append(future_features_dataframe)\n"
     ]
    },
    {
     "name": "stdout",
     "output_type": "stream",
     "text": [
      "1/1 [==============================] - 0s 14ms/step\n"
     ]
    },
    {
     "name": "stderr",
     "output_type": "stream",
     "text": [
      "C:\\Users\\KDDSUNFLOWER\\AppData\\Local\\Temp\\ipykernel_12708\\2698378733.py:323: FutureWarning: The frame.append method is deprecated and will be removed from pandas in a future version. Use pandas.concat instead.\n",
      "  last_datetime_dataframe = last_datetime_dataframe.append(future_features_dataframe)\n"
     ]
    },
    {
     "name": "stdout",
     "output_type": "stream",
     "text": [
      "UPDATE `demand_predict_test` SET `prediction_4`=203.2113800048828 WHERE `created_at` = '2023-06-13 20:45:00'\n",
      "UPDATE `demand_predict_test` SET `prediction_3`=204.55545043945312 WHERE `created_at` = '2023-06-13 21:00:00'\n",
      "UPDATE `demand_predict_test` SET `prediction_2`=205.52297973632812 WHERE `created_at` = '2023-06-13 21:15:00'\n",
      "UPDATE `demand_predict_test` SET `prediction_1`=205.32737731933594 WHERE `created_at` = '2023-06-13 21:30:00'\n",
      "2023-06-09-15-47-12\n",
      "2023-06-09-15-47-12\n",
      "2023-06-09-12-39-32\n",
      "2023-06-13 20:15:00\n",
      "1/1 [==============================] - 1s 1s/step - loss: 2.2134e-04\n"
     ]
    },
    {
     "name": "stderr",
     "output_type": "stream",
     "text": [
      "C:\\Users\\KDDSUNFLOWER\\AppData\\Local\\Temp\\ipykernel_12708\\2698378733.py:323: FutureWarning: The frame.append method is deprecated and will be removed from pandas in a future version. Use pandas.concat instead.\n",
      "  last_datetime_dataframe = last_datetime_dataframe.append(future_features_dataframe)\n"
     ]
    },
    {
     "name": "stdout",
     "output_type": "stream",
     "text": [
      "1/1 [==============================] - 0s 214ms/step\n",
      "1/1 [==============================] - 0s 12ms/step\n"
     ]
    },
    {
     "name": "stderr",
     "output_type": "stream",
     "text": [
      "C:\\Users\\KDDSUNFLOWER\\AppData\\Local\\Temp\\ipykernel_12708\\2698378733.py:323: FutureWarning: The frame.append method is deprecated and will be removed from pandas in a future version. Use pandas.concat instead.\n",
      "  last_datetime_dataframe = last_datetime_dataframe.append(future_features_dataframe)\n"
     ]
    },
    {
     "name": "stdout",
     "output_type": "stream",
     "text": [
      "1/1 [==============================] - 0s 14ms/step\n"
     ]
    },
    {
     "name": "stderr",
     "output_type": "stream",
     "text": [
      "C:\\Users\\KDDSUNFLOWER\\AppData\\Local\\Temp\\ipykernel_12708\\2698378733.py:323: FutureWarning: The frame.append method is deprecated and will be removed from pandas in a future version. Use pandas.concat instead.\n",
      "  last_datetime_dataframe = last_datetime_dataframe.append(future_features_dataframe)\n"
     ]
    },
    {
     "name": "stdout",
     "output_type": "stream",
     "text": [
      "1/1 [==============================] - 0s 13ms/step\n"
     ]
    },
    {
     "name": "stderr",
     "output_type": "stream",
     "text": [
      "C:\\Users\\KDDSUNFLOWER\\AppData\\Local\\Temp\\ipykernel_12708\\2698378733.py:323: FutureWarning: The frame.append method is deprecated and will be removed from pandas in a future version. Use pandas.concat instead.\n",
      "  last_datetime_dataframe = last_datetime_dataframe.append(future_features_dataframe)\n"
     ]
    },
    {
     "name": "stdout",
     "output_type": "stream",
     "text": [
      "UPDATE `demand_predict_test` SET `prediction_4`=215.23770141601562 WHERE `created_at` = '2023-06-13 21:00:00'\n",
      "UPDATE `demand_predict_test` SET `prediction_3`=218.36282348632812 WHERE `created_at` = '2023-06-13 21:15:00'\n",
      "UPDATE `demand_predict_test` SET `prediction_2`=220.28775024414062 WHERE `created_at` = '2023-06-13 21:30:00'\n",
      "UPDATE `demand_predict_test` SET `prediction_1`=220.9487762451172 WHERE `created_at` = '2023-06-13 21:45:00'\n",
      "2023-06-09-15-47-12\n",
      "2023-06-09-15-47-12\n",
      "2023-06-09-12-39-32\n",
      "2023-06-13 20:30:00\n",
      "1/1 [==============================] - 1s 1s/step - loss: 1.8819e-05\n"
     ]
    },
    {
     "name": "stderr",
     "output_type": "stream",
     "text": [
      "C:\\Users\\KDDSUNFLOWER\\AppData\\Local\\Temp\\ipykernel_12708\\2698378733.py:323: FutureWarning: The frame.append method is deprecated and will be removed from pandas in a future version. Use pandas.concat instead.\n",
      "  last_datetime_dataframe = last_datetime_dataframe.append(future_features_dataframe)\n"
     ]
    },
    {
     "name": "stdout",
     "output_type": "stream",
     "text": [
      "1/1 [==============================] - 0s 214ms/step\n",
      "1/1 [==============================] - 0s 14ms/step\n"
     ]
    },
    {
     "name": "stderr",
     "output_type": "stream",
     "text": [
      "C:\\Users\\KDDSUNFLOWER\\AppData\\Local\\Temp\\ipykernel_12708\\2698378733.py:323: FutureWarning: The frame.append method is deprecated and will be removed from pandas in a future version. Use pandas.concat instead.\n",
      "  last_datetime_dataframe = last_datetime_dataframe.append(future_features_dataframe)\n"
     ]
    },
    {
     "name": "stdout",
     "output_type": "stream",
     "text": [
      "1/1 [==============================] - 0s 12ms/step\n"
     ]
    },
    {
     "name": "stderr",
     "output_type": "stream",
     "text": [
      "C:\\Users\\KDDSUNFLOWER\\AppData\\Local\\Temp\\ipykernel_12708\\2698378733.py:323: FutureWarning: The frame.append method is deprecated and will be removed from pandas in a future version. Use pandas.concat instead.\n",
      "  last_datetime_dataframe = last_datetime_dataframe.append(future_features_dataframe)\n"
     ]
    },
    {
     "name": "stdout",
     "output_type": "stream",
     "text": [
      "1/1 [==============================] - 0s 12ms/step\n"
     ]
    },
    {
     "name": "stderr",
     "output_type": "stream",
     "text": [
      "C:\\Users\\KDDSUNFLOWER\\AppData\\Local\\Temp\\ipykernel_12708\\2698378733.py:323: FutureWarning: The frame.append method is deprecated and will be removed from pandas in a future version. Use pandas.concat instead.\n",
      "  last_datetime_dataframe = last_datetime_dataframe.append(future_features_dataframe)\n"
     ]
    },
    {
     "name": "stdout",
     "output_type": "stream",
     "text": [
      "UPDATE `demand_predict_test` SET `prediction_4`=223.29507446289062 WHERE `created_at` = '2023-06-13 21:15:00'\n",
      "UPDATE `demand_predict_test` SET `prediction_3`=227.66427612304688 WHERE `created_at` = '2023-06-13 21:30:00'\n",
      "UPDATE `demand_predict_test` SET `prediction_2`=230.653564453125 WHERE `created_at` = '2023-06-13 21:45:00'\n",
      "UPDATE `demand_predict_test` SET `prediction_1`=236.02276611328125 WHERE `created_at` = '2023-06-13 22:00:00'\n",
      "2023-06-09-15-47-12\n",
      "2023-06-09-15-47-12\n",
      "2023-06-09-12-39-32\n",
      "2023-06-13 20:45:00\n",
      "1/1 [==============================] - 1s 1s/step - loss: 8.8489e-04\n"
     ]
    },
    {
     "name": "stderr",
     "output_type": "stream",
     "text": [
      "C:\\Users\\KDDSUNFLOWER\\AppData\\Local\\Temp\\ipykernel_12708\\2698378733.py:323: FutureWarning: The frame.append method is deprecated and will be removed from pandas in a future version. Use pandas.concat instead.\n",
      "  last_datetime_dataframe = last_datetime_dataframe.append(future_features_dataframe)\n"
     ]
    },
    {
     "name": "stdout",
     "output_type": "stream",
     "text": [
      "1/1 [==============================] - 0s 231ms/step\n",
      "1/1 [==============================] - 0s 31ms/step\n"
     ]
    },
    {
     "name": "stderr",
     "output_type": "stream",
     "text": [
      "C:\\Users\\KDDSUNFLOWER\\AppData\\Local\\Temp\\ipykernel_12708\\2698378733.py:323: FutureWarning: The frame.append method is deprecated and will be removed from pandas in a future version. Use pandas.concat instead.\n",
      "  last_datetime_dataframe = last_datetime_dataframe.append(future_features_dataframe)\n"
     ]
    },
    {
     "name": "stdout",
     "output_type": "stream",
     "text": [
      "1/1 [==============================] - 0s 13ms/step\n"
     ]
    },
    {
     "name": "stderr",
     "output_type": "stream",
     "text": [
      "C:\\Users\\KDDSUNFLOWER\\AppData\\Local\\Temp\\ipykernel_12708\\2698378733.py:323: FutureWarning: The frame.append method is deprecated and will be removed from pandas in a future version. Use pandas.concat instead.\n",
      "  last_datetime_dataframe = last_datetime_dataframe.append(future_features_dataframe)\n"
     ]
    },
    {
     "name": "stdout",
     "output_type": "stream",
     "text": [
      "1/1 [==============================] - 0s 14ms/step\n"
     ]
    },
    {
     "name": "stderr",
     "output_type": "stream",
     "text": [
      "C:\\Users\\KDDSUNFLOWER\\AppData\\Local\\Temp\\ipykernel_12708\\2698378733.py:323: FutureWarning: The frame.append method is deprecated and will be removed from pandas in a future version. Use pandas.concat instead.\n",
      "  last_datetime_dataframe = last_datetime_dataframe.append(future_features_dataframe)\n"
     ]
    },
    {
     "name": "stdout",
     "output_type": "stream",
     "text": [
      "UPDATE `demand_predict_test` SET `prediction_4`=220.05783081054688 WHERE `created_at` = '2023-06-13 21:30:00'\n",
      "UPDATE `demand_predict_test` SET `prediction_3`=220.23330688476562 WHERE `created_at` = '2023-06-13 21:45:00'\n",
      "UPDATE `demand_predict_test` SET `prediction_2`=223.04559326171875 WHERE `created_at` = '2023-06-13 22:00:00'\n",
      "UPDATE `demand_predict_test` SET `prediction_1`=225.23204040527344 WHERE `created_at` = '2023-06-13 22:15:00'\n",
      "2023-06-09-15-47-12\n",
      "2023-06-09-15-47-12\n",
      "2023-06-09-12-39-32\n",
      "2023-06-13 21:00:00\n",
      "1/1 [==============================] - 1s 1s/step - loss: 3.8786e-05\n"
     ]
    },
    {
     "name": "stderr",
     "output_type": "stream",
     "text": [
      "C:\\Users\\KDDSUNFLOWER\\AppData\\Local\\Temp\\ipykernel_12708\\2698378733.py:323: FutureWarning: The frame.append method is deprecated and will be removed from pandas in a future version. Use pandas.concat instead.\n",
      "  last_datetime_dataframe = last_datetime_dataframe.append(future_features_dataframe)\n"
     ]
    },
    {
     "name": "stdout",
     "output_type": "stream",
     "text": [
      "1/1 [==============================] - 1s 1s/step\n",
      "1/1 [==============================] - 0s 14ms/step\n"
     ]
    },
    {
     "name": "stderr",
     "output_type": "stream",
     "text": [
      "C:\\Users\\KDDSUNFLOWER\\AppData\\Local\\Temp\\ipykernel_12708\\2698378733.py:323: FutureWarning: The frame.append method is deprecated and will be removed from pandas in a future version. Use pandas.concat instead.\n",
      "  last_datetime_dataframe = last_datetime_dataframe.append(future_features_dataframe)\n"
     ]
    },
    {
     "name": "stdout",
     "output_type": "stream",
     "text": [
      "1/1 [==============================] - 0s 13ms/step\n"
     ]
    },
    {
     "name": "stderr",
     "output_type": "stream",
     "text": [
      "C:\\Users\\KDDSUNFLOWER\\AppData\\Local\\Temp\\ipykernel_12708\\2698378733.py:323: FutureWarning: The frame.append method is deprecated and will be removed from pandas in a future version. Use pandas.concat instead.\n",
      "  last_datetime_dataframe = last_datetime_dataframe.append(future_features_dataframe)\n"
     ]
    },
    {
     "name": "stdout",
     "output_type": "stream",
     "text": [
      "1/1 [==============================] - 0s 14ms/step\n"
     ]
    },
    {
     "name": "stderr",
     "output_type": "stream",
     "text": [
      "C:\\Users\\KDDSUNFLOWER\\AppData\\Local\\Temp\\ipykernel_12708\\2698378733.py:323: FutureWarning: The frame.append method is deprecated and will be removed from pandas in a future version. Use pandas.concat instead.\n",
      "  last_datetime_dataframe = last_datetime_dataframe.append(future_features_dataframe)\n"
     ]
    },
    {
     "name": "stdout",
     "output_type": "stream",
     "text": [
      "UPDATE `demand_predict_test` SET `prediction_4`=213.57962036132812 WHERE `created_at` = '2023-06-13 21:45:00'\n",
      "UPDATE `demand_predict_test` SET `prediction_3`=220.2486572265625 WHERE `created_at` = '2023-06-13 22:00:00'\n",
      "UPDATE `demand_predict_test` SET `prediction_2`=226.1116485595703 WHERE `created_at` = '2023-06-13 22:15:00'\n",
      "UPDATE `demand_predict_test` SET `prediction_1`=230.1324005126953 WHERE `created_at` = '2023-06-13 22:30:00'\n",
      "2023-06-09-15-47-12\n",
      "2023-06-09-15-47-12\n",
      "2023-06-09-12-39-32\n",
      "2023-06-13 21:15:00\n",
      "1/1 [==============================] - 1s 1s/step - loss: 3.6311e-04\n"
     ]
    },
    {
     "name": "stderr",
     "output_type": "stream",
     "text": [
      "C:\\Users\\KDDSUNFLOWER\\AppData\\Local\\Temp\\ipykernel_12708\\2698378733.py:323: FutureWarning: The frame.append method is deprecated and will be removed from pandas in a future version. Use pandas.concat instead.\n",
      "  last_datetime_dataframe = last_datetime_dataframe.append(future_features_dataframe)\n"
     ]
    },
    {
     "name": "stdout",
     "output_type": "stream",
     "text": [
      "1/1 [==============================] - 0s 217ms/step\n",
      "1/1 [==============================] - 0s 14ms/step\n"
     ]
    },
    {
     "name": "stderr",
     "output_type": "stream",
     "text": [
      "C:\\Users\\KDDSUNFLOWER\\AppData\\Local\\Temp\\ipykernel_12708\\2698378733.py:323: FutureWarning: The frame.append method is deprecated and will be removed from pandas in a future version. Use pandas.concat instead.\n",
      "  last_datetime_dataframe = last_datetime_dataframe.append(future_features_dataframe)\n"
     ]
    },
    {
     "name": "stdout",
     "output_type": "stream",
     "text": [
      "1/1 [==============================] - 0s 12ms/step\n"
     ]
    },
    {
     "name": "stderr",
     "output_type": "stream",
     "text": [
      "C:\\Users\\KDDSUNFLOWER\\AppData\\Local\\Temp\\ipykernel_12708\\2698378733.py:323: FutureWarning: The frame.append method is deprecated and will be removed from pandas in a future version. Use pandas.concat instead.\n",
      "  last_datetime_dataframe = last_datetime_dataframe.append(future_features_dataframe)\n"
     ]
    },
    {
     "name": "stdout",
     "output_type": "stream",
     "text": [
      "1/1 [==============================] - 0s 15ms/step\n"
     ]
    },
    {
     "name": "stderr",
     "output_type": "stream",
     "text": [
      "C:\\Users\\KDDSUNFLOWER\\AppData\\Local\\Temp\\ipykernel_12708\\2698378733.py:323: FutureWarning: The frame.append method is deprecated and will be removed from pandas in a future version. Use pandas.concat instead.\n",
      "  last_datetime_dataframe = last_datetime_dataframe.append(future_features_dataframe)\n"
     ]
    },
    {
     "name": "stdout",
     "output_type": "stream",
     "text": [
      "UPDATE `demand_predict_test` SET `prediction_4`=218.80909729003906 WHERE `created_at` = '2023-06-13 22:00:00'\n",
      "UPDATE `demand_predict_test` SET `prediction_3`=221.17626953125 WHERE `created_at` = '2023-06-13 22:15:00'\n",
      "UPDATE `demand_predict_test` SET `prediction_2`=222.09437561035156 WHERE `created_at` = '2023-06-13 22:30:00'\n",
      "UPDATE `demand_predict_test` SET `prediction_1`=221.5226593017578 WHERE `created_at` = '2023-06-13 22:45:00'\n",
      "2023-06-09-15-47-12\n",
      "2023-06-09-15-47-12\n",
      "2023-06-09-12-39-32\n",
      "2023-06-13 21:30:00\n",
      "1/1 [==============================] - 1s 1s/step - loss: 5.3154e-04\n"
     ]
    },
    {
     "name": "stderr",
     "output_type": "stream",
     "text": [
      "C:\\Users\\KDDSUNFLOWER\\AppData\\Local\\Temp\\ipykernel_12708\\2698378733.py:323: FutureWarning: The frame.append method is deprecated and will be removed from pandas in a future version. Use pandas.concat instead.\n",
      "  last_datetime_dataframe = last_datetime_dataframe.append(future_features_dataframe)\n"
     ]
    },
    {
     "name": "stdout",
     "output_type": "stream",
     "text": [
      "1/1 [==============================] - 0s 219ms/step\n",
      "1/1 [==============================] - 0s 12ms/step\n"
     ]
    },
    {
     "name": "stderr",
     "output_type": "stream",
     "text": [
      "C:\\Users\\KDDSUNFLOWER\\AppData\\Local\\Temp\\ipykernel_12708\\2698378733.py:323: FutureWarning: The frame.append method is deprecated and will be removed from pandas in a future version. Use pandas.concat instead.\n",
      "  last_datetime_dataframe = last_datetime_dataframe.append(future_features_dataframe)\n"
     ]
    },
    {
     "name": "stdout",
     "output_type": "stream",
     "text": [
      "1/1 [==============================] - 0s 13ms/step\n"
     ]
    },
    {
     "name": "stderr",
     "output_type": "stream",
     "text": [
      "C:\\Users\\KDDSUNFLOWER\\AppData\\Local\\Temp\\ipykernel_12708\\2698378733.py:323: FutureWarning: The frame.append method is deprecated and will be removed from pandas in a future version. Use pandas.concat instead.\n",
      "  last_datetime_dataframe = last_datetime_dataframe.append(future_features_dataframe)\n"
     ]
    },
    {
     "name": "stdout",
     "output_type": "stream",
     "text": [
      "1/1 [==============================] - 0s 13ms/step\n"
     ]
    },
    {
     "name": "stderr",
     "output_type": "stream",
     "text": [
      "C:\\Users\\KDDSUNFLOWER\\AppData\\Local\\Temp\\ipykernel_12708\\2698378733.py:323: FutureWarning: The frame.append method is deprecated and will be removed from pandas in a future version. Use pandas.concat instead.\n",
      "  last_datetime_dataframe = last_datetime_dataframe.append(future_features_dataframe)\n"
     ]
    },
    {
     "name": "stdout",
     "output_type": "stream",
     "text": [
      "UPDATE `demand_predict_test` SET `prediction_4`=205.62185668945312 WHERE `created_at` = '2023-06-13 22:15:00'\n",
      "UPDATE `demand_predict_test` SET `prediction_3`=204.03347778320312 WHERE `created_at` = '2023-06-13 22:30:00'\n",
      "UPDATE `demand_predict_test` SET `prediction_2`=201.36273193359375 WHERE `created_at` = '2023-06-13 22:45:00'\n",
      "UPDATE `demand_predict_test` SET `prediction_1`=202.00901794433594 WHERE `created_at` = '2023-06-13 23:00:00'\n",
      "2023-06-09-15-47-12\n",
      "2023-06-09-15-47-12\n",
      "2023-06-09-12-39-32\n",
      "2023-06-13 21:45:00\n",
      "1/1 [==============================] - 1s 1s/step - loss: 4.2533e-05\n"
     ]
    },
    {
     "name": "stderr",
     "output_type": "stream",
     "text": [
      "C:\\Users\\KDDSUNFLOWER\\AppData\\Local\\Temp\\ipykernel_12708\\2698378733.py:323: FutureWarning: The frame.append method is deprecated and will be removed from pandas in a future version. Use pandas.concat instead.\n",
      "  last_datetime_dataframe = last_datetime_dataframe.append(future_features_dataframe)\n"
     ]
    },
    {
     "name": "stdout",
     "output_type": "stream",
     "text": [
      "1/1 [==============================] - 0s 218ms/step\n",
      "1/1 [==============================] - 0s 13ms/step\n"
     ]
    },
    {
     "name": "stderr",
     "output_type": "stream",
     "text": [
      "C:\\Users\\KDDSUNFLOWER\\AppData\\Local\\Temp\\ipykernel_12708\\2698378733.py:323: FutureWarning: The frame.append method is deprecated and will be removed from pandas in a future version. Use pandas.concat instead.\n",
      "  last_datetime_dataframe = last_datetime_dataframe.append(future_features_dataframe)\n"
     ]
    },
    {
     "name": "stdout",
     "output_type": "stream",
     "text": [
      "1/1 [==============================] - 0s 13ms/step\n"
     ]
    },
    {
     "name": "stderr",
     "output_type": "stream",
     "text": [
      "C:\\Users\\KDDSUNFLOWER\\AppData\\Local\\Temp\\ipykernel_12708\\2698378733.py:323: FutureWarning: The frame.append method is deprecated and will be removed from pandas in a future version. Use pandas.concat instead.\n",
      "  last_datetime_dataframe = last_datetime_dataframe.append(future_features_dataframe)\n"
     ]
    },
    {
     "name": "stdout",
     "output_type": "stream",
     "text": [
      "1/1 [==============================] - 0s 14ms/step\n"
     ]
    },
    {
     "name": "stderr",
     "output_type": "stream",
     "text": [
      "C:\\Users\\KDDSUNFLOWER\\AppData\\Local\\Temp\\ipykernel_12708\\2698378733.py:323: FutureWarning: The frame.append method is deprecated and will be removed from pandas in a future version. Use pandas.concat instead.\n",
      "  last_datetime_dataframe = last_datetime_dataframe.append(future_features_dataframe)\n"
     ]
    },
    {
     "name": "stdout",
     "output_type": "stream",
     "text": [
      "UPDATE `demand_predict_test` SET `prediction_4`=191.60589599609375 WHERE `created_at` = '2023-06-13 22:30:00'\n",
      "UPDATE `demand_predict_test` SET `prediction_3`=187.14117431640625 WHERE `created_at` = '2023-06-13 22:45:00'\n",
      "UPDATE `demand_predict_test` SET `prediction_2`=186.0138702392578 WHERE `created_at` = '2023-06-13 23:00:00'\n",
      "UPDATE `demand_predict_test` SET `prediction_1`=184.50009155273438 WHERE `created_at` = '2023-06-13 23:15:00'\n",
      "2023-06-09-15-47-12\n",
      "2023-06-09-15-47-12\n",
      "2023-06-09-12-39-32\n",
      "2023-06-13 22:00:00\n",
      "1/1 [==============================] - 1s 1s/step - loss: 7.7921e-05\n"
     ]
    },
    {
     "name": "stderr",
     "output_type": "stream",
     "text": [
      "C:\\Users\\KDDSUNFLOWER\\AppData\\Local\\Temp\\ipykernel_12708\\2698378733.py:323: FutureWarning: The frame.append method is deprecated and will be removed from pandas in a future version. Use pandas.concat instead.\n",
      "  last_datetime_dataframe = last_datetime_dataframe.append(future_features_dataframe)\n"
     ]
    },
    {
     "name": "stdout",
     "output_type": "stream",
     "text": [
      "1/1 [==============================] - 0s 212ms/step\n",
      "1/1 [==============================] - 0s 14ms/step\n"
     ]
    },
    {
     "name": "stderr",
     "output_type": "stream",
     "text": [
      "C:\\Users\\KDDSUNFLOWER\\AppData\\Local\\Temp\\ipykernel_12708\\2698378733.py:323: FutureWarning: The frame.append method is deprecated and will be removed from pandas in a future version. Use pandas.concat instead.\n",
      "  last_datetime_dataframe = last_datetime_dataframe.append(future_features_dataframe)\n"
     ]
    },
    {
     "name": "stdout",
     "output_type": "stream",
     "text": [
      "1/1 [==============================] - 0s 13ms/step\n"
     ]
    },
    {
     "name": "stderr",
     "output_type": "stream",
     "text": [
      "C:\\Users\\KDDSUNFLOWER\\AppData\\Local\\Temp\\ipykernel_12708\\2698378733.py:323: FutureWarning: The frame.append method is deprecated and will be removed from pandas in a future version. Use pandas.concat instead.\n",
      "  last_datetime_dataframe = last_datetime_dataframe.append(future_features_dataframe)\n"
     ]
    },
    {
     "name": "stdout",
     "output_type": "stream",
     "text": [
      "1/1 [==============================] - 0s 14ms/step\n"
     ]
    },
    {
     "name": "stderr",
     "output_type": "stream",
     "text": [
      "C:\\Users\\KDDSUNFLOWER\\AppData\\Local\\Temp\\ipykernel_12708\\2698378733.py:323: FutureWarning: The frame.append method is deprecated and will be removed from pandas in a future version. Use pandas.concat instead.\n",
      "  last_datetime_dataframe = last_datetime_dataframe.append(future_features_dataframe)\n"
     ]
    },
    {
     "name": "stdout",
     "output_type": "stream",
     "text": [
      "UPDATE `demand_predict_test` SET `prediction_4`=183.6269989013672 WHERE `created_at` = '2023-06-13 22:45:00'\n",
      "UPDATE `demand_predict_test` SET `prediction_3`=179.61703491210938 WHERE `created_at` = '2023-06-13 23:00:00'\n",
      "UPDATE `demand_predict_test` SET `prediction_2`=175.68040466308594 WHERE `created_at` = '2023-06-13 23:15:00'\n",
      "UPDATE `demand_predict_test` SET `prediction_1`=171.00961303710938 WHERE `created_at` = '2023-06-13 23:30:00'\n",
      "2023-06-09-15-47-12\n",
      "2023-06-09-15-47-12\n",
      "2023-06-09-12-39-32\n",
      "2023-06-13 22:15:00\n",
      "1/1 [==============================] - 1s 1s/step - loss: 6.3946e-04\n"
     ]
    },
    {
     "name": "stderr",
     "output_type": "stream",
     "text": [
      "C:\\Users\\KDDSUNFLOWER\\AppData\\Local\\Temp\\ipykernel_12708\\2698378733.py:323: FutureWarning: The frame.append method is deprecated and will be removed from pandas in a future version. Use pandas.concat instead.\n",
      "  last_datetime_dataframe = last_datetime_dataframe.append(future_features_dataframe)\n"
     ]
    },
    {
     "name": "stdout",
     "output_type": "stream",
     "text": [
      "1/1 [==============================] - 0s 216ms/step\n",
      "1/1 [==============================] - 0s 13ms/step\n"
     ]
    },
    {
     "name": "stderr",
     "output_type": "stream",
     "text": [
      "C:\\Users\\KDDSUNFLOWER\\AppData\\Local\\Temp\\ipykernel_12708\\2698378733.py:323: FutureWarning: The frame.append method is deprecated and will be removed from pandas in a future version. Use pandas.concat instead.\n",
      "  last_datetime_dataframe = last_datetime_dataframe.append(future_features_dataframe)\n"
     ]
    },
    {
     "name": "stdout",
     "output_type": "stream",
     "text": [
      "1/1 [==============================] - 0s 14ms/step\n"
     ]
    },
    {
     "name": "stderr",
     "output_type": "stream",
     "text": [
      "C:\\Users\\KDDSUNFLOWER\\AppData\\Local\\Temp\\ipykernel_12708\\2698378733.py:323: FutureWarning: The frame.append method is deprecated and will be removed from pandas in a future version. Use pandas.concat instead.\n",
      "  last_datetime_dataframe = last_datetime_dataframe.append(future_features_dataframe)\n"
     ]
    },
    {
     "name": "stdout",
     "output_type": "stream",
     "text": [
      "1/1 [==============================] - 0s 13ms/step\n"
     ]
    },
    {
     "name": "stderr",
     "output_type": "stream",
     "text": [
      "C:\\Users\\KDDSUNFLOWER\\AppData\\Local\\Temp\\ipykernel_12708\\2698378733.py:323: FutureWarning: The frame.append method is deprecated and will be removed from pandas in a future version. Use pandas.concat instead.\n",
      "  last_datetime_dataframe = last_datetime_dataframe.append(future_features_dataframe)\n"
     ]
    },
    {
     "name": "stdout",
     "output_type": "stream",
     "text": [
      "UPDATE `demand_predict_test` SET `prediction_4`=183.4761199951172 WHERE `created_at` = '2023-06-13 23:00:00'\n",
      "UPDATE `demand_predict_test` SET `prediction_3`=181.9921875 WHERE `created_at` = '2023-06-13 23:15:00'\n",
      "UPDATE `demand_predict_test` SET `prediction_2`=179.70169067382812 WHERE `created_at` = '2023-06-13 23:30:00'\n",
      "UPDATE `demand_predict_test` SET `prediction_1`=176.53318786621094 WHERE `created_at` = '2023-06-13 23:45:00'\n",
      "2023-06-09-15-47-12\n",
      "2023-06-09-15-47-12\n",
      "2023-06-09-12-39-32\n",
      "2023-06-13 22:30:00\n",
      "1/1 [==============================] - 1s 1s/step - loss: 6.4966e-06\n"
     ]
    },
    {
     "name": "stderr",
     "output_type": "stream",
     "text": [
      "C:\\Users\\KDDSUNFLOWER\\AppData\\Local\\Temp\\ipykernel_12708\\2698378733.py:323: FutureWarning: The frame.append method is deprecated and will be removed from pandas in a future version. Use pandas.concat instead.\n",
      "  last_datetime_dataframe = last_datetime_dataframe.append(future_features_dataframe)\n"
     ]
    },
    {
     "name": "stdout",
     "output_type": "stream",
     "text": [
      "1/1 [==============================] - 0s 212ms/step\n",
      "1/1 [==============================] - 0s 13ms/step\n"
     ]
    },
    {
     "name": "stderr",
     "output_type": "stream",
     "text": [
      "C:\\Users\\KDDSUNFLOWER\\AppData\\Local\\Temp\\ipykernel_12708\\2698378733.py:323: FutureWarning: The frame.append method is deprecated and will be removed from pandas in a future version. Use pandas.concat instead.\n",
      "  last_datetime_dataframe = last_datetime_dataframe.append(future_features_dataframe)\n"
     ]
    },
    {
     "name": "stdout",
     "output_type": "stream",
     "text": [
      "1/1 [==============================] - 0s 13ms/step\n"
     ]
    },
    {
     "name": "stderr",
     "output_type": "stream",
     "text": [
      "C:\\Users\\KDDSUNFLOWER\\AppData\\Local\\Temp\\ipykernel_12708\\2698378733.py:323: FutureWarning: The frame.append method is deprecated and will be removed from pandas in a future version. Use pandas.concat instead.\n",
      "  last_datetime_dataframe = last_datetime_dataframe.append(future_features_dataframe)\n"
     ]
    },
    {
     "name": "stdout",
     "output_type": "stream",
     "text": [
      "1/1 [==============================] - 0s 13ms/step\n"
     ]
    },
    {
     "name": "stderr",
     "output_type": "stream",
     "text": [
      "C:\\Users\\KDDSUNFLOWER\\AppData\\Local\\Temp\\ipykernel_12708\\2698378733.py:323: FutureWarning: The frame.append method is deprecated and will be removed from pandas in a future version. Use pandas.concat instead.\n",
      "  last_datetime_dataframe = last_datetime_dataframe.append(future_features_dataframe)\n"
     ]
    },
    {
     "name": "stdout",
     "output_type": "stream",
     "text": [
      "UPDATE `demand_predict_test` SET `prediction_4`=192.8557586669922 WHERE `created_at` = '2023-06-13 23:15:00'\n",
      "UPDATE `demand_predict_test` SET `prediction_3`=191.75086975097656 WHERE `created_at` = '2023-06-13 23:30:00'\n",
      "UPDATE `demand_predict_test` SET `prediction_2`=189.82589721679688 WHERE `created_at` = '2023-06-13 23:45:00'\n",
      "UPDATE `demand_predict_test` SET `prediction_1`=184.11746215820312 WHERE `created_at` = '2023-06-14 00:00:00'\n",
      "2023-06-09-15-47-12\n",
      "2023-06-09-15-47-12\n",
      "2023-06-09-12-39-32\n",
      "2023-06-13 22:45:00\n",
      "1/1 [==============================] - 1s 1s/step - loss: 2.7552e-06\n"
     ]
    },
    {
     "name": "stderr",
     "output_type": "stream",
     "text": [
      "C:\\Users\\KDDSUNFLOWER\\AppData\\Local\\Temp\\ipykernel_12708\\2698378733.py:323: FutureWarning: The frame.append method is deprecated and will be removed from pandas in a future version. Use pandas.concat instead.\n",
      "  last_datetime_dataframe = last_datetime_dataframe.append(future_features_dataframe)\n"
     ]
    },
    {
     "name": "stdout",
     "output_type": "stream",
     "text": [
      "1/1 [==============================] - 0s 214ms/step\n",
      "1/1 [==============================] - 0s 13ms/step\n"
     ]
    },
    {
     "name": "stderr",
     "output_type": "stream",
     "text": [
      "C:\\Users\\KDDSUNFLOWER\\AppData\\Local\\Temp\\ipykernel_12708\\2698378733.py:323: FutureWarning: The frame.append method is deprecated and will be removed from pandas in a future version. Use pandas.concat instead.\n",
      "  last_datetime_dataframe = last_datetime_dataframe.append(future_features_dataframe)\n"
     ]
    },
    {
     "name": "stdout",
     "output_type": "stream",
     "text": [
      "1/1 [==============================] - 0s 13ms/step\n"
     ]
    },
    {
     "name": "stderr",
     "output_type": "stream",
     "text": [
      "C:\\Users\\KDDSUNFLOWER\\AppData\\Local\\Temp\\ipykernel_12708\\2698378733.py:323: FutureWarning: The frame.append method is deprecated and will be removed from pandas in a future version. Use pandas.concat instead.\n",
      "  last_datetime_dataframe = last_datetime_dataframe.append(future_features_dataframe)\n"
     ]
    },
    {
     "name": "stdout",
     "output_type": "stream",
     "text": [
      "1/1 [==============================] - 0s 13ms/step\n"
     ]
    },
    {
     "name": "stderr",
     "output_type": "stream",
     "text": [
      "C:\\Users\\KDDSUNFLOWER\\AppData\\Local\\Temp\\ipykernel_12708\\2698378733.py:323: FutureWarning: The frame.append method is deprecated and will be removed from pandas in a future version. Use pandas.concat instead.\n",
      "  last_datetime_dataframe = last_datetime_dataframe.append(future_features_dataframe)\n"
     ]
    },
    {
     "name": "stdout",
     "output_type": "stream",
     "text": [
      "UPDATE `demand_predict_test` SET `prediction_4`=182.96456909179688 WHERE `created_at` = '2023-06-13 23:30:00'\n",
      "UPDATE `demand_predict_test` SET `prediction_3`=179.04873657226562 WHERE `created_at` = '2023-06-13 23:45:00'\n",
      "UPDATE `demand_predict_test` SET `prediction_2`=172.5639190673828 WHERE `created_at` = '2023-06-14 00:00:00'\n",
      "UPDATE `demand_predict_test` SET `prediction_1`=167.71804809570312 WHERE `created_at` = '2023-06-14 00:15:00'\n",
      "2023-06-09-15-47-12\n",
      "2023-06-09-15-47-12\n",
      "2023-06-09-12-39-32\n",
      "2023-06-13 23:00:00\n",
      "1/1 [==============================] - 1s 1s/step - loss: 2.3126e-05\n"
     ]
    },
    {
     "name": "stderr",
     "output_type": "stream",
     "text": [
      "C:\\Users\\KDDSUNFLOWER\\AppData\\Local\\Temp\\ipykernel_12708\\2698378733.py:323: FutureWarning: The frame.append method is deprecated and will be removed from pandas in a future version. Use pandas.concat instead.\n",
      "  last_datetime_dataframe = last_datetime_dataframe.append(future_features_dataframe)\n"
     ]
    },
    {
     "name": "stdout",
     "output_type": "stream",
     "text": [
      "1/1 [==============================] - 0s 214ms/step\n",
      "1/1 [==============================] - 0s 13ms/step\n"
     ]
    },
    {
     "name": "stderr",
     "output_type": "stream",
     "text": [
      "C:\\Users\\KDDSUNFLOWER\\AppData\\Local\\Temp\\ipykernel_12708\\2698378733.py:323: FutureWarning: The frame.append method is deprecated and will be removed from pandas in a future version. Use pandas.concat instead.\n",
      "  last_datetime_dataframe = last_datetime_dataframe.append(future_features_dataframe)\n"
     ]
    },
    {
     "name": "stdout",
     "output_type": "stream",
     "text": [
      "1/1 [==============================] - 0s 13ms/step\n"
     ]
    },
    {
     "name": "stderr",
     "output_type": "stream",
     "text": [
      "C:\\Users\\KDDSUNFLOWER\\AppData\\Local\\Temp\\ipykernel_12708\\2698378733.py:323: FutureWarning: The frame.append method is deprecated and will be removed from pandas in a future version. Use pandas.concat instead.\n",
      "  last_datetime_dataframe = last_datetime_dataframe.append(future_features_dataframe)\n"
     ]
    },
    {
     "name": "stdout",
     "output_type": "stream",
     "text": [
      "1/1 [==============================] - 0s 13ms/step\n"
     ]
    },
    {
     "name": "stderr",
     "output_type": "stream",
     "text": [
      "C:\\Users\\KDDSUNFLOWER\\AppData\\Local\\Temp\\ipykernel_12708\\2698378733.py:323: FutureWarning: The frame.append method is deprecated and will be removed from pandas in a future version. Use pandas.concat instead.\n",
      "  last_datetime_dataframe = last_datetime_dataframe.append(future_features_dataframe)\n"
     ]
    },
    {
     "name": "stdout",
     "output_type": "stream",
     "text": [
      "UPDATE `demand_predict_test` SET `prediction_4`=176.2704315185547 WHERE `created_at` = '2023-06-13 23:45:00'\n",
      "UPDATE `demand_predict_test` SET `prediction_3`=167.62246704101562 WHERE `created_at` = '2023-06-14 00:00:00'\n",
      "UPDATE `demand_predict_test` SET `prediction_2`=161.27294921875 WHERE `created_at` = '2023-06-14 00:15:00'\n",
      "UPDATE `demand_predict_test` SET `prediction_1`=156.2156982421875 WHERE `created_at` = '2023-06-14 00:30:00'\n",
      "2023-06-09-15-47-12\n",
      "2023-06-09-15-47-12\n",
      "2023-06-09-12-39-32\n",
      "2023-06-13 23:15:00\n",
      "1/1 [==============================] - 2s 2s/step - loss: 5.4902e-05\n"
     ]
    },
    {
     "name": "stderr",
     "output_type": "stream",
     "text": [
      "C:\\Users\\KDDSUNFLOWER\\AppData\\Local\\Temp\\ipykernel_12708\\2698378733.py:323: FutureWarning: The frame.append method is deprecated and will be removed from pandas in a future version. Use pandas.concat instead.\n",
      "  last_datetime_dataframe = last_datetime_dataframe.append(future_features_dataframe)\n"
     ]
    },
    {
     "name": "stdout",
     "output_type": "stream",
     "text": [
      "1/1 [==============================] - 0s 213ms/step\n",
      "1/1 [==============================] - 0s 13ms/step\n"
     ]
    },
    {
     "name": "stderr",
     "output_type": "stream",
     "text": [
      "C:\\Users\\KDDSUNFLOWER\\AppData\\Local\\Temp\\ipykernel_12708\\2698378733.py:323: FutureWarning: The frame.append method is deprecated and will be removed from pandas in a future version. Use pandas.concat instead.\n",
      "  last_datetime_dataframe = last_datetime_dataframe.append(future_features_dataframe)\n"
     ]
    },
    {
     "name": "stdout",
     "output_type": "stream",
     "text": [
      "1/1 [==============================] - 0s 13ms/step\n"
     ]
    },
    {
     "name": "stderr",
     "output_type": "stream",
     "text": [
      "C:\\Users\\KDDSUNFLOWER\\AppData\\Local\\Temp\\ipykernel_12708\\2698378733.py:323: FutureWarning: The frame.append method is deprecated and will be removed from pandas in a future version. Use pandas.concat instead.\n",
      "  last_datetime_dataframe = last_datetime_dataframe.append(future_features_dataframe)\n"
     ]
    },
    {
     "name": "stdout",
     "output_type": "stream",
     "text": [
      "1/1 [==============================] - 0s 13ms/step\n"
     ]
    },
    {
     "name": "stderr",
     "output_type": "stream",
     "text": [
      "C:\\Users\\KDDSUNFLOWER\\AppData\\Local\\Temp\\ipykernel_12708\\2698378733.py:323: FutureWarning: The frame.append method is deprecated and will be removed from pandas in a future version. Use pandas.concat instead.\n",
      "  last_datetime_dataframe = last_datetime_dataframe.append(future_features_dataframe)\n"
     ]
    },
    {
     "name": "stdout",
     "output_type": "stream",
     "text": [
      "UPDATE `demand_predict_test` SET `prediction_4`=171.6973876953125 WHERE `created_at` = '2023-06-14 00:00:00'\n",
      "UPDATE `demand_predict_test` SET `prediction_3`=166.63095092773438 WHERE `created_at` = '2023-06-14 00:15:00'\n",
      "UPDATE `demand_predict_test` SET `prediction_2`=162.70367431640625 WHERE `created_at` = '2023-06-14 00:30:00'\n",
      "UPDATE `demand_predict_test` SET `prediction_1`=159.29360961914062 WHERE `created_at` = '2023-06-14 00:45:00'\n",
      "2023-06-09-15-47-12\n",
      "2023-06-09-15-47-12\n",
      "2023-06-09-12-39-32\n",
      "2023-06-13 23:30:00\n",
      "1/1 [==============================] - 1s 1s/step - loss: 6.2061e-05\n"
     ]
    },
    {
     "name": "stderr",
     "output_type": "stream",
     "text": [
      "C:\\Users\\KDDSUNFLOWER\\AppData\\Local\\Temp\\ipykernel_12708\\2698378733.py:323: FutureWarning: The frame.append method is deprecated and will be removed from pandas in a future version. Use pandas.concat instead.\n",
      "  last_datetime_dataframe = last_datetime_dataframe.append(future_features_dataframe)\n"
     ]
    },
    {
     "name": "stdout",
     "output_type": "stream",
     "text": [
      "1/1 [==============================] - 0s 213ms/step\n",
      "1/1 [==============================] - 0s 12ms/step\n"
     ]
    },
    {
     "name": "stderr",
     "output_type": "stream",
     "text": [
      "C:\\Users\\KDDSUNFLOWER\\AppData\\Local\\Temp\\ipykernel_12708\\2698378733.py:323: FutureWarning: The frame.append method is deprecated and will be removed from pandas in a future version. Use pandas.concat instead.\n",
      "  last_datetime_dataframe = last_datetime_dataframe.append(future_features_dataframe)\n"
     ]
    },
    {
     "name": "stdout",
     "output_type": "stream",
     "text": [
      "1/1 [==============================] - 0s 14ms/step\n"
     ]
    },
    {
     "name": "stderr",
     "output_type": "stream",
     "text": [
      "C:\\Users\\KDDSUNFLOWER\\AppData\\Local\\Temp\\ipykernel_12708\\2698378733.py:323: FutureWarning: The frame.append method is deprecated and will be removed from pandas in a future version. Use pandas.concat instead.\n",
      "  last_datetime_dataframe = last_datetime_dataframe.append(future_features_dataframe)\n"
     ]
    },
    {
     "name": "stdout",
     "output_type": "stream",
     "text": [
      "1/1 [==============================] - 0s 14ms/step\n"
     ]
    },
    {
     "name": "stderr",
     "output_type": "stream",
     "text": [
      "C:\\Users\\KDDSUNFLOWER\\AppData\\Local\\Temp\\ipykernel_12708\\2698378733.py:323: FutureWarning: The frame.append method is deprecated and will be removed from pandas in a future version. Use pandas.concat instead.\n",
      "  last_datetime_dataframe = last_datetime_dataframe.append(future_features_dataframe)\n"
     ]
    },
    {
     "name": "stdout",
     "output_type": "stream",
     "text": [
      "UPDATE `demand_predict_test` SET `prediction_4`=164.19247436523438 WHERE `created_at` = '2023-06-14 00:15:00'\n",
      "UPDATE `demand_predict_test` SET `prediction_3`=157.1350860595703 WHERE `created_at` = '2023-06-14 00:30:00'\n",
      "UPDATE `demand_predict_test` SET `prediction_2`=151.69247436523438 WHERE `created_at` = '2023-06-14 00:45:00'\n",
      "UPDATE `demand_predict_test` SET `prediction_1`=149.57000732421875 WHERE `created_at` = '2023-06-14 01:00:00'\n",
      "2023-06-09-15-47-12\n",
      "2023-06-09-15-47-12\n",
      "2023-06-09-12-39-32\n",
      "2023-06-13 23:45:00\n",
      "1/1 [==============================] - 1s 1s/step - loss: 3.7655e-05\n"
     ]
    },
    {
     "name": "stderr",
     "output_type": "stream",
     "text": [
      "C:\\Users\\KDDSUNFLOWER\\AppData\\Local\\Temp\\ipykernel_12708\\2698378733.py:323: FutureWarning: The frame.append method is deprecated and will be removed from pandas in a future version. Use pandas.concat instead.\n",
      "  last_datetime_dataframe = last_datetime_dataframe.append(future_features_dataframe)\n"
     ]
    },
    {
     "name": "stdout",
     "output_type": "stream",
     "text": [
      "1/1 [==============================] - 0s 213ms/step\n",
      "1/1 [==============================] - 0s 12ms/step\n"
     ]
    },
    {
     "name": "stderr",
     "output_type": "stream",
     "text": [
      "C:\\Users\\KDDSUNFLOWER\\AppData\\Local\\Temp\\ipykernel_12708\\2698378733.py:323: FutureWarning: The frame.append method is deprecated and will be removed from pandas in a future version. Use pandas.concat instead.\n",
      "  last_datetime_dataframe = last_datetime_dataframe.append(future_features_dataframe)\n"
     ]
    },
    {
     "name": "stdout",
     "output_type": "stream",
     "text": [
      "1/1 [==============================] - 0s 13ms/step\n"
     ]
    },
    {
     "name": "stderr",
     "output_type": "stream",
     "text": [
      "C:\\Users\\KDDSUNFLOWER\\AppData\\Local\\Temp\\ipykernel_12708\\2698378733.py:323: FutureWarning: The frame.append method is deprecated and will be removed from pandas in a future version. Use pandas.concat instead.\n",
      "  last_datetime_dataframe = last_datetime_dataframe.append(future_features_dataframe)\n"
     ]
    },
    {
     "name": "stdout",
     "output_type": "stream",
     "text": [
      "1/1 [==============================] - 0s 13ms/step\n"
     ]
    },
    {
     "name": "stderr",
     "output_type": "stream",
     "text": [
      "C:\\Users\\KDDSUNFLOWER\\AppData\\Local\\Temp\\ipykernel_12708\\2698378733.py:323: FutureWarning: The frame.append method is deprecated and will be removed from pandas in a future version. Use pandas.concat instead.\n",
      "  last_datetime_dataframe = last_datetime_dataframe.append(future_features_dataframe)\n"
     ]
    },
    {
     "name": "stdout",
     "output_type": "stream",
     "text": [
      "UPDATE `demand_predict_test` SET `prediction_4`=162.27830505371094 WHERE `created_at` = '2023-06-14 00:30:00'\n",
      "UPDATE `demand_predict_test` SET `prediction_3`=158.7309112548828 WHERE `created_at` = '2023-06-14 00:45:00'\n",
      "UPDATE `demand_predict_test` SET `prediction_2`=158.2565460205078 WHERE `created_at` = '2023-06-14 01:00:00'\n",
      "UPDATE `demand_predict_test` SET `prediction_1`=157.4915008544922 WHERE `created_at` = '2023-06-14 01:15:00'\n",
      "2023-06-09-15-47-12\n",
      "2023-06-09-15-47-12\n",
      "2023-06-09-12-39-32\n",
      "2023-06-14 00:00:00\n",
      "1/1 [==============================] - 1s 1s/step - loss: 1.1315e-04\n"
     ]
    },
    {
     "name": "stderr",
     "output_type": "stream",
     "text": [
      "C:\\Users\\KDDSUNFLOWER\\AppData\\Local\\Temp\\ipykernel_12708\\2698378733.py:323: FutureWarning: The frame.append method is deprecated and will be removed from pandas in a future version. Use pandas.concat instead.\n",
      "  last_datetime_dataframe = last_datetime_dataframe.append(future_features_dataframe)\n"
     ]
    },
    {
     "name": "stdout",
     "output_type": "stream",
     "text": [
      "1/1 [==============================] - 0s 211ms/step\n",
      "1/1 [==============================] - 0s 12ms/step\n"
     ]
    },
    {
     "name": "stderr",
     "output_type": "stream",
     "text": [
      "C:\\Users\\KDDSUNFLOWER\\AppData\\Local\\Temp\\ipykernel_12708\\2698378733.py:323: FutureWarning: The frame.append method is deprecated and will be removed from pandas in a future version. Use pandas.concat instead.\n",
      "  last_datetime_dataframe = last_datetime_dataframe.append(future_features_dataframe)\n"
     ]
    },
    {
     "name": "stdout",
     "output_type": "stream",
     "text": [
      "1/1 [==============================] - 0s 14ms/step\n"
     ]
    },
    {
     "name": "stderr",
     "output_type": "stream",
     "text": [
      "C:\\Users\\KDDSUNFLOWER\\AppData\\Local\\Temp\\ipykernel_12708\\2698378733.py:323: FutureWarning: The frame.append method is deprecated and will be removed from pandas in a future version. Use pandas.concat instead.\n",
      "  last_datetime_dataframe = last_datetime_dataframe.append(future_features_dataframe)\n"
     ]
    },
    {
     "name": "stdout",
     "output_type": "stream",
     "text": [
      "1/1 [==============================] - 0s 13ms/step\n"
     ]
    },
    {
     "name": "stderr",
     "output_type": "stream",
     "text": [
      "C:\\Users\\KDDSUNFLOWER\\AppData\\Local\\Temp\\ipykernel_12708\\2698378733.py:323: FutureWarning: The frame.append method is deprecated and will be removed from pandas in a future version. Use pandas.concat instead.\n",
      "  last_datetime_dataframe = last_datetime_dataframe.append(future_features_dataframe)\n"
     ]
    },
    {
     "name": "stdout",
     "output_type": "stream",
     "text": [
      "UPDATE `demand_predict_test` SET `prediction_4`=156.09078979492188 WHERE `created_at` = '2023-06-14 00:45:00'\n",
      "UPDATE `demand_predict_test` SET `prediction_3`=153.95913696289062 WHERE `created_at` = '2023-06-14 01:00:00'\n",
      "UPDATE `demand_predict_test` SET `prediction_2`=151.8948974609375 WHERE `created_at` = '2023-06-14 01:15:00'\n",
      "UPDATE `demand_predict_test` SET `prediction_1`=149.82962036132812 WHERE `created_at` = '2023-06-14 01:30:00'\n",
      "2023-06-09-15-47-12\n",
      "2023-06-09-15-47-12\n",
      "2023-06-09-12-39-32\n",
      "2023-06-14 00:15:00\n",
      "1/1 [==============================] - 1s 1s/step - loss: 2.6376e-04\n"
     ]
    },
    {
     "name": "stderr",
     "output_type": "stream",
     "text": [
      "C:\\Users\\KDDSUNFLOWER\\AppData\\Local\\Temp\\ipykernel_12708\\2698378733.py:323: FutureWarning: The frame.append method is deprecated and will be removed from pandas in a future version. Use pandas.concat instead.\n",
      "  last_datetime_dataframe = last_datetime_dataframe.append(future_features_dataframe)\n"
     ]
    },
    {
     "name": "stdout",
     "output_type": "stream",
     "text": [
      "1/1 [==============================] - 0s 215ms/step\n",
      "1/1 [==============================] - 0s 12ms/step\n"
     ]
    },
    {
     "name": "stderr",
     "output_type": "stream",
     "text": [
      "C:\\Users\\KDDSUNFLOWER\\AppData\\Local\\Temp\\ipykernel_12708\\2698378733.py:323: FutureWarning: The frame.append method is deprecated and will be removed from pandas in a future version. Use pandas.concat instead.\n",
      "  last_datetime_dataframe = last_datetime_dataframe.append(future_features_dataframe)\n"
     ]
    },
    {
     "name": "stdout",
     "output_type": "stream",
     "text": [
      "1/1 [==============================] - 0s 13ms/step\n"
     ]
    },
    {
     "name": "stderr",
     "output_type": "stream",
     "text": [
      "C:\\Users\\KDDSUNFLOWER\\AppData\\Local\\Temp\\ipykernel_12708\\2698378733.py:323: FutureWarning: The frame.append method is deprecated and will be removed from pandas in a future version. Use pandas.concat instead.\n",
      "  last_datetime_dataframe = last_datetime_dataframe.append(future_features_dataframe)\n"
     ]
    },
    {
     "name": "stdout",
     "output_type": "stream",
     "text": [
      "1/1 [==============================] - 0s 13ms/step\n"
     ]
    },
    {
     "name": "stderr",
     "output_type": "stream",
     "text": [
      "C:\\Users\\KDDSUNFLOWER\\AppData\\Local\\Temp\\ipykernel_12708\\2698378733.py:323: FutureWarning: The frame.append method is deprecated and will be removed from pandas in a future version. Use pandas.concat instead.\n",
      "  last_datetime_dataframe = last_datetime_dataframe.append(future_features_dataframe)\n"
     ]
    },
    {
     "name": "stdout",
     "output_type": "stream",
     "text": [
      "UPDATE `demand_predict_test` SET `prediction_4`=148.13072204589844 WHERE `created_at` = '2023-06-14 01:00:00'\n",
      "UPDATE `demand_predict_test` SET `prediction_3`=143.83404541015625 WHERE `created_at` = '2023-06-14 01:15:00'\n",
      "UPDATE `demand_predict_test` SET `prediction_2`=139.95431518554688 WHERE `created_at` = '2023-06-14 01:30:00'\n",
      "UPDATE `demand_predict_test` SET `prediction_1`=135.96412658691406 WHERE `created_at` = '2023-06-14 01:45:00'\n",
      "2023-06-09-15-47-12\n",
      "2023-06-09-15-47-12\n",
      "2023-06-09-12-39-32\n",
      "2023-06-14 00:30:00\n",
      "1/1 [==============================] - 1s 1s/step - loss: 2.1202e-07\n"
     ]
    },
    {
     "name": "stderr",
     "output_type": "stream",
     "text": [
      "C:\\Users\\KDDSUNFLOWER\\AppData\\Local\\Temp\\ipykernel_12708\\2698378733.py:323: FutureWarning: The frame.append method is deprecated and will be removed from pandas in a future version. Use pandas.concat instead.\n",
      "  last_datetime_dataframe = last_datetime_dataframe.append(future_features_dataframe)\n"
     ]
    },
    {
     "name": "stdout",
     "output_type": "stream",
     "text": [
      "1/1 [==============================] - 0s 208ms/step\n",
      "1/1 [==============================] - 0s 14ms/step\n"
     ]
    },
    {
     "name": "stderr",
     "output_type": "stream",
     "text": [
      "C:\\Users\\KDDSUNFLOWER\\AppData\\Local\\Temp\\ipykernel_12708\\2698378733.py:323: FutureWarning: The frame.append method is deprecated and will be removed from pandas in a future version. Use pandas.concat instead.\n",
      "  last_datetime_dataframe = last_datetime_dataframe.append(future_features_dataframe)\n"
     ]
    },
    {
     "name": "stdout",
     "output_type": "stream",
     "text": [
      "1/1 [==============================] - 0s 14ms/step\n"
     ]
    },
    {
     "name": "stderr",
     "output_type": "stream",
     "text": [
      "C:\\Users\\KDDSUNFLOWER\\AppData\\Local\\Temp\\ipykernel_12708\\2698378733.py:323: FutureWarning: The frame.append method is deprecated and will be removed from pandas in a future version. Use pandas.concat instead.\n",
      "  last_datetime_dataframe = last_datetime_dataframe.append(future_features_dataframe)\n"
     ]
    },
    {
     "name": "stdout",
     "output_type": "stream",
     "text": [
      "1/1 [==============================] - 0s 14ms/step\n"
     ]
    },
    {
     "name": "stderr",
     "output_type": "stream",
     "text": [
      "C:\\Users\\KDDSUNFLOWER\\AppData\\Local\\Temp\\ipykernel_12708\\2698378733.py:323: FutureWarning: The frame.append method is deprecated and will be removed from pandas in a future version. Use pandas.concat instead.\n",
      "  last_datetime_dataframe = last_datetime_dataframe.append(future_features_dataframe)\n"
     ]
    },
    {
     "name": "stdout",
     "output_type": "stream",
     "text": [
      "UPDATE `demand_predict_test` SET `prediction_4`=134.41067504882812 WHERE `created_at` = '2023-06-14 01:15:00'\n",
      "UPDATE `demand_predict_test` SET `prediction_3`=128.95799255371094 WHERE `created_at` = '2023-06-14 01:30:00'\n",
      "UPDATE `demand_predict_test` SET `prediction_2`=123.9161605834961 WHERE `created_at` = '2023-06-14 01:45:00'\n",
      "UPDATE `demand_predict_test` SET `prediction_1`=121.58639526367188 WHERE `created_at` = '2023-06-14 02:00:00'\n",
      "2023-06-09-15-47-12\n",
      "2023-06-09-15-47-12\n",
      "2023-06-09-12-39-32\n",
      "2023-06-14 00:45:00\n",
      "1/1 [==============================] - 1s 1s/step - loss: 1.9493e-05\n"
     ]
    },
    {
     "name": "stderr",
     "output_type": "stream",
     "text": [
      "C:\\Users\\KDDSUNFLOWER\\AppData\\Local\\Temp\\ipykernel_12708\\2698378733.py:323: FutureWarning: The frame.append method is deprecated and will be removed from pandas in a future version. Use pandas.concat instead.\n",
      "  last_datetime_dataframe = last_datetime_dataframe.append(future_features_dataframe)\n"
     ]
    },
    {
     "name": "stdout",
     "output_type": "stream",
     "text": [
      "1/1 [==============================] - 0s 215ms/step\n",
      "1/1 [==============================] - 0s 13ms/step\n"
     ]
    },
    {
     "name": "stderr",
     "output_type": "stream",
     "text": [
      "C:\\Users\\KDDSUNFLOWER\\AppData\\Local\\Temp\\ipykernel_12708\\2698378733.py:323: FutureWarning: The frame.append method is deprecated and will be removed from pandas in a future version. Use pandas.concat instead.\n",
      "  last_datetime_dataframe = last_datetime_dataframe.append(future_features_dataframe)\n"
     ]
    },
    {
     "name": "stdout",
     "output_type": "stream",
     "text": [
      "1/1 [==============================] - 0s 13ms/step\n"
     ]
    },
    {
     "name": "stderr",
     "output_type": "stream",
     "text": [
      "C:\\Users\\KDDSUNFLOWER\\AppData\\Local\\Temp\\ipykernel_12708\\2698378733.py:323: FutureWarning: The frame.append method is deprecated and will be removed from pandas in a future version. Use pandas.concat instead.\n",
      "  last_datetime_dataframe = last_datetime_dataframe.append(future_features_dataframe)\n"
     ]
    },
    {
     "name": "stdout",
     "output_type": "stream",
     "text": [
      "1/1 [==============================] - 0s 13ms/step\n"
     ]
    },
    {
     "name": "stderr",
     "output_type": "stream",
     "text": [
      "C:\\Users\\KDDSUNFLOWER\\AppData\\Local\\Temp\\ipykernel_12708\\2698378733.py:323: FutureWarning: The frame.append method is deprecated and will be removed from pandas in a future version. Use pandas.concat instead.\n",
      "  last_datetime_dataframe = last_datetime_dataframe.append(future_features_dataframe)\n"
     ]
    },
    {
     "name": "stdout",
     "output_type": "stream",
     "text": [
      "UPDATE `demand_predict_test` SET `prediction_4`=126.9976577758789 WHERE `created_at` = '2023-06-14 01:30:00'\n",
      "UPDATE `demand_predict_test` SET `prediction_3`=119.74654388427734 WHERE `created_at` = '2023-06-14 01:45:00'\n",
      "UPDATE `demand_predict_test` SET `prediction_2`=115.56449127197266 WHERE `created_at` = '2023-06-14 02:00:00'\n",
      "UPDATE `demand_predict_test` SET `prediction_1`=110.90786743164062 WHERE `created_at` = '2023-06-14 02:15:00'\n",
      "2023-06-09-15-47-12\n",
      "2023-06-09-15-47-12\n",
      "2023-06-09-12-39-32\n",
      "2023-06-14 01:00:00\n",
      "1/1 [==============================] - 1s 1s/step - loss: 4.8527e-04\n"
     ]
    },
    {
     "name": "stderr",
     "output_type": "stream",
     "text": [
      "C:\\Users\\KDDSUNFLOWER\\AppData\\Local\\Temp\\ipykernel_12708\\2698378733.py:323: FutureWarning: The frame.append method is deprecated and will be removed from pandas in a future version. Use pandas.concat instead.\n",
      "  last_datetime_dataframe = last_datetime_dataframe.append(future_features_dataframe)\n"
     ]
    },
    {
     "name": "stdout",
     "output_type": "stream",
     "text": [
      "1/1 [==============================] - 0s 212ms/step\n",
      "1/1 [==============================] - 0s 13ms/step\n"
     ]
    },
    {
     "name": "stderr",
     "output_type": "stream",
     "text": [
      "C:\\Users\\KDDSUNFLOWER\\AppData\\Local\\Temp\\ipykernel_12708\\2698378733.py:323: FutureWarning: The frame.append method is deprecated and will be removed from pandas in a future version. Use pandas.concat instead.\n",
      "  last_datetime_dataframe = last_datetime_dataframe.append(future_features_dataframe)\n"
     ]
    },
    {
     "name": "stdout",
     "output_type": "stream",
     "text": [
      "1/1 [==============================] - 0s 13ms/step\n"
     ]
    },
    {
     "name": "stderr",
     "output_type": "stream",
     "text": [
      "C:\\Users\\KDDSUNFLOWER\\AppData\\Local\\Temp\\ipykernel_12708\\2698378733.py:323: FutureWarning: The frame.append method is deprecated and will be removed from pandas in a future version. Use pandas.concat instead.\n",
      "  last_datetime_dataframe = last_datetime_dataframe.append(future_features_dataframe)\n"
     ]
    },
    {
     "name": "stdout",
     "output_type": "stream",
     "text": [
      "1/1 [==============================] - 0s 13ms/step\n"
     ]
    },
    {
     "name": "stderr",
     "output_type": "stream",
     "text": [
      "C:\\Users\\KDDSUNFLOWER\\AppData\\Local\\Temp\\ipykernel_12708\\2698378733.py:323: FutureWarning: The frame.append method is deprecated and will be removed from pandas in a future version. Use pandas.concat instead.\n",
      "  last_datetime_dataframe = last_datetime_dataframe.append(future_features_dataframe)\n"
     ]
    },
    {
     "name": "stdout",
     "output_type": "stream",
     "text": [
      "UPDATE `demand_predict_test` SET `prediction_4`=124.39469909667969 WHERE `created_at` = '2023-06-14 01:45:00'\n",
      "UPDATE `demand_predict_test` SET `prediction_3`=122.59744262695312 WHERE `created_at` = '2023-06-14 02:00:00'\n",
      "UPDATE `demand_predict_test` SET `prediction_2`=120.03887176513672 WHERE `created_at` = '2023-06-14 02:15:00'\n",
      "UPDATE `demand_predict_test` SET `prediction_1`=117.25473022460938 WHERE `created_at` = '2023-06-14 02:30:00'\n",
      "2023-06-09-15-47-12\n",
      "2023-06-09-15-47-12\n",
      "2023-06-09-12-39-32\n",
      "2023-06-14 01:15:00\n",
      "1/1 [==============================] - 1s 1s/step - loss: 4.7631e-05\n"
     ]
    },
    {
     "name": "stderr",
     "output_type": "stream",
     "text": [
      "C:\\Users\\KDDSUNFLOWER\\AppData\\Local\\Temp\\ipykernel_12708\\2698378733.py:323: FutureWarning: The frame.append method is deprecated and will be removed from pandas in a future version. Use pandas.concat instead.\n",
      "  last_datetime_dataframe = last_datetime_dataframe.append(future_features_dataframe)\n"
     ]
    },
    {
     "name": "stdout",
     "output_type": "stream",
     "text": [
      "1/1 [==============================] - 0s 210ms/step\n",
      "1/1 [==============================] - 0s 13ms/step\n"
     ]
    },
    {
     "name": "stderr",
     "output_type": "stream",
     "text": [
      "C:\\Users\\KDDSUNFLOWER\\AppData\\Local\\Temp\\ipykernel_12708\\2698378733.py:323: FutureWarning: The frame.append method is deprecated and will be removed from pandas in a future version. Use pandas.concat instead.\n",
      "  last_datetime_dataframe = last_datetime_dataframe.append(future_features_dataframe)\n"
     ]
    },
    {
     "name": "stdout",
     "output_type": "stream",
     "text": [
      "1/1 [==============================] - 0s 15ms/step\n"
     ]
    },
    {
     "name": "stderr",
     "output_type": "stream",
     "text": [
      "C:\\Users\\KDDSUNFLOWER\\AppData\\Local\\Temp\\ipykernel_12708\\2698378733.py:323: FutureWarning: The frame.append method is deprecated and will be removed from pandas in a future version. Use pandas.concat instead.\n",
      "  last_datetime_dataframe = last_datetime_dataframe.append(future_features_dataframe)\n"
     ]
    },
    {
     "name": "stdout",
     "output_type": "stream",
     "text": [
      "1/1 [==============================] - 0s 14ms/step\n"
     ]
    },
    {
     "name": "stderr",
     "output_type": "stream",
     "text": [
      "C:\\Users\\KDDSUNFLOWER\\AppData\\Local\\Temp\\ipykernel_12708\\2698378733.py:323: FutureWarning: The frame.append method is deprecated and will be removed from pandas in a future version. Use pandas.concat instead.\n",
      "  last_datetime_dataframe = last_datetime_dataframe.append(future_features_dataframe)\n"
     ]
    },
    {
     "name": "stdout",
     "output_type": "stream",
     "text": [
      "UPDATE `demand_predict_test` SET `prediction_4`=134.89816284179688 WHERE `created_at` = '2023-06-14 02:00:00'\n",
      "UPDATE `demand_predict_test` SET `prediction_3`=133.78184509277344 WHERE `created_at` = '2023-06-14 02:15:00'\n",
      "UPDATE `demand_predict_test` SET `prediction_2`=132.3514862060547 WHERE `created_at` = '2023-06-14 02:30:00'\n",
      "UPDATE `demand_predict_test` SET `prediction_1`=130.380126953125 WHERE `created_at` = '2023-06-14 02:45:00'\n",
      "2023-06-09-15-47-12\n",
      "2023-06-09-15-47-12\n",
      "2023-06-09-12-39-32\n",
      "2023-06-14 01:30:00\n",
      "1/1 [==============================] - 1s 1s/step - loss: 2.4440e-05\n"
     ]
    },
    {
     "name": "stderr",
     "output_type": "stream",
     "text": [
      "C:\\Users\\KDDSUNFLOWER\\AppData\\Local\\Temp\\ipykernel_12708\\2698378733.py:323: FutureWarning: The frame.append method is deprecated and will be removed from pandas in a future version. Use pandas.concat instead.\n",
      "  last_datetime_dataframe = last_datetime_dataframe.append(future_features_dataframe)\n"
     ]
    },
    {
     "name": "stdout",
     "output_type": "stream",
     "text": [
      "1/1 [==============================] - 0s 207ms/step\n",
      "1/1 [==============================] - 0s 14ms/step\n"
     ]
    },
    {
     "name": "stderr",
     "output_type": "stream",
     "text": [
      "C:\\Users\\KDDSUNFLOWER\\AppData\\Local\\Temp\\ipykernel_12708\\2698378733.py:323: FutureWarning: The frame.append method is deprecated and will be removed from pandas in a future version. Use pandas.concat instead.\n",
      "  last_datetime_dataframe = last_datetime_dataframe.append(future_features_dataframe)\n"
     ]
    },
    {
     "name": "stdout",
     "output_type": "stream",
     "text": [
      "1/1 [==============================] - 0s 13ms/step\n"
     ]
    },
    {
     "name": "stderr",
     "output_type": "stream",
     "text": [
      "C:\\Users\\KDDSUNFLOWER\\AppData\\Local\\Temp\\ipykernel_12708\\2698378733.py:323: FutureWarning: The frame.append method is deprecated and will be removed from pandas in a future version. Use pandas.concat instead.\n",
      "  last_datetime_dataframe = last_datetime_dataframe.append(future_features_dataframe)\n"
     ]
    },
    {
     "name": "stdout",
     "output_type": "stream",
     "text": [
      "1/1 [==============================] - 0s 13ms/step\n"
     ]
    },
    {
     "name": "stderr",
     "output_type": "stream",
     "text": [
      "C:\\Users\\KDDSUNFLOWER\\AppData\\Local\\Temp\\ipykernel_12708\\2698378733.py:323: FutureWarning: The frame.append method is deprecated and will be removed from pandas in a future version. Use pandas.concat instead.\n",
      "  last_datetime_dataframe = last_datetime_dataframe.append(future_features_dataframe)\n"
     ]
    },
    {
     "name": "stdout",
     "output_type": "stream",
     "text": [
      "UPDATE `demand_predict_test` SET `prediction_4`=126.5655746459961 WHERE `created_at` = '2023-06-14 02:15:00'\n",
      "UPDATE `demand_predict_test` SET `prediction_3`=122.8393325805664 WHERE `created_at` = '2023-06-14 02:30:00'\n",
      "UPDATE `demand_predict_test` SET `prediction_2`=119.2193832397461 WHERE `created_at` = '2023-06-14 02:45:00'\n",
      "UPDATE `demand_predict_test` SET `prediction_1`=117.97773742675781 WHERE `created_at` = '2023-06-14 03:00:00'\n",
      "2023-06-09-15-47-12\n",
      "2023-06-09-15-47-12\n",
      "2023-06-09-12-39-32\n",
      "2023-06-14 01:45:00\n",
      "1/1 [==============================] - 1s 1s/step - loss: 1.1381e-06\n"
     ]
    },
    {
     "name": "stderr",
     "output_type": "stream",
     "text": [
      "C:\\Users\\KDDSUNFLOWER\\AppData\\Local\\Temp\\ipykernel_12708\\2698378733.py:323: FutureWarning: The frame.append method is deprecated and will be removed from pandas in a future version. Use pandas.concat instead.\n",
      "  last_datetime_dataframe = last_datetime_dataframe.append(future_features_dataframe)\n"
     ]
    },
    {
     "name": "stdout",
     "output_type": "stream",
     "text": [
      "1/1 [==============================] - 0s 212ms/step\n",
      "1/1 [==============================] - 0s 14ms/step\n"
     ]
    },
    {
     "name": "stderr",
     "output_type": "stream",
     "text": [
      "C:\\Users\\KDDSUNFLOWER\\AppData\\Local\\Temp\\ipykernel_12708\\2698378733.py:323: FutureWarning: The frame.append method is deprecated and will be removed from pandas in a future version. Use pandas.concat instead.\n",
      "  last_datetime_dataframe = last_datetime_dataframe.append(future_features_dataframe)\n"
     ]
    },
    {
     "name": "stdout",
     "output_type": "stream",
     "text": [
      "1/1 [==============================] - 0s 14ms/step\n"
     ]
    },
    {
     "name": "stderr",
     "output_type": "stream",
     "text": [
      "C:\\Users\\KDDSUNFLOWER\\AppData\\Local\\Temp\\ipykernel_12708\\2698378733.py:323: FutureWarning: The frame.append method is deprecated and will be removed from pandas in a future version. Use pandas.concat instead.\n",
      "  last_datetime_dataframe = last_datetime_dataframe.append(future_features_dataframe)\n"
     ]
    },
    {
     "name": "stdout",
     "output_type": "stream",
     "text": [
      "1/1 [==============================] - 0s 13ms/step\n"
     ]
    },
    {
     "name": "stderr",
     "output_type": "stream",
     "text": [
      "C:\\Users\\KDDSUNFLOWER\\AppData\\Local\\Temp\\ipykernel_12708\\2698378733.py:323: FutureWarning: The frame.append method is deprecated and will be removed from pandas in a future version. Use pandas.concat instead.\n",
      "  last_datetime_dataframe = last_datetime_dataframe.append(future_features_dataframe)\n"
     ]
    },
    {
     "name": "stdout",
     "output_type": "stream",
     "text": [
      "UPDATE `demand_predict_test` SET `prediction_4`=118.45316314697266 WHERE `created_at` = '2023-06-14 02:30:00'\n",
      "UPDATE `demand_predict_test` SET `prediction_3`=113.16544342041016 WHERE `created_at` = '2023-06-14 02:45:00'\n",
      "UPDATE `demand_predict_test` SET `prediction_2`=110.5608901977539 WHERE `created_at` = '2023-06-14 03:00:00'\n",
      "UPDATE `demand_predict_test` SET `prediction_1`=107.49623107910156 WHERE `created_at` = '2023-06-14 03:15:00'\n",
      "2023-06-09-15-47-12\n",
      "2023-06-09-15-47-12\n",
      "2023-06-09-12-39-32\n",
      "2023-06-14 02:00:00\n",
      "1/1 [==============================] - 1s 1s/step - loss: 3.4437e-05\n"
     ]
    },
    {
     "name": "stderr",
     "output_type": "stream",
     "text": [
      "C:\\Users\\KDDSUNFLOWER\\AppData\\Local\\Temp\\ipykernel_12708\\2698378733.py:323: FutureWarning: The frame.append method is deprecated and will be removed from pandas in a future version. Use pandas.concat instead.\n",
      "  last_datetime_dataframe = last_datetime_dataframe.append(future_features_dataframe)\n"
     ]
    },
    {
     "name": "stdout",
     "output_type": "stream",
     "text": [
      "1/1 [==============================] - 0s 214ms/step\n",
      "1/1 [==============================] - 0s 13ms/step\n"
     ]
    },
    {
     "name": "stderr",
     "output_type": "stream",
     "text": [
      "C:\\Users\\KDDSUNFLOWER\\AppData\\Local\\Temp\\ipykernel_12708\\2698378733.py:323: FutureWarning: The frame.append method is deprecated and will be removed from pandas in a future version. Use pandas.concat instead.\n",
      "  last_datetime_dataframe = last_datetime_dataframe.append(future_features_dataframe)\n"
     ]
    },
    {
     "name": "stdout",
     "output_type": "stream",
     "text": [
      "1/1 [==============================] - 0s 13ms/step\n"
     ]
    },
    {
     "name": "stderr",
     "output_type": "stream",
     "text": [
      "C:\\Users\\KDDSUNFLOWER\\AppData\\Local\\Temp\\ipykernel_12708\\2698378733.py:323: FutureWarning: The frame.append method is deprecated and will be removed from pandas in a future version. Use pandas.concat instead.\n",
      "  last_datetime_dataframe = last_datetime_dataframe.append(future_features_dataframe)\n"
     ]
    },
    {
     "name": "stdout",
     "output_type": "stream",
     "text": [
      "1/1 [==============================] - 0s 14ms/step\n"
     ]
    },
    {
     "name": "stderr",
     "output_type": "stream",
     "text": [
      "C:\\Users\\KDDSUNFLOWER\\AppData\\Local\\Temp\\ipykernel_12708\\2698378733.py:323: FutureWarning: The frame.append method is deprecated and will be removed from pandas in a future version. Use pandas.concat instead.\n",
      "  last_datetime_dataframe = last_datetime_dataframe.append(future_features_dataframe)\n"
     ]
    },
    {
     "name": "stdout",
     "output_type": "stream",
     "text": [
      "UPDATE `demand_predict_test` SET `prediction_4`=110.14063262939453 WHERE `created_at` = '2023-06-14 02:45:00'\n",
      "UPDATE `demand_predict_test` SET `prediction_3`=105.2077407836914 WHERE `created_at` = '2023-06-14 03:00:00'\n",
      "UPDATE `demand_predict_test` SET `prediction_2`=100.49676513671875 WHERE `created_at` = '2023-06-14 03:15:00'\n",
      "UPDATE `demand_predict_test` SET `prediction_1`=95.81118774414062 WHERE `created_at` = '2023-06-14 03:30:00'\n",
      "2023-06-09-15-47-12\n",
      "2023-06-09-15-47-12\n",
      "2023-06-09-12-39-32\n",
      "2023-06-14 02:15:00\n",
      "1/1 [==============================] - 1s 1s/step - loss: 4.0649e-06\n"
     ]
    },
    {
     "name": "stderr",
     "output_type": "stream",
     "text": [
      "C:\\Users\\KDDSUNFLOWER\\AppData\\Local\\Temp\\ipykernel_12708\\2698378733.py:323: FutureWarning: The frame.append method is deprecated and will be removed from pandas in a future version. Use pandas.concat instead.\n",
      "  last_datetime_dataframe = last_datetime_dataframe.append(future_features_dataframe)\n"
     ]
    },
    {
     "name": "stdout",
     "output_type": "stream",
     "text": [
      "1/1 [==============================] - 0s 211ms/step\n",
      "1/1 [==============================] - 0s 13ms/step\n"
     ]
    },
    {
     "name": "stderr",
     "output_type": "stream",
     "text": [
      "C:\\Users\\KDDSUNFLOWER\\AppData\\Local\\Temp\\ipykernel_12708\\2698378733.py:323: FutureWarning: The frame.append method is deprecated and will be removed from pandas in a future version. Use pandas.concat instead.\n",
      "  last_datetime_dataframe = last_datetime_dataframe.append(future_features_dataframe)\n"
     ]
    },
    {
     "name": "stdout",
     "output_type": "stream",
     "text": [
      "1/1 [==============================] - 0s 12ms/step\n"
     ]
    },
    {
     "name": "stderr",
     "output_type": "stream",
     "text": [
      "C:\\Users\\KDDSUNFLOWER\\AppData\\Local\\Temp\\ipykernel_12708\\2698378733.py:323: FutureWarning: The frame.append method is deprecated and will be removed from pandas in a future version. Use pandas.concat instead.\n",
      "  last_datetime_dataframe = last_datetime_dataframe.append(future_features_dataframe)\n"
     ]
    },
    {
     "name": "stdout",
     "output_type": "stream",
     "text": [
      "1/1 [==============================] - 0s 13ms/step\n"
     ]
    },
    {
     "name": "stderr",
     "output_type": "stream",
     "text": [
      "C:\\Users\\KDDSUNFLOWER\\AppData\\Local\\Temp\\ipykernel_12708\\2698378733.py:323: FutureWarning: The frame.append method is deprecated and will be removed from pandas in a future version. Use pandas.concat instead.\n",
      "  last_datetime_dataframe = last_datetime_dataframe.append(future_features_dataframe)\n"
     ]
    },
    {
     "name": "stdout",
     "output_type": "stream",
     "text": [
      "UPDATE `demand_predict_test` SET `prediction_4`=108.7905502319336 WHERE `created_at` = '2023-06-14 03:00:00'\n",
      "UPDATE `demand_predict_test` SET `prediction_3`=105.96127319335938 WHERE `created_at` = '2023-06-14 03:15:00'\n",
      "UPDATE `demand_predict_test` SET `prediction_2`=103.06343078613281 WHERE `created_at` = '2023-06-14 03:30:00'\n",
      "UPDATE `demand_predict_test` SET `prediction_1`=100.00374603271484 WHERE `created_at` = '2023-06-14 03:45:00'\n",
      "2023-06-09-15-47-12\n",
      "2023-06-09-15-47-12\n",
      "2023-06-09-12-39-32\n",
      "2023-06-14 02:30:00\n",
      "1/1 [==============================] - 1s 1s/step - loss: 3.7334e-06\n"
     ]
    },
    {
     "name": "stderr",
     "output_type": "stream",
     "text": [
      "C:\\Users\\KDDSUNFLOWER\\AppData\\Local\\Temp\\ipykernel_12708\\2698378733.py:323: FutureWarning: The frame.append method is deprecated and will be removed from pandas in a future version. Use pandas.concat instead.\n",
      "  last_datetime_dataframe = last_datetime_dataframe.append(future_features_dataframe)\n"
     ]
    },
    {
     "name": "stdout",
     "output_type": "stream",
     "text": [
      "1/1 [==============================] - 0s 212ms/step\n",
      "1/1 [==============================] - 0s 13ms/step\n"
     ]
    },
    {
     "name": "stderr",
     "output_type": "stream",
     "text": [
      "C:\\Users\\KDDSUNFLOWER\\AppData\\Local\\Temp\\ipykernel_12708\\2698378733.py:323: FutureWarning: The frame.append method is deprecated and will be removed from pandas in a future version. Use pandas.concat instead.\n",
      "  last_datetime_dataframe = last_datetime_dataframe.append(future_features_dataframe)\n"
     ]
    },
    {
     "name": "stdout",
     "output_type": "stream",
     "text": [
      "1/1 [==============================] - 0s 13ms/step\n"
     ]
    },
    {
     "name": "stderr",
     "output_type": "stream",
     "text": [
      "C:\\Users\\KDDSUNFLOWER\\AppData\\Local\\Temp\\ipykernel_12708\\2698378733.py:323: FutureWarning: The frame.append method is deprecated and will be removed from pandas in a future version. Use pandas.concat instead.\n",
      "  last_datetime_dataframe = last_datetime_dataframe.append(future_features_dataframe)\n"
     ]
    },
    {
     "name": "stdout",
     "output_type": "stream",
     "text": [
      "1/1 [==============================] - 0s 13ms/step\n"
     ]
    },
    {
     "name": "stderr",
     "output_type": "stream",
     "text": [
      "C:\\Users\\KDDSUNFLOWER\\AppData\\Local\\Temp\\ipykernel_12708\\2698378733.py:323: FutureWarning: The frame.append method is deprecated and will be removed from pandas in a future version. Use pandas.concat instead.\n",
      "  last_datetime_dataframe = last_datetime_dataframe.append(future_features_dataframe)\n"
     ]
    },
    {
     "name": "stdout",
     "output_type": "stream",
     "text": [
      "UPDATE `demand_predict_test` SET `prediction_4`=107.64762878417969 WHERE `created_at` = '2023-06-14 03:15:00'\n",
      "UPDATE `demand_predict_test` SET `prediction_3`=106.8066635131836 WHERE `created_at` = '2023-06-14 03:30:00'\n",
      "UPDATE `demand_predict_test` SET `prediction_2`=105.57438659667969 WHERE `created_at` = '2023-06-14 03:45:00'\n",
      "UPDATE `demand_predict_test` SET `prediction_1`=106.22184753417969 WHERE `created_at` = '2023-06-14 04:00:00'\n",
      "2023-06-09-15-47-12\n",
      "2023-06-09-15-47-12\n",
      "2023-06-09-12-39-32\n",
      "2023-06-14 02:45:00\n",
      "1/1 [==============================] - 1s 1s/step - loss: 3.2953e-04\n"
     ]
    },
    {
     "name": "stderr",
     "output_type": "stream",
     "text": [
      "C:\\Users\\KDDSUNFLOWER\\AppData\\Local\\Temp\\ipykernel_12708\\2698378733.py:323: FutureWarning: The frame.append method is deprecated and will be removed from pandas in a future version. Use pandas.concat instead.\n",
      "  last_datetime_dataframe = last_datetime_dataframe.append(future_features_dataframe)\n"
     ]
    },
    {
     "name": "stdout",
     "output_type": "stream",
     "text": [
      "1/1 [==============================] - 0s 210ms/step\n",
      "1/1 [==============================] - 0s 14ms/step\n"
     ]
    },
    {
     "name": "stderr",
     "output_type": "stream",
     "text": [
      "C:\\Users\\KDDSUNFLOWER\\AppData\\Local\\Temp\\ipykernel_12708\\2698378733.py:323: FutureWarning: The frame.append method is deprecated and will be removed from pandas in a future version. Use pandas.concat instead.\n",
      "  last_datetime_dataframe = last_datetime_dataframe.append(future_features_dataframe)\n"
     ]
    },
    {
     "name": "stdout",
     "output_type": "stream",
     "text": [
      "1/1 [==============================] - 0s 13ms/step\n"
     ]
    },
    {
     "name": "stderr",
     "output_type": "stream",
     "text": [
      "C:\\Users\\KDDSUNFLOWER\\AppData\\Local\\Temp\\ipykernel_12708\\2698378733.py:323: FutureWarning: The frame.append method is deprecated and will be removed from pandas in a future version. Use pandas.concat instead.\n",
      "  last_datetime_dataframe = last_datetime_dataframe.append(future_features_dataframe)\n"
     ]
    },
    {
     "name": "stdout",
     "output_type": "stream",
     "text": [
      "1/1 [==============================] - 0s 13ms/step\n"
     ]
    },
    {
     "name": "stderr",
     "output_type": "stream",
     "text": [
      "C:\\Users\\KDDSUNFLOWER\\AppData\\Local\\Temp\\ipykernel_12708\\2698378733.py:323: FutureWarning: The frame.append method is deprecated and will be removed from pandas in a future version. Use pandas.concat instead.\n",
      "  last_datetime_dataframe = last_datetime_dataframe.append(future_features_dataframe)\n"
     ]
    },
    {
     "name": "stdout",
     "output_type": "stream",
     "text": [
      "UPDATE `demand_predict_test` SET `prediction_4`=100.95398712158203 WHERE `created_at` = '2023-06-14 03:30:00'\n",
      "UPDATE `demand_predict_test` SET `prediction_3`=98.45899963378906 WHERE `created_at` = '2023-06-14 03:45:00'\n",
      "UPDATE `demand_predict_test` SET `prediction_2`=97.38520050048828 WHERE `created_at` = '2023-06-14 04:00:00'\n",
      "UPDATE `demand_predict_test` SET `prediction_1`=96.13581848144531 WHERE `created_at` = '2023-06-14 04:15:00'\n",
      "2023-06-09-15-47-12\n",
      "2023-06-09-15-47-12\n",
      "2023-06-09-12-39-32\n",
      "2023-06-14 03:00:00\n",
      "1/1 [==============================] - 1s 1s/step - loss: 1.5304e-05\n"
     ]
    },
    {
     "name": "stderr",
     "output_type": "stream",
     "text": [
      "C:\\Users\\KDDSUNFLOWER\\AppData\\Local\\Temp\\ipykernel_12708\\2698378733.py:323: FutureWarning: The frame.append method is deprecated and will be removed from pandas in a future version. Use pandas.concat instead.\n",
      "  last_datetime_dataframe = last_datetime_dataframe.append(future_features_dataframe)\n"
     ]
    },
    {
     "name": "stdout",
     "output_type": "stream",
     "text": [
      "1/1 [==============================] - 0s 207ms/step\n",
      "1/1 [==============================] - 0s 13ms/step\n"
     ]
    },
    {
     "name": "stderr",
     "output_type": "stream",
     "text": [
      "C:\\Users\\KDDSUNFLOWER\\AppData\\Local\\Temp\\ipykernel_12708\\2698378733.py:323: FutureWarning: The frame.append method is deprecated and will be removed from pandas in a future version. Use pandas.concat instead.\n",
      "  last_datetime_dataframe = last_datetime_dataframe.append(future_features_dataframe)\n"
     ]
    },
    {
     "name": "stdout",
     "output_type": "stream",
     "text": [
      "1/1 [==============================] - 0s 13ms/step\n"
     ]
    },
    {
     "name": "stderr",
     "output_type": "stream",
     "text": [
      "C:\\Users\\KDDSUNFLOWER\\AppData\\Local\\Temp\\ipykernel_12708\\2698378733.py:323: FutureWarning: The frame.append method is deprecated and will be removed from pandas in a future version. Use pandas.concat instead.\n",
      "  last_datetime_dataframe = last_datetime_dataframe.append(future_features_dataframe)\n"
     ]
    },
    {
     "name": "stdout",
     "output_type": "stream",
     "text": [
      "1/1 [==============================] - 0s 13ms/step\n"
     ]
    },
    {
     "name": "stderr",
     "output_type": "stream",
     "text": [
      "C:\\Users\\KDDSUNFLOWER\\AppData\\Local\\Temp\\ipykernel_12708\\2698378733.py:323: FutureWarning: The frame.append method is deprecated and will be removed from pandas in a future version. Use pandas.concat instead.\n",
      "  last_datetime_dataframe = last_datetime_dataframe.append(future_features_dataframe)\n"
     ]
    },
    {
     "name": "stdout",
     "output_type": "stream",
     "text": [
      "UPDATE `demand_predict_test` SET `prediction_4`=97.54534912109375 WHERE `created_at` = '2023-06-14 03:45:00'\n",
      "UPDATE `demand_predict_test` SET `prediction_3`=99.45811462402344 WHERE `created_at` = '2023-06-14 04:00:00'\n",
      "UPDATE `demand_predict_test` SET `prediction_2`=100.30255889892578 WHERE `created_at` = '2023-06-14 04:15:00'\n",
      "UPDATE `demand_predict_test` SET `prediction_1`=100.72789764404297 WHERE `created_at` = '2023-06-14 04:30:00'\n",
      "2023-06-09-15-47-12\n",
      "2023-06-09-15-47-12\n",
      "2023-06-09-12-39-32\n",
      "2023-06-14 03:15:00\n",
      "1/1 [==============================] - 1s 1s/step - loss: 2.4570e-04\n"
     ]
    },
    {
     "name": "stderr",
     "output_type": "stream",
     "text": [
      "C:\\Users\\KDDSUNFLOWER\\AppData\\Local\\Temp\\ipykernel_12708\\2698378733.py:323: FutureWarning: The frame.append method is deprecated and will be removed from pandas in a future version. Use pandas.concat instead.\n",
      "  last_datetime_dataframe = last_datetime_dataframe.append(future_features_dataframe)\n"
     ]
    },
    {
     "name": "stdout",
     "output_type": "stream",
     "text": [
      "1/1 [==============================] - 0s 213ms/step\n",
      "1/1 [==============================] - 0s 13ms/step\n"
     ]
    },
    {
     "name": "stderr",
     "output_type": "stream",
     "text": [
      "C:\\Users\\KDDSUNFLOWER\\AppData\\Local\\Temp\\ipykernel_12708\\2698378733.py:323: FutureWarning: The frame.append method is deprecated and will be removed from pandas in a future version. Use pandas.concat instead.\n",
      "  last_datetime_dataframe = last_datetime_dataframe.append(future_features_dataframe)\n"
     ]
    },
    {
     "name": "stdout",
     "output_type": "stream",
     "text": [
      "1/1 [==============================] - 0s 12ms/step\n"
     ]
    },
    {
     "name": "stderr",
     "output_type": "stream",
     "text": [
      "C:\\Users\\KDDSUNFLOWER\\AppData\\Local\\Temp\\ipykernel_12708\\2698378733.py:323: FutureWarning: The frame.append method is deprecated and will be removed from pandas in a future version. Use pandas.concat instead.\n",
      "  last_datetime_dataframe = last_datetime_dataframe.append(future_features_dataframe)\n"
     ]
    },
    {
     "name": "stdout",
     "output_type": "stream",
     "text": [
      "1/1 [==============================] - 0s 14ms/step\n"
     ]
    },
    {
     "name": "stderr",
     "output_type": "stream",
     "text": [
      "C:\\Users\\KDDSUNFLOWER\\AppData\\Local\\Temp\\ipykernel_12708\\2698378733.py:323: FutureWarning: The frame.append method is deprecated and will be removed from pandas in a future version. Use pandas.concat instead.\n",
      "  last_datetime_dataframe = last_datetime_dataframe.append(future_features_dataframe)\n"
     ]
    },
    {
     "name": "stdout",
     "output_type": "stream",
     "text": [
      "UPDATE `demand_predict_test` SET `prediction_4`=96.45603942871094 WHERE `created_at` = '2023-06-14 04:00:00'\n",
      "UPDATE `demand_predict_test` SET `prediction_3`=95.17920684814453 WHERE `created_at` = '2023-06-14 04:15:00'\n",
      "UPDATE `demand_predict_test` SET `prediction_2`=93.79559326171875 WHERE `created_at` = '2023-06-14 04:30:00'\n",
      "UPDATE `demand_predict_test` SET `prediction_1`=92.13255310058594 WHERE `created_at` = '2023-06-14 04:45:00'\n",
      "2023-06-09-15-47-12\n",
      "2023-06-09-15-47-12\n",
      "2023-06-09-12-39-32\n",
      "2023-06-14 03:30:00\n",
      "1/1 [==============================] - 1s 1s/step - loss: 5.0072e-05\n"
     ]
    },
    {
     "name": "stderr",
     "output_type": "stream",
     "text": [
      "C:\\Users\\KDDSUNFLOWER\\AppData\\Local\\Temp\\ipykernel_12708\\2698378733.py:323: FutureWarning: The frame.append method is deprecated and will be removed from pandas in a future version. Use pandas.concat instead.\n",
      "  last_datetime_dataframe = last_datetime_dataframe.append(future_features_dataframe)\n"
     ]
    },
    {
     "name": "stdout",
     "output_type": "stream",
     "text": [
      "1/1 [==============================] - 0s 214ms/step\n",
      "1/1 [==============================] - 0s 13ms/step\n"
     ]
    },
    {
     "name": "stderr",
     "output_type": "stream",
     "text": [
      "C:\\Users\\KDDSUNFLOWER\\AppData\\Local\\Temp\\ipykernel_12708\\2698378733.py:323: FutureWarning: The frame.append method is deprecated and will be removed from pandas in a future version. Use pandas.concat instead.\n",
      "  last_datetime_dataframe = last_datetime_dataframe.append(future_features_dataframe)\n"
     ]
    },
    {
     "name": "stdout",
     "output_type": "stream",
     "text": [
      "1/1 [==============================] - 0s 12ms/step\n"
     ]
    },
    {
     "name": "stderr",
     "output_type": "stream",
     "text": [
      "C:\\Users\\KDDSUNFLOWER\\AppData\\Local\\Temp\\ipykernel_12708\\2698378733.py:323: FutureWarning: The frame.append method is deprecated and will be removed from pandas in a future version. Use pandas.concat instead.\n",
      "  last_datetime_dataframe = last_datetime_dataframe.append(future_features_dataframe)\n"
     ]
    },
    {
     "name": "stdout",
     "output_type": "stream",
     "text": [
      "1/1 [==============================] - 0s 13ms/step\n"
     ]
    },
    {
     "name": "stderr",
     "output_type": "stream",
     "text": [
      "C:\\Users\\KDDSUNFLOWER\\AppData\\Local\\Temp\\ipykernel_12708\\2698378733.py:323: FutureWarning: The frame.append method is deprecated and will be removed from pandas in a future version. Use pandas.concat instead.\n",
      "  last_datetime_dataframe = last_datetime_dataframe.append(future_features_dataframe)\n"
     ]
    },
    {
     "name": "stdout",
     "output_type": "stream",
     "text": [
      "UPDATE `demand_predict_test` SET `prediction_4`=94.36068725585938 WHERE `created_at` = '2023-06-14 04:15:00'\n",
      "UPDATE `demand_predict_test` SET `prediction_3`=95.35758209228516 WHERE `created_at` = '2023-06-14 04:30:00'\n",
      "UPDATE `demand_predict_test` SET `prediction_2`=95.82115936279297 WHERE `created_at` = '2023-06-14 04:45:00'\n",
      "UPDATE `demand_predict_test` SET `prediction_1`=97.78700256347656 WHERE `created_at` = '2023-06-14 05:00:00'\n",
      "2023-06-09-15-47-12\n",
      "2023-06-09-15-47-12\n",
      "2023-06-09-12-39-32\n",
      "2023-06-14 03:45:00\n",
      "1/1 [==============================] - 1s 1s/step - loss: 1.5074e-05\n"
     ]
    },
    {
     "name": "stderr",
     "output_type": "stream",
     "text": [
      "C:\\Users\\KDDSUNFLOWER\\AppData\\Local\\Temp\\ipykernel_12708\\2698378733.py:323: FutureWarning: The frame.append method is deprecated and will be removed from pandas in a future version. Use pandas.concat instead.\n",
      "  last_datetime_dataframe = last_datetime_dataframe.append(future_features_dataframe)\n"
     ]
    },
    {
     "name": "stdout",
     "output_type": "stream",
     "text": [
      "1/1 [==============================] - 0s 216ms/step\n",
      "1/1 [==============================] - 0s 13ms/step\n"
     ]
    },
    {
     "name": "stderr",
     "output_type": "stream",
     "text": [
      "C:\\Users\\KDDSUNFLOWER\\AppData\\Local\\Temp\\ipykernel_12708\\2698378733.py:323: FutureWarning: The frame.append method is deprecated and will be removed from pandas in a future version. Use pandas.concat instead.\n",
      "  last_datetime_dataframe = last_datetime_dataframe.append(future_features_dataframe)\n"
     ]
    },
    {
     "name": "stdout",
     "output_type": "stream",
     "text": [
      "1/1 [==============================] - 0s 13ms/step\n"
     ]
    },
    {
     "name": "stderr",
     "output_type": "stream",
     "text": [
      "C:\\Users\\KDDSUNFLOWER\\AppData\\Local\\Temp\\ipykernel_12708\\2698378733.py:323: FutureWarning: The frame.append method is deprecated and will be removed from pandas in a future version. Use pandas.concat instead.\n",
      "  last_datetime_dataframe = last_datetime_dataframe.append(future_features_dataframe)\n"
     ]
    },
    {
     "name": "stdout",
     "output_type": "stream",
     "text": [
      "1/1 [==============================] - 0s 13ms/step\n"
     ]
    },
    {
     "name": "stderr",
     "output_type": "stream",
     "text": [
      "C:\\Users\\KDDSUNFLOWER\\AppData\\Local\\Temp\\ipykernel_12708\\2698378733.py:323: FutureWarning: The frame.append method is deprecated and will be removed from pandas in a future version. Use pandas.concat instead.\n",
      "  last_datetime_dataframe = last_datetime_dataframe.append(future_features_dataframe)\n"
     ]
    },
    {
     "name": "stdout",
     "output_type": "stream",
     "text": [
      "UPDATE `demand_predict_test` SET `prediction_4`=101.46068572998047 WHERE `created_at` = '2023-06-14 04:30:00'\n",
      "UPDATE `demand_predict_test` SET `prediction_3`=104.0382308959961 WHERE `created_at` = '2023-06-14 04:45:00'\n",
      "UPDATE `demand_predict_test` SET `prediction_2`=107.70115661621094 WHERE `created_at` = '2023-06-14 05:00:00'\n",
      "UPDATE `demand_predict_test` SET `prediction_1`=110.60054016113281 WHERE `created_at` = '2023-06-14 05:15:00'\n",
      "2023-06-09-15-47-12\n",
      "2023-06-09-15-47-12\n",
      "2023-06-09-12-39-32\n",
      "2023-06-14 04:00:00\n",
      "1/1 [==============================] - 1s 1s/step - loss: 5.2882e-04\n"
     ]
    },
    {
     "name": "stderr",
     "output_type": "stream",
     "text": [
      "C:\\Users\\KDDSUNFLOWER\\AppData\\Local\\Temp\\ipykernel_12708\\2698378733.py:323: FutureWarning: The frame.append method is deprecated and will be removed from pandas in a future version. Use pandas.concat instead.\n",
      "  last_datetime_dataframe = last_datetime_dataframe.append(future_features_dataframe)\n"
     ]
    },
    {
     "name": "stdout",
     "output_type": "stream",
     "text": [
      "1/1 [==============================] - 0s 209ms/step\n",
      "1/1 [==============================] - 0s 13ms/step\n"
     ]
    },
    {
     "name": "stderr",
     "output_type": "stream",
     "text": [
      "C:\\Users\\KDDSUNFLOWER\\AppData\\Local\\Temp\\ipykernel_12708\\2698378733.py:323: FutureWarning: The frame.append method is deprecated and will be removed from pandas in a future version. Use pandas.concat instead.\n",
      "  last_datetime_dataframe = last_datetime_dataframe.append(future_features_dataframe)\n"
     ]
    },
    {
     "name": "stdout",
     "output_type": "stream",
     "text": [
      "1/1 [==============================] - 0s 13ms/step\n"
     ]
    },
    {
     "name": "stderr",
     "output_type": "stream",
     "text": [
      "C:\\Users\\KDDSUNFLOWER\\AppData\\Local\\Temp\\ipykernel_12708\\2698378733.py:323: FutureWarning: The frame.append method is deprecated and will be removed from pandas in a future version. Use pandas.concat instead.\n",
      "  last_datetime_dataframe = last_datetime_dataframe.append(future_features_dataframe)\n"
     ]
    },
    {
     "name": "stdout",
     "output_type": "stream",
     "text": [
      "1/1 [==============================] - 0s 13ms/step\n"
     ]
    },
    {
     "name": "stderr",
     "output_type": "stream",
     "text": [
      "C:\\Users\\KDDSUNFLOWER\\AppData\\Local\\Temp\\ipykernel_12708\\2698378733.py:323: FutureWarning: The frame.append method is deprecated and will be removed from pandas in a future version. Use pandas.concat instead.\n",
      "  last_datetime_dataframe = last_datetime_dataframe.append(future_features_dataframe)\n"
     ]
    },
    {
     "name": "stdout",
     "output_type": "stream",
     "text": [
      "UPDATE `demand_predict_test` SET `prediction_4`=98.96308898925781 WHERE `created_at` = '2023-06-14 04:45:00'\n",
      "UPDATE `demand_predict_test` SET `prediction_3`=100.9365463256836 WHERE `created_at` = '2023-06-14 05:00:00'\n",
      "UPDATE `demand_predict_test` SET `prediction_2`=102.20598602294922 WHERE `created_at` = '2023-06-14 05:15:00'\n",
      "UPDATE `demand_predict_test` SET `prediction_1`=103.06388854980469 WHERE `created_at` = '2023-06-14 05:30:00'\n",
      "2023-06-09-15-47-12\n",
      "2023-06-09-15-47-12\n",
      "2023-06-09-12-39-32\n",
      "2023-06-14 04:15:00\n",
      "1/1 [==============================] - 1s 1s/step - loss: 1.2616e-05\n"
     ]
    },
    {
     "name": "stderr",
     "output_type": "stream",
     "text": [
      "C:\\Users\\KDDSUNFLOWER\\AppData\\Local\\Temp\\ipykernel_12708\\2698378733.py:323: FutureWarning: The frame.append method is deprecated and will be removed from pandas in a future version. Use pandas.concat instead.\n",
      "  last_datetime_dataframe = last_datetime_dataframe.append(future_features_dataframe)\n"
     ]
    },
    {
     "name": "stdout",
     "output_type": "stream",
     "text": [
      "1/1 [==============================] - 0s 208ms/step\n",
      "1/1 [==============================] - 0s 12ms/step\n"
     ]
    },
    {
     "name": "stderr",
     "output_type": "stream",
     "text": [
      "C:\\Users\\KDDSUNFLOWER\\AppData\\Local\\Temp\\ipykernel_12708\\2698378733.py:323: FutureWarning: The frame.append method is deprecated and will be removed from pandas in a future version. Use pandas.concat instead.\n",
      "  last_datetime_dataframe = last_datetime_dataframe.append(future_features_dataframe)\n"
     ]
    },
    {
     "name": "stdout",
     "output_type": "stream",
     "text": [
      "1/1 [==============================] - 0s 13ms/step\n"
     ]
    },
    {
     "name": "stderr",
     "output_type": "stream",
     "text": [
      "C:\\Users\\KDDSUNFLOWER\\AppData\\Local\\Temp\\ipykernel_12708\\2698378733.py:323: FutureWarning: The frame.append method is deprecated and will be removed from pandas in a future version. Use pandas.concat instead.\n",
      "  last_datetime_dataframe = last_datetime_dataframe.append(future_features_dataframe)\n"
     ]
    },
    {
     "name": "stdout",
     "output_type": "stream",
     "text": [
      "1/1 [==============================] - 0s 13ms/step\n"
     ]
    },
    {
     "name": "stderr",
     "output_type": "stream",
     "text": [
      "C:\\Users\\KDDSUNFLOWER\\AppData\\Local\\Temp\\ipykernel_12708\\2698378733.py:323: FutureWarning: The frame.append method is deprecated and will be removed from pandas in a future version. Use pandas.concat instead.\n",
      "  last_datetime_dataframe = last_datetime_dataframe.append(future_features_dataframe)\n"
     ]
    },
    {
     "name": "stdout",
     "output_type": "stream",
     "text": [
      "UPDATE `demand_predict_test` SET `prediction_4`=89.35626983642578 WHERE `created_at` = '2023-06-14 05:00:00'\n",
      "UPDATE `demand_predict_test` SET `prediction_3`=89.493408203125 WHERE `created_at` = '2023-06-14 05:15:00'\n",
      "UPDATE `demand_predict_test` SET `prediction_2`=89.26910400390625 WHERE `created_at` = '2023-06-14 05:30:00'\n",
      "UPDATE `demand_predict_test` SET `prediction_1`=88.79569244384766 WHERE `created_at` = '2023-06-14 05:45:00'\n",
      "2023-06-09-15-47-12\n",
      "2023-06-09-15-47-12\n",
      "2023-06-09-12-39-32\n",
      "2023-06-14 04:30:00\n",
      "1/1 [==============================] - 1s 1s/step - loss: 2.8739e-07\n"
     ]
    },
    {
     "name": "stderr",
     "output_type": "stream",
     "text": [
      "C:\\Users\\KDDSUNFLOWER\\AppData\\Local\\Temp\\ipykernel_12708\\2698378733.py:323: FutureWarning: The frame.append method is deprecated and will be removed from pandas in a future version. Use pandas.concat instead.\n",
      "  last_datetime_dataframe = last_datetime_dataframe.append(future_features_dataframe)\n"
     ]
    },
    {
     "name": "stdout",
     "output_type": "stream",
     "text": [
      "1/1 [==============================] - 0s 213ms/step\n",
      "1/1 [==============================] - 0s 13ms/step\n"
     ]
    },
    {
     "name": "stderr",
     "output_type": "stream",
     "text": [
      "C:\\Users\\KDDSUNFLOWER\\AppData\\Local\\Temp\\ipykernel_12708\\2698378733.py:323: FutureWarning: The frame.append method is deprecated and will be removed from pandas in a future version. Use pandas.concat instead.\n",
      "  last_datetime_dataframe = last_datetime_dataframe.append(future_features_dataframe)\n"
     ]
    },
    {
     "name": "stdout",
     "output_type": "stream",
     "text": [
      "1/1 [==============================] - 0s 12ms/step\n"
     ]
    },
    {
     "name": "stderr",
     "output_type": "stream",
     "text": [
      "C:\\Users\\KDDSUNFLOWER\\AppData\\Local\\Temp\\ipykernel_12708\\2698378733.py:323: FutureWarning: The frame.append method is deprecated and will be removed from pandas in a future version. Use pandas.concat instead.\n",
      "  last_datetime_dataframe = last_datetime_dataframe.append(future_features_dataframe)\n"
     ]
    },
    {
     "name": "stdout",
     "output_type": "stream",
     "text": [
      "1/1 [==============================] - 0s 13ms/step\n"
     ]
    },
    {
     "name": "stderr",
     "output_type": "stream",
     "text": [
      "C:\\Users\\KDDSUNFLOWER\\AppData\\Local\\Temp\\ipykernel_12708\\2698378733.py:323: FutureWarning: The frame.append method is deprecated and will be removed from pandas in a future version. Use pandas.concat instead.\n",
      "  last_datetime_dataframe = last_datetime_dataframe.append(future_features_dataframe)\n"
     ]
    },
    {
     "name": "stdout",
     "output_type": "stream",
     "text": [
      "UPDATE `demand_predict_test` SET `prediction_4`=94.83361053466797 WHERE `created_at` = '2023-06-14 05:15:00'\n",
      "UPDATE `demand_predict_test` SET `prediction_3`=95.98876953125 WHERE `created_at` = '2023-06-14 05:30:00'\n",
      "UPDATE `demand_predict_test` SET `prediction_2`=96.80996704101562 WHERE `created_at` = '2023-06-14 05:45:00'\n",
      "UPDATE `demand_predict_test` SET `prediction_1`=98.82611083984375 WHERE `created_at` = '2023-06-14 06:00:00'\n",
      "2023-06-09-15-47-12\n",
      "2023-06-09-15-47-12\n",
      "2023-06-09-12-39-32\n",
      "2023-06-14 04:45:00\n",
      "1/1 [==============================] - 1s 1s/step - loss: 1.4366e-05\n"
     ]
    },
    {
     "name": "stderr",
     "output_type": "stream",
     "text": [
      "C:\\Users\\KDDSUNFLOWER\\AppData\\Local\\Temp\\ipykernel_12708\\2698378733.py:323: FutureWarning: The frame.append method is deprecated and will be removed from pandas in a future version. Use pandas.concat instead.\n",
      "  last_datetime_dataframe = last_datetime_dataframe.append(future_features_dataframe)\n"
     ]
    },
    {
     "name": "stdout",
     "output_type": "stream",
     "text": [
      "1/1 [==============================] - 0s 212ms/step\n",
      "1/1 [==============================] - 0s 12ms/step\n"
     ]
    },
    {
     "name": "stderr",
     "output_type": "stream",
     "text": [
      "C:\\Users\\KDDSUNFLOWER\\AppData\\Local\\Temp\\ipykernel_12708\\2698378733.py:323: FutureWarning: The frame.append method is deprecated and will be removed from pandas in a future version. Use pandas.concat instead.\n",
      "  last_datetime_dataframe = last_datetime_dataframe.append(future_features_dataframe)\n"
     ]
    },
    {
     "name": "stdout",
     "output_type": "stream",
     "text": [
      "1/1 [==============================] - 0s 13ms/step\n"
     ]
    },
    {
     "name": "stderr",
     "output_type": "stream",
     "text": [
      "C:\\Users\\KDDSUNFLOWER\\AppData\\Local\\Temp\\ipykernel_12708\\2698378733.py:323: FutureWarning: The frame.append method is deprecated and will be removed from pandas in a future version. Use pandas.concat instead.\n",
      "  last_datetime_dataframe = last_datetime_dataframe.append(future_features_dataframe)\n"
     ]
    },
    {
     "name": "stdout",
     "output_type": "stream",
     "text": [
      "1/1 [==============================] - 0s 13ms/step\n"
     ]
    },
    {
     "name": "stderr",
     "output_type": "stream",
     "text": [
      "C:\\Users\\KDDSUNFLOWER\\AppData\\Local\\Temp\\ipykernel_12708\\2698378733.py:323: FutureWarning: The frame.append method is deprecated and will be removed from pandas in a future version. Use pandas.concat instead.\n",
      "  last_datetime_dataframe = last_datetime_dataframe.append(future_features_dataframe)\n"
     ]
    },
    {
     "name": "stdout",
     "output_type": "stream",
     "text": [
      "UPDATE `demand_predict_test` SET `prediction_4`=89.25715637207031 WHERE `created_at` = '2023-06-14 05:30:00'\n",
      "UPDATE `demand_predict_test` SET `prediction_3`=88.78609466552734 WHERE `created_at` = '2023-06-14 05:45:00'\n",
      "UPDATE `demand_predict_test` SET `prediction_2`=89.42138671875 WHERE `created_at` = '2023-06-14 06:00:00'\n",
      "UPDATE `demand_predict_test` SET `prediction_1`=89.81554412841797 WHERE `created_at` = '2023-06-14 06:15:00'\n",
      "2023-06-09-15-47-12\n",
      "2023-06-09-15-47-12\n",
      "2023-06-09-12-39-32\n",
      "2023-06-14 05:00:00\n",
      "1/1 [==============================] - 1s 1s/step - loss: 9.1639e-05\n"
     ]
    },
    {
     "name": "stderr",
     "output_type": "stream",
     "text": [
      "C:\\Users\\KDDSUNFLOWER\\AppData\\Local\\Temp\\ipykernel_12708\\2698378733.py:323: FutureWarning: The frame.append method is deprecated and will be removed from pandas in a future version. Use pandas.concat instead.\n",
      "  last_datetime_dataframe = last_datetime_dataframe.append(future_features_dataframe)\n"
     ]
    },
    {
     "name": "stdout",
     "output_type": "stream",
     "text": [
      "1/1 [==============================] - 0s 212ms/step\n",
      "1/1 [==============================] - 0s 15ms/step\n"
     ]
    },
    {
     "name": "stderr",
     "output_type": "stream",
     "text": [
      "C:\\Users\\KDDSUNFLOWER\\AppData\\Local\\Temp\\ipykernel_12708\\2698378733.py:323: FutureWarning: The frame.append method is deprecated and will be removed from pandas in a future version. Use pandas.concat instead.\n",
      "  last_datetime_dataframe = last_datetime_dataframe.append(future_features_dataframe)\n"
     ]
    },
    {
     "name": "stdout",
     "output_type": "stream",
     "text": [
      "1/1 [==============================] - 0s 13ms/step\n"
     ]
    },
    {
     "name": "stderr",
     "output_type": "stream",
     "text": [
      "C:\\Users\\KDDSUNFLOWER\\AppData\\Local\\Temp\\ipykernel_12708\\2698378733.py:323: FutureWarning: The frame.append method is deprecated and will be removed from pandas in a future version. Use pandas.concat instead.\n",
      "  last_datetime_dataframe = last_datetime_dataframe.append(future_features_dataframe)\n"
     ]
    },
    {
     "name": "stdout",
     "output_type": "stream",
     "text": [
      "1/1 [==============================] - 0s 13ms/step\n"
     ]
    },
    {
     "name": "stderr",
     "output_type": "stream",
     "text": [
      "C:\\Users\\KDDSUNFLOWER\\AppData\\Local\\Temp\\ipykernel_12708\\2698378733.py:323: FutureWarning: The frame.append method is deprecated and will be removed from pandas in a future version. Use pandas.concat instead.\n",
      "  last_datetime_dataframe = last_datetime_dataframe.append(future_features_dataframe)\n"
     ]
    },
    {
     "name": "stdout",
     "output_type": "stream",
     "text": [
      "UPDATE `demand_predict_test` SET `prediction_4`=94.6339111328125 WHERE `created_at` = '2023-06-14 05:45:00'\n",
      "UPDATE `demand_predict_test` SET `prediction_3`=97.65740966796875 WHERE `created_at` = '2023-06-14 06:00:00'\n",
      "UPDATE `demand_predict_test` SET `prediction_2`=99.94032287597656 WHERE `created_at` = '2023-06-14 06:15:00'\n",
      "UPDATE `demand_predict_test` SET `prediction_1`=101.7894287109375 WHERE `created_at` = '2023-06-14 06:30:00'\n",
      "2023-06-09-15-47-12\n",
      "2023-06-09-15-47-12\n",
      "2023-06-09-12-39-32\n",
      "2023-06-14 05:15:00\n",
      "1/1 [==============================] - 1s 1s/step - loss: 3.7814e-04\n"
     ]
    },
    {
     "name": "stderr",
     "output_type": "stream",
     "text": [
      "C:\\Users\\KDDSUNFLOWER\\AppData\\Local\\Temp\\ipykernel_12708\\2698378733.py:323: FutureWarning: The frame.append method is deprecated and will be removed from pandas in a future version. Use pandas.concat instead.\n",
      "  last_datetime_dataframe = last_datetime_dataframe.append(future_features_dataframe)\n"
     ]
    },
    {
     "name": "stdout",
     "output_type": "stream",
     "text": [
      "1/1 [==============================] - 0s 210ms/step\n",
      "1/1 [==============================] - 0s 14ms/step\n"
     ]
    },
    {
     "name": "stderr",
     "output_type": "stream",
     "text": [
      "C:\\Users\\KDDSUNFLOWER\\AppData\\Local\\Temp\\ipykernel_12708\\2698378733.py:323: FutureWarning: The frame.append method is deprecated and will be removed from pandas in a future version. Use pandas.concat instead.\n",
      "  last_datetime_dataframe = last_datetime_dataframe.append(future_features_dataframe)\n"
     ]
    },
    {
     "name": "stdout",
     "output_type": "stream",
     "text": [
      "1/1 [==============================] - 0s 12ms/step\n"
     ]
    },
    {
     "name": "stderr",
     "output_type": "stream",
     "text": [
      "C:\\Users\\KDDSUNFLOWER\\AppData\\Local\\Temp\\ipykernel_12708\\2698378733.py:323: FutureWarning: The frame.append method is deprecated and will be removed from pandas in a future version. Use pandas.concat instead.\n",
      "  last_datetime_dataframe = last_datetime_dataframe.append(future_features_dataframe)\n"
     ]
    },
    {
     "name": "stdout",
     "output_type": "stream",
     "text": [
      "1/1 [==============================] - 0s 13ms/step\n"
     ]
    },
    {
     "name": "stderr",
     "output_type": "stream",
     "text": [
      "C:\\Users\\KDDSUNFLOWER\\AppData\\Local\\Temp\\ipykernel_12708\\2698378733.py:323: FutureWarning: The frame.append method is deprecated and will be removed from pandas in a future version. Use pandas.concat instead.\n",
      "  last_datetime_dataframe = last_datetime_dataframe.append(future_features_dataframe)\n"
     ]
    },
    {
     "name": "stdout",
     "output_type": "stream",
     "text": [
      "UPDATE `demand_predict_test` SET `prediction_4`=94.55615997314453 WHERE `created_at` = '2023-06-14 06:00:00'\n",
      "UPDATE `demand_predict_test` SET `prediction_3`=94.8466796875 WHERE `created_at` = '2023-06-14 06:15:00'\n",
      "UPDATE `demand_predict_test` SET `prediction_2`=95.02333068847656 WHERE `created_at` = '2023-06-14 06:30:00'\n",
      "UPDATE `demand_predict_test` SET `prediction_1`=94.82872009277344 WHERE `created_at` = '2023-06-14 06:45:00'\n",
      "2023-06-09-15-47-12\n",
      "2023-06-09-15-47-12\n",
      "2023-06-09-12-39-32\n",
      "2023-06-14 05:30:00\n",
      "1/1 [==============================] - 1s 1s/step - loss: 1.8989e-04\n"
     ]
    },
    {
     "name": "stderr",
     "output_type": "stream",
     "text": [
      "C:\\Users\\KDDSUNFLOWER\\AppData\\Local\\Temp\\ipykernel_12708\\2698378733.py:323: FutureWarning: The frame.append method is deprecated and will be removed from pandas in a future version. Use pandas.concat instead.\n",
      "  last_datetime_dataframe = last_datetime_dataframe.append(future_features_dataframe)\n"
     ]
    },
    {
     "name": "stdout",
     "output_type": "stream",
     "text": [
      "1/1 [==============================] - 0s 211ms/step\n",
      "1/1 [==============================] - 0s 13ms/step\n"
     ]
    },
    {
     "name": "stderr",
     "output_type": "stream",
     "text": [
      "C:\\Users\\KDDSUNFLOWER\\AppData\\Local\\Temp\\ipykernel_12708\\2698378733.py:323: FutureWarning: The frame.append method is deprecated and will be removed from pandas in a future version. Use pandas.concat instead.\n",
      "  last_datetime_dataframe = last_datetime_dataframe.append(future_features_dataframe)\n"
     ]
    },
    {
     "name": "stdout",
     "output_type": "stream",
     "text": [
      "1/1 [==============================] - 0s 13ms/step\n"
     ]
    },
    {
     "name": "stderr",
     "output_type": "stream",
     "text": [
      "C:\\Users\\KDDSUNFLOWER\\AppData\\Local\\Temp\\ipykernel_12708\\2698378733.py:323: FutureWarning: The frame.append method is deprecated and will be removed from pandas in a future version. Use pandas.concat instead.\n",
      "  last_datetime_dataframe = last_datetime_dataframe.append(future_features_dataframe)\n"
     ]
    },
    {
     "name": "stdout",
     "output_type": "stream",
     "text": [
      "1/1 [==============================] - 0s 14ms/step\n"
     ]
    },
    {
     "name": "stderr",
     "output_type": "stream",
     "text": [
      "C:\\Users\\KDDSUNFLOWER\\AppData\\Local\\Temp\\ipykernel_12708\\2698378733.py:323: FutureWarning: The frame.append method is deprecated and will be removed from pandas in a future version. Use pandas.concat instead.\n",
      "  last_datetime_dataframe = last_datetime_dataframe.append(future_features_dataframe)\n"
     ]
    },
    {
     "name": "stdout",
     "output_type": "stream",
     "text": [
      "UPDATE `demand_predict_test` SET `prediction_4`=91.69709014892578 WHERE `created_at` = '2023-06-14 06:15:00'\n",
      "UPDATE `demand_predict_test` SET `prediction_3`=94.50373840332031 WHERE `created_at` = '2023-06-14 06:30:00'\n",
      "UPDATE `demand_predict_test` SET `prediction_2`=96.52017211914062 WHERE `created_at` = '2023-06-14 06:45:00'\n",
      "UPDATE `demand_predict_test` SET `prediction_1`=99.32666778564453 WHERE `created_at` = '2023-06-14 07:00:00'\n",
      "2023-06-09-15-47-12\n",
      "2023-06-09-15-47-12\n",
      "2023-06-09-12-39-32\n",
      "2023-06-14 05:45:00\n",
      "1/1 [==============================] - 1s 1s/step - loss: 2.2283e-04\n"
     ]
    },
    {
     "name": "stderr",
     "output_type": "stream",
     "text": [
      "C:\\Users\\KDDSUNFLOWER\\AppData\\Local\\Temp\\ipykernel_12708\\2698378733.py:323: FutureWarning: The frame.append method is deprecated and will be removed from pandas in a future version. Use pandas.concat instead.\n",
      "  last_datetime_dataframe = last_datetime_dataframe.append(future_features_dataframe)\n"
     ]
    },
    {
     "name": "stdout",
     "output_type": "stream",
     "text": [
      "1/1 [==============================] - 0s 210ms/step\n",
      "1/1 [==============================] - 0s 13ms/step\n"
     ]
    },
    {
     "name": "stderr",
     "output_type": "stream",
     "text": [
      "C:\\Users\\KDDSUNFLOWER\\AppData\\Local\\Temp\\ipykernel_12708\\2698378733.py:323: FutureWarning: The frame.append method is deprecated and will be removed from pandas in a future version. Use pandas.concat instead.\n",
      "  last_datetime_dataframe = last_datetime_dataframe.append(future_features_dataframe)\n"
     ]
    },
    {
     "name": "stdout",
     "output_type": "stream",
     "text": [
      "1/1 [==============================] - 0s 14ms/step\n"
     ]
    },
    {
     "name": "stderr",
     "output_type": "stream",
     "text": [
      "C:\\Users\\KDDSUNFLOWER\\AppData\\Local\\Temp\\ipykernel_12708\\2698378733.py:323: FutureWarning: The frame.append method is deprecated and will be removed from pandas in a future version. Use pandas.concat instead.\n",
      "  last_datetime_dataframe = last_datetime_dataframe.append(future_features_dataframe)\n"
     ]
    },
    {
     "name": "stdout",
     "output_type": "stream",
     "text": [
      "1/1 [==============================] - 0s 13ms/step\n"
     ]
    },
    {
     "name": "stderr",
     "output_type": "stream",
     "text": [
      "C:\\Users\\KDDSUNFLOWER\\AppData\\Local\\Temp\\ipykernel_12708\\2698378733.py:323: FutureWarning: The frame.append method is deprecated and will be removed from pandas in a future version. Use pandas.concat instead.\n",
      "  last_datetime_dataframe = last_datetime_dataframe.append(future_features_dataframe)\n"
     ]
    },
    {
     "name": "stdout",
     "output_type": "stream",
     "text": [
      "UPDATE `demand_predict_test` SET `prediction_4`=95.19796752929688 WHERE `created_at` = '2023-06-14 06:30:00'\n",
      "UPDATE `demand_predict_test` SET `prediction_3`=95.47683715820312 WHERE `created_at` = '2023-06-14 06:45:00'\n",
      "UPDATE `demand_predict_test` SET `prediction_2`=96.19593811035156 WHERE `created_at` = '2023-06-14 07:00:00'\n",
      "UPDATE `demand_predict_test` SET `prediction_1`=96.89688110351562 WHERE `created_at` = '2023-06-14 07:15:00'\n",
      "2023-06-09-15-47-12\n",
      "2023-06-09-15-47-12\n",
      "2023-06-09-12-39-32\n",
      "2023-06-14 06:00:00\n",
      "1/1 [==============================] - 1s 1s/step - loss: 1.5699e-04\n"
     ]
    },
    {
     "name": "stderr",
     "output_type": "stream",
     "text": [
      "C:\\Users\\KDDSUNFLOWER\\AppData\\Local\\Temp\\ipykernel_12708\\2698378733.py:323: FutureWarning: The frame.append method is deprecated and will be removed from pandas in a future version. Use pandas.concat instead.\n",
      "  last_datetime_dataframe = last_datetime_dataframe.append(future_features_dataframe)\n"
     ]
    },
    {
     "name": "stdout",
     "output_type": "stream",
     "text": [
      "1/1 [==============================] - 0s 206ms/step\n",
      "1/1 [==============================] - 0s 16ms/step\n"
     ]
    },
    {
     "name": "stderr",
     "output_type": "stream",
     "text": [
      "C:\\Users\\KDDSUNFLOWER\\AppData\\Local\\Temp\\ipykernel_12708\\2698378733.py:323: FutureWarning: The frame.append method is deprecated and will be removed from pandas in a future version. Use pandas.concat instead.\n",
      "  last_datetime_dataframe = last_datetime_dataframe.append(future_features_dataframe)\n"
     ]
    },
    {
     "name": "stdout",
     "output_type": "stream",
     "text": [
      "1/1 [==============================] - 0s 13ms/step\n"
     ]
    },
    {
     "name": "stderr",
     "output_type": "stream",
     "text": [
      "C:\\Users\\KDDSUNFLOWER\\AppData\\Local\\Temp\\ipykernel_12708\\2698378733.py:323: FutureWarning: The frame.append method is deprecated and will be removed from pandas in a future version. Use pandas.concat instead.\n",
      "  last_datetime_dataframe = last_datetime_dataframe.append(future_features_dataframe)\n"
     ]
    },
    {
     "name": "stdout",
     "output_type": "stream",
     "text": [
      "1/1 [==============================] - 0s 13ms/step\n"
     ]
    },
    {
     "name": "stderr",
     "output_type": "stream",
     "text": [
      "C:\\Users\\KDDSUNFLOWER\\AppData\\Local\\Temp\\ipykernel_12708\\2698378733.py:323: FutureWarning: The frame.append method is deprecated and will be removed from pandas in a future version. Use pandas.concat instead.\n",
      "  last_datetime_dataframe = last_datetime_dataframe.append(future_features_dataframe)\n"
     ]
    },
    {
     "name": "stdout",
     "output_type": "stream",
     "text": [
      "UPDATE `demand_predict_test` SET `prediction_4`=85.09378051757812 WHERE `created_at` = '2023-06-14 06:45:00'\n",
      "UPDATE `demand_predict_test` SET `prediction_3`=84.73629760742188 WHERE `created_at` = '2023-06-14 07:00:00'\n",
      "UPDATE `demand_predict_test` SET `prediction_2`=84.15120697021484 WHERE `created_at` = '2023-06-14 07:15:00'\n",
      "UPDATE `demand_predict_test` SET `prediction_1`=83.46288299560547 WHERE `created_at` = '2023-06-14 07:30:00'\n",
      "2023-06-09-15-47-12\n",
      "2023-06-09-15-47-12\n",
      "2023-06-09-12-39-32\n",
      "2023-06-14 06:15:00\n",
      "1/1 [==============================] - 2s 2s/step - loss: 6.9389e-05\n"
     ]
    },
    {
     "name": "stderr",
     "output_type": "stream",
     "text": [
      "C:\\Users\\KDDSUNFLOWER\\AppData\\Local\\Temp\\ipykernel_12708\\2698378733.py:323: FutureWarning: The frame.append method is deprecated and will be removed from pandas in a future version. Use pandas.concat instead.\n",
      "  last_datetime_dataframe = last_datetime_dataframe.append(future_features_dataframe)\n"
     ]
    },
    {
     "name": "stdout",
     "output_type": "stream",
     "text": [
      "1/1 [==============================] - 0s 208ms/step\n",
      "1/1 [==============================] - 0s 13ms/step\n"
     ]
    },
    {
     "name": "stderr",
     "output_type": "stream",
     "text": [
      "C:\\Users\\KDDSUNFLOWER\\AppData\\Local\\Temp\\ipykernel_12708\\2698378733.py:323: FutureWarning: The frame.append method is deprecated and will be removed from pandas in a future version. Use pandas.concat instead.\n",
      "  last_datetime_dataframe = last_datetime_dataframe.append(future_features_dataframe)\n"
     ]
    },
    {
     "name": "stdout",
     "output_type": "stream",
     "text": [
      "1/1 [==============================] - 0s 14ms/step\n"
     ]
    },
    {
     "name": "stderr",
     "output_type": "stream",
     "text": [
      "C:\\Users\\KDDSUNFLOWER\\AppData\\Local\\Temp\\ipykernel_12708\\2698378733.py:323: FutureWarning: The frame.append method is deprecated and will be removed from pandas in a future version. Use pandas.concat instead.\n",
      "  last_datetime_dataframe = last_datetime_dataframe.append(future_features_dataframe)\n"
     ]
    },
    {
     "name": "stdout",
     "output_type": "stream",
     "text": [
      "1/1 [==============================] - 0s 13ms/step\n"
     ]
    },
    {
     "name": "stderr",
     "output_type": "stream",
     "text": [
      "C:\\Users\\KDDSUNFLOWER\\AppData\\Local\\Temp\\ipykernel_12708\\2698378733.py:323: FutureWarning: The frame.append method is deprecated and will be removed from pandas in a future version. Use pandas.concat instead.\n",
      "  last_datetime_dataframe = last_datetime_dataframe.append(future_features_dataframe)\n"
     ]
    },
    {
     "name": "stdout",
     "output_type": "stream",
     "text": [
      "UPDATE `demand_predict_test` SET `prediction_4`=86.8844223022461 WHERE `created_at` = '2023-06-14 07:00:00'\n",
      "UPDATE `demand_predict_test` SET `prediction_3`=88.71878814697266 WHERE `created_at` = '2023-06-14 07:15:00'\n",
      "UPDATE `demand_predict_test` SET `prediction_2`=90.04597473144531 WHERE `created_at` = '2023-06-14 07:30:00'\n",
      "UPDATE `demand_predict_test` SET `prediction_1`=91.16645050048828 WHERE `created_at` = '2023-06-14 07:45:00'\n",
      "2023-06-09-15-47-12\n",
      "2023-06-09-15-47-12\n",
      "2023-06-09-12-39-32\n",
      "2023-06-14 06:30:00\n",
      "1/1 [==============================] - 1s 1s/step - loss: 6.8035e-05\n"
     ]
    },
    {
     "name": "stderr",
     "output_type": "stream",
     "text": [
      "C:\\Users\\KDDSUNFLOWER\\AppData\\Local\\Temp\\ipykernel_12708\\2698378733.py:323: FutureWarning: The frame.append method is deprecated and will be removed from pandas in a future version. Use pandas.concat instead.\n",
      "  last_datetime_dataframe = last_datetime_dataframe.append(future_features_dataframe)\n"
     ]
    },
    {
     "name": "stdout",
     "output_type": "stream",
     "text": [
      "1/1 [==============================] - 0s 214ms/step\n",
      "1/1 [==============================] - 0s 14ms/step\n"
     ]
    },
    {
     "name": "stderr",
     "output_type": "stream",
     "text": [
      "C:\\Users\\KDDSUNFLOWER\\AppData\\Local\\Temp\\ipykernel_12708\\2698378733.py:323: FutureWarning: The frame.append method is deprecated and will be removed from pandas in a future version. Use pandas.concat instead.\n",
      "  last_datetime_dataframe = last_datetime_dataframe.append(future_features_dataframe)\n"
     ]
    },
    {
     "name": "stdout",
     "output_type": "stream",
     "text": [
      "1/1 [==============================] - 0s 13ms/step\n"
     ]
    },
    {
     "name": "stderr",
     "output_type": "stream",
     "text": [
      "C:\\Users\\KDDSUNFLOWER\\AppData\\Local\\Temp\\ipykernel_12708\\2698378733.py:323: FutureWarning: The frame.append method is deprecated and will be removed from pandas in a future version. Use pandas.concat instead.\n",
      "  last_datetime_dataframe = last_datetime_dataframe.append(future_features_dataframe)\n"
     ]
    },
    {
     "name": "stdout",
     "output_type": "stream",
     "text": [
      "1/1 [==============================] - 0s 13ms/step\n"
     ]
    },
    {
     "name": "stderr",
     "output_type": "stream",
     "text": [
      "C:\\Users\\KDDSUNFLOWER\\AppData\\Local\\Temp\\ipykernel_12708\\2698378733.py:323: FutureWarning: The frame.append method is deprecated and will be removed from pandas in a future version. Use pandas.concat instead.\n",
      "  last_datetime_dataframe = last_datetime_dataframe.append(future_features_dataframe)\n"
     ]
    },
    {
     "name": "stdout",
     "output_type": "stream",
     "text": [
      "UPDATE `demand_predict_test` SET `prediction_4`=95.2378921508789 WHERE `created_at` = '2023-06-14 07:15:00'\n",
      "UPDATE `demand_predict_test` SET `prediction_3`=98.51193237304688 WHERE `created_at` = '2023-06-14 07:30:00'\n",
      "UPDATE `demand_predict_test` SET `prediction_2`=101.24826049804688 WHERE `created_at` = '2023-06-14 07:45:00'\n",
      "UPDATE `demand_predict_test` SET `prediction_1`=104.3904037475586 WHERE `created_at` = '2023-06-14 08:00:00'\n",
      "2023-06-09-15-47-12\n",
      "2023-06-09-15-47-12\n",
      "2023-06-09-12-39-32\n",
      "2023-06-14 06:45:00\n",
      "1/1 [==============================] - 1s 1s/step - loss: 3.2640e-05\n"
     ]
    },
    {
     "name": "stderr",
     "output_type": "stream",
     "text": [
      "C:\\Users\\KDDSUNFLOWER\\AppData\\Local\\Temp\\ipykernel_12708\\2698378733.py:323: FutureWarning: The frame.append method is deprecated and will be removed from pandas in a future version. Use pandas.concat instead.\n",
      "  last_datetime_dataframe = last_datetime_dataframe.append(future_features_dataframe)\n"
     ]
    },
    {
     "name": "stdout",
     "output_type": "stream",
     "text": [
      "1/1 [==============================] - 0s 215ms/step\n",
      "1/1 [==============================] - 0s 12ms/step\n"
     ]
    },
    {
     "name": "stderr",
     "output_type": "stream",
     "text": [
      "C:\\Users\\KDDSUNFLOWER\\AppData\\Local\\Temp\\ipykernel_12708\\2698378733.py:323: FutureWarning: The frame.append method is deprecated and will be removed from pandas in a future version. Use pandas.concat instead.\n",
      "  last_datetime_dataframe = last_datetime_dataframe.append(future_features_dataframe)\n"
     ]
    },
    {
     "name": "stdout",
     "output_type": "stream",
     "text": [
      "1/1 [==============================] - 0s 13ms/step\n"
     ]
    },
    {
     "name": "stderr",
     "output_type": "stream",
     "text": [
      "C:\\Users\\KDDSUNFLOWER\\AppData\\Local\\Temp\\ipykernel_12708\\2698378733.py:323: FutureWarning: The frame.append method is deprecated and will be removed from pandas in a future version. Use pandas.concat instead.\n",
      "  last_datetime_dataframe = last_datetime_dataframe.append(future_features_dataframe)\n"
     ]
    },
    {
     "name": "stdout",
     "output_type": "stream",
     "text": [
      "1/1 [==============================] - 0s 13ms/step\n"
     ]
    },
    {
     "name": "stderr",
     "output_type": "stream",
     "text": [
      "C:\\Users\\KDDSUNFLOWER\\AppData\\Local\\Temp\\ipykernel_12708\\2698378733.py:323: FutureWarning: The frame.append method is deprecated and will be removed from pandas in a future version. Use pandas.concat instead.\n",
      "  last_datetime_dataframe = last_datetime_dataframe.append(future_features_dataframe)\n"
     ]
    },
    {
     "name": "stdout",
     "output_type": "stream",
     "text": [
      "UPDATE `demand_predict_test` SET `prediction_4`=104.46320343017578 WHERE `created_at` = '2023-06-14 07:30:00'\n",
      "UPDATE `demand_predict_test` SET `prediction_3`=109.73861694335938 WHERE `created_at` = '2023-06-14 07:45:00'\n",
      "UPDATE `demand_predict_test` SET `prediction_2`=114.8945083618164 WHERE `created_at` = '2023-06-14 08:00:00'\n",
      "UPDATE `demand_predict_test` SET `prediction_1`=119.99440002441406 WHERE `created_at` = '2023-06-14 08:15:00'\n",
      "2023-06-09-15-47-12\n",
      "2023-06-09-15-47-12\n",
      "2023-06-09-12-39-32\n",
      "2023-06-14 07:00:00\n",
      "1/1 [==============================] - 1s 1s/step - loss: 1.9416e-04\n"
     ]
    },
    {
     "name": "stderr",
     "output_type": "stream",
     "text": [
      "C:\\Users\\KDDSUNFLOWER\\AppData\\Local\\Temp\\ipykernel_12708\\2698378733.py:323: FutureWarning: The frame.append method is deprecated and will be removed from pandas in a future version. Use pandas.concat instead.\n",
      "  last_datetime_dataframe = last_datetime_dataframe.append(future_features_dataframe)\n"
     ]
    },
    {
     "name": "stdout",
     "output_type": "stream",
     "text": [
      "1/1 [==============================] - 0s 212ms/step\n",
      "1/1 [==============================] - 0s 13ms/step\n"
     ]
    },
    {
     "name": "stderr",
     "output_type": "stream",
     "text": [
      "C:\\Users\\KDDSUNFLOWER\\AppData\\Local\\Temp\\ipykernel_12708\\2698378733.py:323: FutureWarning: The frame.append method is deprecated and will be removed from pandas in a future version. Use pandas.concat instead.\n",
      "  last_datetime_dataframe = last_datetime_dataframe.append(future_features_dataframe)\n"
     ]
    },
    {
     "name": "stdout",
     "output_type": "stream",
     "text": [
      "1/1 [==============================] - 0s 13ms/step\n"
     ]
    },
    {
     "name": "stderr",
     "output_type": "stream",
     "text": [
      "C:\\Users\\KDDSUNFLOWER\\AppData\\Local\\Temp\\ipykernel_12708\\2698378733.py:323: FutureWarning: The frame.append method is deprecated and will be removed from pandas in a future version. Use pandas.concat instead.\n",
      "  last_datetime_dataframe = last_datetime_dataframe.append(future_features_dataframe)\n"
     ]
    },
    {
     "name": "stdout",
     "output_type": "stream",
     "text": [
      "1/1 [==============================] - 0s 14ms/step\n"
     ]
    },
    {
     "name": "stderr",
     "output_type": "stream",
     "text": [
      "C:\\Users\\KDDSUNFLOWER\\AppData\\Local\\Temp\\ipykernel_12708\\2698378733.py:323: FutureWarning: The frame.append method is deprecated and will be removed from pandas in a future version. Use pandas.concat instead.\n",
      "  last_datetime_dataframe = last_datetime_dataframe.append(future_features_dataframe)\n"
     ]
    },
    {
     "name": "stdout",
     "output_type": "stream",
     "text": [
      "UPDATE `demand_predict_test` SET `prediction_4`=105.71308898925781 WHERE `created_at` = '2023-06-14 07:45:00'\n",
      "UPDATE `demand_predict_test` SET `prediction_3`=109.72298431396484 WHERE `created_at` = '2023-06-14 08:00:00'\n",
      "UPDATE `demand_predict_test` SET `prediction_2`=113.38809967041016 WHERE `created_at` = '2023-06-14 08:15:00'\n",
      "UPDATE `demand_predict_test` SET `prediction_1`=116.70775604248047 WHERE `created_at` = '2023-06-14 08:30:00'\n",
      "2023-06-09-15-47-12\n",
      "2023-06-09-15-47-12\n",
      "2023-06-09-12-39-32\n",
      "2023-06-14 07:15:00\n",
      "1/1 [==============================] - 1s 1s/step - loss: 1.1025e-04\n"
     ]
    },
    {
     "name": "stderr",
     "output_type": "stream",
     "text": [
      "C:\\Users\\KDDSUNFLOWER\\AppData\\Local\\Temp\\ipykernel_12708\\2698378733.py:323: FutureWarning: The frame.append method is deprecated and will be removed from pandas in a future version. Use pandas.concat instead.\n",
      "  last_datetime_dataframe = last_datetime_dataframe.append(future_features_dataframe)\n"
     ]
    },
    {
     "name": "stdout",
     "output_type": "stream",
     "text": [
      "1/1 [==============================] - 0s 214ms/step\n",
      "1/1 [==============================] - 0s 15ms/step\n"
     ]
    },
    {
     "name": "stderr",
     "output_type": "stream",
     "text": [
      "C:\\Users\\KDDSUNFLOWER\\AppData\\Local\\Temp\\ipykernel_12708\\2698378733.py:323: FutureWarning: The frame.append method is deprecated and will be removed from pandas in a future version. Use pandas.concat instead.\n",
      "  last_datetime_dataframe = last_datetime_dataframe.append(future_features_dataframe)\n"
     ]
    },
    {
     "name": "stdout",
     "output_type": "stream",
     "text": [
      "1/1 [==============================] - 0s 14ms/step\n"
     ]
    },
    {
     "name": "stderr",
     "output_type": "stream",
     "text": [
      "C:\\Users\\KDDSUNFLOWER\\AppData\\Local\\Temp\\ipykernel_12708\\2698378733.py:323: FutureWarning: The frame.append method is deprecated and will be removed from pandas in a future version. Use pandas.concat instead.\n",
      "  last_datetime_dataframe = last_datetime_dataframe.append(future_features_dataframe)\n"
     ]
    },
    {
     "name": "stdout",
     "output_type": "stream",
     "text": [
      "1/1 [==============================] - 0s 14ms/step\n"
     ]
    },
    {
     "name": "stderr",
     "output_type": "stream",
     "text": [
      "C:\\Users\\KDDSUNFLOWER\\AppData\\Local\\Temp\\ipykernel_12708\\2698378733.py:323: FutureWarning: The frame.append method is deprecated and will be removed from pandas in a future version. Use pandas.concat instead.\n",
      "  last_datetime_dataframe = last_datetime_dataframe.append(future_features_dataframe)\n"
     ]
    },
    {
     "name": "stdout",
     "output_type": "stream",
     "text": [
      "UPDATE `demand_predict_test` SET `prediction_4`=110.1186752319336 WHERE `created_at` = '2023-06-14 08:00:00'\n",
      "UPDATE `demand_predict_test` SET `prediction_3`=117.03276824951172 WHERE `created_at` = '2023-06-14 08:15:00'\n",
      "UPDATE `demand_predict_test` SET `prediction_2`=122.83433532714844 WHERE `created_at` = '2023-06-14 08:30:00'\n",
      "UPDATE `demand_predict_test` SET `prediction_1`=127.9406509399414 WHERE `created_at` = '2023-06-14 08:45:00'\n",
      "2023-06-09-15-47-12\n",
      "2023-06-09-15-47-12\n",
      "2023-06-09-12-39-32\n",
      "2023-06-14 07:30:00\n",
      "1/1 [==============================] - 1s 1s/step - loss: 2.2092e-05\n"
     ]
    },
    {
     "name": "stderr",
     "output_type": "stream",
     "text": [
      "C:\\Users\\KDDSUNFLOWER\\AppData\\Local\\Temp\\ipykernel_12708\\2698378733.py:323: FutureWarning: The frame.append method is deprecated and will be removed from pandas in a future version. Use pandas.concat instead.\n",
      "  last_datetime_dataframe = last_datetime_dataframe.append(future_features_dataframe)\n"
     ]
    },
    {
     "name": "stdout",
     "output_type": "stream",
     "text": [
      "1/1 [==============================] - 0s 219ms/step\n",
      "1/1 [==============================] - 0s 13ms/step\n"
     ]
    },
    {
     "name": "stderr",
     "output_type": "stream",
     "text": [
      "C:\\Users\\KDDSUNFLOWER\\AppData\\Local\\Temp\\ipykernel_12708\\2698378733.py:323: FutureWarning: The frame.append method is deprecated and will be removed from pandas in a future version. Use pandas.concat instead.\n",
      "  last_datetime_dataframe = last_datetime_dataframe.append(future_features_dataframe)\n"
     ]
    },
    {
     "name": "stdout",
     "output_type": "stream",
     "text": [
      "1/1 [==============================] - 0s 14ms/step\n"
     ]
    },
    {
     "name": "stderr",
     "output_type": "stream",
     "text": [
      "C:\\Users\\KDDSUNFLOWER\\AppData\\Local\\Temp\\ipykernel_12708\\2698378733.py:323: FutureWarning: The frame.append method is deprecated and will be removed from pandas in a future version. Use pandas.concat instead.\n",
      "  last_datetime_dataframe = last_datetime_dataframe.append(future_features_dataframe)\n"
     ]
    },
    {
     "name": "stdout",
     "output_type": "stream",
     "text": [
      "1/1 [==============================] - 0s 13ms/step\n"
     ]
    },
    {
     "name": "stderr",
     "output_type": "stream",
     "text": [
      "C:\\Users\\KDDSUNFLOWER\\AppData\\Local\\Temp\\ipykernel_12708\\2698378733.py:323: FutureWarning: The frame.append method is deprecated and will be removed from pandas in a future version. Use pandas.concat instead.\n",
      "  last_datetime_dataframe = last_datetime_dataframe.append(future_features_dataframe)\n"
     ]
    },
    {
     "name": "stdout",
     "output_type": "stream",
     "text": [
      "UPDATE `demand_predict_test` SET `prediction_4`=125.12725067138672 WHERE `created_at` = '2023-06-14 08:15:00'\n",
      "UPDATE `demand_predict_test` SET `prediction_3`=133.50057983398438 WHERE `created_at` = '2023-06-14 08:30:00'\n",
      "UPDATE `demand_predict_test` SET `prediction_2`=140.5625457763672 WHERE `created_at` = '2023-06-14 08:45:00'\n",
      "UPDATE `demand_predict_test` SET `prediction_1`=147.6580047607422 WHERE `created_at` = '2023-06-14 09:00:00'\n",
      "2023-06-09-15-47-12\n",
      "2023-06-09-15-47-12\n",
      "2023-06-09-12-39-32\n",
      "2023-06-14 07:45:00\n"
     ]
    },
    {
     "ename": "KeyboardInterrupt",
     "evalue": "",
     "output_type": "error",
     "traceback": [
      "\u001b[1;31m---------------------------------------------------------------------------\u001b[0m",
      "\u001b[1;31mKeyboardInterrupt\u001b[0m                         Traceback (most recent call last)",
      "\u001b[1;32m~\\AppData\\Local\\Temp\\ipykernel_12708\\3599205084.py\u001b[0m in \u001b[0;36m<module>\u001b[1;34m\u001b[0m\n\u001b[0;32m      1\u001b[0m \u001b[1;32mfor\u001b[0m \u001b[0mdate\u001b[0m \u001b[1;32min\u001b[0m \u001b[0mdatelist\u001b[0m\u001b[1;33m:\u001b[0m\u001b[1;33m\u001b[0m\u001b[1;33m\u001b[0m\u001b[0m\n\u001b[1;32m----> 2\u001b[1;33m     \u001b[0mpredict_demand\u001b[0m\u001b[1;33m(\u001b[0m\u001b[1;34m'{}'\u001b[0m\u001b[1;33m.\u001b[0m\u001b[0mformat\u001b[0m\u001b[1;33m(\u001b[0m\u001b[0mdate\u001b[0m\u001b[1;33m)\u001b[0m\u001b[1;33m,\u001b[0m \u001b[1;34m'ncku_demand'\u001b[0m\u001b[1;33m,\u001b[0m \u001b[1;34m'vanilla'\u001b[0m\u001b[1;33m)\u001b[0m\u001b[1;33m\u001b[0m\u001b[1;33m\u001b[0m\u001b[0m\n\u001b[0m",
      "\u001b[1;32m~\\AppData\\Local\\Temp\\ipykernel_12708\\2698378733.py\u001b[0m in \u001b[0;36mpredict_demand\u001b[1;34m(begin_date, database_name, model_structure)\u001b[0m\n\u001b[0;32m    235\u001b[0m     \u001b[1;31m# 讀取模型 [E]\u001b[0m\u001b[1;33m\u001b[0m\u001b[1;33m\u001b[0m\u001b[0m\n\u001b[0;32m    236\u001b[0m     \u001b[1;31m# 訓練模型 [B]\u001b[0m\u001b[1;33m\u001b[0m\u001b[1;33m\u001b[0m\u001b[0m\n\u001b[1;32m--> 237\u001b[1;33m     \u001b[0mvanilla_model_history\u001b[0m \u001b[1;33m=\u001b[0m \u001b[0mvanilla_model\u001b[0m\u001b[1;33m.\u001b[0m\u001b[0mfit\u001b[0m\u001b[1;33m(\u001b[0m\u001b[0mall_update_features\u001b[0m\u001b[1;33m,\u001b[0m \u001b[0mupdate_labels\u001b[0m\u001b[1;33m)\u001b[0m\u001b[1;33m\u001b[0m\u001b[1;33m\u001b[0m\u001b[0m\n\u001b[0m\u001b[0;32m    238\u001b[0m     \u001b[0mvanilla_model\u001b[0m\u001b[1;33m.\u001b[0m\u001b[0mcompile\u001b[0m\u001b[1;33m(\u001b[0m\u001b[0mloss\u001b[0m\u001b[1;33m=\u001b[0m\u001b[1;34m'mse'\u001b[0m\u001b[1;33m,\u001b[0m \u001b[0moptimizer\u001b[0m\u001b[1;33m=\u001b[0m\u001b[1;34m'Adam'\u001b[0m\u001b[1;33m)\u001b[0m\u001b[1;33m\u001b[0m\u001b[1;33m\u001b[0m\u001b[0m\n\u001b[0;32m    239\u001b[0m     \u001b[1;31m# 訓練模型 [E]\u001b[0m\u001b[1;33m\u001b[0m\u001b[1;33m\u001b[0m\u001b[0m\n",
      "\u001b[1;32m~\\anaconda3\\lib\\site-packages\\keras\\utils\\traceback_utils.py\u001b[0m in \u001b[0;36merror_handler\u001b[1;34m(*args, **kwargs)\u001b[0m\n\u001b[0;32m     63\u001b[0m         \u001b[0mfiltered_tb\u001b[0m \u001b[1;33m=\u001b[0m \u001b[1;32mNone\u001b[0m\u001b[1;33m\u001b[0m\u001b[1;33m\u001b[0m\u001b[0m\n\u001b[0;32m     64\u001b[0m         \u001b[1;32mtry\u001b[0m\u001b[1;33m:\u001b[0m\u001b[1;33m\u001b[0m\u001b[1;33m\u001b[0m\u001b[0m\n\u001b[1;32m---> 65\u001b[1;33m             \u001b[1;32mreturn\u001b[0m \u001b[0mfn\u001b[0m\u001b[1;33m(\u001b[0m\u001b[1;33m*\u001b[0m\u001b[0margs\u001b[0m\u001b[1;33m,\u001b[0m \u001b[1;33m**\u001b[0m\u001b[0mkwargs\u001b[0m\u001b[1;33m)\u001b[0m\u001b[1;33m\u001b[0m\u001b[1;33m\u001b[0m\u001b[0m\n\u001b[0m\u001b[0;32m     66\u001b[0m         \u001b[1;32mexcept\u001b[0m \u001b[0mException\u001b[0m \u001b[1;32mas\u001b[0m \u001b[0me\u001b[0m\u001b[1;33m:\u001b[0m\u001b[1;33m\u001b[0m\u001b[1;33m\u001b[0m\u001b[0m\n\u001b[0;32m     67\u001b[0m             \u001b[0mfiltered_tb\u001b[0m \u001b[1;33m=\u001b[0m \u001b[0m_process_traceback_frames\u001b[0m\u001b[1;33m(\u001b[0m\u001b[0me\u001b[0m\u001b[1;33m.\u001b[0m\u001b[0m__traceback__\u001b[0m\u001b[1;33m)\u001b[0m\u001b[1;33m\u001b[0m\u001b[1;33m\u001b[0m\u001b[0m\n",
      "\u001b[1;32m~\\anaconda3\\lib\\site-packages\\keras\\engine\\training.py\u001b[0m in \u001b[0;36mfit\u001b[1;34m(self, x, y, batch_size, epochs, verbose, callbacks, validation_split, validation_data, shuffle, class_weight, sample_weight, initial_epoch, steps_per_epoch, validation_steps, validation_batch_size, validation_freq, max_queue_size, workers, use_multiprocessing)\u001b[0m\n\u001b[0;32m   1683\u001b[0m                         ):\n\u001b[0;32m   1684\u001b[0m                             \u001b[0mcallbacks\u001b[0m\u001b[1;33m.\u001b[0m\u001b[0mon_train_batch_begin\u001b[0m\u001b[1;33m(\u001b[0m\u001b[0mstep\u001b[0m\u001b[1;33m)\u001b[0m\u001b[1;33m\u001b[0m\u001b[1;33m\u001b[0m\u001b[0m\n\u001b[1;32m-> 1685\u001b[1;33m                             \u001b[0mtmp_logs\u001b[0m \u001b[1;33m=\u001b[0m \u001b[0mself\u001b[0m\u001b[1;33m.\u001b[0m\u001b[0mtrain_function\u001b[0m\u001b[1;33m(\u001b[0m\u001b[0miterator\u001b[0m\u001b[1;33m)\u001b[0m\u001b[1;33m\u001b[0m\u001b[1;33m\u001b[0m\u001b[0m\n\u001b[0m\u001b[0;32m   1686\u001b[0m                             \u001b[1;32mif\u001b[0m \u001b[0mdata_handler\u001b[0m\u001b[1;33m.\u001b[0m\u001b[0mshould_sync\u001b[0m\u001b[1;33m:\u001b[0m\u001b[1;33m\u001b[0m\u001b[1;33m\u001b[0m\u001b[0m\n\u001b[0;32m   1687\u001b[0m                                 \u001b[0mcontext\u001b[0m\u001b[1;33m.\u001b[0m\u001b[0masync_wait\u001b[0m\u001b[1;33m(\u001b[0m\u001b[1;33m)\u001b[0m\u001b[1;33m\u001b[0m\u001b[1;33m\u001b[0m\u001b[0m\n",
      "\u001b[1;32m~\\anaconda3\\lib\\site-packages\\tensorflow\\python\\util\\traceback_utils.py\u001b[0m in \u001b[0;36merror_handler\u001b[1;34m(*args, **kwargs)\u001b[0m\n\u001b[0;32m    148\u001b[0m     \u001b[0mfiltered_tb\u001b[0m \u001b[1;33m=\u001b[0m \u001b[1;32mNone\u001b[0m\u001b[1;33m\u001b[0m\u001b[1;33m\u001b[0m\u001b[0m\n\u001b[0;32m    149\u001b[0m     \u001b[1;32mtry\u001b[0m\u001b[1;33m:\u001b[0m\u001b[1;33m\u001b[0m\u001b[1;33m\u001b[0m\u001b[0m\n\u001b[1;32m--> 150\u001b[1;33m       \u001b[1;32mreturn\u001b[0m \u001b[0mfn\u001b[0m\u001b[1;33m(\u001b[0m\u001b[1;33m*\u001b[0m\u001b[0margs\u001b[0m\u001b[1;33m,\u001b[0m \u001b[1;33m**\u001b[0m\u001b[0mkwargs\u001b[0m\u001b[1;33m)\u001b[0m\u001b[1;33m\u001b[0m\u001b[1;33m\u001b[0m\u001b[0m\n\u001b[0m\u001b[0;32m    151\u001b[0m     \u001b[1;32mexcept\u001b[0m \u001b[0mException\u001b[0m \u001b[1;32mas\u001b[0m \u001b[0me\u001b[0m\u001b[1;33m:\u001b[0m\u001b[1;33m\u001b[0m\u001b[1;33m\u001b[0m\u001b[0m\n\u001b[0;32m    152\u001b[0m       \u001b[0mfiltered_tb\u001b[0m \u001b[1;33m=\u001b[0m \u001b[0m_process_traceback_frames\u001b[0m\u001b[1;33m(\u001b[0m\u001b[0me\u001b[0m\u001b[1;33m.\u001b[0m\u001b[0m__traceback__\u001b[0m\u001b[1;33m)\u001b[0m\u001b[1;33m\u001b[0m\u001b[1;33m\u001b[0m\u001b[0m\n",
      "\u001b[1;32m~\\anaconda3\\lib\\site-packages\\tensorflow\\python\\eager\\polymorphic_function\\polymorphic_function.py\u001b[0m in \u001b[0;36m__call__\u001b[1;34m(self, *args, **kwds)\u001b[0m\n\u001b[0;32m    892\u001b[0m \u001b[1;33m\u001b[0m\u001b[0m\n\u001b[0;32m    893\u001b[0m       \u001b[1;32mwith\u001b[0m \u001b[0mOptionalXlaContext\u001b[0m\u001b[1;33m(\u001b[0m\u001b[0mself\u001b[0m\u001b[1;33m.\u001b[0m\u001b[0m_jit_compile\u001b[0m\u001b[1;33m)\u001b[0m\u001b[1;33m:\u001b[0m\u001b[1;33m\u001b[0m\u001b[1;33m\u001b[0m\u001b[0m\n\u001b[1;32m--> 894\u001b[1;33m         \u001b[0mresult\u001b[0m \u001b[1;33m=\u001b[0m \u001b[0mself\u001b[0m\u001b[1;33m.\u001b[0m\u001b[0m_call\u001b[0m\u001b[1;33m(\u001b[0m\u001b[1;33m*\u001b[0m\u001b[0margs\u001b[0m\u001b[1;33m,\u001b[0m \u001b[1;33m**\u001b[0m\u001b[0mkwds\u001b[0m\u001b[1;33m)\u001b[0m\u001b[1;33m\u001b[0m\u001b[1;33m\u001b[0m\u001b[0m\n\u001b[0m\u001b[0;32m    895\u001b[0m \u001b[1;33m\u001b[0m\u001b[0m\n\u001b[0;32m    896\u001b[0m       \u001b[0mnew_tracing_count\u001b[0m \u001b[1;33m=\u001b[0m \u001b[0mself\u001b[0m\u001b[1;33m.\u001b[0m\u001b[0mexperimental_get_tracing_count\u001b[0m\u001b[1;33m(\u001b[0m\u001b[1;33m)\u001b[0m\u001b[1;33m\u001b[0m\u001b[1;33m\u001b[0m\u001b[0m\n",
      "\u001b[1;32m~\\anaconda3\\lib\\site-packages\\tensorflow\\python\\eager\\polymorphic_function\\polymorphic_function.py\u001b[0m in \u001b[0;36m_call\u001b[1;34m(self, *args, **kwds)\u001b[0m\n\u001b[0;32m    940\u001b[0m       \u001b[1;31m# This is the first call of __call__, so we have to initialize.\u001b[0m\u001b[1;33m\u001b[0m\u001b[1;33m\u001b[0m\u001b[0m\n\u001b[0;32m    941\u001b[0m       \u001b[0minitializers\u001b[0m \u001b[1;33m=\u001b[0m \u001b[1;33m[\u001b[0m\u001b[1;33m]\u001b[0m\u001b[1;33m\u001b[0m\u001b[1;33m\u001b[0m\u001b[0m\n\u001b[1;32m--> 942\u001b[1;33m       \u001b[0mself\u001b[0m\u001b[1;33m.\u001b[0m\u001b[0m_initialize\u001b[0m\u001b[1;33m(\u001b[0m\u001b[0margs\u001b[0m\u001b[1;33m,\u001b[0m \u001b[0mkwds\u001b[0m\u001b[1;33m,\u001b[0m \u001b[0madd_initializers_to\u001b[0m\u001b[1;33m=\u001b[0m\u001b[0minitializers\u001b[0m\u001b[1;33m)\u001b[0m\u001b[1;33m\u001b[0m\u001b[1;33m\u001b[0m\u001b[0m\n\u001b[0m\u001b[0;32m    943\u001b[0m     \u001b[1;32mfinally\u001b[0m\u001b[1;33m:\u001b[0m\u001b[1;33m\u001b[0m\u001b[1;33m\u001b[0m\u001b[0m\n\u001b[0;32m    944\u001b[0m       \u001b[1;31m# At this point we know that the initialization is complete (or less\u001b[0m\u001b[1;33m\u001b[0m\u001b[1;33m\u001b[0m\u001b[0m\n",
      "\u001b[1;32m~\\anaconda3\\lib\\site-packages\\tensorflow\\python\\eager\\polymorphic_function\\polymorphic_function.py\u001b[0m in \u001b[0;36m_initialize\u001b[1;34m(self, args, kwds, add_initializers_to)\u001b[0m\n\u001b[0;32m    761\u001b[0m     \u001b[0mself\u001b[0m\u001b[1;33m.\u001b[0m\u001b[0m_graph_deleter\u001b[0m \u001b[1;33m=\u001b[0m \u001b[0mFunctionDeleter\u001b[0m\u001b[1;33m(\u001b[0m\u001b[0mself\u001b[0m\u001b[1;33m.\u001b[0m\u001b[0m_lifted_initializer_graph\u001b[0m\u001b[1;33m)\u001b[0m\u001b[1;33m\u001b[0m\u001b[1;33m\u001b[0m\u001b[0m\n\u001b[0;32m    762\u001b[0m     self._concrete_variable_creation_fn = (\n\u001b[1;32m--> 763\u001b[1;33m         \u001b[0mself\u001b[0m\u001b[1;33m.\u001b[0m\u001b[0m_variable_creation_fn\u001b[0m    \u001b[1;31m# pylint: disable=protected-access\u001b[0m\u001b[1;33m\u001b[0m\u001b[1;33m\u001b[0m\u001b[0m\n\u001b[0m\u001b[0;32m    764\u001b[0m         ._get_concrete_function_internal_garbage_collected(\n\u001b[0;32m    765\u001b[0m             *args, **kwds))\n",
      "\u001b[1;32m~\\anaconda3\\lib\\site-packages\\tensorflow\\python\\eager\\polymorphic_function\\tracing_compiler.py\u001b[0m in \u001b[0;36m_get_concrete_function_internal_garbage_collected\u001b[1;34m(self, *args, **kwargs)\u001b[0m\n\u001b[0;32m    169\u001b[0m     \u001b[1;34m\"\"\"Returns a concrete function which cleans up its graph function.\"\"\"\u001b[0m\u001b[1;33m\u001b[0m\u001b[1;33m\u001b[0m\u001b[0m\n\u001b[0;32m    170\u001b[0m     \u001b[1;32mwith\u001b[0m \u001b[0mself\u001b[0m\u001b[1;33m.\u001b[0m\u001b[0m_lock\u001b[0m\u001b[1;33m:\u001b[0m\u001b[1;33m\u001b[0m\u001b[1;33m\u001b[0m\u001b[0m\n\u001b[1;32m--> 171\u001b[1;33m       \u001b[0mconcrete_function\u001b[0m\u001b[1;33m,\u001b[0m \u001b[0m_\u001b[0m \u001b[1;33m=\u001b[0m \u001b[0mself\u001b[0m\u001b[1;33m.\u001b[0m\u001b[0m_maybe_define_concrete_function\u001b[0m\u001b[1;33m(\u001b[0m\u001b[0margs\u001b[0m\u001b[1;33m,\u001b[0m \u001b[0mkwargs\u001b[0m\u001b[1;33m)\u001b[0m\u001b[1;33m\u001b[0m\u001b[1;33m\u001b[0m\u001b[0m\n\u001b[0m\u001b[0;32m    172\u001b[0m     \u001b[1;32mreturn\u001b[0m \u001b[0mconcrete_function\u001b[0m\u001b[1;33m\u001b[0m\u001b[1;33m\u001b[0m\u001b[0m\n\u001b[0;32m    173\u001b[0m \u001b[1;33m\u001b[0m\u001b[0m\n",
      "\u001b[1;32m~\\anaconda3\\lib\\site-packages\\tensorflow\\python\\eager\\polymorphic_function\\tracing_compiler.py\u001b[0m in \u001b[0;36m_maybe_define_concrete_function\u001b[1;34m(self, args, kwargs)\u001b[0m\n\u001b[0;32m    164\u001b[0m       \u001b[0mkwargs\u001b[0m \u001b[1;33m=\u001b[0m \u001b[1;33m{\u001b[0m\u001b[1;33m}\u001b[0m\u001b[1;33m\u001b[0m\u001b[1;33m\u001b[0m\u001b[0m\n\u001b[0;32m    165\u001b[0m \u001b[1;33m\u001b[0m\u001b[0m\n\u001b[1;32m--> 166\u001b[1;33m     \u001b[1;32mreturn\u001b[0m \u001b[0mself\u001b[0m\u001b[1;33m.\u001b[0m\u001b[0m_maybe_define_function\u001b[0m\u001b[1;33m(\u001b[0m\u001b[0margs\u001b[0m\u001b[1;33m,\u001b[0m \u001b[0mkwargs\u001b[0m\u001b[1;33m)\u001b[0m\u001b[1;33m\u001b[0m\u001b[1;33m\u001b[0m\u001b[0m\n\u001b[0m\u001b[0;32m    167\u001b[0m \u001b[1;33m\u001b[0m\u001b[0m\n\u001b[0;32m    168\u001b[0m   \u001b[1;32mdef\u001b[0m \u001b[0m_get_concrete_function_internal_garbage_collected\u001b[0m\u001b[1;33m(\u001b[0m\u001b[0mself\u001b[0m\u001b[1;33m,\u001b[0m \u001b[1;33m*\u001b[0m\u001b[0margs\u001b[0m\u001b[1;33m,\u001b[0m \u001b[1;33m**\u001b[0m\u001b[0mkwargs\u001b[0m\u001b[1;33m)\u001b[0m\u001b[1;33m:\u001b[0m\u001b[1;33m\u001b[0m\u001b[1;33m\u001b[0m\u001b[0m\n",
      "\u001b[1;32m~\\anaconda3\\lib\\site-packages\\tensorflow\\python\\eager\\polymorphic_function\\tracing_compiler.py\u001b[0m in \u001b[0;36m_maybe_define_function\u001b[1;34m(self, args, kwargs)\u001b[0m\n\u001b[0;32m    394\u001b[0m           \u001b[0mkwargs\u001b[0m \u001b[1;33m=\u001b[0m \u001b[0mplaceholder_bound_args\u001b[0m\u001b[1;33m.\u001b[0m\u001b[0mkwargs\u001b[0m\u001b[1;33m\u001b[0m\u001b[1;33m\u001b[0m\u001b[0m\n\u001b[0;32m    395\u001b[0m \u001b[1;33m\u001b[0m\u001b[0m\n\u001b[1;32m--> 396\u001b[1;33m           concrete_function = self._create_concrete_function(\n\u001b[0m\u001b[0;32m    397\u001b[0m               args, kwargs, func_graph)\n\u001b[0;32m    398\u001b[0m \u001b[1;33m\u001b[0m\u001b[0m\n",
      "\u001b[1;32m~\\anaconda3\\lib\\site-packages\\tensorflow\\python\\eager\\polymorphic_function\\tracing_compiler.py\u001b[0m in \u001b[0;36m_create_concrete_function\u001b[1;34m(self, args, kwargs, func_graph)\u001b[0m\n\u001b[0;32m    298\u001b[0m \u001b[1;33m\u001b[0m\u001b[0m\n\u001b[0;32m    299\u001b[0m     concrete_function = monomorphic_function.ConcreteFunction(\n\u001b[1;32m--> 300\u001b[1;33m         func_graph_module.func_graph_from_py_func(\n\u001b[0m\u001b[0;32m    301\u001b[0m             \u001b[0mself\u001b[0m\u001b[1;33m.\u001b[0m\u001b[0m_name\u001b[0m\u001b[1;33m,\u001b[0m\u001b[1;33m\u001b[0m\u001b[1;33m\u001b[0m\u001b[0m\n\u001b[0;32m    302\u001b[0m             \u001b[0mself\u001b[0m\u001b[1;33m.\u001b[0m\u001b[0m_python_function\u001b[0m\u001b[1;33m,\u001b[0m\u001b[1;33m\u001b[0m\u001b[1;33m\u001b[0m\u001b[0m\n",
      "\u001b[1;32m~\\anaconda3\\lib\\site-packages\\tensorflow\\python\\framework\\func_graph.py\u001b[0m in \u001b[0;36mfunc_graph_from_py_func\u001b[1;34m(name, python_func, args, kwargs, signature, func_graph, autograph, autograph_options, add_control_dependencies, arg_names, op_return_value, collections, capture_by_value, create_placeholders, acd_record_initial_resource_uses)\u001b[0m\n\u001b[0;32m   1212\u001b[0m         \u001b[0m_\u001b[0m\u001b[1;33m,\u001b[0m \u001b[0moriginal_func\u001b[0m \u001b[1;33m=\u001b[0m \u001b[0mtf_decorator\u001b[0m\u001b[1;33m.\u001b[0m\u001b[0munwrap\u001b[0m\u001b[1;33m(\u001b[0m\u001b[0mpython_func\u001b[0m\u001b[1;33m)\u001b[0m\u001b[1;33m\u001b[0m\u001b[1;33m\u001b[0m\u001b[0m\n\u001b[0;32m   1213\u001b[0m \u001b[1;33m\u001b[0m\u001b[0m\n\u001b[1;32m-> 1214\u001b[1;33m       \u001b[0mfunc_outputs\u001b[0m \u001b[1;33m=\u001b[0m \u001b[0mpython_func\u001b[0m\u001b[1;33m(\u001b[0m\u001b[1;33m*\u001b[0m\u001b[0mfunc_args\u001b[0m\u001b[1;33m,\u001b[0m \u001b[1;33m**\u001b[0m\u001b[0mfunc_kwargs\u001b[0m\u001b[1;33m)\u001b[0m\u001b[1;33m\u001b[0m\u001b[1;33m\u001b[0m\u001b[0m\n\u001b[0m\u001b[0;32m   1215\u001b[0m \u001b[1;33m\u001b[0m\u001b[0m\n\u001b[0;32m   1216\u001b[0m       \u001b[1;31m# invariant: `func_outputs` contains only Tensors, CompositeTensors,\u001b[0m\u001b[1;33m\u001b[0m\u001b[1;33m\u001b[0m\u001b[0m\n",
      "\u001b[1;32m~\\anaconda3\\lib\\site-packages\\tensorflow\\python\\eager\\polymorphic_function\\polymorphic_function.py\u001b[0m in \u001b[0;36mwrapped_fn\u001b[1;34m(*args, **kwds)\u001b[0m\n\u001b[0;32m    665\u001b[0m         \u001b[1;31m# the function a weak reference to itself to avoid a reference cycle.\u001b[0m\u001b[1;33m\u001b[0m\u001b[1;33m\u001b[0m\u001b[0m\n\u001b[0;32m    666\u001b[0m         \u001b[1;32mwith\u001b[0m \u001b[0mOptionalXlaContext\u001b[0m\u001b[1;33m(\u001b[0m\u001b[0mcompile_with_xla\u001b[0m\u001b[1;33m)\u001b[0m\u001b[1;33m:\u001b[0m\u001b[1;33m\u001b[0m\u001b[1;33m\u001b[0m\u001b[0m\n\u001b[1;32m--> 667\u001b[1;33m           \u001b[0mout\u001b[0m \u001b[1;33m=\u001b[0m \u001b[0mweak_wrapped_fn\u001b[0m\u001b[1;33m(\u001b[0m\u001b[1;33m)\u001b[0m\u001b[1;33m.\u001b[0m\u001b[0m__wrapped__\u001b[0m\u001b[1;33m(\u001b[0m\u001b[1;33m*\u001b[0m\u001b[0margs\u001b[0m\u001b[1;33m,\u001b[0m \u001b[1;33m**\u001b[0m\u001b[0mkwds\u001b[0m\u001b[1;33m)\u001b[0m\u001b[1;33m\u001b[0m\u001b[1;33m\u001b[0m\u001b[0m\n\u001b[0m\u001b[0;32m    668\u001b[0m         \u001b[1;32mreturn\u001b[0m \u001b[0mout\u001b[0m\u001b[1;33m\u001b[0m\u001b[1;33m\u001b[0m\u001b[0m\n\u001b[0;32m    669\u001b[0m \u001b[1;33m\u001b[0m\u001b[0m\n",
      "\u001b[1;32m~\\anaconda3\\lib\\site-packages\\tensorflow\\python\\framework\\func_graph.py\u001b[0m in \u001b[0;36mautograph_handler\u001b[1;34m(*args, **kwargs)\u001b[0m\n\u001b[0;32m   1187\u001b[0m           \u001b[1;31m# TODO(mdan): Push this block higher in tf.function's call stack.\u001b[0m\u001b[1;33m\u001b[0m\u001b[1;33m\u001b[0m\u001b[0m\n\u001b[0;32m   1188\u001b[0m           \u001b[1;32mtry\u001b[0m\u001b[1;33m:\u001b[0m\u001b[1;33m\u001b[0m\u001b[1;33m\u001b[0m\u001b[0m\n\u001b[1;32m-> 1189\u001b[1;33m             return autograph.converted_call(\n\u001b[0m\u001b[0;32m   1190\u001b[0m                 \u001b[0moriginal_func\u001b[0m\u001b[1;33m,\u001b[0m\u001b[1;33m\u001b[0m\u001b[1;33m\u001b[0m\u001b[0m\n\u001b[0;32m   1191\u001b[0m                 \u001b[0margs\u001b[0m\u001b[1;33m,\u001b[0m\u001b[1;33m\u001b[0m\u001b[1;33m\u001b[0m\u001b[0m\n",
      "\u001b[1;32m~\\anaconda3\\lib\\site-packages\\tensorflow\\python\\autograph\\impl\\api.py\u001b[0m in \u001b[0;36mconverted_call\u001b[1;34m(f, args, kwargs, caller_fn_scope, options)\u001b[0m\n\u001b[0;32m    437\u001b[0m     \u001b[1;32mtry\u001b[0m\u001b[1;33m:\u001b[0m\u001b[1;33m\u001b[0m\u001b[1;33m\u001b[0m\u001b[0m\n\u001b[0;32m    438\u001b[0m       \u001b[1;32mif\u001b[0m \u001b[0mkwargs\u001b[0m \u001b[1;32mis\u001b[0m \u001b[1;32mnot\u001b[0m \u001b[1;32mNone\u001b[0m\u001b[1;33m:\u001b[0m\u001b[1;33m\u001b[0m\u001b[1;33m\u001b[0m\u001b[0m\n\u001b[1;32m--> 439\u001b[1;33m         \u001b[0mresult\u001b[0m \u001b[1;33m=\u001b[0m \u001b[0mconverted_f\u001b[0m\u001b[1;33m(\u001b[0m\u001b[1;33m*\u001b[0m\u001b[0meffective_args\u001b[0m\u001b[1;33m,\u001b[0m \u001b[1;33m**\u001b[0m\u001b[0mkwargs\u001b[0m\u001b[1;33m)\u001b[0m\u001b[1;33m\u001b[0m\u001b[1;33m\u001b[0m\u001b[0m\n\u001b[0m\u001b[0;32m    440\u001b[0m       \u001b[1;32melse\u001b[0m\u001b[1;33m:\u001b[0m\u001b[1;33m\u001b[0m\u001b[1;33m\u001b[0m\u001b[0m\n\u001b[0;32m    441\u001b[0m         \u001b[0mresult\u001b[0m \u001b[1;33m=\u001b[0m \u001b[0mconverted_f\u001b[0m\u001b[1;33m(\u001b[0m\u001b[1;33m*\u001b[0m\u001b[0meffective_args\u001b[0m\u001b[1;33m)\u001b[0m\u001b[1;33m\u001b[0m\u001b[1;33m\u001b[0m\u001b[0m\n",
      "\u001b[1;32m~\\anaconda3\\lib\\site-packages\\keras\\engine\\training.py\u001b[0m in \u001b[0;36mtf__train_function\u001b[1;34m(iterator)\u001b[0m\n\u001b[0;32m     13\u001b[0m                 \u001b[1;32mtry\u001b[0m\u001b[1;33m:\u001b[0m\u001b[1;33m\u001b[0m\u001b[1;33m\u001b[0m\u001b[0m\n\u001b[0;32m     14\u001b[0m                     \u001b[0mdo_return\u001b[0m \u001b[1;33m=\u001b[0m \u001b[1;32mTrue\u001b[0m\u001b[1;33m\u001b[0m\u001b[1;33m\u001b[0m\u001b[0m\n\u001b[1;32m---> 15\u001b[1;33m                     \u001b[0mretval_\u001b[0m \u001b[1;33m=\u001b[0m \u001b[0mag__\u001b[0m\u001b[1;33m.\u001b[0m\u001b[0mconverted_call\u001b[0m\u001b[1;33m(\u001b[0m\u001b[0mag__\u001b[0m\u001b[1;33m.\u001b[0m\u001b[0mld\u001b[0m\u001b[1;33m(\u001b[0m\u001b[0mstep_function\u001b[0m\u001b[1;33m)\u001b[0m\u001b[1;33m,\u001b[0m \u001b[1;33m(\u001b[0m\u001b[0mag__\u001b[0m\u001b[1;33m.\u001b[0m\u001b[0mld\u001b[0m\u001b[1;33m(\u001b[0m\u001b[0mself\u001b[0m\u001b[1;33m)\u001b[0m\u001b[1;33m,\u001b[0m \u001b[0mag__\u001b[0m\u001b[1;33m.\u001b[0m\u001b[0mld\u001b[0m\u001b[1;33m(\u001b[0m\u001b[0miterator\u001b[0m\u001b[1;33m)\u001b[0m\u001b[1;33m)\u001b[0m\u001b[1;33m,\u001b[0m \u001b[1;32mNone\u001b[0m\u001b[1;33m,\u001b[0m \u001b[0mfscope\u001b[0m\u001b[1;33m)\u001b[0m\u001b[1;33m\u001b[0m\u001b[1;33m\u001b[0m\u001b[0m\n\u001b[0m\u001b[0;32m     16\u001b[0m                 \u001b[1;32mexcept\u001b[0m\u001b[1;33m:\u001b[0m\u001b[1;33m\u001b[0m\u001b[1;33m\u001b[0m\u001b[0m\n\u001b[0;32m     17\u001b[0m                     \u001b[0mdo_return\u001b[0m \u001b[1;33m=\u001b[0m \u001b[1;32mFalse\u001b[0m\u001b[1;33m\u001b[0m\u001b[1;33m\u001b[0m\u001b[0m\n",
      "\u001b[1;32m~\\anaconda3\\lib\\site-packages\\tensorflow\\python\\autograph\\impl\\api.py\u001b[0m in \u001b[0;36mconverted_call\u001b[1;34m(f, args, kwargs, caller_fn_scope, options)\u001b[0m\n\u001b[0;32m    375\u001b[0m \u001b[1;33m\u001b[0m\u001b[0m\n\u001b[0;32m    376\u001b[0m   \u001b[1;32mif\u001b[0m \u001b[1;32mnot\u001b[0m \u001b[0moptions\u001b[0m\u001b[1;33m.\u001b[0m\u001b[0muser_requested\u001b[0m \u001b[1;32mand\u001b[0m \u001b[0mconversion\u001b[0m\u001b[1;33m.\u001b[0m\u001b[0mis_allowlisted\u001b[0m\u001b[1;33m(\u001b[0m\u001b[0mf\u001b[0m\u001b[1;33m)\u001b[0m\u001b[1;33m:\u001b[0m\u001b[1;33m\u001b[0m\u001b[1;33m\u001b[0m\u001b[0m\n\u001b[1;32m--> 377\u001b[1;33m     \u001b[1;32mreturn\u001b[0m \u001b[0m_call_unconverted\u001b[0m\u001b[1;33m(\u001b[0m\u001b[0mf\u001b[0m\u001b[1;33m,\u001b[0m \u001b[0margs\u001b[0m\u001b[1;33m,\u001b[0m \u001b[0mkwargs\u001b[0m\u001b[1;33m,\u001b[0m \u001b[0moptions\u001b[0m\u001b[1;33m)\u001b[0m\u001b[1;33m\u001b[0m\u001b[1;33m\u001b[0m\u001b[0m\n\u001b[0m\u001b[0;32m    378\u001b[0m \u001b[1;33m\u001b[0m\u001b[0m\n\u001b[0;32m    379\u001b[0m   \u001b[1;31m# internal_convert_user_code is for example turned off when issuing a dynamic\u001b[0m\u001b[1;33m\u001b[0m\u001b[1;33m\u001b[0m\u001b[0m\n",
      "\u001b[1;32m~\\anaconda3\\lib\\site-packages\\tensorflow\\python\\autograph\\impl\\api.py\u001b[0m in \u001b[0;36m_call_unconverted\u001b[1;34m(f, args, kwargs, options, update_cache)\u001b[0m\n\u001b[0;32m    457\u001b[0m   \u001b[1;32mif\u001b[0m \u001b[0mkwargs\u001b[0m \u001b[1;32mis\u001b[0m \u001b[1;32mnot\u001b[0m \u001b[1;32mNone\u001b[0m\u001b[1;33m:\u001b[0m\u001b[1;33m\u001b[0m\u001b[1;33m\u001b[0m\u001b[0m\n\u001b[0;32m    458\u001b[0m     \u001b[1;32mreturn\u001b[0m \u001b[0mf\u001b[0m\u001b[1;33m(\u001b[0m\u001b[1;33m*\u001b[0m\u001b[0margs\u001b[0m\u001b[1;33m,\u001b[0m \u001b[1;33m**\u001b[0m\u001b[0mkwargs\u001b[0m\u001b[1;33m)\u001b[0m\u001b[1;33m\u001b[0m\u001b[1;33m\u001b[0m\u001b[0m\n\u001b[1;32m--> 459\u001b[1;33m   \u001b[1;32mreturn\u001b[0m \u001b[0mf\u001b[0m\u001b[1;33m(\u001b[0m\u001b[1;33m*\u001b[0m\u001b[0margs\u001b[0m\u001b[1;33m)\u001b[0m\u001b[1;33m\u001b[0m\u001b[1;33m\u001b[0m\u001b[0m\n\u001b[0m\u001b[0;32m    460\u001b[0m \u001b[1;33m\u001b[0m\u001b[0m\n\u001b[0;32m    461\u001b[0m \u001b[1;33m\u001b[0m\u001b[0m\n",
      "\u001b[1;32m~\\anaconda3\\lib\\site-packages\\keras\\engine\\training.py\u001b[0m in \u001b[0;36mstep_function\u001b[1;34m(model, iterator)\u001b[0m\n\u001b[0;32m   1266\u001b[0m                 )\n\u001b[0;32m   1267\u001b[0m             \u001b[0mdata\u001b[0m \u001b[1;33m=\u001b[0m \u001b[0mnext\u001b[0m\u001b[1;33m(\u001b[0m\u001b[0miterator\u001b[0m\u001b[1;33m)\u001b[0m\u001b[1;33m\u001b[0m\u001b[1;33m\u001b[0m\u001b[0m\n\u001b[1;32m-> 1268\u001b[1;33m             \u001b[0moutputs\u001b[0m \u001b[1;33m=\u001b[0m \u001b[0mmodel\u001b[0m\u001b[1;33m.\u001b[0m\u001b[0mdistribute_strategy\u001b[0m\u001b[1;33m.\u001b[0m\u001b[0mrun\u001b[0m\u001b[1;33m(\u001b[0m\u001b[0mrun_step\u001b[0m\u001b[1;33m,\u001b[0m \u001b[0margs\u001b[0m\u001b[1;33m=\u001b[0m\u001b[1;33m(\u001b[0m\u001b[0mdata\u001b[0m\u001b[1;33m,\u001b[0m\u001b[1;33m)\u001b[0m\u001b[1;33m)\u001b[0m\u001b[1;33m\u001b[0m\u001b[1;33m\u001b[0m\u001b[0m\n\u001b[0m\u001b[0;32m   1269\u001b[0m             outputs = reduce_per_replica(\n\u001b[0;32m   1270\u001b[0m                 \u001b[0moutputs\u001b[0m\u001b[1;33m,\u001b[0m\u001b[1;33m\u001b[0m\u001b[1;33m\u001b[0m\u001b[0m\n",
      "\u001b[1;32m~\\anaconda3\\lib\\site-packages\\tensorflow\\python\\distribute\\distribute_lib.py\u001b[0m in \u001b[0;36mrun\u001b[1;34m(***failed resolving arguments***)\u001b[0m\n\u001b[0;32m   1314\u001b[0m       fn = autograph.tf_convert(\n\u001b[0;32m   1315\u001b[0m           fn, autograph_ctx.control_status_ctx(), convert_by_default=False)\n\u001b[1;32m-> 1316\u001b[1;33m       \u001b[1;32mreturn\u001b[0m \u001b[0mself\u001b[0m\u001b[1;33m.\u001b[0m\u001b[0m_extended\u001b[0m\u001b[1;33m.\u001b[0m\u001b[0mcall_for_each_replica\u001b[0m\u001b[1;33m(\u001b[0m\u001b[0mfn\u001b[0m\u001b[1;33m,\u001b[0m \u001b[0margs\u001b[0m\u001b[1;33m=\u001b[0m\u001b[0margs\u001b[0m\u001b[1;33m,\u001b[0m \u001b[0mkwargs\u001b[0m\u001b[1;33m=\u001b[0m\u001b[0mkwargs\u001b[0m\u001b[1;33m)\u001b[0m\u001b[1;33m\u001b[0m\u001b[1;33m\u001b[0m\u001b[0m\n\u001b[0m\u001b[0;32m   1317\u001b[0m \u001b[1;33m\u001b[0m\u001b[0m\n\u001b[0;32m   1318\u001b[0m   \u001b[1;32mdef\u001b[0m \u001b[0mreduce\u001b[0m\u001b[1;33m(\u001b[0m\u001b[0mself\u001b[0m\u001b[1;33m,\u001b[0m \u001b[0mreduce_op\u001b[0m\u001b[1;33m,\u001b[0m \u001b[0mvalue\u001b[0m\u001b[1;33m,\u001b[0m \u001b[0maxis\u001b[0m\u001b[1;33m)\u001b[0m\u001b[1;33m:\u001b[0m\u001b[1;33m\u001b[0m\u001b[1;33m\u001b[0m\u001b[0m\n",
      "\u001b[1;32m~\\anaconda3\\lib\\site-packages\\tensorflow\\python\\distribute\\distribute_lib.py\u001b[0m in \u001b[0;36mcall_for_each_replica\u001b[1;34m(self, fn, args, kwargs)\u001b[0m\n\u001b[0;32m   2893\u001b[0m       \u001b[0mkwargs\u001b[0m \u001b[1;33m=\u001b[0m \u001b[1;33m{\u001b[0m\u001b[1;33m}\u001b[0m\u001b[1;33m\u001b[0m\u001b[1;33m\u001b[0m\u001b[0m\n\u001b[0;32m   2894\u001b[0m     \u001b[1;32mwith\u001b[0m \u001b[0mself\u001b[0m\u001b[1;33m.\u001b[0m\u001b[0m_container_strategy\u001b[0m\u001b[1;33m(\u001b[0m\u001b[1;33m)\u001b[0m\u001b[1;33m.\u001b[0m\u001b[0mscope\u001b[0m\u001b[1;33m(\u001b[0m\u001b[1;33m)\u001b[0m\u001b[1;33m:\u001b[0m\u001b[1;33m\u001b[0m\u001b[1;33m\u001b[0m\u001b[0m\n\u001b[1;32m-> 2895\u001b[1;33m       \u001b[1;32mreturn\u001b[0m \u001b[0mself\u001b[0m\u001b[1;33m.\u001b[0m\u001b[0m_call_for_each_replica\u001b[0m\u001b[1;33m(\u001b[0m\u001b[0mfn\u001b[0m\u001b[1;33m,\u001b[0m \u001b[0margs\u001b[0m\u001b[1;33m,\u001b[0m \u001b[0mkwargs\u001b[0m\u001b[1;33m)\u001b[0m\u001b[1;33m\u001b[0m\u001b[1;33m\u001b[0m\u001b[0m\n\u001b[0m\u001b[0;32m   2896\u001b[0m \u001b[1;33m\u001b[0m\u001b[0m\n\u001b[0;32m   2897\u001b[0m   \u001b[1;32mdef\u001b[0m \u001b[0m_call_for_each_replica\u001b[0m\u001b[1;33m(\u001b[0m\u001b[0mself\u001b[0m\u001b[1;33m,\u001b[0m \u001b[0mfn\u001b[0m\u001b[1;33m,\u001b[0m \u001b[0margs\u001b[0m\u001b[1;33m,\u001b[0m \u001b[0mkwargs\u001b[0m\u001b[1;33m)\u001b[0m\u001b[1;33m:\u001b[0m\u001b[1;33m\u001b[0m\u001b[1;33m\u001b[0m\u001b[0m\n",
      "\u001b[1;32m~\\anaconda3\\lib\\site-packages\\tensorflow\\python\\distribute\\distribute_lib.py\u001b[0m in \u001b[0;36m_call_for_each_replica\u001b[1;34m(self, fn, args, kwargs)\u001b[0m\n\u001b[0;32m   3694\u001b[0m   \u001b[1;32mdef\u001b[0m \u001b[0m_call_for_each_replica\u001b[0m\u001b[1;33m(\u001b[0m\u001b[0mself\u001b[0m\u001b[1;33m,\u001b[0m \u001b[0mfn\u001b[0m\u001b[1;33m,\u001b[0m \u001b[0margs\u001b[0m\u001b[1;33m,\u001b[0m \u001b[0mkwargs\u001b[0m\u001b[1;33m)\u001b[0m\u001b[1;33m:\u001b[0m\u001b[1;33m\u001b[0m\u001b[1;33m\u001b[0m\u001b[0m\n\u001b[0;32m   3695\u001b[0m     \u001b[1;32mwith\u001b[0m \u001b[0mReplicaContext\u001b[0m\u001b[1;33m(\u001b[0m\u001b[0mself\u001b[0m\u001b[1;33m.\u001b[0m\u001b[0m_container_strategy\u001b[0m\u001b[1;33m(\u001b[0m\u001b[1;33m)\u001b[0m\u001b[1;33m,\u001b[0m \u001b[0mreplica_id_in_sync_group\u001b[0m\u001b[1;33m=\u001b[0m\u001b[1;36m0\u001b[0m\u001b[1;33m)\u001b[0m\u001b[1;33m:\u001b[0m\u001b[1;33m\u001b[0m\u001b[1;33m\u001b[0m\u001b[0m\n\u001b[1;32m-> 3696\u001b[1;33m       \u001b[1;32mreturn\u001b[0m \u001b[0mfn\u001b[0m\u001b[1;33m(\u001b[0m\u001b[1;33m*\u001b[0m\u001b[0margs\u001b[0m\u001b[1;33m,\u001b[0m \u001b[1;33m**\u001b[0m\u001b[0mkwargs\u001b[0m\u001b[1;33m)\u001b[0m\u001b[1;33m\u001b[0m\u001b[1;33m\u001b[0m\u001b[0m\n\u001b[0m\u001b[0;32m   3697\u001b[0m \u001b[1;33m\u001b[0m\u001b[0m\n\u001b[0;32m   3698\u001b[0m   \u001b[1;32mdef\u001b[0m \u001b[0m_reduce_to\u001b[0m\u001b[1;33m(\u001b[0m\u001b[0mself\u001b[0m\u001b[1;33m,\u001b[0m \u001b[0mreduce_op\u001b[0m\u001b[1;33m,\u001b[0m \u001b[0mvalue\u001b[0m\u001b[1;33m,\u001b[0m \u001b[0mdestinations\u001b[0m\u001b[1;33m,\u001b[0m \u001b[0moptions\u001b[0m\u001b[1;33m)\u001b[0m\u001b[1;33m:\u001b[0m\u001b[1;33m\u001b[0m\u001b[1;33m\u001b[0m\u001b[0m\n",
      "\u001b[1;32m~\\anaconda3\\lib\\site-packages\\tensorflow\\python\\autograph\\impl\\api.py\u001b[0m in \u001b[0;36mwrapper\u001b[1;34m(*args, **kwargs)\u001b[0m\n\u001b[0;32m    687\u001b[0m       \u001b[1;32mtry\u001b[0m\u001b[1;33m:\u001b[0m\u001b[1;33m\u001b[0m\u001b[1;33m\u001b[0m\u001b[0m\n\u001b[0;32m    688\u001b[0m         \u001b[1;32mwith\u001b[0m \u001b[0mconversion_ctx\u001b[0m\u001b[1;33m:\u001b[0m\u001b[1;33m\u001b[0m\u001b[1;33m\u001b[0m\u001b[0m\n\u001b[1;32m--> 689\u001b[1;33m           \u001b[1;32mreturn\u001b[0m \u001b[0mconverted_call\u001b[0m\u001b[1;33m(\u001b[0m\u001b[0mf\u001b[0m\u001b[1;33m,\u001b[0m \u001b[0margs\u001b[0m\u001b[1;33m,\u001b[0m \u001b[0mkwargs\u001b[0m\u001b[1;33m,\u001b[0m \u001b[0moptions\u001b[0m\u001b[1;33m=\u001b[0m\u001b[0moptions\u001b[0m\u001b[1;33m)\u001b[0m\u001b[1;33m\u001b[0m\u001b[1;33m\u001b[0m\u001b[0m\n\u001b[0m\u001b[0;32m    690\u001b[0m       \u001b[1;32mexcept\u001b[0m \u001b[0mException\u001b[0m \u001b[1;32mas\u001b[0m \u001b[0me\u001b[0m\u001b[1;33m:\u001b[0m  \u001b[1;31m# pylint:disable=broad-except\u001b[0m\u001b[1;33m\u001b[0m\u001b[1;33m\u001b[0m\u001b[0m\n\u001b[0;32m    691\u001b[0m         \u001b[1;32mif\u001b[0m \u001b[0mhasattr\u001b[0m\u001b[1;33m(\u001b[0m\u001b[0me\u001b[0m\u001b[1;33m,\u001b[0m \u001b[1;34m'ag_error_metadata'\u001b[0m\u001b[1;33m)\u001b[0m\u001b[1;33m:\u001b[0m\u001b[1;33m\u001b[0m\u001b[1;33m\u001b[0m\u001b[0m\n",
      "\u001b[1;32m~\\anaconda3\\lib\\site-packages\\tensorflow\\python\\autograph\\impl\\api.py\u001b[0m in \u001b[0;36mconverted_call\u001b[1;34m(f, args, kwargs, caller_fn_scope, options)\u001b[0m\n\u001b[0;32m    375\u001b[0m \u001b[1;33m\u001b[0m\u001b[0m\n\u001b[0;32m    376\u001b[0m   \u001b[1;32mif\u001b[0m \u001b[1;32mnot\u001b[0m \u001b[0moptions\u001b[0m\u001b[1;33m.\u001b[0m\u001b[0muser_requested\u001b[0m \u001b[1;32mand\u001b[0m \u001b[0mconversion\u001b[0m\u001b[1;33m.\u001b[0m\u001b[0mis_allowlisted\u001b[0m\u001b[1;33m(\u001b[0m\u001b[0mf\u001b[0m\u001b[1;33m)\u001b[0m\u001b[1;33m:\u001b[0m\u001b[1;33m\u001b[0m\u001b[1;33m\u001b[0m\u001b[0m\n\u001b[1;32m--> 377\u001b[1;33m     \u001b[1;32mreturn\u001b[0m \u001b[0m_call_unconverted\u001b[0m\u001b[1;33m(\u001b[0m\u001b[0mf\u001b[0m\u001b[1;33m,\u001b[0m \u001b[0margs\u001b[0m\u001b[1;33m,\u001b[0m \u001b[0mkwargs\u001b[0m\u001b[1;33m,\u001b[0m \u001b[0moptions\u001b[0m\u001b[1;33m)\u001b[0m\u001b[1;33m\u001b[0m\u001b[1;33m\u001b[0m\u001b[0m\n\u001b[0m\u001b[0;32m    378\u001b[0m \u001b[1;33m\u001b[0m\u001b[0m\n\u001b[0;32m    379\u001b[0m   \u001b[1;31m# internal_convert_user_code is for example turned off when issuing a dynamic\u001b[0m\u001b[1;33m\u001b[0m\u001b[1;33m\u001b[0m\u001b[0m\n",
      "\u001b[1;32m~\\anaconda3\\lib\\site-packages\\tensorflow\\python\\autograph\\impl\\api.py\u001b[0m in \u001b[0;36m_call_unconverted\u001b[1;34m(f, args, kwargs, options, update_cache)\u001b[0m\n\u001b[0;32m    456\u001b[0m \u001b[1;33m\u001b[0m\u001b[0m\n\u001b[0;32m    457\u001b[0m   \u001b[1;32mif\u001b[0m \u001b[0mkwargs\u001b[0m \u001b[1;32mis\u001b[0m \u001b[1;32mnot\u001b[0m \u001b[1;32mNone\u001b[0m\u001b[1;33m:\u001b[0m\u001b[1;33m\u001b[0m\u001b[1;33m\u001b[0m\u001b[0m\n\u001b[1;32m--> 458\u001b[1;33m     \u001b[1;32mreturn\u001b[0m \u001b[0mf\u001b[0m\u001b[1;33m(\u001b[0m\u001b[1;33m*\u001b[0m\u001b[0margs\u001b[0m\u001b[1;33m,\u001b[0m \u001b[1;33m**\u001b[0m\u001b[0mkwargs\u001b[0m\u001b[1;33m)\u001b[0m\u001b[1;33m\u001b[0m\u001b[1;33m\u001b[0m\u001b[0m\n\u001b[0m\u001b[0;32m    459\u001b[0m   \u001b[1;32mreturn\u001b[0m \u001b[0mf\u001b[0m\u001b[1;33m(\u001b[0m\u001b[1;33m*\u001b[0m\u001b[0margs\u001b[0m\u001b[1;33m)\u001b[0m\u001b[1;33m\u001b[0m\u001b[1;33m\u001b[0m\u001b[0m\n\u001b[0;32m    460\u001b[0m \u001b[1;33m\u001b[0m\u001b[0m\n",
      "\u001b[1;32m~\\anaconda3\\lib\\site-packages\\keras\\engine\\training.py\u001b[0m in \u001b[0;36mrun_step\u001b[1;34m(data)\u001b[0m\n\u001b[0;32m   1247\u001b[0m \u001b[1;33m\u001b[0m\u001b[0m\n\u001b[0;32m   1248\u001b[0m             \u001b[1;32mdef\u001b[0m \u001b[0mrun_step\u001b[0m\u001b[1;33m(\u001b[0m\u001b[0mdata\u001b[0m\u001b[1;33m)\u001b[0m\u001b[1;33m:\u001b[0m\u001b[1;33m\u001b[0m\u001b[1;33m\u001b[0m\u001b[0m\n\u001b[1;32m-> 1249\u001b[1;33m                 \u001b[0moutputs\u001b[0m \u001b[1;33m=\u001b[0m \u001b[0mmodel\u001b[0m\u001b[1;33m.\u001b[0m\u001b[0mtrain_step\u001b[0m\u001b[1;33m(\u001b[0m\u001b[0mdata\u001b[0m\u001b[1;33m)\u001b[0m\u001b[1;33m\u001b[0m\u001b[1;33m\u001b[0m\u001b[0m\n\u001b[0m\u001b[0;32m   1250\u001b[0m                 \u001b[1;31m# Ensure counter is updated only if `train_step` succeeds.\u001b[0m\u001b[1;33m\u001b[0m\u001b[1;33m\u001b[0m\u001b[0m\n\u001b[0;32m   1251\u001b[0m                 \u001b[1;32mwith\u001b[0m \u001b[0mtf\u001b[0m\u001b[1;33m.\u001b[0m\u001b[0mcontrol_dependencies\u001b[0m\u001b[1;33m(\u001b[0m\u001b[0m_minimum_control_deps\u001b[0m\u001b[1;33m(\u001b[0m\u001b[0moutputs\u001b[0m\u001b[1;33m)\u001b[0m\u001b[1;33m)\u001b[0m\u001b[1;33m:\u001b[0m\u001b[1;33m\u001b[0m\u001b[1;33m\u001b[0m\u001b[0m\n",
      "\u001b[1;32m~\\anaconda3\\lib\\site-packages\\keras\\engine\\training.py\u001b[0m in \u001b[0;36mtrain_step\u001b[1;34m(self, data)\u001b[0m\n\u001b[0;32m   1048\u001b[0m         \u001b[1;31m# Run forward pass.\u001b[0m\u001b[1;33m\u001b[0m\u001b[1;33m\u001b[0m\u001b[0m\n\u001b[0;32m   1049\u001b[0m         \u001b[1;32mwith\u001b[0m \u001b[0mtf\u001b[0m\u001b[1;33m.\u001b[0m\u001b[0mGradientTape\u001b[0m\u001b[1;33m(\u001b[0m\u001b[1;33m)\u001b[0m \u001b[1;32mas\u001b[0m \u001b[0mtape\u001b[0m\u001b[1;33m:\u001b[0m\u001b[1;33m\u001b[0m\u001b[1;33m\u001b[0m\u001b[0m\n\u001b[1;32m-> 1050\u001b[1;33m             \u001b[0my_pred\u001b[0m \u001b[1;33m=\u001b[0m \u001b[0mself\u001b[0m\u001b[1;33m(\u001b[0m\u001b[0mx\u001b[0m\u001b[1;33m,\u001b[0m \u001b[0mtraining\u001b[0m\u001b[1;33m=\u001b[0m\u001b[1;32mTrue\u001b[0m\u001b[1;33m)\u001b[0m\u001b[1;33m\u001b[0m\u001b[1;33m\u001b[0m\u001b[0m\n\u001b[0m\u001b[0;32m   1051\u001b[0m             \u001b[0mloss\u001b[0m \u001b[1;33m=\u001b[0m \u001b[0mself\u001b[0m\u001b[1;33m.\u001b[0m\u001b[0mcompute_loss\u001b[0m\u001b[1;33m(\u001b[0m\u001b[0mx\u001b[0m\u001b[1;33m,\u001b[0m \u001b[0my\u001b[0m\u001b[1;33m,\u001b[0m \u001b[0my_pred\u001b[0m\u001b[1;33m,\u001b[0m \u001b[0msample_weight\u001b[0m\u001b[1;33m)\u001b[0m\u001b[1;33m\u001b[0m\u001b[1;33m\u001b[0m\u001b[0m\n\u001b[0;32m   1052\u001b[0m         \u001b[0mself\u001b[0m\u001b[1;33m.\u001b[0m\u001b[0m_validate_target_and_loss\u001b[0m\u001b[1;33m(\u001b[0m\u001b[0my\u001b[0m\u001b[1;33m,\u001b[0m \u001b[0mloss\u001b[0m\u001b[1;33m)\u001b[0m\u001b[1;33m\u001b[0m\u001b[1;33m\u001b[0m\u001b[0m\n",
      "\u001b[1;32m~\\anaconda3\\lib\\site-packages\\keras\\utils\\traceback_utils.py\u001b[0m in \u001b[0;36merror_handler\u001b[1;34m(*args, **kwargs)\u001b[0m\n\u001b[0;32m     63\u001b[0m         \u001b[0mfiltered_tb\u001b[0m \u001b[1;33m=\u001b[0m \u001b[1;32mNone\u001b[0m\u001b[1;33m\u001b[0m\u001b[1;33m\u001b[0m\u001b[0m\n\u001b[0;32m     64\u001b[0m         \u001b[1;32mtry\u001b[0m\u001b[1;33m:\u001b[0m\u001b[1;33m\u001b[0m\u001b[1;33m\u001b[0m\u001b[0m\n\u001b[1;32m---> 65\u001b[1;33m             \u001b[1;32mreturn\u001b[0m \u001b[0mfn\u001b[0m\u001b[1;33m(\u001b[0m\u001b[1;33m*\u001b[0m\u001b[0margs\u001b[0m\u001b[1;33m,\u001b[0m \u001b[1;33m**\u001b[0m\u001b[0mkwargs\u001b[0m\u001b[1;33m)\u001b[0m\u001b[1;33m\u001b[0m\u001b[1;33m\u001b[0m\u001b[0m\n\u001b[0m\u001b[0;32m     66\u001b[0m         \u001b[1;32mexcept\u001b[0m \u001b[0mException\u001b[0m \u001b[1;32mas\u001b[0m \u001b[0me\u001b[0m\u001b[1;33m:\u001b[0m\u001b[1;33m\u001b[0m\u001b[1;33m\u001b[0m\u001b[0m\n\u001b[0;32m     67\u001b[0m             \u001b[0mfiltered_tb\u001b[0m \u001b[1;33m=\u001b[0m \u001b[0m_process_traceback_frames\u001b[0m\u001b[1;33m(\u001b[0m\u001b[0me\u001b[0m\u001b[1;33m.\u001b[0m\u001b[0m__traceback__\u001b[0m\u001b[1;33m)\u001b[0m\u001b[1;33m\u001b[0m\u001b[1;33m\u001b[0m\u001b[0m\n",
      "\u001b[1;32m~\\anaconda3\\lib\\site-packages\\keras\\engine\\training.py\u001b[0m in \u001b[0;36m__call__\u001b[1;34m(self, *args, **kwargs)\u001b[0m\n\u001b[0;32m    556\u001b[0m             \u001b[0mlayout_map_lib\u001b[0m\u001b[1;33m.\u001b[0m\u001b[0m_map_subclass_model_variable\u001b[0m\u001b[1;33m(\u001b[0m\u001b[0mself\u001b[0m\u001b[1;33m,\u001b[0m \u001b[0mself\u001b[0m\u001b[1;33m.\u001b[0m\u001b[0m_layout_map\u001b[0m\u001b[1;33m)\u001b[0m\u001b[1;33m\u001b[0m\u001b[1;33m\u001b[0m\u001b[0m\n\u001b[0;32m    557\u001b[0m \u001b[1;33m\u001b[0m\u001b[0m\n\u001b[1;32m--> 558\u001b[1;33m         \u001b[1;32mreturn\u001b[0m \u001b[0msuper\u001b[0m\u001b[1;33m(\u001b[0m\u001b[1;33m)\u001b[0m\u001b[1;33m.\u001b[0m\u001b[0m__call__\u001b[0m\u001b[1;33m(\u001b[0m\u001b[1;33m*\u001b[0m\u001b[0margs\u001b[0m\u001b[1;33m,\u001b[0m \u001b[1;33m**\u001b[0m\u001b[0mkwargs\u001b[0m\u001b[1;33m)\u001b[0m\u001b[1;33m\u001b[0m\u001b[1;33m\u001b[0m\u001b[0m\n\u001b[0m\u001b[0;32m    559\u001b[0m \u001b[1;33m\u001b[0m\u001b[0m\n\u001b[0;32m    560\u001b[0m     \u001b[1;33m@\u001b[0m\u001b[0mdoc_controls\u001b[0m\u001b[1;33m.\u001b[0m\u001b[0mdoc_in_current_and_subclasses\u001b[0m\u001b[1;33m\u001b[0m\u001b[1;33m\u001b[0m\u001b[0m\n",
      "\u001b[1;32m~\\anaconda3\\lib\\site-packages\\keras\\utils\\traceback_utils.py\u001b[0m in \u001b[0;36merror_handler\u001b[1;34m(*args, **kwargs)\u001b[0m\n\u001b[0;32m     63\u001b[0m         \u001b[0mfiltered_tb\u001b[0m \u001b[1;33m=\u001b[0m \u001b[1;32mNone\u001b[0m\u001b[1;33m\u001b[0m\u001b[1;33m\u001b[0m\u001b[0m\n\u001b[0;32m     64\u001b[0m         \u001b[1;32mtry\u001b[0m\u001b[1;33m:\u001b[0m\u001b[1;33m\u001b[0m\u001b[1;33m\u001b[0m\u001b[0m\n\u001b[1;32m---> 65\u001b[1;33m             \u001b[1;32mreturn\u001b[0m \u001b[0mfn\u001b[0m\u001b[1;33m(\u001b[0m\u001b[1;33m*\u001b[0m\u001b[0margs\u001b[0m\u001b[1;33m,\u001b[0m \u001b[1;33m**\u001b[0m\u001b[0mkwargs\u001b[0m\u001b[1;33m)\u001b[0m\u001b[1;33m\u001b[0m\u001b[1;33m\u001b[0m\u001b[0m\n\u001b[0m\u001b[0;32m     66\u001b[0m         \u001b[1;32mexcept\u001b[0m \u001b[0mException\u001b[0m \u001b[1;32mas\u001b[0m \u001b[0me\u001b[0m\u001b[1;33m:\u001b[0m\u001b[1;33m\u001b[0m\u001b[1;33m\u001b[0m\u001b[0m\n\u001b[0;32m     67\u001b[0m             \u001b[0mfiltered_tb\u001b[0m \u001b[1;33m=\u001b[0m \u001b[0m_process_traceback_frames\u001b[0m\u001b[1;33m(\u001b[0m\u001b[0me\u001b[0m\u001b[1;33m.\u001b[0m\u001b[0m__traceback__\u001b[0m\u001b[1;33m)\u001b[0m\u001b[1;33m\u001b[0m\u001b[1;33m\u001b[0m\u001b[0m\n",
      "\u001b[1;32m~\\anaconda3\\lib\\site-packages\\keras\\engine\\base_layer.py\u001b[0m in \u001b[0;36m__call__\u001b[1;34m(self, *args, **kwargs)\u001b[0m\n\u001b[0;32m   1143\u001b[0m                     \u001b[0mself\u001b[0m\u001b[1;33m.\u001b[0m\u001b[0m_compute_dtype_object\u001b[0m\u001b[1;33m\u001b[0m\u001b[1;33m\u001b[0m\u001b[0m\n\u001b[0;32m   1144\u001b[0m                 ):\n\u001b[1;32m-> 1145\u001b[1;33m                     \u001b[0moutputs\u001b[0m \u001b[1;33m=\u001b[0m \u001b[0mcall_fn\u001b[0m\u001b[1;33m(\u001b[0m\u001b[0minputs\u001b[0m\u001b[1;33m,\u001b[0m \u001b[1;33m*\u001b[0m\u001b[0margs\u001b[0m\u001b[1;33m,\u001b[0m \u001b[1;33m**\u001b[0m\u001b[0mkwargs\u001b[0m\u001b[1;33m)\u001b[0m\u001b[1;33m\u001b[0m\u001b[1;33m\u001b[0m\u001b[0m\n\u001b[0m\u001b[0;32m   1146\u001b[0m \u001b[1;33m\u001b[0m\u001b[0m\n\u001b[0;32m   1147\u001b[0m                 \u001b[1;32mif\u001b[0m \u001b[0mself\u001b[0m\u001b[1;33m.\u001b[0m\u001b[0m_activity_regularizer\u001b[0m\u001b[1;33m:\u001b[0m\u001b[1;33m\u001b[0m\u001b[1;33m\u001b[0m\u001b[0m\n",
      "\u001b[1;32m~\\anaconda3\\lib\\site-packages\\keras\\utils\\traceback_utils.py\u001b[0m in \u001b[0;36merror_handler\u001b[1;34m(*args, **kwargs)\u001b[0m\n\u001b[0;32m     94\u001b[0m         \u001b[0mbound_signature\u001b[0m \u001b[1;33m=\u001b[0m \u001b[1;32mNone\u001b[0m\u001b[1;33m\u001b[0m\u001b[1;33m\u001b[0m\u001b[0m\n\u001b[0;32m     95\u001b[0m         \u001b[1;32mtry\u001b[0m\u001b[1;33m:\u001b[0m\u001b[1;33m\u001b[0m\u001b[1;33m\u001b[0m\u001b[0m\n\u001b[1;32m---> 96\u001b[1;33m             \u001b[1;32mreturn\u001b[0m \u001b[0mfn\u001b[0m\u001b[1;33m(\u001b[0m\u001b[1;33m*\u001b[0m\u001b[0margs\u001b[0m\u001b[1;33m,\u001b[0m \u001b[1;33m**\u001b[0m\u001b[0mkwargs\u001b[0m\u001b[1;33m)\u001b[0m\u001b[1;33m\u001b[0m\u001b[1;33m\u001b[0m\u001b[0m\n\u001b[0m\u001b[0;32m     97\u001b[0m         \u001b[1;32mexcept\u001b[0m \u001b[0mException\u001b[0m \u001b[1;32mas\u001b[0m \u001b[0me\u001b[0m\u001b[1;33m:\u001b[0m\u001b[1;33m\u001b[0m\u001b[1;33m\u001b[0m\u001b[0m\n\u001b[0;32m     98\u001b[0m             \u001b[1;32mif\u001b[0m \u001b[0mhasattr\u001b[0m\u001b[1;33m(\u001b[0m\u001b[0me\u001b[0m\u001b[1;33m,\u001b[0m \u001b[1;34m\"_keras_call_info_injected\"\u001b[0m\u001b[1;33m)\u001b[0m\u001b[1;33m:\u001b[0m\u001b[1;33m\u001b[0m\u001b[1;33m\u001b[0m\u001b[0m\n",
      "\u001b[1;32m~\\anaconda3\\lib\\site-packages\\keras\\engine\\sequential.py\u001b[0m in \u001b[0;36mcall\u001b[1;34m(self, inputs, training, mask)\u001b[0m\n\u001b[0;32m    410\u001b[0m             \u001b[1;32mif\u001b[0m \u001b[1;32mnot\u001b[0m \u001b[0mself\u001b[0m\u001b[1;33m.\u001b[0m\u001b[0mbuilt\u001b[0m\u001b[1;33m:\u001b[0m\u001b[1;33m\u001b[0m\u001b[1;33m\u001b[0m\u001b[0m\n\u001b[0;32m    411\u001b[0m                 \u001b[0mself\u001b[0m\u001b[1;33m.\u001b[0m\u001b[0m_init_graph_network\u001b[0m\u001b[1;33m(\u001b[0m\u001b[0mself\u001b[0m\u001b[1;33m.\u001b[0m\u001b[0minputs\u001b[0m\u001b[1;33m,\u001b[0m \u001b[0mself\u001b[0m\u001b[1;33m.\u001b[0m\u001b[0moutputs\u001b[0m\u001b[1;33m)\u001b[0m\u001b[1;33m\u001b[0m\u001b[1;33m\u001b[0m\u001b[0m\n\u001b[1;32m--> 412\u001b[1;33m             \u001b[1;32mreturn\u001b[0m \u001b[0msuper\u001b[0m\u001b[1;33m(\u001b[0m\u001b[1;33m)\u001b[0m\u001b[1;33m.\u001b[0m\u001b[0mcall\u001b[0m\u001b[1;33m(\u001b[0m\u001b[0minputs\u001b[0m\u001b[1;33m,\u001b[0m \u001b[0mtraining\u001b[0m\u001b[1;33m=\u001b[0m\u001b[0mtraining\u001b[0m\u001b[1;33m,\u001b[0m \u001b[0mmask\u001b[0m\u001b[1;33m=\u001b[0m\u001b[0mmask\u001b[0m\u001b[1;33m)\u001b[0m\u001b[1;33m\u001b[0m\u001b[1;33m\u001b[0m\u001b[0m\n\u001b[0m\u001b[0;32m    413\u001b[0m \u001b[1;33m\u001b[0m\u001b[0m\n\u001b[0;32m    414\u001b[0m         \u001b[0moutputs\u001b[0m \u001b[1;33m=\u001b[0m \u001b[0minputs\u001b[0m  \u001b[1;31m# handle the corner case where self.layers is empty\u001b[0m\u001b[1;33m\u001b[0m\u001b[1;33m\u001b[0m\u001b[0m\n",
      "\u001b[1;32m~\\anaconda3\\lib\\site-packages\\keras\\engine\\functional.py\u001b[0m in \u001b[0;36mcall\u001b[1;34m(self, inputs, training, mask)\u001b[0m\n\u001b[0;32m    510\u001b[0m             \u001b[0ma\u001b[0m \u001b[0mlist\u001b[0m \u001b[0mof\u001b[0m \u001b[0mtensors\u001b[0m \u001b[1;32mif\u001b[0m \u001b[0mthere\u001b[0m \u001b[0mare\u001b[0m \u001b[0mmore\u001b[0m \u001b[0mthan\u001b[0m \u001b[0mone\u001b[0m \u001b[0moutputs\u001b[0m\u001b[1;33m.\u001b[0m\u001b[1;33m\u001b[0m\u001b[1;33m\u001b[0m\u001b[0m\n\u001b[0;32m    511\u001b[0m         \"\"\"\n\u001b[1;32m--> 512\u001b[1;33m         \u001b[1;32mreturn\u001b[0m \u001b[0mself\u001b[0m\u001b[1;33m.\u001b[0m\u001b[0m_run_internal_graph\u001b[0m\u001b[1;33m(\u001b[0m\u001b[0minputs\u001b[0m\u001b[1;33m,\u001b[0m \u001b[0mtraining\u001b[0m\u001b[1;33m=\u001b[0m\u001b[0mtraining\u001b[0m\u001b[1;33m,\u001b[0m \u001b[0mmask\u001b[0m\u001b[1;33m=\u001b[0m\u001b[0mmask\u001b[0m\u001b[1;33m)\u001b[0m\u001b[1;33m\u001b[0m\u001b[1;33m\u001b[0m\u001b[0m\n\u001b[0m\u001b[0;32m    513\u001b[0m \u001b[1;33m\u001b[0m\u001b[0m\n\u001b[0;32m    514\u001b[0m     \u001b[1;32mdef\u001b[0m \u001b[0mcompute_output_shape\u001b[0m\u001b[1;33m(\u001b[0m\u001b[0mself\u001b[0m\u001b[1;33m,\u001b[0m \u001b[0minput_shape\u001b[0m\u001b[1;33m)\u001b[0m\u001b[1;33m:\u001b[0m\u001b[1;33m\u001b[0m\u001b[1;33m\u001b[0m\u001b[0m\n",
      "\u001b[1;32m~\\anaconda3\\lib\\site-packages\\keras\\engine\\functional.py\u001b[0m in \u001b[0;36m_run_internal_graph\u001b[1;34m(self, inputs, training, mask)\u001b[0m\n\u001b[0;32m    667\u001b[0m \u001b[1;33m\u001b[0m\u001b[0m\n\u001b[0;32m    668\u001b[0m                 \u001b[0margs\u001b[0m\u001b[1;33m,\u001b[0m \u001b[0mkwargs\u001b[0m \u001b[1;33m=\u001b[0m \u001b[0mnode\u001b[0m\u001b[1;33m.\u001b[0m\u001b[0mmap_arguments\u001b[0m\u001b[1;33m(\u001b[0m\u001b[0mtensor_dict\u001b[0m\u001b[1;33m)\u001b[0m\u001b[1;33m\u001b[0m\u001b[1;33m\u001b[0m\u001b[0m\n\u001b[1;32m--> 669\u001b[1;33m                 \u001b[0moutputs\u001b[0m \u001b[1;33m=\u001b[0m \u001b[0mnode\u001b[0m\u001b[1;33m.\u001b[0m\u001b[0mlayer\u001b[0m\u001b[1;33m(\u001b[0m\u001b[1;33m*\u001b[0m\u001b[0margs\u001b[0m\u001b[1;33m,\u001b[0m \u001b[1;33m**\u001b[0m\u001b[0mkwargs\u001b[0m\u001b[1;33m)\u001b[0m\u001b[1;33m\u001b[0m\u001b[1;33m\u001b[0m\u001b[0m\n\u001b[0m\u001b[0;32m    670\u001b[0m \u001b[1;33m\u001b[0m\u001b[0m\n\u001b[0;32m    671\u001b[0m                 \u001b[1;31m# Update tensor_dict.\u001b[0m\u001b[1;33m\u001b[0m\u001b[1;33m\u001b[0m\u001b[0m\n",
      "\u001b[1;32m~\\anaconda3\\lib\\site-packages\\keras\\layers\\rnn\\base_rnn.py\u001b[0m in \u001b[0;36m__call__\u001b[1;34m(self, inputs, initial_state, constants, **kwargs)\u001b[0m\n\u001b[0;32m    554\u001b[0m \u001b[1;33m\u001b[0m\u001b[0m\n\u001b[0;32m    555\u001b[0m         \u001b[1;32mif\u001b[0m \u001b[0minitial_state\u001b[0m \u001b[1;32mis\u001b[0m \u001b[1;32mNone\u001b[0m \u001b[1;32mand\u001b[0m \u001b[0mconstants\u001b[0m \u001b[1;32mis\u001b[0m \u001b[1;32mNone\u001b[0m\u001b[1;33m:\u001b[0m\u001b[1;33m\u001b[0m\u001b[1;33m\u001b[0m\u001b[0m\n\u001b[1;32m--> 556\u001b[1;33m             \u001b[1;32mreturn\u001b[0m \u001b[0msuper\u001b[0m\u001b[1;33m(\u001b[0m\u001b[1;33m)\u001b[0m\u001b[1;33m.\u001b[0m\u001b[0m__call__\u001b[0m\u001b[1;33m(\u001b[0m\u001b[0minputs\u001b[0m\u001b[1;33m,\u001b[0m \u001b[1;33m**\u001b[0m\u001b[0mkwargs\u001b[0m\u001b[1;33m)\u001b[0m\u001b[1;33m\u001b[0m\u001b[1;33m\u001b[0m\u001b[0m\n\u001b[0m\u001b[0;32m    557\u001b[0m \u001b[1;33m\u001b[0m\u001b[0m\n\u001b[0;32m    558\u001b[0m         \u001b[1;31m# If any of `initial_state` or `constants` are specified and are Keras\u001b[0m\u001b[1;33m\u001b[0m\u001b[1;33m\u001b[0m\u001b[0m\n",
      "\u001b[1;32m~\\anaconda3\\lib\\site-packages\\keras\\utils\\traceback_utils.py\u001b[0m in \u001b[0;36merror_handler\u001b[1;34m(*args, **kwargs)\u001b[0m\n\u001b[0;32m     63\u001b[0m         \u001b[0mfiltered_tb\u001b[0m \u001b[1;33m=\u001b[0m \u001b[1;32mNone\u001b[0m\u001b[1;33m\u001b[0m\u001b[1;33m\u001b[0m\u001b[0m\n\u001b[0;32m     64\u001b[0m         \u001b[1;32mtry\u001b[0m\u001b[1;33m:\u001b[0m\u001b[1;33m\u001b[0m\u001b[1;33m\u001b[0m\u001b[0m\n\u001b[1;32m---> 65\u001b[1;33m             \u001b[1;32mreturn\u001b[0m \u001b[0mfn\u001b[0m\u001b[1;33m(\u001b[0m\u001b[1;33m*\u001b[0m\u001b[0margs\u001b[0m\u001b[1;33m,\u001b[0m \u001b[1;33m**\u001b[0m\u001b[0mkwargs\u001b[0m\u001b[1;33m)\u001b[0m\u001b[1;33m\u001b[0m\u001b[1;33m\u001b[0m\u001b[0m\n\u001b[0m\u001b[0;32m     66\u001b[0m         \u001b[1;32mexcept\u001b[0m \u001b[0mException\u001b[0m \u001b[1;32mas\u001b[0m \u001b[0me\u001b[0m\u001b[1;33m:\u001b[0m\u001b[1;33m\u001b[0m\u001b[1;33m\u001b[0m\u001b[0m\n\u001b[0;32m     67\u001b[0m             \u001b[0mfiltered_tb\u001b[0m \u001b[1;33m=\u001b[0m \u001b[0m_process_traceback_frames\u001b[0m\u001b[1;33m(\u001b[0m\u001b[0me\u001b[0m\u001b[1;33m.\u001b[0m\u001b[0m__traceback__\u001b[0m\u001b[1;33m)\u001b[0m\u001b[1;33m\u001b[0m\u001b[1;33m\u001b[0m\u001b[0m\n",
      "\u001b[1;32m~\\anaconda3\\lib\\site-packages\\keras\\engine\\base_layer.py\u001b[0m in \u001b[0;36m__call__\u001b[1;34m(self, *args, **kwargs)\u001b[0m\n\u001b[0;32m   1143\u001b[0m                     \u001b[0mself\u001b[0m\u001b[1;33m.\u001b[0m\u001b[0m_compute_dtype_object\u001b[0m\u001b[1;33m\u001b[0m\u001b[1;33m\u001b[0m\u001b[0m\n\u001b[0;32m   1144\u001b[0m                 ):\n\u001b[1;32m-> 1145\u001b[1;33m                     \u001b[0moutputs\u001b[0m \u001b[1;33m=\u001b[0m \u001b[0mcall_fn\u001b[0m\u001b[1;33m(\u001b[0m\u001b[0minputs\u001b[0m\u001b[1;33m,\u001b[0m \u001b[1;33m*\u001b[0m\u001b[0margs\u001b[0m\u001b[1;33m,\u001b[0m \u001b[1;33m**\u001b[0m\u001b[0mkwargs\u001b[0m\u001b[1;33m)\u001b[0m\u001b[1;33m\u001b[0m\u001b[1;33m\u001b[0m\u001b[0m\n\u001b[0m\u001b[0;32m   1146\u001b[0m \u001b[1;33m\u001b[0m\u001b[0m\n\u001b[0;32m   1147\u001b[0m                 \u001b[1;32mif\u001b[0m \u001b[0mself\u001b[0m\u001b[1;33m.\u001b[0m\u001b[0m_activity_regularizer\u001b[0m\u001b[1;33m:\u001b[0m\u001b[1;33m\u001b[0m\u001b[1;33m\u001b[0m\u001b[0m\n",
      "\u001b[1;32m~\\anaconda3\\lib\\site-packages\\keras\\utils\\traceback_utils.py\u001b[0m in \u001b[0;36merror_handler\u001b[1;34m(*args, **kwargs)\u001b[0m\n\u001b[0;32m     94\u001b[0m         \u001b[0mbound_signature\u001b[0m \u001b[1;33m=\u001b[0m \u001b[1;32mNone\u001b[0m\u001b[1;33m\u001b[0m\u001b[1;33m\u001b[0m\u001b[0m\n\u001b[0;32m     95\u001b[0m         \u001b[1;32mtry\u001b[0m\u001b[1;33m:\u001b[0m\u001b[1;33m\u001b[0m\u001b[1;33m\u001b[0m\u001b[0m\n\u001b[1;32m---> 96\u001b[1;33m             \u001b[1;32mreturn\u001b[0m \u001b[0mfn\u001b[0m\u001b[1;33m(\u001b[0m\u001b[1;33m*\u001b[0m\u001b[0margs\u001b[0m\u001b[1;33m,\u001b[0m \u001b[1;33m**\u001b[0m\u001b[0mkwargs\u001b[0m\u001b[1;33m)\u001b[0m\u001b[1;33m\u001b[0m\u001b[1;33m\u001b[0m\u001b[0m\n\u001b[0m\u001b[0;32m     97\u001b[0m         \u001b[1;32mexcept\u001b[0m \u001b[0mException\u001b[0m \u001b[1;32mas\u001b[0m \u001b[0me\u001b[0m\u001b[1;33m:\u001b[0m\u001b[1;33m\u001b[0m\u001b[1;33m\u001b[0m\u001b[0m\n\u001b[0;32m     98\u001b[0m             \u001b[1;32mif\u001b[0m \u001b[0mhasattr\u001b[0m\u001b[1;33m(\u001b[0m\u001b[0me\u001b[0m\u001b[1;33m,\u001b[0m \u001b[1;34m\"_keras_call_info_injected\"\u001b[0m\u001b[1;33m)\u001b[0m\u001b[1;33m:\u001b[0m\u001b[1;33m\u001b[0m\u001b[1;33m\u001b[0m\u001b[0m\n",
      "\u001b[1;32m~\\anaconda3\\lib\\site-packages\\keras\\layers\\rnn\\lstm.py\u001b[0m in \u001b[0;36mcall\u001b[1;34m(self, inputs, mask, training, initial_state)\u001b[0m\n\u001b[0;32m    746\u001b[0m                         \u001b[0mnew_c\u001b[0m\u001b[1;33m,\u001b[0m\u001b[1;33m\u001b[0m\u001b[1;33m\u001b[0m\u001b[0m\n\u001b[0;32m    747\u001b[0m                         \u001b[0mruntime\u001b[0m\u001b[1;33m,\u001b[0m\u001b[1;33m\u001b[0m\u001b[1;33m\u001b[0m\u001b[0m\n\u001b[1;32m--> 748\u001b[1;33m                     ) = lstm_with_backend_selection(**normal_lstm_kwargs)\n\u001b[0m\u001b[0;32m    749\u001b[0m \u001b[1;33m\u001b[0m\u001b[0m\n\u001b[0;32m    750\u001b[0m             \u001b[0mstates\u001b[0m \u001b[1;33m=\u001b[0m \u001b[1;33m[\u001b[0m\u001b[0mnew_h\u001b[0m\u001b[1;33m,\u001b[0m \u001b[0mnew_c\u001b[0m\u001b[1;33m]\u001b[0m\u001b[1;33m\u001b[0m\u001b[1;33m\u001b[0m\u001b[0m\n",
      "\u001b[1;32m~\\anaconda3\\lib\\site-packages\\keras\\layers\\rnn\\lstm.py\u001b[0m in \u001b[0;36mlstm_with_backend_selection\u001b[1;34m(inputs, init_h, init_c, kernel, recurrent_kernel, bias, mask, time_major, go_backwards, sequence_lengths, zero_output_for_mask, return_sequences)\u001b[0m\n\u001b[0;32m   1339\u001b[0m             \u001b[1;33m**\u001b[0m\u001b[0mparams\u001b[0m\u001b[1;33m\u001b[0m\u001b[1;33m\u001b[0m\u001b[0m\n\u001b[0;32m   1340\u001b[0m         )\n\u001b[1;32m-> 1341\u001b[1;33m         \u001b[0mgru_lstm_utils\u001b[0m\u001b[1;33m.\u001b[0m\u001b[0mfunction_register\u001b[0m\u001b[1;33m(\u001b[0m\u001b[0mdefun_gpu_lstm\u001b[0m\u001b[1;33m,\u001b[0m \u001b[1;33m**\u001b[0m\u001b[0mparams\u001b[0m\u001b[1;33m)\u001b[0m\u001b[1;33m\u001b[0m\u001b[1;33m\u001b[0m\u001b[0m\n\u001b[0m\u001b[0;32m   1342\u001b[0m \u001b[1;33m\u001b[0m\u001b[0m\n\u001b[0;32m   1343\u001b[0m     \u001b[1;32mreturn\u001b[0m \u001b[0mlast_output\u001b[0m\u001b[1;33m,\u001b[0m \u001b[0moutputs\u001b[0m\u001b[1;33m,\u001b[0m \u001b[0mnew_h\u001b[0m\u001b[1;33m,\u001b[0m \u001b[0mnew_c\u001b[0m\u001b[1;33m,\u001b[0m \u001b[0mruntime\u001b[0m\u001b[1;33m\u001b[0m\u001b[1;33m\u001b[0m\u001b[0m\n",
      "\u001b[1;32m~\\anaconda3\\lib\\site-packages\\keras\\layers\\rnn\\gru_lstm_utils.py\u001b[0m in \u001b[0;36mfunction_register\u001b[1;34m(func, *args, **kwargs)\u001b[0m\n\u001b[0;32m    270\u001b[0m     \u001b[0mconcrete_func\u001b[0m \u001b[1;33m=\u001b[0m \u001b[0mfunc\u001b[0m\u001b[1;33m.\u001b[0m\u001b[0mget_concrete_function\u001b[0m\u001b[1;33m(\u001b[0m\u001b[1;33m*\u001b[0m\u001b[0margs\u001b[0m\u001b[1;33m,\u001b[0m \u001b[1;33m**\u001b[0m\u001b[0mkwargs\u001b[0m\u001b[1;33m)\u001b[0m\u001b[1;33m\u001b[0m\u001b[1;33m\u001b[0m\u001b[0m\n\u001b[0;32m    271\u001b[0m     \u001b[0mconcrete_func\u001b[0m\u001b[1;33m.\u001b[0m\u001b[0madd_to_graph\u001b[0m\u001b[1;33m(\u001b[0m\u001b[1;33m)\u001b[0m\u001b[1;33m\u001b[0m\u001b[1;33m\u001b[0m\u001b[0m\n\u001b[1;32m--> 272\u001b[1;33m     \u001b[0mconcrete_func\u001b[0m\u001b[1;33m.\u001b[0m\u001b[0madd_gradient_functions_to_graph\u001b[0m\u001b[1;33m(\u001b[0m\u001b[1;33m)\u001b[0m\u001b[1;33m\u001b[0m\u001b[1;33m\u001b[0m\u001b[0m\n\u001b[0m\u001b[0;32m    273\u001b[0m     \u001b[1;32mreturn\u001b[0m \u001b[0mconcrete_func\u001b[0m\u001b[1;33m\u001b[0m\u001b[1;33m\u001b[0m\u001b[0m\n",
      "\u001b[1;32m~\\anaconda3\\lib\\site-packages\\tensorflow\\python\\eager\\polymorphic_function\\monomorphic_function.py\u001b[0m in \u001b[0;36madd_gradient_functions_to_graph\u001b[1;34m(self, g)\u001b[0m\n\u001b[0;32m   2010\u001b[0m     \u001b[0mself\u001b[0m\u001b[1;33m.\u001b[0m\u001b[0m_delayed_rewrite_functions\u001b[0m\u001b[1;33m.\u001b[0m\u001b[0mforward\u001b[0m\u001b[1;33m(\u001b[0m\u001b[1;33m)\u001b[0m\u001b[1;33m.\u001b[0m\u001b[0madd_to_graph\u001b[0m\u001b[1;33m(\u001b[0m\u001b[0mg\u001b[0m\u001b[1;33m)\u001b[0m\u001b[1;33m\u001b[0m\u001b[1;33m\u001b[0m\u001b[0m\n\u001b[0;32m   2011\u001b[0m     forward_function, backward_function = (\n\u001b[1;32m-> 2012\u001b[1;33m         self._delayed_rewrite_functions.forward_backward())\n\u001b[0m\u001b[0;32m   2013\u001b[0m     \u001b[0mforward_function\u001b[0m\u001b[1;33m.\u001b[0m\u001b[0madd_to_graph\u001b[0m\u001b[1;33m(\u001b[0m\u001b[0mg\u001b[0m\u001b[1;33m)\u001b[0m\u001b[1;33m\u001b[0m\u001b[1;33m\u001b[0m\u001b[0m\n\u001b[0;32m   2014\u001b[0m     \u001b[0mbackward_function\u001b[0m\u001b[1;33m.\u001b[0m\u001b[0madd_to_graph\u001b[0m\u001b[1;33m(\u001b[0m\u001b[0mg\u001b[0m\u001b[1;33m)\u001b[0m\u001b[1;33m\u001b[0m\u001b[1;33m\u001b[0m\u001b[0m\n",
      "\u001b[1;32m~\\anaconda3\\lib\\site-packages\\tensorflow\\python\\eager\\polymorphic_function\\monomorphic_function.py\u001b[0m in \u001b[0;36mforward_backward\u001b[1;34m(self, num_doutputs)\u001b[0m\n\u001b[0;32m    481\u001b[0m     \u001b[1;32mif\u001b[0m \u001b[0mforward_backward\u001b[0m \u001b[1;32mis\u001b[0m \u001b[1;32mnot\u001b[0m \u001b[1;32mNone\u001b[0m\u001b[1;33m:\u001b[0m\u001b[1;33m\u001b[0m\u001b[1;33m\u001b[0m\u001b[0m\n\u001b[0;32m    482\u001b[0m       \u001b[1;32mreturn\u001b[0m \u001b[0mforward_backward\u001b[0m\u001b[1;33m\u001b[0m\u001b[1;33m\u001b[0m\u001b[0m\n\u001b[1;32m--> 483\u001b[1;33m     \u001b[0mforward\u001b[0m\u001b[1;33m,\u001b[0m \u001b[0mbackward\u001b[0m \u001b[1;33m=\u001b[0m \u001b[0mself\u001b[0m\u001b[1;33m.\u001b[0m\u001b[0m_construct_forward_backward\u001b[0m\u001b[1;33m(\u001b[0m\u001b[0mnum_doutputs\u001b[0m\u001b[1;33m)\u001b[0m\u001b[1;33m\u001b[0m\u001b[1;33m\u001b[0m\u001b[0m\n\u001b[0m\u001b[0;32m    484\u001b[0m     \u001b[0mself\u001b[0m\u001b[1;33m.\u001b[0m\u001b[0m_cached_function_pairs\u001b[0m\u001b[1;33m[\u001b[0m\u001b[0mnum_doutputs\u001b[0m\u001b[1;33m]\u001b[0m \u001b[1;33m=\u001b[0m \u001b[1;33m(\u001b[0m\u001b[0mforward\u001b[0m\u001b[1;33m,\u001b[0m \u001b[0mbackward\u001b[0m\u001b[1;33m)\u001b[0m\u001b[1;33m\u001b[0m\u001b[1;33m\u001b[0m\u001b[0m\n\u001b[0;32m    485\u001b[0m     \u001b[1;32mreturn\u001b[0m \u001b[0mforward\u001b[0m\u001b[1;33m,\u001b[0m \u001b[0mbackward\u001b[0m\u001b[1;33m\u001b[0m\u001b[1;33m\u001b[0m\u001b[0m\n",
      "\u001b[1;32m~\\anaconda3\\lib\\site-packages\\tensorflow\\python\\eager\\polymorphic_function\\monomorphic_function.py\u001b[0m in \u001b[0;36m_construct_forward_backward\u001b[1;34m(self, num_doutputs)\u001b[0m\n\u001b[0;32m    524\u001b[0m       backwards_graph = func_graph_module.FuncGraph(\n\u001b[0;32m    525\u001b[0m           _backward_name(self._func_graph.name))\n\u001b[1;32m--> 526\u001b[1;33m       func_graph_module.func_graph_from_py_func(\n\u001b[0m\u001b[0;32m    527\u001b[0m           \u001b[0mname\u001b[0m\u001b[1;33m=\u001b[0m\u001b[0mbackwards_graph\u001b[0m\u001b[1;33m.\u001b[0m\u001b[0mname\u001b[0m\u001b[1;33m,\u001b[0m\u001b[1;33m\u001b[0m\u001b[1;33m\u001b[0m\u001b[0m\n\u001b[0;32m    528\u001b[0m           \u001b[0mpython_func\u001b[0m\u001b[1;33m=\u001b[0m\u001b[0m_backprop_function\u001b[0m\u001b[1;33m,\u001b[0m\u001b[1;33m\u001b[0m\u001b[1;33m\u001b[0m\u001b[0m\n",
      "\u001b[1;32m~\\anaconda3\\lib\\site-packages\\tensorflow\\python\\framework\\func_graph.py\u001b[0m in \u001b[0;36mfunc_graph_from_py_func\u001b[1;34m(name, python_func, args, kwargs, signature, func_graph, autograph, autograph_options, add_control_dependencies, arg_names, op_return_value, collections, capture_by_value, create_placeholders, acd_record_initial_resource_uses)\u001b[0m\n\u001b[0;32m   1212\u001b[0m         \u001b[0m_\u001b[0m\u001b[1;33m,\u001b[0m \u001b[0moriginal_func\u001b[0m \u001b[1;33m=\u001b[0m \u001b[0mtf_decorator\u001b[0m\u001b[1;33m.\u001b[0m\u001b[0munwrap\u001b[0m\u001b[1;33m(\u001b[0m\u001b[0mpython_func\u001b[0m\u001b[1;33m)\u001b[0m\u001b[1;33m\u001b[0m\u001b[1;33m\u001b[0m\u001b[0m\n\u001b[0;32m   1213\u001b[0m \u001b[1;33m\u001b[0m\u001b[0m\n\u001b[1;32m-> 1214\u001b[1;33m       \u001b[0mfunc_outputs\u001b[0m \u001b[1;33m=\u001b[0m \u001b[0mpython_func\u001b[0m\u001b[1;33m(\u001b[0m\u001b[1;33m*\u001b[0m\u001b[0mfunc_args\u001b[0m\u001b[1;33m,\u001b[0m \u001b[1;33m**\u001b[0m\u001b[0mfunc_kwargs\u001b[0m\u001b[1;33m)\u001b[0m\u001b[1;33m\u001b[0m\u001b[1;33m\u001b[0m\u001b[0m\n\u001b[0m\u001b[0;32m   1215\u001b[0m \u001b[1;33m\u001b[0m\u001b[0m\n\u001b[0;32m   1216\u001b[0m       \u001b[1;31m# invariant: `func_outputs` contains only Tensors, CompositeTensors,\u001b[0m\u001b[1;33m\u001b[0m\u001b[1;33m\u001b[0m\u001b[0m\n",
      "\u001b[1;32m~\\anaconda3\\lib\\site-packages\\tensorflow\\python\\eager\\polymorphic_function\\monomorphic_function.py\u001b[0m in \u001b[0;36m_backprop_function\u001b[1;34m(*grad_ys)\u001b[0m\n\u001b[0;32m    515\u001b[0m     \u001b[1;32mdef\u001b[0m \u001b[0m_backprop_function\u001b[0m\u001b[1;33m(\u001b[0m\u001b[1;33m*\u001b[0m\u001b[0mgrad_ys\u001b[0m\u001b[1;33m)\u001b[0m\u001b[1;33m:\u001b[0m\u001b[1;33m\u001b[0m\u001b[1;33m\u001b[0m\u001b[0m\n\u001b[0;32m    516\u001b[0m       \u001b[1;32mwith\u001b[0m \u001b[0mops\u001b[0m\u001b[1;33m.\u001b[0m\u001b[0mdevice\u001b[0m\u001b[1;33m(\u001b[0m\u001b[1;32mNone\u001b[0m\u001b[1;33m)\u001b[0m\u001b[1;33m:\u001b[0m\u001b[1;33m\u001b[0m\u001b[1;33m\u001b[0m\u001b[0m\n\u001b[1;32m--> 517\u001b[1;33m         return gradients_util._GradientsHelper(  # pylint: disable=protected-access\n\u001b[0m\u001b[0;32m    518\u001b[0m             \u001b[0mtrainable_outputs\u001b[0m\u001b[1;33m,\u001b[0m\u001b[1;33m\u001b[0m\u001b[1;33m\u001b[0m\u001b[0m\n\u001b[0;32m    519\u001b[0m             \u001b[0mself\u001b[0m\u001b[1;33m.\u001b[0m\u001b[0m_func_graph\u001b[0m\u001b[1;33m.\u001b[0m\u001b[0minputs\u001b[0m\u001b[1;33m,\u001b[0m\u001b[1;33m\u001b[0m\u001b[1;33m\u001b[0m\u001b[0m\n",
      "\u001b[1;32m~\\anaconda3\\lib\\site-packages\\tensorflow\\python\\ops\\gradients_util.py\u001b[0m in \u001b[0;36m_GradientsHelper\u001b[1;34m(ys, xs, grad_ys, name, colocate_gradients_with_ops, gate_gradients, aggregation_method, stop_gradients, unconnected_gradients, src_graph)\u001b[0m\n\u001b[0;32m    693\u001b[0m                 \u001b[1;31m# If grad_fn was found, do not use SymbolicGradient even for\u001b[0m\u001b[1;33m\u001b[0m\u001b[1;33m\u001b[0m\u001b[0m\n\u001b[0;32m    694\u001b[0m                 \u001b[1;31m# functions.\u001b[0m\u001b[1;33m\u001b[0m\u001b[1;33m\u001b[0m\u001b[0m\n\u001b[1;32m--> 695\u001b[1;33m                 in_grads = _MaybeCompile(grad_scope, op, func_call,\n\u001b[0m\u001b[0;32m    696\u001b[0m                                          lambda: grad_fn(op, *out_grads))\n\u001b[0;32m    697\u001b[0m               \u001b[1;32melse\u001b[0m\u001b[1;33m:\u001b[0m\u001b[1;33m\u001b[0m\u001b[1;33m\u001b[0m\u001b[0m\n",
      "\u001b[1;32m~\\anaconda3\\lib\\site-packages\\tensorflow\\python\\ops\\gradients_util.py\u001b[0m in \u001b[0;36m_MaybeCompile\u001b[1;34m(scope, op, func, grad_fn)\u001b[0m\n\u001b[0;32m    327\u001b[0m \u001b[1;33m\u001b[0m\u001b[0m\n\u001b[0;32m    328\u001b[0m   \u001b[1;32mif\u001b[0m \u001b[1;32mnot\u001b[0m \u001b[0mxla_compile\u001b[0m\u001b[1;33m:\u001b[0m\u001b[1;33m\u001b[0m\u001b[1;33m\u001b[0m\u001b[0m\n\u001b[1;32m--> 329\u001b[1;33m     \u001b[1;32mreturn\u001b[0m \u001b[0mgrad_fn\u001b[0m\u001b[1;33m(\u001b[0m\u001b[1;33m)\u001b[0m  \u001b[1;31m# Exit early\u001b[0m\u001b[1;33m\u001b[0m\u001b[1;33m\u001b[0m\u001b[0m\n\u001b[0m\u001b[0;32m    330\u001b[0m \u001b[1;33m\u001b[0m\u001b[0m\n\u001b[0;32m    331\u001b[0m   \u001b[1;31m# If the gradients are supposed to be compiled separately, we give them a\u001b[0m\u001b[1;33m\u001b[0m\u001b[1;33m\u001b[0m\u001b[0m\n",
      "\u001b[1;32m~\\anaconda3\\lib\\site-packages\\tensorflow\\python\\ops\\gradients_util.py\u001b[0m in \u001b[0;36m<lambda>\u001b[1;34m()\u001b[0m\n\u001b[0;32m    694\u001b[0m                 \u001b[1;31m# functions.\u001b[0m\u001b[1;33m\u001b[0m\u001b[1;33m\u001b[0m\u001b[0m\n\u001b[0;32m    695\u001b[0m                 in_grads = _MaybeCompile(grad_scope, op, func_call,\n\u001b[1;32m--> 696\u001b[1;33m                                          lambda: grad_fn(op, *out_grads))\n\u001b[0m\u001b[0;32m    697\u001b[0m               \u001b[1;32melse\u001b[0m\u001b[1;33m:\u001b[0m\u001b[1;33m\u001b[0m\u001b[1;33m\u001b[0m\u001b[0m\n\u001b[0;32m    698\u001b[0m                 \u001b[1;31m# For function call ops, we add a 'SymbolicGradient'\u001b[0m\u001b[1;33m\u001b[0m\u001b[1;33m\u001b[0m\u001b[0m\n",
      "\u001b[1;32m~\\anaconda3\\lib\\site-packages\\tensorflow\\python\\ops\\array_grad.py\u001b[0m in \u001b[0;36m_ExpandDimsGrad\u001b[1;34m(op, grad)\u001b[0m\n\u001b[0;32m    818\u001b[0m \u001b[1;33m@\u001b[0m\u001b[0mops\u001b[0m\u001b[1;33m.\u001b[0m\u001b[0mRegisterGradient\u001b[0m\u001b[1;33m(\u001b[0m\u001b[1;34m\"ExpandDims\"\u001b[0m\u001b[1;33m)\u001b[0m\u001b[1;33m\u001b[0m\u001b[1;33m\u001b[0m\u001b[0m\n\u001b[0;32m    819\u001b[0m \u001b[1;32mdef\u001b[0m \u001b[0m_ExpandDimsGrad\u001b[0m\u001b[1;33m(\u001b[0m\u001b[0mop\u001b[0m\u001b[1;33m,\u001b[0m \u001b[0mgrad\u001b[0m\u001b[1;33m)\u001b[0m\u001b[1;33m:\u001b[0m\u001b[1;33m\u001b[0m\u001b[1;33m\u001b[0m\u001b[0m\n\u001b[1;32m--> 820\u001b[1;33m   \u001b[1;32mreturn\u001b[0m \u001b[1;33m[\u001b[0m\u001b[0m_ReshapeToInput\u001b[0m\u001b[1;33m(\u001b[0m\u001b[0mop\u001b[0m\u001b[1;33m,\u001b[0m \u001b[0mgrad\u001b[0m\u001b[1;33m)\u001b[0m\u001b[1;33m,\u001b[0m \u001b[1;32mNone\u001b[0m\u001b[1;33m]\u001b[0m\u001b[1;33m\u001b[0m\u001b[1;33m\u001b[0m\u001b[0m\n\u001b[0m\u001b[0;32m    821\u001b[0m \u001b[1;33m\u001b[0m\u001b[0m\n\u001b[0;32m    822\u001b[0m \u001b[1;33m\u001b[0m\u001b[0m\n",
      "\u001b[1;32m~\\anaconda3\\lib\\site-packages\\tensorflow\\python\\ops\\array_grad.py\u001b[0m in \u001b[0;36m_ReshapeToInput\u001b[1;34m(op, grad)\u001b[0m\n\u001b[0;32m    812\u001b[0m \u001b[1;32mdef\u001b[0m \u001b[0m_ReshapeToInput\u001b[0m\u001b[1;33m(\u001b[0m\u001b[0mop\u001b[0m\u001b[1;33m,\u001b[0m \u001b[0mgrad\u001b[0m\u001b[1;33m)\u001b[0m\u001b[1;33m:\u001b[0m\u001b[1;33m\u001b[0m\u001b[1;33m\u001b[0m\u001b[0m\n\u001b[0;32m    813\u001b[0m   \u001b[1;34m\"\"\"Reshapes the gradient to the shape of the original input.\"\"\"\u001b[0m\u001b[1;33m\u001b[0m\u001b[1;33m\u001b[0m\u001b[0m\n\u001b[1;32m--> 814\u001b[1;33m   return array_ops.reshape(\n\u001b[0m\u001b[0;32m    815\u001b[0m       _IndexedSlicesToTensorNoWarning(grad), array_ops.shape(op.inputs[0]))\n\u001b[0;32m    816\u001b[0m \u001b[1;33m\u001b[0m\u001b[0m\n",
      "\u001b[1;32m~\\anaconda3\\lib\\site-packages\\tensorflow\\python\\util\\traceback_utils.py\u001b[0m in \u001b[0;36merror_handler\u001b[1;34m(*args, **kwargs)\u001b[0m\n\u001b[0;32m    148\u001b[0m     \u001b[0mfiltered_tb\u001b[0m \u001b[1;33m=\u001b[0m \u001b[1;32mNone\u001b[0m\u001b[1;33m\u001b[0m\u001b[1;33m\u001b[0m\u001b[0m\n\u001b[0;32m    149\u001b[0m     \u001b[1;32mtry\u001b[0m\u001b[1;33m:\u001b[0m\u001b[1;33m\u001b[0m\u001b[1;33m\u001b[0m\u001b[0m\n\u001b[1;32m--> 150\u001b[1;33m       \u001b[1;32mreturn\u001b[0m \u001b[0mfn\u001b[0m\u001b[1;33m(\u001b[0m\u001b[1;33m*\u001b[0m\u001b[0margs\u001b[0m\u001b[1;33m,\u001b[0m \u001b[1;33m**\u001b[0m\u001b[0mkwargs\u001b[0m\u001b[1;33m)\u001b[0m\u001b[1;33m\u001b[0m\u001b[1;33m\u001b[0m\u001b[0m\n\u001b[0m\u001b[0;32m    151\u001b[0m     \u001b[1;32mexcept\u001b[0m \u001b[0mException\u001b[0m \u001b[1;32mas\u001b[0m \u001b[0me\u001b[0m\u001b[1;33m:\u001b[0m\u001b[1;33m\u001b[0m\u001b[1;33m\u001b[0m\u001b[0m\n\u001b[0;32m    152\u001b[0m       \u001b[0mfiltered_tb\u001b[0m \u001b[1;33m=\u001b[0m \u001b[0m_process_traceback_frames\u001b[0m\u001b[1;33m(\u001b[0m\u001b[0me\u001b[0m\u001b[1;33m.\u001b[0m\u001b[0m__traceback__\u001b[0m\u001b[1;33m)\u001b[0m\u001b[1;33m\u001b[0m\u001b[1;33m\u001b[0m\u001b[0m\n",
      "\u001b[1;32m~\\anaconda3\\lib\\site-packages\\tensorflow\\python\\util\\dispatch.py\u001b[0m in \u001b[0;36mop_dispatch_handler\u001b[1;34m(*args, **kwargs)\u001b[0m\n\u001b[0;32m   1174\u001b[0m       \u001b[1;31m# Fallback dispatch system (dispatch v1):\u001b[0m\u001b[1;33m\u001b[0m\u001b[1;33m\u001b[0m\u001b[0m\n\u001b[0;32m   1175\u001b[0m       \u001b[1;32mtry\u001b[0m\u001b[1;33m:\u001b[0m\u001b[1;33m\u001b[0m\u001b[1;33m\u001b[0m\u001b[0m\n\u001b[1;32m-> 1176\u001b[1;33m         \u001b[1;32mreturn\u001b[0m \u001b[0mdispatch_target\u001b[0m\u001b[1;33m(\u001b[0m\u001b[1;33m*\u001b[0m\u001b[0margs\u001b[0m\u001b[1;33m,\u001b[0m \u001b[1;33m**\u001b[0m\u001b[0mkwargs\u001b[0m\u001b[1;33m)\u001b[0m\u001b[1;33m\u001b[0m\u001b[1;33m\u001b[0m\u001b[0m\n\u001b[0m\u001b[0;32m   1177\u001b[0m       \u001b[1;32mexcept\u001b[0m \u001b[1;33m(\u001b[0m\u001b[0mTypeError\u001b[0m\u001b[1;33m,\u001b[0m \u001b[0mValueError\u001b[0m\u001b[1;33m)\u001b[0m\u001b[1;33m:\u001b[0m\u001b[1;33m\u001b[0m\u001b[1;33m\u001b[0m\u001b[0m\n\u001b[0;32m   1178\u001b[0m         \u001b[1;31m# Note: convert_to_eager_tensor currently raises a ValueError, not a\u001b[0m\u001b[1;33m\u001b[0m\u001b[1;33m\u001b[0m\u001b[0m\n",
      "\u001b[1;32m~\\anaconda3\\lib\\site-packages\\tensorflow\\python\\ops\\array_ops.py\u001b[0m in \u001b[0;36mreshape\u001b[1;34m(tensor, shape, name)\u001b[0m\n\u001b[0;32m    194\u001b[0m     \u001b[0mA\u001b[0m\u001b[0;31m \u001b[0m\u001b[0;31m`\u001b[0m\u001b[0mTensor\u001b[0m\u001b[0;31m`\u001b[0m\u001b[1;33m.\u001b[0m \u001b[0mHas\u001b[0m \u001b[0mthe\u001b[0m \u001b[0msame\u001b[0m \u001b[0mtype\u001b[0m \u001b[1;32mas\u001b[0m\u001b[0;31m \u001b[0m\u001b[0;31m`\u001b[0m\u001b[0mtensor\u001b[0m\u001b[0;31m`\u001b[0m\u001b[1;33m.\u001b[0m\u001b[1;33m\u001b[0m\u001b[1;33m\u001b[0m\u001b[0m\n\u001b[0;32m    195\u001b[0m   \"\"\"\n\u001b[1;32m--> 196\u001b[1;33m   \u001b[0mresult\u001b[0m \u001b[1;33m=\u001b[0m \u001b[0mgen_array_ops\u001b[0m\u001b[1;33m.\u001b[0m\u001b[0mreshape\u001b[0m\u001b[1;33m(\u001b[0m\u001b[0mtensor\u001b[0m\u001b[1;33m,\u001b[0m \u001b[0mshape\u001b[0m\u001b[1;33m,\u001b[0m \u001b[0mname\u001b[0m\u001b[1;33m)\u001b[0m\u001b[1;33m\u001b[0m\u001b[1;33m\u001b[0m\u001b[0m\n\u001b[0m\u001b[0;32m    197\u001b[0m   \u001b[0mtensor_util\u001b[0m\u001b[1;33m.\u001b[0m\u001b[0mmaybe_set_static_shape\u001b[0m\u001b[1;33m(\u001b[0m\u001b[0mresult\u001b[0m\u001b[1;33m,\u001b[0m \u001b[0mshape\u001b[0m\u001b[1;33m)\u001b[0m\u001b[1;33m\u001b[0m\u001b[1;33m\u001b[0m\u001b[0m\n\u001b[0;32m    198\u001b[0m   \u001b[1;32mreturn\u001b[0m \u001b[0mresult\u001b[0m\u001b[1;33m\u001b[0m\u001b[1;33m\u001b[0m\u001b[0m\n",
      "\u001b[1;32m~\\anaconda3\\lib\\site-packages\\tensorflow\\python\\ops\\gen_array_ops.py\u001b[0m in \u001b[0;36mreshape\u001b[1;34m(tensor, shape, name)\u001b[0m\n\u001b[0;32m  10637\u001b[0m       \u001b[1;32mpass\u001b[0m  \u001b[1;31m# Add nodes to the TensorFlow graph.\u001b[0m\u001b[1;33m\u001b[0m\u001b[1;33m\u001b[0m\u001b[0m\n\u001b[0;32m  10638\u001b[0m   \u001b[1;31m# Add nodes to the TensorFlow graph.\u001b[0m\u001b[1;33m\u001b[0m\u001b[1;33m\u001b[0m\u001b[0m\n\u001b[1;32m> 10639\u001b[1;33m   _, _, _op, _outputs = _op_def_library._apply_op_helper(\n\u001b[0m\u001b[0;32m  10640\u001b[0m         \"Reshape\", tensor=tensor, shape=shape, name=name)\n\u001b[0;32m  10641\u001b[0m   \u001b[0m_result\u001b[0m \u001b[1;33m=\u001b[0m \u001b[0m_outputs\u001b[0m\u001b[1;33m[\u001b[0m\u001b[1;33m:\u001b[0m\u001b[1;33m]\u001b[0m\u001b[1;33m\u001b[0m\u001b[1;33m\u001b[0m\u001b[0m\n",
      "\u001b[1;32m~\\anaconda3\\lib\\site-packages\\tensorflow\\python\\framework\\op_def_library.py\u001b[0m in \u001b[0;36m_apply_op_helper\u001b[1;34m(op_type_name, name, **keywords)\u001b[0m\n\u001b[0;32m    793\u001b[0m       \u001b[1;31m# Add Op to graph\u001b[0m\u001b[1;33m\u001b[0m\u001b[1;33m\u001b[0m\u001b[0m\n\u001b[0;32m    794\u001b[0m       \u001b[1;31m# pylint: disable=protected-access\u001b[0m\u001b[1;33m\u001b[0m\u001b[1;33m\u001b[0m\u001b[0m\n\u001b[1;32m--> 795\u001b[1;33m       op = g._create_op_internal(op_type_name, inputs, dtypes=None,\n\u001b[0m\u001b[0;32m    796\u001b[0m                                  \u001b[0mname\u001b[0m\u001b[1;33m=\u001b[0m\u001b[0mscope\u001b[0m\u001b[1;33m,\u001b[0m \u001b[0minput_types\u001b[0m\u001b[1;33m=\u001b[0m\u001b[0minput_types\u001b[0m\u001b[1;33m,\u001b[0m\u001b[1;33m\u001b[0m\u001b[1;33m\u001b[0m\u001b[0m\n\u001b[0;32m    797\u001b[0m                                  attrs=attr_protos, op_def=op_def)\n",
      "\u001b[1;32m~\\anaconda3\\lib\\site-packages\\tensorflow\\python\\framework\\func_graph.py\u001b[0m in \u001b[0;36m_create_op_internal\u001b[1;34m(self, op_type, inputs, dtypes, input_types, name, attrs, op_def, compute_device)\u001b[0m\n\u001b[0;32m    705\u001b[0m       \u001b[0minp\u001b[0m \u001b[1;33m=\u001b[0m \u001b[0mself\u001b[0m\u001b[1;33m.\u001b[0m\u001b[0mcapture\u001b[0m\u001b[1;33m(\u001b[0m\u001b[0minp\u001b[0m\u001b[1;33m)\u001b[0m\u001b[1;33m\u001b[0m\u001b[1;33m\u001b[0m\u001b[0m\n\u001b[0;32m    706\u001b[0m       \u001b[0mcaptured_inputs\u001b[0m\u001b[1;33m.\u001b[0m\u001b[0mappend\u001b[0m\u001b[1;33m(\u001b[0m\u001b[0minp\u001b[0m\u001b[1;33m)\u001b[0m\u001b[1;33m\u001b[0m\u001b[1;33m\u001b[0m\u001b[0m\n\u001b[1;32m--> 707\u001b[1;33m     return super()._create_op_internal(  # pylint: disable=protected-access\n\u001b[0m\u001b[0;32m    708\u001b[0m         \u001b[0mop_type\u001b[0m\u001b[1;33m,\u001b[0m \u001b[0mcaptured_inputs\u001b[0m\u001b[1;33m,\u001b[0m \u001b[0mdtypes\u001b[0m\u001b[1;33m,\u001b[0m \u001b[0minput_types\u001b[0m\u001b[1;33m,\u001b[0m \u001b[0mname\u001b[0m\u001b[1;33m,\u001b[0m \u001b[0mattrs\u001b[0m\u001b[1;33m,\u001b[0m \u001b[0mop_def\u001b[0m\u001b[1;33m,\u001b[0m\u001b[1;33m\u001b[0m\u001b[1;33m\u001b[0m\u001b[0m\n\u001b[0;32m    709\u001b[0m         compute_device)\n",
      "\u001b[1;32m~\\anaconda3\\lib\\site-packages\\tensorflow\\python\\framework\\ops.py\u001b[0m in \u001b[0;36m_create_op_internal\u001b[1;34m(self, op_type, inputs, dtypes, input_types, name, attrs, op_def, compute_device)\u001b[0m\n\u001b[0;32m   3812\u001b[0m     \u001b[1;31m# Session.run call cannot occur between creating and mutating the op.\u001b[0m\u001b[1;33m\u001b[0m\u001b[1;33m\u001b[0m\u001b[0m\n\u001b[0;32m   3813\u001b[0m     \u001b[1;32mwith\u001b[0m \u001b[0mself\u001b[0m\u001b[1;33m.\u001b[0m\u001b[0m_mutation_lock\u001b[0m\u001b[1;33m(\u001b[0m\u001b[1;33m)\u001b[0m\u001b[1;33m:\u001b[0m\u001b[1;33m\u001b[0m\u001b[1;33m\u001b[0m\u001b[0m\n\u001b[1;32m-> 3814\u001b[1;33m       ret = Operation(\n\u001b[0m\u001b[0;32m   3815\u001b[0m           \u001b[0mnode_def\u001b[0m\u001b[1;33m,\u001b[0m\u001b[1;33m\u001b[0m\u001b[1;33m\u001b[0m\u001b[0m\n\u001b[0;32m   3816\u001b[0m           \u001b[0mself\u001b[0m\u001b[1;33m,\u001b[0m\u001b[1;33m\u001b[0m\u001b[1;33m\u001b[0m\u001b[0m\n",
      "\u001b[1;32m~\\anaconda3\\lib\\site-packages\\tensorflow\\python\\framework\\ops.py\u001b[0m in \u001b[0;36m__init__\u001b[1;34m(***failed resolving arguments***)\u001b[0m\n\u001b[0;32m   2111\u001b[0m     \u001b[1;31m# Initialize c_op from node_def and other inputs\u001b[0m\u001b[1;33m\u001b[0m\u001b[1;33m\u001b[0m\u001b[0m\n\u001b[0;32m   2112\u001b[0m     \u001b[0mc_op\u001b[0m \u001b[1;33m=\u001b[0m \u001b[0m_create_c_op\u001b[0m\u001b[1;33m(\u001b[0m\u001b[0mg\u001b[0m\u001b[1;33m,\u001b[0m \u001b[0mnode_def\u001b[0m\u001b[1;33m,\u001b[0m \u001b[0minputs\u001b[0m\u001b[1;33m,\u001b[0m \u001b[0mcontrol_input_ops\u001b[0m\u001b[1;33m,\u001b[0m \u001b[0mop_def\u001b[0m\u001b[1;33m=\u001b[0m\u001b[0mop_def\u001b[0m\u001b[1;33m)\u001b[0m\u001b[1;33m\u001b[0m\u001b[1;33m\u001b[0m\u001b[0m\n\u001b[1;32m-> 2113\u001b[1;33m     \u001b[0mself\u001b[0m\u001b[1;33m.\u001b[0m\u001b[0m_init_from_c_op\u001b[0m\u001b[1;33m(\u001b[0m\u001b[0mc_op\u001b[0m\u001b[1;33m=\u001b[0m\u001b[0mc_op\u001b[0m\u001b[1;33m,\u001b[0m \u001b[0mg\u001b[0m\u001b[1;33m=\u001b[0m\u001b[0mg\u001b[0m\u001b[1;33m)\u001b[0m\u001b[1;33m\u001b[0m\u001b[1;33m\u001b[0m\u001b[0m\n\u001b[0m\u001b[0;32m   2114\u001b[0m \u001b[1;33m\u001b[0m\u001b[0m\n\u001b[0;32m   2115\u001b[0m     \u001b[0mself\u001b[0m\u001b[1;33m.\u001b[0m\u001b[0m_original_op\u001b[0m \u001b[1;33m=\u001b[0m \u001b[0moriginal_op\u001b[0m\u001b[1;33m\u001b[0m\u001b[1;33m\u001b[0m\u001b[0m\n",
      "\u001b[1;32m~\\anaconda3\\lib\\site-packages\\tensorflow\\python\\framework\\ops.py\u001b[0m in \u001b[0;36m_init_from_c_op\u001b[1;34m(self, c_op, g)\u001b[0m\n\u001b[0;32m   2177\u001b[0m     \u001b[0mself\u001b[0m\u001b[1;33m.\u001b[0m\u001b[0m_gradient_function\u001b[0m \u001b[1;33m=\u001b[0m \u001b[1;32mNone\u001b[0m\u001b[1;33m\u001b[0m\u001b[1;33m\u001b[0m\u001b[0m\n\u001b[0;32m   2178\u001b[0m \u001b[1;33m\u001b[0m\u001b[0m\n\u001b[1;32m-> 2179\u001b[1;33m     \u001b[0mop_def\u001b[0m \u001b[1;33m=\u001b[0m \u001b[0mg\u001b[0m\u001b[1;33m.\u001b[0m\u001b[0m_get_op_def\u001b[0m\u001b[1;33m(\u001b[0m\u001b[0mpywrap_tf_session\u001b[0m\u001b[1;33m.\u001b[0m\u001b[0mTF_OperationOpType\u001b[0m\u001b[1;33m(\u001b[0m\u001b[0mc_op\u001b[0m\u001b[1;33m)\u001b[0m\u001b[1;33m)\u001b[0m  \u001b[1;31m# pylint: disable=protected-access\u001b[0m\u001b[1;33m\u001b[0m\u001b[1;33m\u001b[0m\u001b[0m\n\u001b[0m\u001b[0;32m   2180\u001b[0m \u001b[1;33m\u001b[0m\u001b[0m\n\u001b[0;32m   2181\u001b[0m     \u001b[0mself\u001b[0m\u001b[1;33m.\u001b[0m\u001b[0m_is_stateful\u001b[0m \u001b[1;33m=\u001b[0m \u001b[0mop_def\u001b[0m\u001b[1;33m.\u001b[0m\u001b[0mis_stateful\u001b[0m\u001b[1;33m\u001b[0m\u001b[1;33m\u001b[0m\u001b[0m\n",
      "\u001b[1;31mKeyboardInterrupt\u001b[0m: "
     ]
    }
   ],
   "source": [
    "for date in datelist:\n",
    "    predict_demand('{}'.format(date), 'ncku_demand', 'vanilla')"
   ]
  },
  {
   "cell_type": "code",
   "execution_count": null,
   "id": "3be13c8d",
   "metadata": {},
   "outputs": [],
   "source": []
  }
 ],
 "metadata": {
  "kernelspec": {
   "display_name": "Python 3 (ipykernel)",
   "language": "python",
   "name": "python3"
  },
  "language_info": {
   "codemirror_mode": {
    "name": "ipython",
    "version": 3
   },
   "file_extension": ".py",
   "mimetype": "text/x-python",
   "name": "python",
   "nbconvert_exporter": "python",
   "pygments_lexer": "ipython3",
   "version": "3.9.13"
  }
 },
 "nbformat": 4,
 "nbformat_minor": 5
}
