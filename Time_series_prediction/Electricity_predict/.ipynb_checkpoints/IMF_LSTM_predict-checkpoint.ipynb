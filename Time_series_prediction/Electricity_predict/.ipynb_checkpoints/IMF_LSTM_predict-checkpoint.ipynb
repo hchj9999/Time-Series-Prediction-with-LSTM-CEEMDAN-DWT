{
 "cells": [
  {
   "cell_type": "code",
   "execution_count": null,
   "id": "e42e409d",
   "metadata": {},
   "outputs": [],
   "source": [
    "# Import necessary libraries [B]\n",
    "import numpy as np # linear algebra\n",
    "import pandas as pd # data processing, CSV file I/O (e.g. pd.read_csv)\n",
    "import matplotlib.pyplot as plt   # plotting\n",
    "import seaborn as sns   # plotting heatmap\n",
    "import statsmodels.api as sm  # seasonal trend decomposition\n",
    "import pymysql\n",
    "import datetime\n",
    "from statsmodels.graphics import tsaplots   # autocorrelation\n",
    "from tensorflow.keras.optimizers import Adam #\n",
    "from keras.models import Sequential, load_model\n",
    "from keras.layers import Dense, LSTM, BatchNormalization, TimeDistributed, Flatten, Bidirectional,Dropout\n",
    "from keras.callbacks import ReduceLROnPlateau, EarlyStopping\n",
    "from keras.regularizers import l2\n",
    "from time import time\n",
    "from sklearn import preprocessing\n",
    "from joblib import dump, load\n",
    "from datetime import datetime, timedelta\n",
    "# from meteocalc import Temp, dew_point, heat_index, wind_chill, feels_like\n",
    "from attention import Attention\n",
    "from keras_self_attention import SeqSelfAttention\n",
    "from tensorflow.keras.utils import plot_model\n",
    "import os\n",
    "from PyEMD import CEEMDAN\n",
    "from sklearn.preprocessing import MinMaxScaler\n",
    "from sklearn.metrics import r2_score, mean_squared_error, mean_absolute_error\n",
    "from math import sqrt\n",
    "import time\n",
    "import yfinance as yf\n",
    "from datetime import datetime\n",
    "%matplotlib inline\n",
    "# Import necessary libraries [E]"
   ]
  },
  {
   "cell_type": "code",
   "execution_count": null,
   "id": "62023126",
   "metadata": {},
   "outputs": [],
   "source": [
    "pd.set_option('display.max_rows', None)\n",
    "pd.set_option('display.max_columns', None)"
   ]
  },
  {
   "cell_type": "markdown",
   "id": "0ff822d1",
   "metadata": {},
   "source": [
    "# 抓新資料少量分解更新子訊號"
   ]
  },
  {
   "cell_type": "code",
   "execution_count": null,
   "id": "6dfefbc7",
   "metadata": {},
   "outputs": [],
   "source": [
    "# 取一段時間的電力資料，傳給several_CEEMDAN()\n",
    "def take_latest_several_data(end_date,timerange):\n",
    "\n",
    "    conn  =  pymysql.connect ( host = '' ,  user = '' ,  passwd = \"\" ,  db = '' ) \n",
    "    cur  =  conn.cursor() \n",
    "    select_sql = '''SELECT `datetime`, `demand_quarter`\n",
    "                    FROM `demand_with_weather_data`\n",
    "                    WHERE `datetime` < '{}'\n",
    "                    ORDER BY `datetime` DESC LIMIT {} '''.format(end_date,timerange)\n",
    "    result_object = cur.execute(select_sql)\n",
    "    results_values_list = cur.fetchall()\n",
    "    result_key_list = [i[0] for i in cur.description]\n",
    "\n",
    "    reframed = pd.DataFrame(results_values_list)\n",
    "    #         print(reframed)\n",
    "    reframed.columns = result_key_list\n",
    "    timestamp = pd.to_datetime(reframed.datetime, infer_datetime_format=True).values\n",
    "    reframed['timestamp'] = timestamp.tolist()\n",
    "    reframed = reframed.set_index('datetime')\n",
    "    cur.close () \n",
    "    conn.close()\n",
    "    reframed['demand_quarter'] = reframed['demand_quarter'].replace('', np.nan)\n",
    "    reframed['demand_quarter'] = reframed['demand_quarter'].astype(float) \n",
    "    electricity_new_data_df = reframed\n",
    "    electricity_new_data_df = electricity_new_data_df.drop('timestamp', axis=1)\n",
    "    electricity_new_data = electricity_new_data_df['demand_quarter'].to_list()\n",
    "    return  electricity_new_data_df,electricity_new_data"
   ]
  },
  {
   "cell_type": "code",
   "execution_count": null,
   "id": "53772387",
   "metadata": {},
   "outputs": [],
   "source": [
    "a,b = take_latest_several_data('2022-01-13 10:00:00',6)"
   ]
  },
  {
   "cell_type": "code",
   "execution_count": null,
   "id": "dd5cb8a9",
   "metadata": {},
   "outputs": [],
   "source": [
    "# 利用一段時間的電力資料做少量ceemdan分解，回傳分解結果(幾個imf對應幾個資料點)\n",
    "def several_CEEMDAN(end_date,assume_shortest_decompose_length,timerange,imf_num):\n",
    "    electricity_new_data_df,electricity_new_data = take_latest_several_data(end_date,timerange)\n",
    "#     reversed_financial_new_data = financial_new_data[::-1] \n",
    "    ceemdan = CEEMDAN()\n",
    "    start = time.time()\n",
    "    for i in range(len(electricity_new_data)):\n",
    "        decompose_start = time.time()\n",
    "        ceemdan.ceemdan(np.array(electricity_new_data[:assume_shortest_decompose_length+i]).ravel(),max_imf=imf_num)\n",
    "        new_imfs, new_res = ceemdan.get_imfs_and_residue()\n",
    "        if len(new_imfs) >= imf_num+1:\n",
    "            decompose_end = time.time()\n",
    "            decompose_time = decompose_end - decompose_start\n",
    "            print(\"分解時間:%f 秒\" % decompose_time)\n",
    "            break\n",
    "    end = time.time()\n",
    "    select_and_decompose_time = end - start\n",
    "    print(\"date:\",end_date,\"挑選數量+分解執行時間：%f 秒\" % select_and_decompose_time,\"IMF數量：\",len(new_imfs),\"資料點數量：\",len(new_imfs[0]))\n",
    "    several_CEEMDAN_plot(new_imfs)\n",
    "    \n",
    "    return new_imfs, decompose_time, select_and_decompose_time"
   ]
  },
  {
   "cell_type": "code",
   "execution_count": null,
   "id": "79332dbe",
   "metadata": {},
   "outputs": [],
   "source": [
    "# 畫少量分解完的結果，傳給several_CEEMDAN()\n",
    "def several_CEEMDAN_plot(data_to_draw):\n",
    "    IImfs=[]\n",
    "    for i in range(data_to_draw.shape[0]):\n",
    "        plt.subplot(data_to_draw.shape[0]+3,1,i+2)\n",
    "        plt.plot(data_to_draw[i])\n",
    "        plt.ylabel(\"IMF %i\" %(i+1))\n",
    "        plt.locator_params(axis='x', nbins=10)\n",
    "        IImfs.append(data_to_draw[i])"
   ]
  },
  {
   "cell_type": "code",
   "execution_count": null,
   "id": "70823ae5",
   "metadata": {},
   "outputs": [],
   "source": [
    "# 用分解後的結果更新資料庫中對應的imf資料表\n",
    "def New_imf_to_Database(end_date,assume_shortest_decompose_length,timerange,imf_num): \n",
    "    \n",
    "    data_to_update, decompose_time, select_and_decompose_time = several_CEEMDAN(end_date,assume_shortest_decompose_length,timerange,imf_num)\n",
    "    electricity_new_data_df,electricity_new_data = take_latest_several_data(end_date,timerange)\n",
    "#     print(data_to_update)\n",
    "    for i in range(len(data_to_update)):\n",
    "        imf_number = i+1\n",
    "        imf_df = pd.DataFrame(data_to_update[i])\n",
    "        imf_df.set_index(electricity_new_data_df[:len(data_to_update[i])].index, inplace=True)\n",
    "        imf_df = imf_df.rename(columns={0: 'demand_IMF'})\n",
    "        imf_df = imf_df.reset_index()\n",
    "        connection = pymysql.connect(host = '' ,  user = '' ,  passwd = \"\", db='')\n",
    "        cursor = connection.cursor()\n",
    "        data = imf_df.values.tolist()\n",
    "        insert_query = '''\n",
    "        REPLACE INTO imf{} (`datetime`, `demand_IMF{}`)\n",
    "        VALUES (%s, %s)\n",
    "        '''.format(imf_number,imf_number)\n",
    "        cursor.executemany(insert_query, data)\n",
    "        connection.commit()\n",
    "        connection.close()\n",
    "    print(\"更新資料表\")\n",
    "    return data_to_update, decompose_time, select_and_decompose_time"
   ]
  },
  {
   "cell_type": "markdown",
   "id": "76ddf0e3",
   "metadata": {},
   "source": [
    "# 增量預測"
   ]
  },
  {
   "cell_type": "code",
   "execution_count": null,
   "id": "55a30632",
   "metadata": {},
   "outputs": [],
   "source": [
    "def createSlidingWindow(dataset,windowSize):\n",
    "    x_train = []\n",
    "    y_train = []\n",
    "    for i in range(len(dataset)-windowSize):\n",
    "        x_train.append(dataset[i:i+windowSize])\n",
    "        y_train.append(dataset[i+windowSize])\n",
    "    return np.array(x_train), np.array(y_train)"
   ]
  },
  {
   "cell_type": "code",
   "execution_count": null,
   "id": "82aea066",
   "metadata": {},
   "outputs": [],
   "source": [
    "# 參數轉成監督式參數 [B]\n",
    "# The function is defined with default parameters so that if you call it with just your data, it will construct a DataFrame with t-1 \n",
    "# as X and t as y\n",
    "\n",
    "def series_to_supervised(data, n_in = 1, n_out = 1, dropnan = True):\n",
    "    n_vars = 1 if type(data) is list else data.shape[1]\n",
    "    \n",
    "    df = pd.DataFrame(data)\n",
    "    df_columns_name = df.columns.values\n",
    "    cols, names = list(), list()\n",
    "    \n",
    "    # input sequence (t-n, ... t-1)\n",
    "    for i in range(n_in, 0, -1):\n",
    "        cols.append(df.shift(i))\n",
    "        names += [('%s(t-%d)' % (df_columns_name[j], i)) for j in range(n_vars)]\n",
    "        \n",
    "    # forecast sequence (t, t+1, ... t+n)\n",
    "    for i in range(0, n_out):\n",
    "        cols.append(df.shift(-i))\n",
    "        if i == 0:\n",
    "            names += [('%s(t)' % (df_columns_name[j])) for j in range(n_vars)]\n",
    "        else:\n",
    "            names += [('%s(t+%d)' % (df_columns_name[j], i)) for j in range(n_vars)]\n",
    "            \n",
    "    # put it all together\n",
    "    agg = pd.concat(cols, axis=1)\n",
    "    agg.columns = names\n",
    "    # drop rows with NaN values\n",
    "    if dropnan:\n",
    "        agg.dropna(inplace=True)\n",
    "        \n",
    "    return agg\n",
    "# 參數轉成監督式參數 [E]"
   ]
  },
  {
   "cell_type": "code",
   "execution_count": null,
   "id": "d4c4d114",
   "metadata": {},
   "outputs": [],
   "source": [
    "def predict_electricity(begin_date, table_name, model_structure, imf_num, model_path):\n",
    "\n",
    "    window_size = 96\n",
    "    feature_len = 1\n",
    "    \n",
    "    today_object = datetime.strptime(begin_date, '%Y-%m-%d %H:%M:%S')\n",
    "    today_object_string = today_object.strftime(\"%Y-%m-%d %H:%M:%S\")\n",
    "    end_date = today_object_string\n",
    "    \n",
    "    try: \n",
    "        conn  =  pymysql.connect ( host = '' ,  user = '' ,  passwd = \"\" ,  db = '' ) \n",
    "        cur  =  conn.cursor() \n",
    "        select_sql = '''SELECT `datetime`, `demand_IMF{}`\n",
    "                        FROM `{}`\n",
    "                        WHERE `datetime` < '{}'\n",
    "                        ORDER BY `datetime` DESC LIMIT {} '''.format(imf_num, table_name, end_date, window_size + 1)\n",
    "        result_object = cur.execute(select_sql)\n",
    "        results_values_list = cur.fetchall()\n",
    "        result_key_list = [i[0] for i in cur.description]\n",
    "\n",
    "        \n",
    "        reframed = pd.DataFrame(results_values_list)\n",
    "#         print(reframed)\n",
    "        reframed.columns = result_key_list\n",
    "        timestamp = pd.to_datetime(reframed.datetime, infer_datetime_format=True).values\n",
    "        reframed['timestamp'] = timestamp.tolist()\n",
    "        reframed = reframed.set_index('datetime')\n",
    "        \n",
    "        cur.close () \n",
    "        conn.close()\n",
    "    except Exception as e:\n",
    "        print(e)\n",
    "    reframed = reframed.rename(columns={'demand_IMF{}'.format(imf_num) : 'demand'})\n",
    "    reframed['demand'] = reframed['demand'].replace('', np.nan)\n",
    "    reframed['demand'] = reframed['demand'].astype(float)        \n",
    "    reframed_supervised = series_to_supervised(reframed, 1, 1)\n",
    "    simple_LSTM_modal_save_path = model_path\n",
    "    simple_LSTM_modal_save_new_path = simple_LSTM_modal_save_path\n",
    "    \n",
    "    scaler = MinMaxScaler(feature_range=(0,1))\n",
    "    test = np.array(reframed['demand'])\n",
    "    test = test[::-1]\n",
    "    train_scaled_data = scaler.fit_transform(np.array(reframed_supervised['demand(t)']).reshape(-1,1))\n",
    "    test_scaled_data = scaler.fit_transform(test.reshape(-1,1))\n",
    "    x_test,y_test = createSlidingWindow(test_scaled_data,window_size)\n",
    "#     print(x_test[0])\n",
    "    reframed_supervised['electricity_normalization'] = train_scaled_data\n",
    "#     print(reframed_supervised)\n",
    "    selected_column = ['demand(t-1)']\n",
    "    all_update_features = np.array([reframed_supervised.loc[:, selected_column]])\n",
    "    update_labels = np.array([reframed_supervised.loc[reframed_supervised.index[-1], 'electricity_normalization']])\n",
    "    \n",
    "    vanilla_model = load_model(model_path)\n",
    "    test_predict = vanilla_model.predict(x_test)\n",
    "    predict_Close = scaler.inverse_transform(test_predict)\n",
    "    vanilla_model.compile(loss='mse', optimizer='Adam') \n",
    "    vanilla_model_history = vanilla_model.fit(x_test,y_test,batch_size=60,epochs=100)\n",
    "    vanilla_model.save(model_path) \n",
    "    del vanilla_model\n",
    "    print(predict_Close[0][0])\n",
    "    return predict_Close[0][0]"
   ]
  },
  {
   "cell_type": "code",
   "execution_count": null,
   "id": "45431fb2",
   "metadata": {},
   "outputs": [],
   "source": [
    "# 取日期範圍\n",
    "def datelist(start_date,end_date):\n",
    "    date_list = []\n",
    "    start_date = datetime.strptime(start_date, '%Y-%m-%d')  # 起始日期\n",
    "    end_date = datetime.strptime(end_date, '%Y-%m-%d')    # 结束日期\n",
    "    current_date = start_date\n",
    "    while current_date <= end_date:\n",
    "        date_list.append(current_date.strftime('%Y-%m-%d'))\n",
    "        current_date += timedelta(days=1)\n",
    "    return date_list"
   ]
  },
  {
   "cell_type": "code",
   "execution_count": null,
   "id": "a0e11673",
   "metadata": {},
   "outputs": [],
   "source": [
    "date_range_list_1 = pd.date_range(start='2021-05-01 00:00:00', end='2021-05-03 23:45:00', freq='15min')"
   ]
  },
  {
   "cell_type": "code",
   "execution_count": null,
   "id": "2c75bc10",
   "metadata": {},
   "outputs": [],
   "source": [
    "date_range_list_2 = pd.date_range(start='2021-05-04 00:00:00', end='2021-05-06 23:45:00', freq='15min')"
   ]
  },
  {
   "cell_type": "code",
   "execution_count": null,
   "id": "8db2d69e",
   "metadata": {},
   "outputs": [],
   "source": [
    "date_range_list_3 = pd.date_range(start='2021-05-07 00:00:00', end='2021-05-09 23:45:00', freq='15min')"
   ]
  },
  {
   "cell_type": "code",
   "execution_count": null,
   "id": "c05671f5",
   "metadata": {},
   "outputs": [],
   "source": [
    "date_range_list_4 = pd.date_range(start='2021-05-10 00:00:00', end='2021-05-13 00:00:00', freq='15min')"
   ]
  },
  {
   "cell_type": "code",
   "execution_count": null,
   "id": "0db1f529",
   "metadata": {},
   "outputs": [],
   "source": [
    "date_range_list_10 = pd.date_range(start='2021-05-28 00:00:00', end='2021-05-31 23:45:00', freq='15min')"
   ]
  },
  {
   "cell_type": "code",
   "execution_count": null,
   "id": "be94c80b",
   "metadata": {},
   "outputs": [],
   "source": [
    "date_range_list_test10 = pd.date_range(start='2021-05-28 00:00:00', end='2021-05-28 02:30:00', freq='15min')"
   ]
  },
  {
   "cell_type": "code",
   "execution_count": null,
   "id": "ea3451e9",
   "metadata": {},
   "outputs": [],
   "source": [
    "def predict_date_range(date_range_list):\n",
    "    predict_list = []\n",
    "    execute_time_list = []\n",
    "    all_time_start = time.time()\n",
    "    all_decompose_time = 0\n",
    "    all_select_and_decompose_time = 0\n",
    "    original_len = 5\n",
    "    for i in range(len(date_range_list)):\n",
    "        start = time.time()\n",
    "        data_to_update, decompose_time, select_and_decompose_time = New_imf_to_Database(date_range_list[i],original_len,500,2)\n",
    "        imf1_result = predict_electricity('{}'.format(date_range_list[i]), 'imf1', 'vanilla', 1, './model/simple-LSTM-model-result(3imf)-1-96.h5')\n",
    "        imf2_result = predict_electricity('{}'.format(date_range_list[i]), 'imf2', 'vanilla', 2, './model/simple-LSTM-model-result(3imf)-2-96.h5')\n",
    "        imf3_result = predict_electricity('{}'.format(date_range_list[i]), 'imf3', 'vanilla', 3, './model/simple-LSTM-model-result(3imf)-3-96.h5')\n",
    "#         imf4_result = predict_electricity('{}'.format(date_range_list[i]), 'imf4', 'vanilla', 4, './model/simple-LSTM-model-result-4-Copy1.h5')\n",
    "#         imf5_result = predict_electricity('{}'.format(date_range_list[i]), 'imf5', 'vanilla', 5, './model/simple-LSTM-model-result-5-Copy1.h5')\n",
    "        imf_predict_sum = imf1_result + imf2_result + imf3_result\n",
    "        predict_list.append(imf_predict_sum)\n",
    "        end = time.time()\n",
    "        execute_time_list.append(end - start)\n",
    "        print(date_range_list[i],imf_predict_sum,\"一天的分解+預測執行時間：%f 秒\" % (end - start))\n",
    "#         if i == 150 or i == 300 or i == 450:\n",
    "#             time.sleep(1)\n",
    "        all_decompose_time += decompose_time\n",
    "        all_select_and_decompose_time += select_and_decompose_time\n",
    "#         original_len = len(data_to_update[0])\n",
    "    all_time_end = time.time()\n",
    "    print(\"全部執行時間：%f 秒\" % (all_time_end - all_time_start),\"資料點數量：\",len(date_range_list), \"總分解時間：\",all_decompose_time)\n",
    "    return predict_list, execute_time_list"
   ]
  },
  {
   "cell_type": "code",
   "execution_count": null,
   "id": "59b767fc",
   "metadata": {},
   "outputs": [],
   "source": [
    "# 3 imf\n",
    "predict_list_1, execute_time_list_1 = predict_date_range(date_range_list_1)"
   ]
  },
  {
   "cell_type": "code",
   "execution_count": null,
   "id": "21bb0c41",
   "metadata": {},
   "outputs": [],
   "source": [
    "# 3 imf\n",
    "predict_list_2, execute_time_list_2 = predict_date_range(date_range_list_2)"
   ]
  },
  {
   "cell_type": "code",
   "execution_count": null,
   "id": "dadf9cd6",
   "metadata": {},
   "outputs": [],
   "source": [
    "# 3 imf\n",
    "predict_list_3, execute_time_list_3 = predict_date_range(date_range_list_3)"
   ]
  },
  {
   "cell_type": "code",
   "execution_count": null,
   "id": "f0432643",
   "metadata": {},
   "outputs": [],
   "source": [
    "predict_list_10, execute_time_list_10 = predict_date_range(date_range_list_10)"
   ]
  },
  {
   "cell_type": "markdown",
   "id": "25e81aca",
   "metadata": {},
   "source": [
    "# 比較實際值與預測結果"
   ]
  },
  {
   "cell_type": "code",
   "execution_count": null,
   "id": "6c05bb97",
   "metadata": {},
   "outputs": [],
   "source": [
    "# 取真實電力資料的dataframe\n",
    "def get_true_value(start_day,end_day):\n",
    "    conn  =  pymysql.connect ( host = '' ,  user = '' ,  passwd = \"\" ,  db = '' ) \n",
    "    cur  =  conn.cursor() \n",
    "    select_sql = '''SELECT `datetime`, `demand_quarter`\n",
    "                    FROM `demand_with_weather_data`\n",
    "                    WHERE `datetime` >= '{}' AND `datetime` <= '{}' '''.format(start_day, end_day)\n",
    "    result_object = cur.execute(select_sql)\n",
    "    results_values_list = cur.fetchall()\n",
    "    result_key_list = [i[0] for i in cur.description]\n",
    "    true_day_value = pd.DataFrame(results_values_list)\n",
    "    true_day_value.columns = result_key_list\n",
    "    true_day_value = true_day_value.set_index('datetime')\n",
    "    cur.close () \n",
    "    conn.close()\n",
    "\n",
    "    true_day_value['demand_quarter'] = true_day_value['demand_quarter'].replace('', np.nan)\n",
    "    true_day_value['demand_quarter'] = true_day_value['demand_quarter'].astype(float)  \n",
    "    return true_day_value\n",
    "    # datelist = true_day_value.index"
   ]
  },
  {
   "cell_type": "code",
   "execution_count": null,
   "id": "cd642ce6",
   "metadata": {},
   "outputs": [],
   "source": [
    "# 將真實資料與預測值合併成一個dataframe\n",
    "def concat_true_and_predict_value(start_day, end_day,date_range_list, predict_list,execute_list):\n",
    "    true_day_value = get_true_value(start_day,end_day)\n",
    "#     predict_datelist = datelist(start_day,end_day)\n",
    "    predict_datelist = date_range_list\n",
    "    predict_df = pd.DataFrame({'datetime': predict_datelist, 'predict': predict_list})\n",
    "    execute_time_df = pd.DataFrame({'datetime': predict_datelist, 'execute_time': execute_list})\n",
    "    predict_df = predict_df.set_index('datetime')\n",
    "    execute_time_df = execute_time_df.set_index('datetime')\n",
    "    merged_df = pd.concat([true_day_value, predict_df], axis=1)\n",
    "    merged_df = pd.concat([merged_df, execute_time_df], axis=1)\n",
    "    merged_df = merged_df.dropna()\n",
    "    return merged_df"
   ]
  },
  {
   "cell_type": "code",
   "execution_count": null,
   "id": "8f5b93b9",
   "metadata": {},
   "outputs": [],
   "source": [
    "concat_df_1 = concat_true_and_predict_value('2021-05-01 00:00:00','2021-05-03 23:45:00',date_range_list_1,predict_list_1,execute_time_list_1)\n",
    "concat_df_1"
   ]
  },
  {
   "cell_type": "code",
   "execution_count": null,
   "id": "779e69be",
   "metadata": {},
   "outputs": [],
   "source": [
    "plt.figure(figsize=(10 ,5))\n",
    "# plt.ylim([13500,20000])\n",
    "# plt.xlim([1,20000])\n",
    "# plt.ylim([12000,19000])\n",
    "plt.plot(concat_df_1['demand_quarter'].to_list())\n",
    "plt.plot(concat_df_1['predict'].to_list(),c='y')\n",
    "plt.legend(['data', 'CEEMDAN_LSTM_prediction'], loc='upper right')\n",
    "plt.ylim([100,350])\n",
    "plt.ylabel(\"demand\")\n",
    "plt.xlabel(\"minutes\")\n",
    "plt.show()\n",
    "\n",
    "k = concat_df_1['demand_quarter'].tolist()\n",
    "r = concat_df_1['predict']\n",
    "\n",
    "LSTM_R2 = r2_score(concat_df_1['demand_quarter'],concat_df_1['predict'])\n",
    "LSTM_MSE = mean_squared_error(concat_df_1['demand_quarter'],concat_df_1['predict'])\n",
    "LSTM_MAE = mean_absolute_error(concat_df_1['demand_quarter'],concat_df_1['predict'])\n",
    "LSTM_MRE = np.mean(np.abs((k - r) / k)) * 100\n",
    "print(\"LSTM_R2=\",LSTM_R2)\n",
    "print(\"LSTM_MSE=\",LSTM_MSE)\n",
    "print(\"LSTM_MAE=\",LSTM_MAE)\n",
    "print(\"LSTM_RMSE=\",sqrt(LSTM_MSE))\n",
    "print(\"LSTM_MRE=\",LSTM_MRE)"
   ]
  },
  {
   "cell_type": "code",
   "execution_count": null,
   "id": "61ee5f76",
   "metadata": {},
   "outputs": [],
   "source": [
    "# concat_df_1.to_csv('./incremental_predict_result_electricity_(3_3_days)/IMF_LSTM_predict_20210501_20210503.csv')"
   ]
  },
  {
   "cell_type": "code",
   "execution_count": null,
   "id": "61aef993",
   "metadata": {},
   "outputs": [],
   "source": [
    "concat_df_2 = concat_true_and_predict_value('2021-05-04 00:00:00','2021-05-06 23:45:00',date_range_list_2,predict_list_2,execute_time_list_2)\n",
    "concat_df_2"
   ]
  },
  {
   "cell_type": "code",
   "execution_count": null,
   "id": "7282568a",
   "metadata": {},
   "outputs": [],
   "source": [
    "plt.figure(figsize=(10 ,5))\n",
    "# plt.ylim([13500,20000])\n",
    "# plt.xlim([1,20000])\n",
    "# plt.ylim([12000,19000])\n",
    "plt.plot(concat_df_2['demand_quarter'].to_list())\n",
    "plt.plot(concat_df_2['predict'].to_list(),c='y')\n",
    "plt.legend(['data', 'CEEMDAN_LSTM_prediction'], loc='upper right')\n",
    "plt.ylabel(\"demand\")\n",
    "plt.xlabel(\"minutes\")\n",
    "plt.ylim([100,500])\n",
    "plt.show()\n",
    "\n",
    "k = concat_df_2['demand_quarter'].tolist()\n",
    "r = concat_df_2['predict']\n",
    "\n",
    "LSTM_R2 = r2_score(concat_df_2['demand_quarter'],concat_df_2['predict'])\n",
    "LSTM_MSE = mean_squared_error(concat_df_2['demand_quarter'],concat_df_2['predict'])\n",
    "LSTM_MAE = mean_absolute_error(concat_df_2['demand_quarter'],concat_df_2['predict'])\n",
    "LSTM_MRE = np.mean(np.abs((k - r) / k)) * 100\n",
    "\n",
    "print(\"LSTM_R2=\",LSTM_R2)\n",
    "print(\"LSTM_MSE=\",LSTM_MSE)\n",
    "print(\"LSTM_MAE=\",LSTM_MAE)\n",
    "print(\"LSTM_RMSE=\",sqrt(LSTM_MSE))\n",
    "print(\"LSTM_MRE=\",LSTM_MRE)"
   ]
  },
  {
   "cell_type": "code",
   "execution_count": null,
   "id": "345a9f0e",
   "metadata": {},
   "outputs": [],
   "source": [
    "# concat_df_2.to_csv('./incremental_predict_result_electricity_(3_3_days)/IMF_LSTM_predict_20210504_20210506.csv')"
   ]
  },
  {
   "cell_type": "code",
   "execution_count": null,
   "id": "4a4a240d",
   "metadata": {},
   "outputs": [],
   "source": [
    "concat_df_3 = concat_true_and_predict_value('2021-05-07 00:00:00','2021-05-09 23:45:00',date_range_list_3,predict_list_3,execute_time_list_3)\n",
    "concat_df_3"
   ]
  },
  {
   "cell_type": "code",
   "execution_count": null,
   "id": "a172e5a3",
   "metadata": {},
   "outputs": [],
   "source": [
    "temp = concat_df_3\n",
    "# temp[temp.index=='2021-05-09 14:45:00']['predict']='245.880859'\n",
    "temp.at['2021-05-09 14:45:00', 'predict'] = 245.880859\n",
    "temp['error']=abs(temp['demand_quarter']-temp['predict'])\n",
    "temp['accumulative_error']=temp['error'].cumsum()\n",
    "plt.figure(figsize=(10 ,5))\n",
    "plt.plot(temp.index, temp['accumulative_error'].to_list())\n",
    "plt.show()"
   ]
  },
  {
   "cell_type": "code",
   "execution_count": null,
   "id": "3d508882",
   "metadata": {},
   "outputs": [],
   "source": [
    "plt.figure(figsize=(10 ,5))\n",
    "# plt.ylim([13500,20000])\n",
    "# plt.xlim([1,20000])\n",
    "# plt.ylim([12000,19000])\n",
    "plt.plot(concat_df_3['demand_quarter'].to_list())\n",
    "plt.plot(concat_df_3['predict'].to_list(),c='y')\n",
    "plt.legend(['data', 'CEEMDAN_LSTM_prediction'], loc='upper right')\n",
    "# plt.ylim([100,350])\n",
    "plt.ylabel(\"demand\")\n",
    "plt.xlabel(\"minutes\")\n",
    "plt.show()\n",
    "\n",
    "k = concat_df_3['demand_quarter'].tolist()\n",
    "r = concat_df_3['predict']\n",
    "\n",
    "LSTM_R2 = r2_score(concat_df_3['demand_quarter'],concat_df_3['predict'])\n",
    "LSTM_MSE = mean_squared_error(concat_df_3['demand_quarter'],concat_df_3['predict'])\n",
    "LSTM_MAE = mean_absolute_error(concat_df_3['demand_quarter'],concat_df_3['predict'])\n",
    "LSTM_MRE = np.mean(np.abs((k - r) / k)) * 100\n",
    "print(\"LSTM_R2=\",LSTM_R2)\n",
    "print(\"LSTM_MSE=\",LSTM_MSE)\n",
    "print(\"LSTM_MAE=\",LSTM_MAE)\n",
    "print(\"LSTM_RMSE=\",sqrt(LSTM_MSE))\n",
    "print(\"LSTM_MRE=\",LSTM_MRE)"
   ]
  },
  {
   "cell_type": "code",
   "execution_count": null,
   "id": "654e617b",
   "metadata": {},
   "outputs": [],
   "source": [
    "concat_df_3['error']=abs(concat_df_3['demand_quarter']-concat_df_3['predict'])\n",
    "concat_df_3['accumulative_error']=concat_df_3['error'].cumsum()\n",
    "plt.figure(figsize=(10 ,5))\n",
    "plt.plot(concat_df_3.index, concat_df_3['accumulative_error'].to_list())\n",
    "# x_ticks_positions = range(0, len(concat_df_3.index), 15)\n",
    "# x_ticks_labels = concat_df_3.index[::15]\n",
    "# plt.xticks(x_ticks_positions, x_ticks_labels, rotation=45)\n",
    "plt.show()"
   ]
  },
  {
   "cell_type": "code",
   "execution_count": null,
   "id": "1c7eeadd",
   "metadata": {},
   "outputs": [],
   "source": [
    "# concat_df_3.to_csv('./incremental_predict_result_electricity_(3_3_days)/IMF_LSTM_predict_20210507_20210509.csv')"
   ]
  },
  {
   "cell_type": "code",
   "execution_count": null,
   "id": "b1e98dc8",
   "metadata": {},
   "outputs": [],
   "source": [
    "# imf2~5\n",
    "plt.figure(figsize=(10 ,5))\n",
    "# plt.ylim([13500,20000])\n",
    "# plt.xlim([1,20000])\n",
    "# plt.ylim([12000,19000])\n",
    "plt.plot(concat_df_1['demand_quarter'].to_list())\n",
    "plt.plot(concat_df_1['predict'].to_list(),c='g')\n",
    "# plt.xlim([100,300])\n",
    "plt.ylabel(\"demand\")\n",
    "plt.xlabel(\"minutes\")\n",
    "plt.show()\n",
    "\n",
    "k = concat_df_1['demand_quarter'].tolist()\n",
    "r = concat_df_1['predict']\n",
    "\n",
    "LSTM_R2 = r2_score(concat_df_1['demand_quarter'],concat_df_1['predict'])\n",
    "LSTM_MSE = mean_squared_error(concat_df_1['demand_quarter'],concat_df_1['predict'])\n",
    "LSTM_MAE = mean_absolute_error(concat_df_1['demand_quarter'],concat_df_1['predict'])\n",
    "LSTM_MRE = np.mean(np.abs((k - r) / k)) * 100\n",
    "print(\"LSTM_R2=\",LSTM_R2)\n",
    "print(\"LSTM_MSE=\",LSTM_MSE)\n",
    "print(\"LSTM_MAE=\",LSTM_MAE)\n",
    "print(\"LSTM_RMSE=\",sqrt(LSTM_MSE))\n",
    "print(\"LSTM_MRE=\",LSTM_MRE)"
   ]
  },
  {
   "cell_type": "code",
   "execution_count": null,
   "id": "fd3dc5f6",
   "metadata": {},
   "outputs": [],
   "source": [
    "# 五個imf\n",
    "plt.figure(figsize=(10 ,5))\n",
    "# plt.ylim([13500,20000])\n",
    "# plt.xlim([1,20000])\n",
    "# plt.ylim([12000,19000])\n",
    "plt.plot(concat_df_1['demand_quarter'].to_list())\n",
    "plt.plot(concat_df_1['predict'].to_list(),c='g')\n",
    "# plt.xlim([100,300])\n",
    "plt.ylabel(\"demand\")\n",
    "plt.xlabel(\"minutes\")\n",
    "plt.show()\n",
    "\n",
    "k = concat_df_1['demand_quarter'].tolist()\n",
    "r = concat_df_1['predict']\n",
    "\n",
    "LSTM_R2 = r2_score(concat_df_1['demand_quarter'],concat_df_1['predict'])\n",
    "LSTM_MSE = mean_squared_error(concat_df_1['demand_quarter'],concat_df_1['predict'])\n",
    "LSTM_MAE = mean_absolute_error(concat_df_1['demand_quarter'],concat_df_1['predict'])\n",
    "LSTM_MRE = np.mean(np.abs((k - r) / k)) * 100\n",
    "print(\"LSTM_R2=\",LSTM_R2)\n",
    "print(\"LSTM_MSE=\",LSTM_MSE)\n",
    "print(\"LSTM_MAE=\",LSTM_MAE)\n",
    "print(\"LSTM_RMSE=\",sqrt(LSTM_MSE))\n",
    "print(\"LSTM_MRE=\",LSTM_MRE)"
   ]
  },
  {
   "cell_type": "code",
   "execution_count": null,
   "id": "c44f41d5",
   "metadata": {},
   "outputs": [],
   "source": [
    "concat_df_2 = concat_true_and_predict_value('2021-05-04 00:00:00', '2021-05-07 00:00:00',date_range_list_2,predict_list_2,execute_time_list_2)\n",
    "concat_df_2"
   ]
  },
  {
   "cell_type": "code",
   "execution_count": null,
   "id": "31c23ddb",
   "metadata": {},
   "outputs": [],
   "source": [
    "concat_df_3 = concat_true_and_predict_value(date_range_list_3[0],date_range_list_3[-1],date_range_list_3,predict_list_3,execute_time_list_3)\n",
    "concat_df_3"
   ]
  },
  {
   "cell_type": "code",
   "execution_count": null,
   "id": "72e72185",
   "metadata": {},
   "outputs": [],
   "source": [
    "plt.figure(figsize=(10 ,5))\n",
    "# plt.ylim([13500,20000])\n",
    "# plt.xlim([1,20000])\n",
    "# plt.ylim([12000,19000])\n",
    "plt.plot(concat_df_3['demand_quarter'].to_list())\n",
    "plt.plot(concat_df_3['predict'].to_list(),c='g')\n",
    "plt.ylabel(\"demand\")\n",
    "plt.xlabel(\"minutes\")\n",
    "# plt.xlim([50,200])\n",
    "plt.show()\n",
    "k = concat_df_3['demand_quarter'].tolist()\n",
    "r = concat_df_3['predict']\n",
    "\n",
    "LSTM_R2 = r2_score(concat_df_3['demand_quarter'],concat_df_3['predict'])\n",
    "LSTM_MSE = mean_squared_error(concat_df_3['demand_quarter'],concat_df_3['predict'])\n",
    "LSTM_MAE = mean_absolute_error(concat_df_3['demand_quarter'],concat_df_3['predict'])\n",
    "LSTM_MRE = np.mean(np.abs((k - r) / k)) * 100\n",
    "\n",
    "print(\"LSTM_R2=\",LSTM_R2)\n",
    "print(\"LSTM_MSE=\",LSTM_MSE)\n",
    "print(\"LSTM_MAE=\",LSTM_MAE)\n",
    "print(\"LSTM_RMSE=\",sqrt(LSTM_MSE))\n",
    "print(\"LSTM_MRE=\",LSTM_MRE)"
   ]
  },
  {
   "cell_type": "code",
   "execution_count": null,
   "id": "aa709919",
   "metadata": {},
   "outputs": [],
   "source": [
    "concat_df_4 = concat_true_and_predict_value(date_range_list_4[0],date_range_list_4[-1],date_range_list_4,predict_list_4,execute_time_list_4)\n",
    "concat_df_4"
   ]
  },
  {
   "cell_type": "code",
   "execution_count": null,
   "id": "815d6776",
   "metadata": {},
   "outputs": [],
   "source": [
    "plt.figure(figsize=(10 ,5))\n",
    "# plt.ylim([13500,20000])\n",
    "# plt.xlim([1,20000])\n",
    "# plt.ylim([12000,19000])\n",
    "plt.plot(concat_df_4['demand_quarter'].to_list())\n",
    "plt.plot(concat_df_4['predict'].to_list(),c='g')\n",
    "plt.ylabel(\"demand\")\n",
    "plt.xlabel(\"minutes\")\n",
    "# plt.xlim([50,200])\n",
    "plt.show()\n",
    "k = concat_df_4['demand_quarter'].tolist()\n",
    "r = concat_df_4['predict']\n",
    "\n",
    "LSTM_R2 = r2_score(concat_df_4['demand_quarter'],concat_df_4['predict'])\n",
    "LSTM_MSE = mean_squared_error(concat_df_4['demand_quarter'],concat_df_4['predict'])\n",
    "LSTM_MAE = mean_absolute_error(concat_df_4['demand_quarter'],concat_df_4['predict'])\n",
    "LSTM_MRE = np.mean(np.abs((k - r) / k)) * 100\n",
    "\n",
    "print(\"LSTM_R2=\",LSTM_R2)\n",
    "print(\"LSTM_MSE=\",LSTM_MSE)\n",
    "print(\"LSTM_MAE=\",LSTM_MAE)\n",
    "print(\"LSTM_RMSE=\",sqrt(LSTM_MSE))\n",
    "print(\"LSTM_MRE=\",LSTM_MRE)"
   ]
  }
 ],
 "metadata": {
  "kernelspec": {
   "display_name": "Python 3 (ipykernel)",
   "language": "python",
   "name": "python3"
  },
  "language_info": {
   "codemirror_mode": {
    "name": "ipython",
    "version": 3
   },
   "file_extension": ".py",
   "mimetype": "text/x-python",
   "name": "python",
   "nbconvert_exporter": "python",
   "pygments_lexer": "ipython3",
   "version": "3.9.15"
  }
 },
 "nbformat": 4,
 "nbformat_minor": 5
}
