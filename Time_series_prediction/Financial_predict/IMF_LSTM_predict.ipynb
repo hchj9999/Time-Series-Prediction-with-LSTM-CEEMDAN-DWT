{
 "cells": [
  {
   "cell_type": "code",
   "execution_count": null,
   "id": "fa1ce81e",
   "metadata": {},
   "outputs": [],
   "source": [
    "# 引入相關套件與函式庫\n",
    "import numpy as np \n",
    "import pandas as pd \n",
    "import matplotlib.pyplot as plt  \n",
    "import seaborn as sns   \n",
    "import statsmodels.api as sm  \n",
    "import pymysql\n",
    "import datetime\n",
    "from statsmodels.graphics import tsaplots \n",
    "from tensorflow.keras.optimizers import Adam \n",
    "from keras.models import Sequential, load_model\n",
    "from keras.layers import Dense, LSTM, BatchNormalization, TimeDistributed, Flatten, Bidirectional,Dropout\n",
    "from keras.callbacks import ReduceLROnPlateau, EarlyStopping\n",
    "from keras.regularizers import l2\n",
    "from time import time\n",
    "from sklearn import preprocessing\n",
    "from joblib import dump, load\n",
    "from datetime import timedelta\n",
    "from attention import Attention\n",
    "from keras_self_attention import SeqSelfAttention\n",
    "from tensorflow.keras.utils import plot_model\n",
    "import os\n",
    "from PyEMD import CEEMDAN\n",
    "from sklearn.preprocessing import MinMaxScaler\n",
    "from sklearn.metrics import r2_score, mean_squared_error, mean_absolute_error\n",
    "from math import sqrt\n",
    "import time\n",
    "import yfinance as yf\n",
    "from datetime import datetime\n",
    "import math\n",
    "%matplotlib inline"
   ]
  },
  {
   "cell_type": "code",
   "execution_count": null,
   "id": "84ce36c2",
   "metadata": {},
   "outputs": [],
   "source": [
    "pd.set_option('display.max_rows', None)\n",
    "pd.set_option('display.max_columns', None)"
   ]
  },
  {
   "cell_type": "markdown",
   "id": "e5b5e857",
   "metadata": {},
   "source": [
    "# 抓新資料少量分解更新子訊號"
   ]
  },
  {
   "cell_type": "code",
   "execution_count": null,
   "id": "a128740f",
   "metadata": {},
   "outputs": [],
   "source": [
    "# 取一段時間的金融資料，傳給several_CEEMDAN()\n",
    "def take_latest_several_data(end_date,timerange):\n",
    "    end_date = datetime.strptime(end_date, '%Y-%m-%d').date()\n",
    "    start_date = end_date - timedelta(days=timerange)\n",
    "    financial_new_data = yf.download(\"^TWII\", start=start_date, end=end_date)\n",
    "    financial_new_data = financial_new_data.drop(['Open', 'High', 'Low', 'Adj Close', 'Volume'], axis=1)\n",
    "    financial_new_data = financial_new_data.sort_index(ascending=False)\n",
    "    financial_new_data['Close'] = financial_new_data['Close'].replace('', np.nan)\n",
    "    financial_new_data['Close'] = financial_new_data['Close'].astype(float) \n",
    "    financial_new_data_df = financial_new_data\n",
    "    financial_new_data = financial_new_data['Close'].to_list()\n",
    "    return financial_new_data_df,financial_new_data"
   ]
  },
  {
   "cell_type": "code",
   "execution_count": null,
   "id": "8ab14064",
   "metadata": {},
   "outputs": [],
   "source": [
    "# 利用一段時間的金融資料做少量ceemdan分解，回傳分解結果(幾個imf對應幾個資料點)\n",
    "def several_CEEMDAN(end_date,assume_shortest_decompose_length,timerange,imf_num):\n",
    "    financial_new_data_df,financial_new_data = take_latest_several_data(end_date,timerange)\n",
    "    ceemdan = CEEMDAN()\n",
    "    start = time.time()\n",
    "    for i in range(0,len(financial_new_data),5):\n",
    "        decompose_start = time.time()\n",
    "        ceemdan.ceemdan(np.array(financial_new_data[:assume_shortest_decompose_length+i]).ravel(),max_imf=imf_num)\n",
    "        new_imfs, new_res = ceemdan.get_imfs_and_residue()\n",
    "        if len(new_imfs) >= imf_num+1:\n",
    "            decompose_end = time.time()\n",
    "            decompose_time = decompose_end - decompose_start\n",
    "            print(\"分解時間:%f 秒\" % decompose_time)\n",
    "            break\n",
    "    end = time.time()\n",
    "    select_and_decompose_time = end - start\n",
    "    print(\"date:\",end_date,\"挑選數量+分解執行時間：%f 秒\" % select_and_decompose_time)\n",
    "    several_CEEMDAN_plot(new_imfs)\n",
    "    return new_imfs, decompose_time, select_and_decompose_time"
   ]
  },
  {
   "cell_type": "code",
   "execution_count": null,
   "id": "af7b1c8f",
   "metadata": {},
   "outputs": [],
   "source": [
    "# 畫少量分解完的結果，傳給several_CEEMDAN()\n",
    "def several_CEEMDAN_plot(data_to_draw):\n",
    "    IImfs=[]\n",
    "    for i in range(data_to_draw.shape[0]):\n",
    "        plt.subplot(data_to_draw.shape[0]+3,1,i+2)\n",
    "        plt.plot(data_to_draw[i])\n",
    "        plt.ylabel(\"IMF %i\" %(i+1))\n",
    "        plt.locator_params(axis='x', nbins=10)\n",
    "        IImfs.append(data_to_draw[i])"
   ]
  },
  {
   "cell_type": "code",
   "execution_count": null,
   "id": "ee2fdd37",
   "metadata": {},
   "outputs": [],
   "source": [
    "# 用分解後的結果更新資料庫中對應的imf資料表\n",
    "def New_imf_to_Database(end_date,assume_shortest_decompose_length,timerange,imf_num): \n",
    "    \n",
    "    data_to_update, decompose_time, select_and_decompose_time = several_CEEMDAN(end_date,assume_shortest_decompose_length,timerange,imf_num)\n",
    "    financial_new_data_df,financial_new_data = take_latest_several_data(end_date,timerange)\n",
    "    for i in range(len(data_to_update)):\n",
    "        imf_number = i+1\n",
    "        imf_df = pd.DataFrame(data_to_update[i])\n",
    "        imf_df.set_index(financial_new_data_df[:len(data_to_update[i])].index, inplace=True)\n",
    "        imf_df = imf_df.rename(columns={0: 'Close_^TWII_IMF'})\n",
    "        imf_df = imf_df.reset_index()\n",
    "        connection = pymysql.connect(host = '' ,  user = '' ,  passwd = \"\", db='')\n",
    "        cursor = connection.cursor()\n",
    "        data = imf_df.values.tolist()\n",
    "        insert_query = '''\n",
    "        REPLACE INTO imf{} (`Date`, `Close_^TWII_IMF{}`)\n",
    "        VALUES (%s, %s)\n",
    "        '''.format(imf_number,imf_number)\n",
    "        cursor.executemany(insert_query, data)\n",
    "        connection.commit()\n",
    "        connection.close()\n",
    "    print(\"更新資料表\")\n",
    "    return data_to_update, decompose_time, select_and_decompose_time"
   ]
  },
  {
   "cell_type": "markdown",
   "id": "6f77fd77",
   "metadata": {},
   "source": [
    "# 增量預測"
   ]
  },
  {
   "cell_type": "code",
   "execution_count": null,
   "id": "19cae91f",
   "metadata": {},
   "outputs": [],
   "source": [
    "def createSlidingWindow(dataset,windowSize):\n",
    "    x_train = []\n",
    "    y_train = []\n",
    "    for i in range(len(dataset)-windowSize):\n",
    "        x_train.append(dataset[i:i+windowSize])\n",
    "        y_train.append(dataset[i+windowSize])\n",
    "    return np.array(x_train), np.array(y_train)"
   ]
  },
  {
   "cell_type": "code",
   "execution_count": null,
   "id": "87481836",
   "metadata": {},
   "outputs": [],
   "source": [
    "def predict_financial(begin_date, table_name, model_structure, imf_num, model_path):\n",
    "    window_size = 30\n",
    "    feature_len = 1\n",
    "    # 日期型態的轉換\n",
    "    today_object = datetime.strptime(begin_date, '%Y-%m-%d')\n",
    "    today_object_string = today_object.strftime(\"%Y-%m-%d\")\n",
    "    end_date = today_object_string\n",
    "    # 從資料庫抓取資料\n",
    "    try: \n",
    "        conn  =  pymysql.connect ( host = '' ,  user = '' ,  passwd = \"\" ,  db = '' ) \n",
    "        cur  =  conn.cursor() \n",
    "        select_sql = '''SELECT `Close_^TWII_IMF{}`, `Date`\n",
    "                        FROM `{}`\n",
    "                        WHERE `Date` < '{}'\n",
    "                        ORDER BY `Date` DESC LIMIT {} '''.format(imf_num, table_name, end_date, window_size + 1)\n",
    "        result_object = cur.execute(select_sql)\n",
    "        results_values_list = cur.fetchall()\n",
    "        result_key_list = [i[0] for i in cur.description]\n",
    "        reframed = pd.DataFrame(results_values_list)\n",
    "        reframed.columns = result_key_list\n",
    "        timestamp = pd.to_datetime(reframed.datetime, infer_datetime_format=True).values\n",
    "        reframed['timestamp'] = timestamp.tolist()\n",
    "        reframed = reframed.set_index('Date')       \n",
    "        cur.close () \n",
    "        conn.close()\n",
    "    except Exception as e:\n",
    "        print(e)\n",
    "    # 將從資料庫抓取的資料進行處理以進行後續預測\n",
    "    reframed = reframed.rename(columns={'Close_^TWII_IMF{}'.format(imf_num) : 'Close_^TWII'})\n",
    "    reframed['Close_^TWII'] = reframed['Close_^TWII'].replace('', np.nan)\n",
    "    reframed['Close_^TWII'] = reframed['Close_^TWII'].astype(float)   \n",
    "    scaler = MinMaxScaler(feature_range=(0,1))\n",
    "    test = np.array(reframed['Close_^TWII'][-(window_size+1):])\n",
    "    test = test[::-1]\n",
    "    test_scaled_data = scaler.fit_transform(test.reshape(-1,1))\n",
    "    print(len(test_scaled_data))\n",
    "    x_test,y_test = createSlidingWindow(test_scaled_data,window_size)\n",
    "    # 載入先前預訓練好的模型進行預測並更新模型\n",
    "    vanilla_model = load_model(model_path)\n",
    "    test_predict = vanilla_model.predict(x_test)\n",
    "    predict_Close = scaler.inverse_transform(test_predict)\n",
    "    vanilla_model.compile(loss='mse', optimizer='Adam') \n",
    "    vanilla_model_history = vanilla_model.fit(x_test,y_test,batch_size=60,epochs=100)\n",
    "    vanilla_model.save(model_path) \n",
    "    del vanilla_model\n",
    "    print(predict_Close[0][0])\n",
    "    return predict_Close[0][0]"
   ]
  },
  {
   "cell_type": "code",
   "execution_count": null,
   "id": "c2bd495d",
   "metadata": {},
   "outputs": [],
   "source": [
    "# 取日期範圍\n",
    "def datelist(start_date,end_date):\n",
    "    date_list = []\n",
    "    start_date = datetime.strptime(start_date, '%Y-%m-%d')  \n",
    "    end_date = datetime.strptime(end_date, '%Y-%m-%d')    \n",
    "    current_date = start_date\n",
    "    while current_date <= end_date:\n",
    "        date_list.append(current_date.strftime('%Y-%m-%d'))\n",
    "        current_date += timedelta(days=1)\n",
    "    return date_list"
   ]
  },
  {
   "cell_type": "code",
   "execution_count": null,
   "id": "d3b23fdc",
   "metadata": {},
   "outputs": [],
   "source": []
  },
  {
   "cell_type": "code",
   "execution_count": null,
   "id": "59201193",
   "metadata": {},
   "outputs": [],
   "source": [
    "# 第一個半年\n",
    "start_day_1 = '2020-12-26'\n",
    "end_day_1 = '2021-07-02'\n",
    "date_range_list_1 = datelist(start_day_1,end_day_1)"
   ]
  },
  {
   "cell_type": "code",
   "execution_count": null,
   "id": "bc549c28",
   "metadata": {},
   "outputs": [],
   "source": [
    "# 第二個半年\n",
    "start_day_2 = '2021-07-06'\n",
    "end_day_2 = '2021-12-24'\n",
    "date_range_list_2 = datelist(start_day_2,end_day_2)"
   ]
  },
  {
   "cell_type": "code",
   "execution_count": null,
   "id": "d810efb2",
   "metadata": {},
   "outputs": [],
   "source": [
    "# 第二個半年(兩個月)\n",
    "start_day_2_2_month = '2021-10-11'\n",
    "end_day_2_2_month = '2021-12-24'\n",
    "date_range_list_2_2_month = datelist(start_day_2_2_month,end_day_2_2_month)"
   ]
  },
  {
   "cell_type": "code",
   "execution_count": null,
   "id": "48bbdec0",
   "metadata": {},
   "outputs": [],
   "source": [
    "# 第三個半年\n",
    "start_day_3 = '2021-12-28'\n",
    "end_day_3 = '2022-06-30'\n",
    "date_range_list_3 = datelist(start_day_3,end_day_3)"
   ]
  },
  {
   "cell_type": "code",
   "execution_count": null,
   "id": "2b551e44",
   "metadata": {},
   "outputs": [],
   "source": [
    "# 第四個半年\n",
    "start_day_4 = '2022-07-01'\n",
    "end_day_4 = '2023-01-01'\n",
    "date_range_list_4 = datelist(start_day_4,end_day_4)"
   ]
  },
  {
   "cell_type": "markdown",
   "id": "154a75d6",
   "metadata": {},
   "source": [
    "# 執行預測"
   ]
  },
  {
   "cell_type": "code",
   "execution_count": null,
   "id": "080efdc7",
   "metadata": {},
   "outputs": [],
   "source": [
    "# 預測的時段\n",
    "def predict_date_range(date_range_list):\n",
    "    predict_list = []\n",
    "    execute_time_list = []\n",
    "    all_time_start = time.time()\n",
    "    all_decompose_time = 0\n",
    "    all_select_and_decompose_time = 0\n",
    "    original_len = 15\n",
    "    for i in range(len(date_range_list)):\n",
    "        start = time.time()\n",
    "        data_to_update, decompose_time, select_and_decompose_time = New_imf_to_Database(date_range_list[i],original_len,\n",
    "                                                                                        500,2)\n",
    "        imf1_result = predict_financial('{}'.format(date_range_list[i]), 'imf1', 'vanilla', 1, \n",
    "                                        './model/simple-LSTM-model-result(3imf)-1-30.h5')\n",
    "        imf2_result = predict_financial('{}'.format(date_range_list[i]), 'imf2', 'vanilla', 2, \n",
    "                                        './model/simple-LSTM-model-result(3imf)-2-30.h5')\n",
    "        imf3_result = predict_financial('{}'.format(date_range_list[i]), 'imf3', 'vanilla', 3, \n",
    "                                        './model/simple-LSTM-model-result(3imf)-3-30.h5')\n",
    "        imf_predict_sum = imf1_result + imf2_result + imf3_result\n",
    "        predict_list.append(imf_predict_sum)\n",
    "        end = time.time()\n",
    "        execute_time_list.append(end - start)\n",
    "        print(date_range_list[i],imf_predict_sum,\"一天的分解+預測執行時間：%f 秒\" % (end - start))\n",
    "        if i == 150 or i == 300 or i == 450:\n",
    "            time.sleep(1)\n",
    "        all_decompose_time += decompose_time\n",
    "        all_select_and_decompose_time += select_and_decompose_time\n",
    "    all_time_end = time.time()\n",
    "    print(\"全部執行時間：%f 秒\" % (all_time_end - all_time_start),\"全部挑選分解時間：\",all_select_and_decompose_time,\n",
    "          \"資料點數量：\",len(date_range_list), \"總分解時間：\",all_decompose_time)\n",
    "    print(\"平均一個回合：\",(all_time_end - all_time_start)/len(date_range_list))\n",
    "    return predict_list, execute_time_list"
   ]
  },
  {
   "cell_type": "code",
   "execution_count": null,
   "id": "74642d52",
   "metadata": {},
   "outputs": [],
   "source": [
    "# 3 imf\n",
    "predict_list_1, execute_time_list_1 = predict_date_range(date_range_list_1)"
   ]
  },
  {
   "cell_type": "code",
   "execution_count": null,
   "id": "347a31f4",
   "metadata": {},
   "outputs": [],
   "source": [
    "# 3 imf\n",
    "predict_list_2, execute_time_list_2 = predict_date_range(date_range_list_2)"
   ]
  },
  {
   "cell_type": "code",
   "execution_count": null,
   "id": "58a3c737",
   "metadata": {},
   "outputs": [],
   "source": [
    "# 3 imf\n",
    "predict_list_3, execute_time_list_3 = predict_date_range(date_range_list_3)"
   ]
  },
  {
   "cell_type": "code",
   "execution_count": null,
   "id": "b2779f74",
   "metadata": {},
   "outputs": [],
   "source": [
    "# 3 imf\n",
    "predict_list_3_test, execute_time_list_3_test = predict_date_range(date_range_list_3)"
   ]
  },
  {
   "cell_type": "code",
   "execution_count": null,
   "id": "fcecc390",
   "metadata": {},
   "outputs": [],
   "source": [
    "predict_list_few_data, execute_time_list_few_data = predict_date_range(date_range_list_few_data)"
   ]
  },
  {
   "cell_type": "code",
   "execution_count": null,
   "id": "9fc830f4",
   "metadata": {},
   "outputs": [],
   "source": [
    "# 3 imf\n",
    "predict_list_4, execute_time_list_4 = predict_date_range(date_range_list_4)"
   ]
  },
  {
   "cell_type": "code",
   "execution_count": null,
   "id": "7ab081fe",
   "metadata": {},
   "outputs": [],
   "source": [
    "predict_list_4, execute_time_list_4 = predict_date_range(date_range_list_4)"
   ]
  },
  {
   "cell_type": "markdown",
   "id": "0efde9e2",
   "metadata": {},
   "source": [
    "# 比較實際值與預測結果"
   ]
  },
  {
   "cell_type": "code",
   "execution_count": null,
   "id": "62bd52de",
   "metadata": {},
   "outputs": [],
   "source": [
    "# 取真實金融資料的dataframe\n",
    "def get_true_value(start_day,end_day):\n",
    "    conn  =  pymysql.connect ( host = '' ,  user = '' ,  passwd = \"\" ,  db = '' ) \n",
    "    cur  =  conn.cursor() \n",
    "    select_sql = '''SELECT `Close_^TWII`, `Date`\n",
    "                    FROM `financial_data` \n",
    "                    WHERE `Date` >= '{}' AND `Date` <= '{}' '''.format(start_day, end_day)\n",
    "    result_object = cur.execute(select_sql)\n",
    "    results_values_list = cur.fetchall()\n",
    "    result_key_list = [i[0] for i in cur.description]\n",
    "    true_day_value = pd.DataFrame(results_values_list)\n",
    "    true_day_value.columns = result_key_list\n",
    "    true_day_value = true_day_value.set_index('Date')\n",
    "    cur.close () \n",
    "    conn.close()\n",
    "\n",
    "    true_day_value['Close_^TWII'] = true_day_value['Close_^TWII'].replace('', np.nan)\n",
    "    true_day_value['Close_^TWII'] = true_day_value['Close_^TWII'].astype(float)  \n",
    "    return true_day_value\n",
    "    # datelist = true_day_value.index"
   ]
  },
  {
   "cell_type": "code",
   "execution_count": null,
   "id": "1f8243a6",
   "metadata": {},
   "outputs": [],
   "source": [
    "# 將真實資料與預測值合併成一個dataframe\n",
    "def concat_true_and_predict_value(start_day, end_day, predict_list,execute_list):\n",
    "    true_day_value = get_true_value(start_day,end_day)\n",
    "    predict_datelist = datelist(start_day,end_day)\n",
    "    predict_df = pd.DataFrame({'Date': predict_datelist, 'predict': predict_list})\n",
    "    execute_time_df = pd.DataFrame({'Date': predict_datelist, 'execute_time': execute_list})\n",
    "    predict_df = predict_df.set_index('Date')\n",
    "    execute_time_df = execute_time_df.set_index('Date')\n",
    "    merged_df = pd.concat([true_day_value, predict_df], axis=1)\n",
    "    merged_df = pd.concat([merged_df, execute_time_df], axis=1)\n",
    "    merged_df = merged_df.dropna()\n",
    "    return merged_df"
   ]
  },
  {
   "cell_type": "code",
   "execution_count": null,
   "id": "6d378eff",
   "metadata": {},
   "outputs": [],
   "source": [
    "concat_df_1= concat_true_and_predict_value(start_day_1,end_day_1,predict_list_1,execute_time_list_1)\n",
    "concat_df_1"
   ]
  },
  {
   "cell_type": "code",
   "execution_count": null,
   "id": "49f4b1c8",
   "metadata": {},
   "outputs": [],
   "source": [
    "plt.figure(figsize=(10 ,5))\n",
    "plt.plot(concat_df_1['Close_^TWII'].to_list())\n",
    "plt.plot(concat_df_1['predict'].to_list(),c='y')\n",
    "plt.legend(['data', 'CEEMDAN_LSTM_prediction'], loc='upper right')\n",
    "# plt.plot(concat_df_1['accumulative_error'].to_list())\n",
    "# plt.ylim([14000,19000])\n",
    "plt.show()\n",
    "\n",
    "LSTM_R2 = r2_score(concat_df_1['Close_^TWII'],concat_df_1['predict'])\n",
    "LSTM_MSE = mean_squared_error(concat_df_1['Close_^TWII'],concat_df_1['predict'])\n",
    "LSTM_MAE = mean_absolute_error(concat_df_1['Close_^TWII'],concat_df_1['predict'])\n",
    "k = concat_df_1['Close_^TWII']\n",
    "r = concat_df_1['predict']\n",
    "LSTM_MRE = np.mean(np.abs((k - r) / k)) * 100\n",
    "print(\"LSTM_R2=\",LSTM_R2)\n",
    "print(\"LSTM_MSE=\",LSTM_MSE)\n",
    "print(\"LSTM_MAE=\",LSTM_MAE)\n",
    "print(\"LSTM_RMSE=\",sqrt(LSTM_MSE))\n",
    "print(\"LSTM_MRE=\",LSTM_MRE)"
   ]
  },
  {
   "cell_type": "code",
   "execution_count": null,
   "id": "5f3cfca9",
   "metadata": {},
   "outputs": [],
   "source": [
    "concat_df_1['error']=abs(concat_df_1['Close_^TWII']-concat_df_1['predict'])\n",
    "concat_df_1['accumulative_error']=concat_df_1['error'].cumsum()\n",
    "concat_df_1"
   ]
  },
  {
   "cell_type": "code",
   "execution_count": null,
   "id": "fb05eff6",
   "metadata": {},
   "outputs": [],
   "source": [
    "plt.figure(figsize=(10 ,5))\n",
    "plt.plot(concat_df_1.index, concat_df_1['accumulative_error'].to_list())\n",
    "x_ticks_positions = range(0, len(concat_df_1.index), 15)\n",
    "x_ticks_labels = concat_df_1.index[::15]\n",
    "plt.xticks(x_ticks_positions, x_ticks_labels, rotation=45)\n",
    "plt.show()"
   ]
  },
  {
   "cell_type": "code",
   "execution_count": null,
   "id": "c18dd3d1",
   "metadata": {},
   "outputs": [],
   "source": [
    "concat_df_2= concat_true_and_predict_value(start_day_2,end_day_2,predict_list_2,execute_time_list_2)\n",
    "concat_df_2"
   ]
  },
  {
   "cell_type": "code",
   "execution_count": null,
   "id": "42ecc639",
   "metadata": {},
   "outputs": [],
   "source": [
    "plt.figure(figsize=(10 ,5))\n",
    "# plt.ylim([13500,20000])\n",
    "# plt.xlim([1,20000])\n",
    "# plt.ylim([12000,19000])\n",
    "plt.plot(concat_df_2['Close_^TWII'].to_list())\n",
    "plt.plot(concat_df_2['predict'].to_list(),c='y')\n",
    "plt.legend(['data', 'CEEMDAN_LSTM_prediction'], loc='upper right')\n",
    "plt.ylim([16000,18500])\n",
    "# plt.xlim([144,244])\n",
    "plt.show()\n",
    "\n",
    "LSTM_R2 = r2_score(concat_df_2['Close_^TWII'],concat_df_2['predict'])\n",
    "LSTM_MSE = mean_squared_error(concat_df_2['Close_^TWII'],concat_df_2['predict'])\n",
    "LSTM_MAE = mean_absolute_error(concat_df_2['Close_^TWII'],concat_df_2['predict'])\n",
    "k = concat_df_2['Close_^TWII']\n",
    "r = concat_df_2['predict']\n",
    "LSTM_MRE = np.mean(np.abs((k - r) / k)) * 100\n",
    "print(\"LSTM_R2=\",LSTM_R2)\n",
    "print(\"LSTM_MSE=\",LSTM_MSE)\n",
    "print(\"LSTM_MAE=\",LSTM_MAE)\n",
    "print(\"LSTM_RMSE=\",sqrt(LSTM_MSE))\n",
    "print(\"LSTM_MRE=\",LSTM_MRE)"
   ]
  },
  {
   "cell_type": "code",
   "execution_count": null,
   "id": "6727c383",
   "metadata": {},
   "outputs": [],
   "source": [
    "concat_df_2['error']=abs(concat_df_2['Close_^TWII']-concat_df_2['predict'])\n",
    "concat_df_2['accumulative_error']=concat_df_2['error'].cumsum()\n",
    "plt.figure(figsize=(10 ,5))\n",
    "plt.plot(concat_df_2.index, concat_df_2['accumulative_error'].to_list())\n",
    "x_ticks_positions = range(0, len(concat_df_2.index), 15)\n",
    "x_ticks_labels = concat_df_2.index[::15]\n",
    "plt.xticks(x_ticks_positions, x_ticks_labels, rotation=45)\n",
    "plt.show()"
   ]
  },
  {
   "cell_type": "code",
   "execution_count": null,
   "id": "abcc4ac1",
   "metadata": {},
   "outputs": [],
   "source": [
    "concat_df_3= concat_true_and_predict_value(start_day_3,end_day_3,predict_list_3,execute_time_list_3)\n",
    "concat_df_3"
   ]
  },
  {
   "cell_type": "code",
   "execution_count": null,
   "id": "571a24d9",
   "metadata": {},
   "outputs": [],
   "source": [
    "plt.figure(figsize=(10 ,5))\n",
    "# plt.ylim([13500,20000])\n",
    "# plt.xlim([1,20000])\n",
    "# plt.ylim([12000,19000])\n",
    "plt.plot(concat_df_3['Close_^TWII'].to_list())\n",
    "plt.plot(concat_df_3['predict'].to_list(),c='y')\n",
    "plt.legend(['data', 'CEEMDAN_LSTM_prediction'], loc='upper right')\n",
    "# plt.ylim([16000,18500])\n",
    "# plt.xlim([144,244])\n",
    "plt.show()\n",
    "\n",
    "LSTM_R2 = r2_score(concat_df_3['Close_^TWII'],concat_df_3['predict'])\n",
    "LSTM_MSE = mean_squared_error(concat_df_3['Close_^TWII'],concat_df_3['predict'])\n",
    "LSTM_MAE = mean_absolute_error(concat_df_3['Close_^TWII'],concat_df_3['predict'])\n",
    "k = concat_df_3['Close_^TWII']\n",
    "r = concat_df_3['predict']\n",
    "LSTM_MRE = np.mean(np.abs((k - r) / k)) * 100\n",
    "print(\"LSTM_R2=\",LSTM_R2)\n",
    "print(\"LSTM_MSE=\",LSTM_MSE)\n",
    "print(\"LSTM_MAE=\",LSTM_MAE)\n",
    "print(\"LSTM_RMSE=\",sqrt(LSTM_MSE))\n",
    "print(\"LSTM_MRE=\",LSTM_MRE)"
   ]
  },
  {
   "cell_type": "code",
   "execution_count": null,
   "id": "c17d4f26",
   "metadata": {},
   "outputs": [],
   "source": [
    "concat_df_3['error']=abs(concat_df_3['Close_^TWII']-concat_df_3['predict'])\n",
    "concat_df_3['accumulative_error']=concat_df_3['error'].cumsum()\n",
    "plt.figure(figsize=(10 ,5))\n",
    "plt.plot(concat_df_3.index, concat_df_3['accumulative_error'].to_list())\n",
    "x_ticks_positions = range(0, len(concat_df_3.index), 15)\n",
    "x_ticks_labels = concat_df_3.index[::15]\n",
    "plt.xticks(x_ticks_positions, x_ticks_labels, rotation=45)\n",
    "plt.show()"
   ]
  },
  {
   "cell_type": "code",
   "execution_count": null,
   "id": "81774481",
   "metadata": {},
   "outputs": [],
   "source": [
    "concat_df_s1= concat_true_and_predict_value(start_day_1,end_day_1,predict_list_s1,execute_time_list_s1)\n",
    "concat_df_s1"
   ]
  },
  {
   "cell_type": "code",
   "execution_count": null,
   "id": "226b3a57",
   "metadata": {},
   "outputs": [],
   "source": [
    "plt.figure(figsize=(10 ,5))\n",
    "# plt.ylim([13500,20000])\n",
    "# plt.xlim([1,20000])\n",
    "# plt.ylim([12000,19000])\n",
    "plt.plot(concat_df_s1['Close_^TWII'].to_list())\n",
    "plt.plot(concat_df_s1['predict'].to_list(),c='violet')\n",
    "\n",
    "# plt.plot(concat_df_1['Close_^TWII'].to_list())\n",
    "plt.plot(concat_df_1['predict'].to_list(),c='y')\n",
    "\n",
    "plt.legend(['data', 'CEEMDAN_prediction','CEEMDAN_prediction(incremental)'], loc='upper right')\n",
    "plt.ylim([14000,19000])\n",
    "# plt.xlim([40,100])\n",
    "plt.show()\n",
    "\n",
    "LSTM_R2 = r2_score(concat_df_s1['Close_^TWII'],concat_df_s1['predict'])\n",
    "LSTM_MSE = mean_squared_error(concat_df_s1['Close_^TWII'],concat_df_s1['predict'])\n",
    "LSTM_MAE = mean_absolute_error(concat_df_s1['Close_^TWII'],concat_df_s1['predict'])\n",
    "k = concat_df_s1['Close_^TWII']\n",
    "r = concat_df_s1['predict']\n",
    "LSTM_MRE = np.mean(np.abs((k - r) / k)) * 100\n",
    "print(\"LSTM_R2=\",LSTM_R2)\n",
    "print(\"LSTM_MSE=\",LSTM_MSE)\n",
    "print(\"LSTM_MAE=\",LSTM_MAE)\n",
    "print(\"LSTM_RMSE=\",sqrt(LSTM_MSE))\n",
    "print(\"LSTM_MRE=\",LSTM_MRE)"
   ]
  },
  {
   "cell_type": "code",
   "execution_count": null,
   "id": "154b0930",
   "metadata": {},
   "outputs": [],
   "source": [
    "concat_df_s2= concat_true_and_predict_value(start_day_2,end_day_2,predict_list_s2,execute_time_list_s2)\n",
    "concat_df_s2"
   ]
  },
  {
   "cell_type": "code",
   "execution_count": null,
   "id": "8094ba82",
   "metadata": {},
   "outputs": [],
   "source": [
    "plt.figure(figsize=(10 ,5))\n",
    "# plt.ylim([13500,20000])\n",
    "# plt.xlim([1,20000])\n",
    "# plt.ylim([12000,19000])\n",
    "plt.plot(concat_df_s2['Close_^TWII'].to_list())\n",
    "plt.plot(concat_df_s2['predict'].to_list(),c='y')\n",
    "plt.legend(['data', 'CEEMDAN_LSTM_prediction'], loc='upper right')\n",
    "plt.ylim([16000,18500])\n",
    "# plt.xlim([144,244])\n",
    "plt.show()\n",
    "\n",
    "LSTM_R2 = r2_score(concat_df_s2['Close_^TWII'],concat_df_s2['predict'])\n",
    "LSTM_MSE = mean_squared_error(concat_df_s2['Close_^TWII'],concat_df_s2['predict'])\n",
    "LSTM_MAE = mean_absolute_error(concat_df_s2['Close_^TWII'],concat_df_s2['predict'])\n",
    "k = concat_df_s2['Close_^TWII']\n",
    "r = concat_df_s2['predict']\n",
    "LSTM_MRE = np.mean(np.abs((k - r) / k)) * 100\n",
    "print(\"LSTM_R2=\",LSTM_R2)\n",
    "print(\"LSTM_MSE=\",LSTM_MSE)\n",
    "print(\"LSTM_MAE=\",LSTM_MAE)\n",
    "print(\"LSTM_RMSE=\",sqrt(LSTM_MSE))\n",
    "print(\"LSTM_MRE=\",LSTM_MRE)"
   ]
  },
  {
   "cell_type": "code",
   "execution_count": null,
   "id": "abf11638",
   "metadata": {},
   "outputs": [],
   "source": [
    "concat_df_s3= concat_true_and_predict_value(start_day_3,end_day_3,predict_list_s3,execute_time_list_s3)\n",
    "concat_df_s3"
   ]
  },
  {
   "cell_type": "code",
   "execution_count": null,
   "id": "c1b532de",
   "metadata": {},
   "outputs": [],
   "source": [
    "plt.figure(figsize=(10 ,5))\n",
    "# plt.ylim([13500,20000])\n",
    "# plt.xlim([1,20000])\n",
    "# plt.ylim([12000,19000])\n",
    "plt.plot(concat_df_s3['Close_^TWII'].to_list())\n",
    "plt.plot(concat_df_s3['predict'].to_list(),c='y')\n",
    "plt.legend(['data', 'CEEMDAN_LSTM_prediction'], loc='upper right')\n",
    "# plt.ylim([16000,18500])\n",
    "# plt.xlim([144,244])\n",
    "plt.show()\n",
    "\n",
    "LSTM_R2 = r2_score(concat_df_s3['Close_^TWII'],concat_df_s3['predict'])\n",
    "LSTM_MSE = mean_squared_error(concat_df_s3['Close_^TWII'],concat_df_s3['predict'])\n",
    "LSTM_MAE = mean_absolute_error(concat_df_s3['Close_^TWII'],concat_df_s3['predict'])\n",
    "k = concat_df_s3['Close_^TWII']\n",
    "r = concat_df_s3['predict']\n",
    "LSTM_MRE = np.mean(np.abs((k - r) / k)) * 100\n",
    "print(\"LSTM_R2=\",LSTM_R2)\n",
    "print(\"LSTM_MSE=\",LSTM_MSE)\n",
    "print(\"LSTM_MAE=\",LSTM_MAE)\n",
    "print(\"LSTM_RMSE=\",sqrt(LSTM_MSE))\n",
    "print(\"LSTM_MRE=\",LSTM_MRE)"
   ]
  },
  {
   "cell_type": "code",
   "execution_count": null,
   "id": "f237fbbb",
   "metadata": {},
   "outputs": [],
   "source": []
  },
  {
   "cell_type": "code",
   "execution_count": null,
   "id": "33e37844",
   "metadata": {},
   "outputs": [],
   "source": [
    "concat_df_t3= concat_true_and_predict_value(start_day_3,end_day_3,predict_list_3_test2,execute_time_list_3_test2)\n",
    "concat_df_t3"
   ]
  },
  {
   "cell_type": "code",
   "execution_count": null,
   "id": "2387f6f0",
   "metadata": {},
   "outputs": [],
   "source": [
    "plt.figure(figsize=(10 ,5))\n",
    "# plt.ylim([13500,20000])\n",
    "# plt.xlim([1,20000])\n",
    "# plt.ylim([12000,19000])\n",
    "plt.plot(concat_df_t3['Close_^TWII'].to_list())\n",
    "plt.plot(concat_df_t3['predict'].to_list(),c='y')\n",
    "plt.legend(['data', 'CEEMDAN_LSTM_prediction'], loc='upper right')\n",
    "# plt.ylim([16000,18500])\n",
    "# plt.xlim([144,244])\n",
    "plt.show()\n",
    "\n",
    "LSTM_R2 = r2_score(concat_df_t3['Close_^TWII'],concat_df_t3['predict'])\n",
    "LSTM_MSE = mean_squared_error(concat_df_t3['Close_^TWII'],concat_df_t3['predict'])\n",
    "LSTM_MAE = mean_absolute_error(concat_df_t3['Close_^TWII'],concat_df_t3['predict'])\n",
    "k = concat_df_t3['Close_^TWII']\n",
    "r = concat_df_t3['predict']\n",
    "LSTM_MRE = np.mean(np.abs((k - r) / k)) * 100\n",
    "print(\"LSTM_R2=\",LSTM_R2)\n",
    "print(\"LSTM_MSE=\",LSTM_MSE)\n",
    "print(\"LSTM_MAE=\",LSTM_MAE)\n",
    "print(\"LSTM_RMSE=\",sqrt(LSTM_MSE))\n",
    "print(\"LSTM_MRE=\",LSTM_MRE)"
   ]
  },
  {
   "cell_type": "code",
   "execution_count": null,
   "id": "5abedcba",
   "metadata": {},
   "outputs": [],
   "source": []
  },
  {
   "cell_type": "code",
   "execution_count": null,
   "id": "7adcd0cf",
   "metadata": {},
   "outputs": [],
   "source": [
    "concat_df_1_zero = concat_true_and_predict_value(start_day_1,end_day_1,predict_list_1_zero,execute_time_list_1_zero)\n",
    "concat_df_1_zero"
   ]
  },
  {
   "cell_type": "code",
   "execution_count": null,
   "id": "f2fec1be",
   "metadata": {},
   "outputs": [],
   "source": [
    "plt.figure(figsize=(10 ,5))\n",
    "# plt.ylim([13500,20000])\n",
    "# plt.xlim([1,20000])\n",
    "# plt.ylim([12000,19000])\n",
    "plt.plot(concat_df_1_zero['Close_^TWII'].to_list())\n",
    "plt.plot(concat_df_1_zero['predict'].to_list(),c='y')\n",
    "plt.legend(['data', 'CEEMDAN_LSTM_prediction'], loc='upper right')\n",
    "plt.ylim([14000,19000])\n",
    "plt.show()\n",
    "\n",
    "LSTM_R2 = r2_score(concat_df_1_zero['Close_^TWII'],concat_df_1_zero['predict'])\n",
    "LSTM_MSE = mean_squared_error(concat_df_1_zero['Close_^TWII'],concat_df_1_zero['predict'])\n",
    "LSTM_MAE = mean_absolute_error(concat_df_1_zero['Close_^TWII'],concat_df_1_zero['predict'])\n",
    "k = concat_df_1_zero['Close_^TWII']\n",
    "r = concat_df_1_zero['predict']\n",
    "LSTM_MRE = np.mean(np.abs((k - r) / k)) * 100\n",
    "print(\"LSTM_R2=\",LSTM_R2)\n",
    "print(\"LSTM_MSE=\",LSTM_MSE)\n",
    "print(\"LSTM_MAE=\",LSTM_MAE)\n",
    "print(\"LSTM_RMSE=\",sqrt(LSTM_MSE))\n",
    "print(\"LSTM_MRE=\",LSTM_MRE)"
   ]
  },
  {
   "cell_type": "code",
   "execution_count": null,
   "id": "09d333ea",
   "metadata": {},
   "outputs": [],
   "source": [
    "# concat_df_1_zero.to_csv('./incremental_predict_result_financial_(3_half_year)/IMF_LSTM_predict_20201228_20210702.csv')"
   ]
  },
  {
   "cell_type": "code",
   "execution_count": null,
   "id": "825a1d23",
   "metadata": {},
   "outputs": [],
   "source": [
    "concat_df_2_zero = concat_true_and_predict_value(start_day_2,end_day_2,predict_list_2_zero,execute_time_list_2_zero)\n",
    "concat_df_2_zero"
   ]
  },
  {
   "cell_type": "code",
   "execution_count": null,
   "id": "78c89f0b",
   "metadata": {},
   "outputs": [],
   "source": [
    "plt.figure(figsize=(10 ,5))\n",
    "# plt.ylim([13500,20000])\n",
    "# plt.xlim([1,20000])\n",
    "# plt.ylim([12000,19000])\n",
    "plt.plot(concat_df_2_zero['Close_^TWII'].to_list())\n",
    "plt.plot(concat_df_2_zero['predict'].to_list(),c='y')\n",
    "plt.legend(['data', 'CEEMDAN_LSTM_prediction'], loc='upper right')\n",
    "plt.ylim([16000,18500])\n",
    "# plt.xlim([144,244])\n",
    "plt.show()\n",
    "\n",
    "LSTM_R2 = r2_score(concat_df_2_zero['Close_^TWII'],concat_df_2_zero['predict'])\n",
    "LSTM_MSE = mean_squared_error(concat_df_2_zero['Close_^TWII'],concat_df_2_zero['predict'])\n",
    "LSTM_MAE = mean_absolute_error(concat_df_2_zero['Close_^TWII'],concat_df_2_zero['predict'])\n",
    "k = concat_df_2_zero['Close_^TWII']\n",
    "r = concat_df_2_zero['predict']\n",
    "LSTM_MRE = np.mean(np.abs((k - r) / k)) * 100\n",
    "print(\"LSTM_R2=\",LSTM_R2)\n",
    "print(\"LSTM_MSE=\",LSTM_MSE)\n",
    "print(\"LSTM_MAE=\",LSTM_MAE)\n",
    "print(\"LSTM_RMSE=\",sqrt(LSTM_MSE))\n",
    "print(\"LSTM_MRE=\",LSTM_MRE)"
   ]
  },
  {
   "cell_type": "code",
   "execution_count": null,
   "id": "a662c516",
   "metadata": {},
   "outputs": [],
   "source": [
    "# concat_df_2_zero.to_csv('./incremental_predict_result_financial_(3_half_year)/IMF_LSTM_predict_20210706_20211224.csv')"
   ]
  },
  {
   "cell_type": "code",
   "execution_count": null,
   "id": "d424575c",
   "metadata": {},
   "outputs": [],
   "source": [
    "concat_df_3_zero = concat_true_and_predict_value(start_day_3,end_day_3,predict_list_3_zero,execute_time_list_3_zero)\n",
    "concat_df_3_zero"
   ]
  },
  {
   "cell_type": "code",
   "execution_count": null,
   "id": "8756d3fc",
   "metadata": {},
   "outputs": [],
   "source": [
    "plt.figure(figsize=(10 ,5))\n",
    "# plt.ylim([13500,20000])\n",
    "# plt.xlim([1,20000])\n",
    "# plt.ylim([12000,19000])\n",
    "plt.plot(concat_df_3_zero['Close_^TWII'].to_list())\n",
    "plt.plot(concat_df_3_zero['predict'].to_list(),c='y')\n",
    "plt.legend(['data', 'CEEMDAN_LSTM_prediction'], loc='upper right')\n",
    "# plt.xlim([144,244])\n",
    "plt.show()\n",
    "\n",
    "LSTM_R2 = r2_score(concat_df_3_zero['Close_^TWII'],concat_df_3_zero['predict'])\n",
    "LSTM_MSE = mean_squared_error(concat_df_3_zero['Close_^TWII'],concat_df_3_zero['predict'])\n",
    "LSTM_MAE = mean_absolute_error(concat_df_3_zero['Close_^TWII'],concat_df_3_zero['predict'])\n",
    "k = concat_df_3_zero['Close_^TWII']\n",
    "r = concat_df_3_zero['predict']\n",
    "LSTM_MRE = np.mean(np.abs((k - r) / k)) * 100\n",
    "print(\"LSTM_R2=\",LSTM_R2)\n",
    "print(\"LSTM_MSE=\",LSTM_MSE)\n",
    "print(\"LSTM_MAE=\",LSTM_MAE)\n",
    "print(\"LSTM_RMSE=\",sqrt(LSTM_MSE))\n",
    "print(\"LSTM_MRE=\",LSTM_MRE)"
   ]
  },
  {
   "cell_type": "code",
   "execution_count": null,
   "id": "98b4f100",
   "metadata": {},
   "outputs": [],
   "source": [
    "concat_df_5= concat_true_and_predict_value(start_day_5,end_day_5,predict_list_5,execute_time_list_5)"
   ]
  },
  {
   "cell_type": "code",
   "execution_count": null,
   "id": "acfd8bc5",
   "metadata": {},
   "outputs": [],
   "source": [
    "plt.figure(figsize=(10 ,5))\n",
    "# plt.ylim([13500,20000])\n",
    "# plt.xlim([1,20000])\n",
    "# plt.ylim([12000,19000])\n",
    "plt.plot(concat_df_5['Close_^TWII'].to_list())\n",
    "plt.plot(concat_df_5['predict'].to_list(),c='y')\n",
    "plt.legend(['data', 'CEEMDAN_LSTM_prediction'], loc='upper right')\n",
    "plt.ylim([14000,19000])\n",
    "plt.show()\n",
    "\n",
    "LSTM_R2 = r2_score(concat_df_5['Close_^TWII'],concat_df_5['predict'])\n",
    "LSTM_MSE = mean_squared_error(concat_df_5['Close_^TWII'],concat_df_5['predict'])\n",
    "LSTM_MAE = mean_absolute_error(concat_df_5['Close_^TWII'],concat_df_5['predict'])\n",
    "k = concat_df_5['Close_^TWII']\n",
    "r = concat_df_5['predict']\n",
    "LSTM_MRE = np.mean(np.abs((k - r) / k)) * 100\n",
    "print(\"LSTM_R2=\",LSTM_R2)\n",
    "print(\"LSTM_MSE=\",LSTM_MSE)\n",
    "print(\"LSTM_MAE=\",LSTM_MAE)\n",
    "print(\"LSTM_RMSE=\",sqrt(LSTM_MSE))\n",
    "print(\"LSTM_MRE=\",LSTM_MRE)"
   ]
  },
  {
   "cell_type": "code",
   "execution_count": null,
   "id": "21b0da74",
   "metadata": {},
   "outputs": [],
   "source": []
  },
  {
   "cell_type": "code",
   "execution_count": null,
   "id": "081938b0",
   "metadata": {},
   "outputs": [],
   "source": [
    "# concat_df_3_zero.to_csv('./incremental_predict_result_financial_(3_half_year)/IMF_LSTM_predict_20211228_20220630.csv')"
   ]
  },
  {
   "cell_type": "code",
   "execution_count": null,
   "id": "c64750e2",
   "metadata": {},
   "outputs": [],
   "source": [
    "concat_df_1 = concat_true_and_predict_value(start_day_1,end_day_1,predict_list_1)\n",
    "concat_df_1"
   ]
  },
  {
   "cell_type": "code",
   "execution_count": null,
   "id": "6936f2cf",
   "metadata": {},
   "outputs": [],
   "source": [
    "plt.figure(figsize=(10 ,5))\n",
    "# plt.ylim([13500,20000])\n",
    "# plt.xlim([1,20000])\n",
    "# plt.ylim([12000,19000])\n",
    "plt.plot(concat_df_1['Close_^TWII'].to_list())\n",
    "plt.plot(concat_df_1['predict'].to_list(),c='g')\n",
    "# plt.xlim([144,244])\n",
    "plt.show()\n",
    "\n",
    "LSTM_R2 = r2_score(concat_df_1['Close_^TWII'],concat_df_1['predict'])\n",
    "LSTM_MSE = mean_squared_error(concat_df_1['Close_^TWII'],concat_df_1['predict'])\n",
    "LSTM_MAE = mean_absolute_error(concat_df_1['Close_^TWII'],concat_df_1['predict'])\n",
    "print(\"LSTM_R2=\",LSTM_R2)\n",
    "print(\"LSTM_MSE=\",LSTM_MSE)\n",
    "print(\"LSTM_MAE=\",LSTM_MAE)\n",
    "print(\"LSTM_RMSE=\",sqrt(LSTM_MSE))"
   ]
  },
  {
   "cell_type": "code",
   "execution_count": null,
   "id": "9e1064fe",
   "metadata": {},
   "outputs": [],
   "source": [
    "concat_df_2 = concat_true_and_predict_value(start_day_2,end_day_2,predict_list_2)\n",
    "concat_df_2"
   ]
  },
  {
   "cell_type": "code",
   "execution_count": null,
   "id": "6c57f714",
   "metadata": {},
   "outputs": [],
   "source": [
    "plt.figure(figsize=(10 ,5))\n",
    "# plt.ylim([13500,20000])\n",
    "# plt.xlim([1,20000])\n",
    "# plt.ylim([12000,19000])\n",
    "plt.plot(concat_df_2['Close_^TWII'].to_list())\n",
    "plt.plot(concat_df_2['predict'].to_list(),c='g')\n",
    "# plt.xlim([144,244])\n",
    "plt.show()\n",
    "\n",
    "LSTM_R2 = r2_score(concat_df_2['Close_^TWII'],concat_df_2['predict'])\n",
    "LSTM_MSE = mean_squared_error(concat_df_2['Close_^TWII'],concat_df_2['predict'])\n",
    "LSTM_MAE = mean_absolute_error(concat_df_2['Close_^TWII'],concat_df_2['predict'])\n",
    "print(\"LSTM_R2=\",LSTM_R2)\n",
    "print(\"LSTM_MSE=\",LSTM_MSE)\n",
    "print(\"LSTM_MAE=\",LSTM_MAE)\n",
    "print(\"LSTM_RMSE=\",sqrt(LSTM_MSE))"
   ]
  },
  {
   "cell_type": "code",
   "execution_count": null,
   "id": "7462e56b",
   "metadata": {},
   "outputs": [],
   "source": [
    "concat_df_3 = concat_true_and_predict_value(start_day_3,end_day_3,predict_list_3)\n",
    "concat_df_3"
   ]
  },
  {
   "cell_type": "code",
   "execution_count": null,
   "id": "7f4bcc46",
   "metadata": {},
   "outputs": [],
   "source": [
    "plt.figure(figsize=(10 ,5))\n",
    "# plt.ylim([13500,20000])\n",
    "# plt.xlim([1,20000])\n",
    "# plt.ylim([12000,19000])\n",
    "plt.plot(concat_df_3['Close_^TWII'].to_list())\n",
    "plt.plot(concat_df_3['predict'].to_list(),c='g')\n",
    "# plt.xlim([144,244])\n",
    "plt.show()\n",
    "\n",
    "LSTM_R2 = r2_score(concat_df_3['Close_^TWII'],concat_df_3['predict'])\n",
    "LSTM_MSE = mean_squared_error(concat_df_3['Close_^TWII'],concat_df_3['predict'])\n",
    "LSTM_MAE = mean_absolute_error(concat_df_3['Close_^TWII'],concat_df_3['predict'])\n",
    "print(\"LSTM_R2=\",LSTM_R2)\n",
    "print(\"LSTM_MSE=\",LSTM_MSE)\n",
    "print(\"LSTM_MAE=\",LSTM_MAE)\n",
    "print(\"LSTM_RMSE=\",sqrt(LSTM_MSE))"
   ]
  },
  {
   "cell_type": "code",
   "execution_count": null,
   "id": "e769a4b0",
   "metadata": {},
   "outputs": [],
   "source": [
    "concat_df_4 = concat_true_and_predict_value(start_day_4,end_day_4,predict_list_4)\n",
    "concat_df_4"
   ]
  },
  {
   "cell_type": "code",
   "execution_count": null,
   "id": "a438cc07",
   "metadata": {},
   "outputs": [],
   "source": [
    "plt.figure(figsize=(10 ,5))\n",
    "# plt.ylim([13500,20000])\n",
    "# plt.xlim([1,20000])\n",
    "# plt.ylim([12000,19000])\n",
    "plt.plot(concat_df_4['Close_^TWII'].to_list())\n",
    "plt.plot(concat_df_4['predict'].to_list(),c='g')\n",
    "# plt.xlim([144,244])\n",
    "plt.show()\n",
    "\n",
    "LSTM_R2 = r2_score(concat_df_4['Close_^TWII'],concat_df_4['predict'])\n",
    "LSTM_MSE = mean_squared_error(concat_df_4['Close_^TWII'],concat_df_4['predict'])\n",
    "LSTM_MAE = mean_absolute_error(concat_df_4['Close_^TWII'],concat_df_4['predict'])\n",
    "print(\"LSTM_R2=\",LSTM_R2)\n",
    "print(\"LSTM_MSE=\",LSTM_MSE)\n",
    "print(\"LSTM_MAE=\",LSTM_MAE)\n",
    "print(\"LSTM_RMSE=\",sqrt(LSTM_MSE))"
   ]
  },
  {
   "cell_type": "code",
   "execution_count": null,
   "id": "29303a49",
   "metadata": {},
   "outputs": [],
   "source": [
    "concat_df_8= concat_true_and_predict_value(start_day_8,end_day_8,predict_list_8)\n",
    "concat_df_8"
   ]
  },
  {
   "cell_type": "code",
   "execution_count": null,
   "id": "576aa210",
   "metadata": {},
   "outputs": [],
   "source": [
    "plt.figure(figsize=(10 ,5))\n",
    "# plt.ylim([13500,20000])\n",
    "# plt.xlim([1,20000])\n",
    "# plt.ylim([12000,19000])\n",
    "plt.plot(concat_df_8['Close_^TWII'].to_list())\n",
    "plt.plot(concat_df_8['predict'].to_list(),c='g')\n",
    "# plt.xlim([144,244])\n",
    "plt.show()\n",
    "\n",
    "LSTM_R2 = r2_score(concat_df_8['Close_^TWII'],concat_df_8['predict'])\n",
    "LSTM_MSE = mean_squared_error(concat_df_8['Close_^TWII'],concat_df_8['predict'])\n",
    "LSTM_MAE = mean_absolute_error(concat_df_8['Close_^TWII'],concat_df_8['predict'])\n",
    "print(\"LSTM_R2=\",LSTM_R2)\n",
    "print(\"LSTM_MSE=\",LSTM_MSE)\n",
    "print(\"LSTM_MAE=\",LSTM_MAE)\n",
    "print(\"LSTM_RMSE=\",sqrt(LSTM_MSE))"
   ]
  },
  {
   "cell_type": "code",
   "execution_count": null,
   "id": "065d386e",
   "metadata": {},
   "outputs": [],
   "source": [
    "concat_df_2y_test= concat_true_and_predict_value(start_day_2y_test,end_day_2y_test,predict_list_2y_test,execute_time_list_2y_test)\n",
    "len(concat_df_2y_test)"
   ]
  },
  {
   "cell_type": "code",
   "execution_count": null,
   "id": "01ed43f0",
   "metadata": {},
   "outputs": [],
   "source": [
    "concat_df_2y_test.reset_index()"
   ]
  },
  {
   "cell_type": "code",
   "execution_count": null,
   "id": "2d4e9a44",
   "metadata": {},
   "outputs": [],
   "source": [
    "\n",
    "plt.figure(figsize=(10 ,5))\n",
    "# plt.ylim([13500,20000])\n",
    "# plt.xlim([1,20000])\n",
    "# plt.ylim([12000,19000])\n",
    "plt.plot(concat_df_2y_test['Close_^TWII'][0:114].to_list())\n",
    "plt.plot(concat_df_2y_test['predict'][0:114].to_list(),c='y')\n",
    "# plt.xlim([300,400])\n",
    "plt.show()\n",
    "\n",
    "# k = concat_df_2y_test['Close_^TWII'][0:114].to_list().flatten()\n",
    "# r = concat_df_2y_test['predict'][0:114].to_list().flatten()\n",
    "\n",
    "LSTM_R2 = r2_score(concat_df_2y_test['Close_^TWII'][0:114],concat_df_2y_test['predict'][0:114])\n",
    "LSTM_MSE = mean_squared_error(concat_df_2y_test['Close_^TWII'][0:114],concat_df_2y_test['predict'][0:114])\n",
    "LSTM_MAE = mean_absolute_error(concat_df_2y_test['Close_^TWII'][0:114],concat_df_2y_test['predict'][0:114])\n",
    "LSTM_MRE = np.mean(np.abs((concat_df_2y_test['Close_^TWII'][0:114] - concat_df_2y_test['predict'][0:114]) / concat_df_2y_test['Close_^TWII'][0:114])) * 100\n",
    "print(\"LSTM_R2=\",LSTM_R2)\n",
    "print(\"LSTM_MSE=\",LSTM_MSE)\n",
    "print(\"LSTM_MAE=\",LSTM_MAE)\n",
    "print(\"LSTM_RMSE=\",sqrt(LSTM_MSE))\n",
    "print(\"LSTM_MRE=\",LSTM_MRE)"
   ]
  },
  {
   "cell_type": "code",
   "execution_count": null,
   "id": "7561e705",
   "metadata": {},
   "outputs": [],
   "source": [
    "plt.figure(figsize=(10 ,5))\n",
    "# plt.ylim([13500,20000])\n",
    "# plt.xlim([1,20000])\n",
    "# plt.ylim([12000,19000])\n",
    "plt.plot(concat_df_2y_test['Close_^TWII'][0:122].to_list())\n",
    "plt.plot(concat_df_2y_test['predict'][0:122].to_list(),c='g')\n",
    "# plt.xlim([300,400])\n",
    "plt.show()\n",
    "\n",
    "LSTM_R2 = r2_score(concat_df_2y_test['Close_^TWII'][0:122],concat_df_2y_test['predict'][0:122])\n",
    "LSTM_MSE = mean_squared_error(concat_df_2y_test['Close_^TWII'][0:122],concat_df_2y_test['predict'][0:122])\n",
    "LSTM_MAE = mean_absolute_error(concat_df_2y_test['Close_^TWII'][0:122],concat_df_2y_test['predict'][0:122])\n",
    "print(\"LSTM_R2=\",LSTM_R2)\n",
    "print(\"LSTM_MSE=\",LSTM_MSE)\n",
    "print(\"LSTM_MAE=\",LSTM_MAE)\n",
    "print(\"LSTM_RMSE=\",sqrt(LSTM_MSE))"
   ]
  }
 ],
 "metadata": {
  "kernelspec": {
   "display_name": "Python 3 (ipykernel)",
   "language": "python",
   "name": "python3"
  },
  "language_info": {
   "codemirror_mode": {
    "name": "ipython",
    "version": 3
   },
   "file_extension": ".py",
   "mimetype": "text/x-python",
   "name": "python",
   "nbconvert_exporter": "python",
   "pygments_lexer": "ipython3",
   "version": "3.9.15"
  }
 },
 "nbformat": 4,
 "nbformat_minor": 5
}
