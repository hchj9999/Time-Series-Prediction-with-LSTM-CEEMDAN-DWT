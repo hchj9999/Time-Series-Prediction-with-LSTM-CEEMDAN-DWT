{
 "cells": [
  {
   "cell_type": "code",
   "execution_count": 128,
   "id": "9a151fb4",
   "metadata": {},
   "outputs": [
    {
     "name": "stdout",
     "output_type": "stream",
     "text": [
      "[array([ 21.37150045,  65.07584108,  18.347317  ,  58.60966002,\n",
      "        30.73498294,  34.12163332, 110.69410501]), array([-18.98151591, -56.88306906, -16.02483888,  12.9606608 ,\n",
      "        -4.7029089 ,  -6.67977376,  37.49731103])]\n",
      "29\n",
      "[array([ 50.37150045,  94.07584108,  47.347317  ,  87.60966002,\n",
      "        59.73498294,  63.12163332, 139.69410501]), array([-30.98151591, -68.88306906, -28.02483888,   0.9606608 ,\n",
      "       -16.7029089 , -18.67977376,  25.49731103])]\n",
      "[3, 46, 5, 20, 52, 76, 30, 68]\n",
      "[ 13.02081528 108.99137803  15.02081528  74.99137803  17.02081528\n",
      "  48.99137803  64.02081528 104.99137803]\n",
      "[[0.        ]\n",
      " [0.5890411 ]\n",
      " [0.02739726]\n",
      " [0.23287671]\n",
      " [0.67123288]\n",
      " [1.        ]\n",
      " [0.36986301]\n",
      " [0.89041096]]\n",
      "[[0.        ]\n",
      " [1.        ]\n",
      " [0.02083972]\n",
      " [0.6457247 ]\n",
      " [0.04167945]\n",
      " [0.37480829]\n",
      " [0.53141295]\n",
      " [0.95832055]]\n"
     ]
    },
    {
     "name": "stderr",
     "output_type": "stream",
     "text": [
      "C:\\Users\\Jameslee\\AppData\\Local\\Programs\\Python\\Python311\\Lib\\site-packages\\pywt\\_multilevel.py:43: UserWarning: Level value of 1 is too high: all coefficients will experience boundary effects.\n",
      "  warnings.warn(\n"
     ]
    }
   ],
   "source": [
    "import pywt\n",
    "import numpy as np\n",
    "# from sklearn import preprocessing\n",
    "from sklearn.preprocessing import MinMaxScaler\n",
    "# 假设data是你的原始时间序列数据，new_data是新接收到的数据\n",
    "data = [1, 80, 3, 46, 5, 20, 52, 76]\n",
    "new_data = [30, 68]\n",
    "result = [3, 46, 5, 20, 52, 76, 30, 68]\n",
    "# 使用Daubechies小波进行一级小波变换\n",
    "wavelet = 'db4'\n",
    "coeffs = pywt.wavedec(data, wavelet, level = 1)\n",
    "print(coeffs)\n",
    "# 使用第一笔数据与新数据的关系，计算新的小波系数\n",
    "print(new_data[0] - data[0])\n",
    "new_coeffs = [coeffs[i] + (new_data[i] - data[i]) for i in range(len(new_data))]\n",
    "\n",
    "\n",
    "\n",
    "# 将新的小波系数与之前的系数合并，得到新的小波变换结果\n",
    "updated_coeffs = new_coeffs + coeffs[2:]\n",
    "# updated_coeffs.append(coeffs[1])\n",
    "# updated_coeffs[0] = coeffs[0] + (new_data[0] - data[0])\n",
    "print(updated_coeffs)\n",
    "# 通过逆小波变换得到更新后的时间序列\n",
    "updated_data = pywt.waverec(updated_coeffs, wavelet)\n",
    "\n",
    "\n",
    "scaler = MinMaxScaler()\n",
    "\n",
    "print(result)\n",
    "print(updated_data)\n",
    "\n",
    "# 转换数据并进行标准化\n",
    "result_nor = scaler.fit_transform(np.array(result).reshape(-1, 1))\n",
    "updated_data_nor = scaler.fit_transform(np.array(updated_data).reshape(-1, 1))\n",
    "\n",
    "print(result_nor)\n",
    "print(updated_data_nor)"
   ]
  },
  {
   "cell_type": "code",
   "execution_count": 129,
   "id": "37d84cdd",
   "metadata": {},
   "outputs": [
    {
     "name": "stdout",
     "output_type": "stream",
     "text": [
      "[array([11.61945187, 11.24497199, 10.38054813, 10.75502801, 11.61945187]), array([-0.36578576, -1.18136472,  0.36578576,  1.18136472, -0.36578576]), array([-0.08192417,  0.08192417, -0.08192417,  0.08192417])]\n",
      "[array([ 7.06453146,  4.23073611,  1.41360717,  2.83605428,  5.6633906 ,\n",
      "        8.49718595, 11.3143149 ]), array([ 2.37131306e-02,  4.09620864e-02, -6.46752170e-02,  9.54097912e-17,\n",
      "       -2.37131306e-02, -4.09620864e-02,  6.46752170e-02])]\n",
      "[array([ 7.36972575,  2.96087134, 10.28246424,  4.91925277,  4.14032251,\n",
      "       12.86394493, 15.47420489]), array([-0.42429647, -1.13437742,  0.99415903,  0.32229132, -1.02943836,\n",
      "        0.01666202,  1.25499989]), array([ 2.37131306e-02,  4.09620864e-02, -6.46752170e-02,  9.54097912e-17,\n",
      "       -2.37131306e-02, -4.09620864e-02,  6.46752170e-02])]\n",
      "[ 7.06453146  4.23073611  1.41360717  2.83605428  5.6633906   8.49718595\n",
      " 11.3143149  11.61945187 11.24497199 10.38054813 10.75502801 11.61945187]\n",
      "[ 2.37131306e-02  4.09620864e-02 -6.46752170e-02  9.54097912e-17\n",
      " -2.37131306e-02 -4.09620864e-02  6.46752170e-02 -3.65785763e-01\n",
      " -1.18136472e+00  3.65785763e-01  1.18136472e+00 -3.65785763e-01]\n",
      "[1.         2.         3.         4.         5.         6.\n",
      " 7.         8.         8.40187342 8.2469857  8.05446968 7.91124118\n",
      " 7.70064892 7.32716314 7.07582964 8.48051954 7.07582964 8.48051954]\n"
     ]
    },
    {
     "name": "stderr",
     "output_type": "stream",
     "text": [
      "C:\\Users\\Jameslee\\AppData\\Local\\Programs\\Python\\Python311\\Lib\\site-packages\\pywt\\_multilevel.py:43: UserWarning: Level value of 2 is too high: all coefficients will experience boundary effects.\n",
      "  warnings.warn(\n",
      "C:\\Users\\Jameslee\\AppData\\Local\\Programs\\Python\\Python311\\Lib\\site-packages\\pywt\\_multilevel.py:43: UserWarning: Level value of 1 is too high: all coefficients will experience boundary effects.\n",
      "  warnings.warn(\n"
     ]
    }
   ],
   "source": [
    "t1 = [5,6]\n",
    "t2 = [1,2,3,4,5,6,7,8]\n",
    "coeffs_t1 = pywt.wavedec(t1, wavelet, level = 2)\n",
    "coeffs_t2 = pywt.wavedec(t2, wavelet, level = 1)\n",
    "coeffs_t2_l2 = pywt.wavedec(t2, wavelet, level = 2)\n",
    "# coeffs_t2_l3 = pywt.wavedec(t2, wavelet, level = 3)\n",
    "\n",
    "\n",
    "print(coeffs_t1)\n",
    "print(coeffs_t2)\n",
    "print(coeffs_t2_l2)\n",
    "# print(coeffs_t2_l3)\n",
    "\n",
    "coeffs_t2[0] = np.append(coeffs_t2[0],coeffs_t1[0])\n",
    "coeffs_t2[1] = np.append(coeffs_t2[1],coeffs_t1[1])\n",
    "# coeffs_t2[2] = np.append(coeffs_t2[0],coeffs_t1[2])\n",
    "# for i in range(2):\n",
    "#     for i in range(2):\n",
    "#         coef[i][j] = coeffs_t2\n",
    "\n",
    "    \n",
    "print(coeffs_t2[0])\n",
    "print(coeffs_t2[1])\n",
    "# test1 = coeffs_t2[0][1:]\n",
    "# coeffs_t2[1][1:]\n",
    "# test1 = test1.append(test2)\n",
    "updated_t = pywt.waverec(coeffs_t2, wavelet)\n",
    "\n",
    "print(updated_t)"
   ]
  },
  {
   "cell_type": "code",
   "execution_count": null,
   "id": "15e05dbc",
   "metadata": {},
   "outputs": [],
   "source": []
  }
 ],
 "metadata": {
  "kernelspec": {
   "display_name": "Python 3 (ipykernel)",
   "language": "python",
   "name": "python3"
  },
  "language_info": {
   "codemirror_mode": {
    "name": "ipython",
    "version": 3
   },
   "file_extension": ".py",
   "mimetype": "text/x-python",
   "name": "python",
   "nbconvert_exporter": "python",
   "pygments_lexer": "ipython3",
   "version": "3.9.13"
  }
 },
 "nbformat": 4,
 "nbformat_minor": 5
}
